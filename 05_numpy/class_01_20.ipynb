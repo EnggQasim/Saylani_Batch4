{
 "cells": [
  {
   "cell_type": "code",
   "execution_count": 1,
   "id": "a52b524e",
   "metadata": {},
   "outputs": [],
   "source": [
    "import numpy as np"
   ]
  },
  {
   "cell_type": "code",
   "execution_count": 2,
   "id": "670cd1e1",
   "metadata": {},
   "outputs": [
    {
     "name": "stdout",
     "output_type": "stream",
     "text": [
      "1.21.5\n"
     ]
    }
   ],
   "source": [
    "print(np.__version__)"
   ]
  },
  {
   "cell_type": "code",
   "execution_count": 3,
   "id": "098baa1b",
   "metadata": {},
   "outputs": [
    {
     "name": "stdout",
     "output_type": "stream",
     "text": [
      "Defaulting to user installation because normal site-packages is not writeable\n",
      "Requirement already satisfied: numpy in c:\\programdata\\anaconda3\\lib\\site-packages (1.21.5)\n",
      "Collecting numpy\n",
      "  Downloading numpy-1.24.3-cp39-cp39-win_amd64.whl (14.9 MB)\n",
      "     ---------------------------------------- 14.9/14.9 MB 4.9 MB/s eta 0:00:00\n",
      "Installing collected packages: numpy\n",
      "Successfully installed numpy-1.24.3\n"
     ]
    },
    {
     "name": "stderr",
     "output_type": "stream",
     "text": [
      "  WARNING: The script f2py.exe is installed in 'C:\\Users\\saylani\\AppData\\Roaming\\Python\\Python39\\Scripts' which is not on PATH.\n",
      "  Consider adding this directory to PATH or, if you prefer to suppress this warning, use --no-warn-script-location.\n",
      "ERROR: pip's dependency resolver does not currently take into account all the packages that are installed. This behaviour is the source of the following dependency conflicts.\n",
      "daal4py 2021.6.0 requires daal==2021.4.0, which is not installed.\n",
      "numba 0.55.1 requires numpy<1.22,>=1.18, but you have numpy 1.24.3 which is incompatible.\n"
     ]
    }
   ],
   "source": [
    "!pip install --upgrade numpy"
   ]
  },
  {
   "cell_type": "code",
   "execution_count": 1,
   "id": "e75c2a8e",
   "metadata": {},
   "outputs": [
    {
     "name": "stdout",
     "output_type": "stream",
     "text": [
      "1.24.3\n"
     ]
    }
   ],
   "source": [
    "import numpy as np\n",
    "print(np.__version__)"
   ]
  },
  {
   "cell_type": "markdown",
   "id": "a579e53e",
   "metadata": {},
   "source": [
    "## we are going to prove that numpy is faster than python."
   ]
  },
  {
   "cell_type": "code",
   "execution_count": 4,
   "id": "9128ca9a",
   "metadata": {
    "scrolled": true
   },
   "outputs": [
    {
     "name": "stdout",
     "output_type": "stream",
     "text": [
      "Wall time: 788 ms\n"
     ]
    },
    {
     "data": {
      "text/plain": [
       "[5,\n",
       " 6,\n",
       " 7,\n",
       " 8,\n",
       " 9,\n",
       " 10,\n",
       " 11,\n",
       " 12,\n",
       " 13,\n",
       " 14,\n",
       " 15,\n",
       " 16,\n",
       " 17,\n",
       " 18,\n",
       " 19,\n",
       " 20,\n",
       " 21,\n",
       " 22,\n",
       " 23,\n",
       " 24,\n",
       " 25,\n",
       " 26,\n",
       " 27,\n",
       " 28,\n",
       " 29,\n",
       " 30,\n",
       " 31,\n",
       " 32,\n",
       " 33,\n",
       " 34,\n",
       " 35,\n",
       " 36,\n",
       " 37,\n",
       " 38,\n",
       " 39,\n",
       " 40,\n",
       " 41,\n",
       " 42,\n",
       " 43,\n",
       " 44,\n",
       " 45,\n",
       " 46,\n",
       " 47,\n",
       " 48,\n",
       " 49,\n",
       " 50,\n",
       " 51,\n",
       " 52,\n",
       " 53,\n",
       " 54,\n",
       " 55,\n",
       " 56,\n",
       " 57,\n",
       " 58,\n",
       " 59,\n",
       " 60,\n",
       " 61,\n",
       " 62,\n",
       " 63,\n",
       " 64,\n",
       " 65,\n",
       " 66,\n",
       " 67,\n",
       " 68,\n",
       " 69,\n",
       " 70,\n",
       " 71,\n",
       " 72,\n",
       " 73,\n",
       " 74,\n",
       " 75,\n",
       " 76,\n",
       " 77,\n",
       " 78,\n",
       " 79,\n",
       " 80,\n",
       " 81,\n",
       " 82,\n",
       " 83,\n",
       " 84,\n",
       " 85,\n",
       " 86,\n",
       " 87,\n",
       " 88,\n",
       " 89,\n",
       " 90,\n",
       " 91,\n",
       " 92,\n",
       " 93,\n",
       " 94,\n",
       " 95,\n",
       " 96,\n",
       " 97,\n",
       " 98,\n",
       " 99,\n",
       " 100,\n",
       " 101,\n",
       " 102,\n",
       " 103,\n",
       " 104,\n",
       " 105,\n",
       " 106,\n",
       " 107,\n",
       " 108,\n",
       " 109,\n",
       " 110,\n",
       " 111,\n",
       " 112,\n",
       " 113,\n",
       " 114,\n",
       " 115,\n",
       " 116,\n",
       " 117,\n",
       " 118,\n",
       " 119,\n",
       " 120,\n",
       " 121,\n",
       " 122,\n",
       " 123,\n",
       " 124,\n",
       " 125,\n",
       " 126,\n",
       " 127,\n",
       " 128,\n",
       " 129,\n",
       " 130,\n",
       " 131,\n",
       " 132,\n",
       " 133,\n",
       " 134,\n",
       " 135,\n",
       " 136,\n",
       " 137,\n",
       " 138,\n",
       " 139,\n",
       " 140,\n",
       " 141,\n",
       " 142,\n",
       " 143,\n",
       " 144,\n",
       " 145,\n",
       " 146,\n",
       " 147,\n",
       " 148,\n",
       " 149,\n",
       " 150,\n",
       " 151,\n",
       " 152,\n",
       " 153,\n",
       " 154,\n",
       " 155,\n",
       " 156,\n",
       " 157,\n",
       " 158,\n",
       " 159,\n",
       " 160,\n",
       " 161,\n",
       " 162,\n",
       " 163,\n",
       " 164,\n",
       " 165,\n",
       " 166,\n",
       " 167,\n",
       " 168,\n",
       " 169,\n",
       " 170,\n",
       " 171,\n",
       " 172,\n",
       " 173,\n",
       " 174,\n",
       " 175,\n",
       " 176,\n",
       " 177,\n",
       " 178,\n",
       " 179,\n",
       " 180,\n",
       " 181,\n",
       " 182,\n",
       " 183,\n",
       " 184,\n",
       " 185,\n",
       " 186,\n",
       " 187,\n",
       " 188,\n",
       " 189,\n",
       " 190,\n",
       " 191,\n",
       " 192,\n",
       " 193,\n",
       " 194,\n",
       " 195,\n",
       " 196,\n",
       " 197,\n",
       " 198,\n",
       " 199,\n",
       " 200,\n",
       " 201,\n",
       " 202,\n",
       " 203,\n",
       " 204,\n",
       " 205,\n",
       " 206,\n",
       " 207,\n",
       " 208,\n",
       " 209,\n",
       " 210,\n",
       " 211,\n",
       " 212,\n",
       " 213,\n",
       " 214,\n",
       " 215,\n",
       " 216,\n",
       " 217,\n",
       " 218,\n",
       " 219,\n",
       " 220,\n",
       " 221,\n",
       " 222,\n",
       " 223,\n",
       " 224,\n",
       " 225,\n",
       " 226,\n",
       " 227,\n",
       " 228,\n",
       " 229,\n",
       " 230,\n",
       " 231,\n",
       " 232,\n",
       " 233,\n",
       " 234,\n",
       " 235,\n",
       " 236,\n",
       " 237,\n",
       " 238,\n",
       " 239,\n",
       " 240,\n",
       " 241,\n",
       " 242,\n",
       " 243,\n",
       " 244,\n",
       " 245,\n",
       " 246,\n",
       " 247,\n",
       " 248,\n",
       " 249,\n",
       " 250,\n",
       " 251,\n",
       " 252,\n",
       " 253,\n",
       " 254,\n",
       " 255,\n",
       " 256,\n",
       " 257,\n",
       " 258,\n",
       " 259,\n",
       " 260,\n",
       " 261,\n",
       " 262,\n",
       " 263,\n",
       " 264,\n",
       " 265,\n",
       " 266,\n",
       " 267,\n",
       " 268,\n",
       " 269,\n",
       " 270,\n",
       " 271,\n",
       " 272,\n",
       " 273,\n",
       " 274,\n",
       " 275,\n",
       " 276,\n",
       " 277,\n",
       " 278,\n",
       " 279,\n",
       " 280,\n",
       " 281,\n",
       " 282,\n",
       " 283,\n",
       " 284,\n",
       " 285,\n",
       " 286,\n",
       " 287,\n",
       " 288,\n",
       " 289,\n",
       " 290,\n",
       " 291,\n",
       " 292,\n",
       " 293,\n",
       " 294,\n",
       " 295,\n",
       " 296,\n",
       " 297,\n",
       " 298,\n",
       " 299,\n",
       " 300,\n",
       " 301,\n",
       " 302,\n",
       " 303,\n",
       " 304,\n",
       " 305,\n",
       " 306,\n",
       " 307,\n",
       " 308,\n",
       " 309,\n",
       " 310,\n",
       " 311,\n",
       " 312,\n",
       " 313,\n",
       " 314,\n",
       " 315,\n",
       " 316,\n",
       " 317,\n",
       " 318,\n",
       " 319,\n",
       " 320,\n",
       " 321,\n",
       " 322,\n",
       " 323,\n",
       " 324,\n",
       " 325,\n",
       " 326,\n",
       " 327,\n",
       " 328,\n",
       " 329,\n",
       " 330,\n",
       " 331,\n",
       " 332,\n",
       " 333,\n",
       " 334,\n",
       " 335,\n",
       " 336,\n",
       " 337,\n",
       " 338,\n",
       " 339,\n",
       " 340,\n",
       " 341,\n",
       " 342,\n",
       " 343,\n",
       " 344,\n",
       " 345,\n",
       " 346,\n",
       " 347,\n",
       " 348,\n",
       " 349,\n",
       " 350,\n",
       " 351,\n",
       " 352,\n",
       " 353,\n",
       " 354,\n",
       " 355,\n",
       " 356,\n",
       " 357,\n",
       " 358,\n",
       " 359,\n",
       " 360,\n",
       " 361,\n",
       " 362,\n",
       " 363,\n",
       " 364,\n",
       " 365,\n",
       " 366,\n",
       " 367,\n",
       " 368,\n",
       " 369,\n",
       " 370,\n",
       " 371,\n",
       " 372,\n",
       " 373,\n",
       " 374,\n",
       " 375,\n",
       " 376,\n",
       " 377,\n",
       " 378,\n",
       " 379,\n",
       " 380,\n",
       " 381,\n",
       " 382,\n",
       " 383,\n",
       " 384,\n",
       " 385,\n",
       " 386,\n",
       " 387,\n",
       " 388,\n",
       " 389,\n",
       " 390,\n",
       " 391,\n",
       " 392,\n",
       " 393,\n",
       " 394,\n",
       " 395,\n",
       " 396,\n",
       " 397,\n",
       " 398,\n",
       " 399,\n",
       " 400,\n",
       " 401,\n",
       " 402,\n",
       " 403,\n",
       " 404,\n",
       " 405,\n",
       " 406,\n",
       " 407,\n",
       " 408,\n",
       " 409,\n",
       " 410,\n",
       " 411,\n",
       " 412,\n",
       " 413,\n",
       " 414,\n",
       " 415,\n",
       " 416,\n",
       " 417,\n",
       " 418,\n",
       " 419,\n",
       " 420,\n",
       " 421,\n",
       " 422,\n",
       " 423,\n",
       " 424,\n",
       " 425,\n",
       " 426,\n",
       " 427,\n",
       " 428,\n",
       " 429,\n",
       " 430,\n",
       " 431,\n",
       " 432,\n",
       " 433,\n",
       " 434,\n",
       " 435,\n",
       " 436,\n",
       " 437,\n",
       " 438,\n",
       " 439,\n",
       " 440,\n",
       " 441,\n",
       " 442,\n",
       " 443,\n",
       " 444,\n",
       " 445,\n",
       " 446,\n",
       " 447,\n",
       " 448,\n",
       " 449,\n",
       " 450,\n",
       " 451,\n",
       " 452,\n",
       " 453,\n",
       " 454,\n",
       " 455,\n",
       " 456,\n",
       " 457,\n",
       " 458,\n",
       " 459,\n",
       " 460,\n",
       " 461,\n",
       " 462,\n",
       " 463,\n",
       " 464,\n",
       " 465,\n",
       " 466,\n",
       " 467,\n",
       " 468,\n",
       " 469,\n",
       " 470,\n",
       " 471,\n",
       " 472,\n",
       " 473,\n",
       " 474,\n",
       " 475,\n",
       " 476,\n",
       " 477,\n",
       " 478,\n",
       " 479,\n",
       " 480,\n",
       " 481,\n",
       " 482,\n",
       " 483,\n",
       " 484,\n",
       " 485,\n",
       " 486,\n",
       " 487,\n",
       " 488,\n",
       " 489,\n",
       " 490,\n",
       " 491,\n",
       " 492,\n",
       " 493,\n",
       " 494,\n",
       " 495,\n",
       " 496,\n",
       " 497,\n",
       " 498,\n",
       " 499,\n",
       " 500,\n",
       " 501,\n",
       " 502,\n",
       " 503,\n",
       " 504,\n",
       " 505,\n",
       " 506,\n",
       " 507,\n",
       " 508,\n",
       " 509,\n",
       " 510,\n",
       " 511,\n",
       " 512,\n",
       " 513,\n",
       " 514,\n",
       " 515,\n",
       " 516,\n",
       " 517,\n",
       " 518,\n",
       " 519,\n",
       " 520,\n",
       " 521,\n",
       " 522,\n",
       " 523,\n",
       " 524,\n",
       " 525,\n",
       " 526,\n",
       " 527,\n",
       " 528,\n",
       " 529,\n",
       " 530,\n",
       " 531,\n",
       " 532,\n",
       " 533,\n",
       " 534,\n",
       " 535,\n",
       " 536,\n",
       " 537,\n",
       " 538,\n",
       " 539,\n",
       " 540,\n",
       " 541,\n",
       " 542,\n",
       " 543,\n",
       " 544,\n",
       " 545,\n",
       " 546,\n",
       " 547,\n",
       " 548,\n",
       " 549,\n",
       " 550,\n",
       " 551,\n",
       " 552,\n",
       " 553,\n",
       " 554,\n",
       " 555,\n",
       " 556,\n",
       " 557,\n",
       " 558,\n",
       " 559,\n",
       " 560,\n",
       " 561,\n",
       " 562,\n",
       " 563,\n",
       " 564,\n",
       " 565,\n",
       " 566,\n",
       " 567,\n",
       " 568,\n",
       " 569,\n",
       " 570,\n",
       " 571,\n",
       " 572,\n",
       " 573,\n",
       " 574,\n",
       " 575,\n",
       " 576,\n",
       " 577,\n",
       " 578,\n",
       " 579,\n",
       " 580,\n",
       " 581,\n",
       " 582,\n",
       " 583,\n",
       " 584,\n",
       " 585,\n",
       " 586,\n",
       " 587,\n",
       " 588,\n",
       " 589,\n",
       " 590,\n",
       " 591,\n",
       " 592,\n",
       " 593,\n",
       " 594,\n",
       " 595,\n",
       " 596,\n",
       " 597,\n",
       " 598,\n",
       " 599,\n",
       " 600,\n",
       " 601,\n",
       " 602,\n",
       " 603,\n",
       " 604,\n",
       " 605,\n",
       " 606,\n",
       " 607,\n",
       " 608,\n",
       " 609,\n",
       " 610,\n",
       " 611,\n",
       " 612,\n",
       " 613,\n",
       " 614,\n",
       " 615,\n",
       " 616,\n",
       " 617,\n",
       " 618,\n",
       " 619,\n",
       " 620,\n",
       " 621,\n",
       " 622,\n",
       " 623,\n",
       " 624,\n",
       " 625,\n",
       " 626,\n",
       " 627,\n",
       " 628,\n",
       " 629,\n",
       " 630,\n",
       " 631,\n",
       " 632,\n",
       " 633,\n",
       " 634,\n",
       " 635,\n",
       " 636,\n",
       " 637,\n",
       " 638,\n",
       " 639,\n",
       " 640,\n",
       " 641,\n",
       " 642,\n",
       " 643,\n",
       " 644,\n",
       " 645,\n",
       " 646,\n",
       " 647,\n",
       " 648,\n",
       " 649,\n",
       " 650,\n",
       " 651,\n",
       " 652,\n",
       " 653,\n",
       " 654,\n",
       " 655,\n",
       " 656,\n",
       " 657,\n",
       " 658,\n",
       " 659,\n",
       " 660,\n",
       " 661,\n",
       " 662,\n",
       " 663,\n",
       " 664,\n",
       " 665,\n",
       " 666,\n",
       " 667,\n",
       " 668,\n",
       " 669,\n",
       " 670,\n",
       " 671,\n",
       " 672,\n",
       " 673,\n",
       " 674,\n",
       " 675,\n",
       " 676,\n",
       " 677,\n",
       " 678,\n",
       " 679,\n",
       " 680,\n",
       " 681,\n",
       " 682,\n",
       " 683,\n",
       " 684,\n",
       " 685,\n",
       " 686,\n",
       " 687,\n",
       " 688,\n",
       " 689,\n",
       " 690,\n",
       " 691,\n",
       " 692,\n",
       " 693,\n",
       " 694,\n",
       " 695,\n",
       " 696,\n",
       " 697,\n",
       " 698,\n",
       " 699,\n",
       " 700,\n",
       " 701,\n",
       " 702,\n",
       " 703,\n",
       " 704,\n",
       " 705,\n",
       " 706,\n",
       " 707,\n",
       " 708,\n",
       " 709,\n",
       " 710,\n",
       " 711,\n",
       " 712,\n",
       " 713,\n",
       " 714,\n",
       " 715,\n",
       " 716,\n",
       " 717,\n",
       " 718,\n",
       " 719,\n",
       " 720,\n",
       " 721,\n",
       " 722,\n",
       " 723,\n",
       " 724,\n",
       " 725,\n",
       " 726,\n",
       " 727,\n",
       " 728,\n",
       " 729,\n",
       " 730,\n",
       " 731,\n",
       " 732,\n",
       " 733,\n",
       " 734,\n",
       " 735,\n",
       " 736,\n",
       " 737,\n",
       " 738,\n",
       " 739,\n",
       " 740,\n",
       " 741,\n",
       " 742,\n",
       " 743,\n",
       " 744,\n",
       " 745,\n",
       " 746,\n",
       " 747,\n",
       " 748,\n",
       " 749,\n",
       " 750,\n",
       " 751,\n",
       " 752,\n",
       " 753,\n",
       " 754,\n",
       " 755,\n",
       " 756,\n",
       " 757,\n",
       " 758,\n",
       " 759,\n",
       " 760,\n",
       " 761,\n",
       " 762,\n",
       " 763,\n",
       " 764,\n",
       " 765,\n",
       " 766,\n",
       " 767,\n",
       " 768,\n",
       " 769,\n",
       " 770,\n",
       " 771,\n",
       " 772,\n",
       " 773,\n",
       " 774,\n",
       " 775,\n",
       " 776,\n",
       " 777,\n",
       " 778,\n",
       " 779,\n",
       " 780,\n",
       " 781,\n",
       " 782,\n",
       " 783,\n",
       " 784,\n",
       " 785,\n",
       " 786,\n",
       " 787,\n",
       " 788,\n",
       " 789,\n",
       " 790,\n",
       " 791,\n",
       " 792,\n",
       " 793,\n",
       " 794,\n",
       " 795,\n",
       " 796,\n",
       " 797,\n",
       " 798,\n",
       " 799,\n",
       " 800,\n",
       " 801,\n",
       " 802,\n",
       " 803,\n",
       " 804,\n",
       " 805,\n",
       " 806,\n",
       " 807,\n",
       " 808,\n",
       " 809,\n",
       " 810,\n",
       " 811,\n",
       " 812,\n",
       " 813,\n",
       " 814,\n",
       " 815,\n",
       " 816,\n",
       " 817,\n",
       " 818,\n",
       " 819,\n",
       " 820,\n",
       " 821,\n",
       " 822,\n",
       " 823,\n",
       " 824,\n",
       " 825,\n",
       " 826,\n",
       " 827,\n",
       " 828,\n",
       " 829,\n",
       " 830,\n",
       " 831,\n",
       " 832,\n",
       " 833,\n",
       " 834,\n",
       " 835,\n",
       " 836,\n",
       " 837,\n",
       " 838,\n",
       " 839,\n",
       " 840,\n",
       " 841,\n",
       " 842,\n",
       " 843,\n",
       " 844,\n",
       " 845,\n",
       " 846,\n",
       " 847,\n",
       " 848,\n",
       " 849,\n",
       " 850,\n",
       " 851,\n",
       " 852,\n",
       " 853,\n",
       " 854,\n",
       " 855,\n",
       " 856,\n",
       " 857,\n",
       " 858,\n",
       " 859,\n",
       " 860,\n",
       " 861,\n",
       " 862,\n",
       " 863,\n",
       " 864,\n",
       " 865,\n",
       " 866,\n",
       " 867,\n",
       " 868,\n",
       " 869,\n",
       " 870,\n",
       " 871,\n",
       " 872,\n",
       " 873,\n",
       " 874,\n",
       " 875,\n",
       " 876,\n",
       " 877,\n",
       " 878,\n",
       " 879,\n",
       " 880,\n",
       " 881,\n",
       " 882,\n",
       " 883,\n",
       " 884,\n",
       " 885,\n",
       " 886,\n",
       " 887,\n",
       " 888,\n",
       " 889,\n",
       " 890,\n",
       " 891,\n",
       " 892,\n",
       " 893,\n",
       " 894,\n",
       " 895,\n",
       " 896,\n",
       " 897,\n",
       " 898,\n",
       " 899,\n",
       " 900,\n",
       " 901,\n",
       " 902,\n",
       " 903,\n",
       " 904,\n",
       " 905,\n",
       " 906,\n",
       " 907,\n",
       " 908,\n",
       " 909,\n",
       " 910,\n",
       " 911,\n",
       " 912,\n",
       " 913,\n",
       " 914,\n",
       " 915,\n",
       " 916,\n",
       " 917,\n",
       " 918,\n",
       " 919,\n",
       " 920,\n",
       " 921,\n",
       " 922,\n",
       " 923,\n",
       " 924,\n",
       " 925,\n",
       " 926,\n",
       " 927,\n",
       " 928,\n",
       " 929,\n",
       " 930,\n",
       " 931,\n",
       " 932,\n",
       " 933,\n",
       " 934,\n",
       " 935,\n",
       " 936,\n",
       " 937,\n",
       " 938,\n",
       " 939,\n",
       " 940,\n",
       " 941,\n",
       " 942,\n",
       " 943,\n",
       " 944,\n",
       " 945,\n",
       " 946,\n",
       " 947,\n",
       " 948,\n",
       " 949,\n",
       " 950,\n",
       " 951,\n",
       " 952,\n",
       " 953,\n",
       " 954,\n",
       " 955,\n",
       " 956,\n",
       " 957,\n",
       " 958,\n",
       " 959,\n",
       " 960,\n",
       " 961,\n",
       " 962,\n",
       " 963,\n",
       " 964,\n",
       " 965,\n",
       " 966,\n",
       " 967,\n",
       " 968,\n",
       " 969,\n",
       " 970,\n",
       " 971,\n",
       " 972,\n",
       " 973,\n",
       " 974,\n",
       " 975,\n",
       " 976,\n",
       " 977,\n",
       " 978,\n",
       " 979,\n",
       " 980,\n",
       " 981,\n",
       " 982,\n",
       " 983,\n",
       " 984,\n",
       " 985,\n",
       " 986,\n",
       " 987,\n",
       " 988,\n",
       " 989,\n",
       " 990,\n",
       " 991,\n",
       " 992,\n",
       " 993,\n",
       " 994,\n",
       " 995,\n",
       " 996,\n",
       " 997,\n",
       " 998,\n",
       " 999,\n",
       " 1000,\n",
       " 1001,\n",
       " 1002,\n",
       " 1003,\n",
       " 1004,\n",
       " ...]"
      ]
     },
     "execution_count": 4,
     "metadata": {},
     "output_type": "execute_result"
    }
   ],
   "source": [
    "%%time\n",
    "[i+5 for i in range(10000000)]"
   ]
  },
  {
   "cell_type": "code",
   "execution_count": 7,
   "id": "36491d91",
   "metadata": {},
   "outputs": [
    {
     "ename": "TypeError",
     "evalue": "can only concatenate list (not \"int\") to list",
     "output_type": "error",
     "traceback": [
      "\u001b[1;31m---------------------------------------------------------------------------\u001b[0m",
      "\u001b[1;31mTypeError\u001b[0m                                 Traceback (most recent call last)",
      "\u001b[1;32m~\\AppData\\Local\\Temp\\ipykernel_14868\\1834913151.py\u001b[0m in \u001b[0;36m<module>\u001b[1;34m\u001b[0m\n\u001b[1;32m----> 1\u001b[1;33m \u001b[1;33m[\u001b[0m\u001b[1;36m1\u001b[0m\u001b[1;33m,\u001b[0m\u001b[1;36m2\u001b[0m\u001b[1;33m,\u001b[0m\u001b[1;36m3\u001b[0m\u001b[1;33m]\u001b[0m \u001b[1;33m+\u001b[0m \u001b[1;36m5\u001b[0m\u001b[1;33m\u001b[0m\u001b[1;33m\u001b[0m\u001b[0m\n\u001b[0m",
      "\u001b[1;31mTypeError\u001b[0m: can only concatenate list (not \"int\") to list"
     ]
    }
   ],
   "source": [
    "[1,2,3] + 5"
   ]
  },
  {
   "cell_type": "code",
   "execution_count": 9,
   "id": "c4857736",
   "metadata": {},
   "outputs": [
    {
     "data": {
      "text/plain": [
       "array([6, 7, 8])"
      ]
     },
     "execution_count": 9,
     "metadata": {},
     "output_type": "execute_result"
    }
   ],
   "source": [
    "np.array([1,2,3]) + 5"
   ]
  },
  {
   "cell_type": "code",
   "execution_count": 10,
   "id": "12145ac6",
   "metadata": {},
   "outputs": [
    {
     "name": "stdout",
     "output_type": "stream",
     "text": [
      "Wall time: 29.8 ms\n"
     ]
    },
    {
     "data": {
      "text/plain": [
       "array([       5,        6,        7, ..., 10000002, 10000003, 10000004])"
      ]
     },
     "execution_count": 10,
     "metadata": {},
     "output_type": "execute_result"
    }
   ],
   "source": [
    "%%time\n",
    "np.arange(10000000) + 5"
   ]
  },
  {
   "cell_type": "markdown",
   "id": "bc8c27d4",
   "metadata": {},
   "source": [
    "# Easy to use (simplity)"
   ]
  },
  {
   "cell_type": "code",
   "execution_count": 17,
   "id": "e6b0b210",
   "metadata": {},
   "outputs": [
    {
     "data": {
      "text/plain": [
       "[[1, 2, 3, 5], [4, 5, 6, 5], [7, 8, 9, 5]]"
      ]
     },
     "execution_count": 17,
     "metadata": {},
     "output_type": "execute_result"
    }
   ],
   "source": [
    "l = [[1,2,3,5],\n",
    "    [4,5,6,5],\n",
    "    [7,8,9,5]]\n",
    "\n",
    "l"
   ]
  },
  {
   "cell_type": "code",
   "execution_count": 18,
   "id": "e36b89ff",
   "metadata": {},
   "outputs": [
    {
     "name": "stdout",
     "output_type": "stream",
     "text": [
      "0 [1, 2, 3, 5]\n",
      "0***1***2***3***\n",
      "1 [4, 5, 6, 5]\n",
      "0***1***2***3***\n",
      "2 [7, 8, 9, 5]\n",
      "0***1***2***3***\n"
     ]
    }
   ],
   "source": [
    "for rid,row in enumerate(l):\n",
    "    print(rid,row)\n",
    "    for cid,_ in enumerate(row):\n",
    "        print(cid, end=\"***\")\n",
    "    print()"
   ]
  },
  {
   "cell_type": "code",
   "execution_count": 19,
   "id": "2049e200",
   "metadata": {},
   "outputs": [
    {
     "data": {
      "text/plain": [
       "[[6, 7, 8, 10], [9, 10, 11, 10], [12, 13, 14, 10]]"
      ]
     },
     "execution_count": 19,
     "metadata": {},
     "output_type": "execute_result"
    }
   ],
   "source": [
    "for rid,row in enumerate(l):\n",
    "    for cid,_ in enumerate(row):\n",
    "        l[rid][cid] += 5\n",
    "l"
   ]
  },
  {
   "cell_type": "markdown",
   "id": "3156e754",
   "metadata": {},
   "source": [
    "## now apply same above operation with numpy"
   ]
  },
  {
   "cell_type": "code",
   "execution_count": 20,
   "id": "fd35f3fd",
   "metadata": {},
   "outputs": [
    {
     "data": {
      "text/plain": [
       "array([[1, 2, 3, 5],\n",
       "       [4, 5, 6, 5],\n",
       "       [7, 8, 9, 5]])"
      ]
     },
     "execution_count": 20,
     "metadata": {},
     "output_type": "execute_result"
    }
   ],
   "source": [
    "l1 = np.array([[1,2,3,5],\n",
    "    [4,5,6,5],\n",
    "    [7,8,9,5]])\n",
    "\n",
    "l1"
   ]
  },
  {
   "cell_type": "code",
   "execution_count": 21,
   "id": "fdf8ca16",
   "metadata": {},
   "outputs": [
    {
     "data": {
      "text/plain": [
       "array([[ 6,  7,  8, 10],\n",
       "       [ 9, 10, 11, 10],\n",
       "       [12, 13, 14, 10]])"
      ]
     },
     "execution_count": 21,
     "metadata": {},
     "output_type": "execute_result"
    }
   ],
   "source": [
    "l1 + 5"
   ]
  },
  {
   "cell_type": "markdown",
   "id": "c4fbbbd0",
   "metadata": {},
   "source": [
    "# how we can create numpy array\n",
    "* list\n",
    "* list of list\n",
    "* tuple \n",
    "* set\n",
    "## which function we can use for careating numpy array\n",
    "* np.array()\n",
    "* np.asarray()\n",
    "* np.arange()\n"
   ]
  },
  {
   "cell_type": "code",
   "execution_count": 29,
   "id": "b741250c",
   "metadata": {},
   "outputs": [
    {
     "data": {
      "text/plain": [
       "[1, 2, 3, 4, 5]"
      ]
     },
     "metadata": {},
     "output_type": "display_data"
    },
    {
     "data": {
      "text/plain": [
       "list"
      ]
     },
     "metadata": {},
     "output_type": "display_data"
    },
    {
     "data": {
      "text/plain": [
       "array([1, 2, 3, 4, 5])"
      ]
     },
     "metadata": {},
     "output_type": "display_data"
    },
    {
     "data": {
      "text/plain": [
       "numpy.ndarray"
      ]
     },
     "metadata": {},
     "output_type": "display_data"
    },
    {
     "name": "stdout",
     "output_type": "stream",
     "text": [
      "=====some use full properties===\n",
      "Dimension:  1\n",
      "Size number of items in array:  5\n",
      "Array shape or numbers of access in each dimension:  (5,)\n",
      "Array element datatype:  int32\n"
     ]
    }
   ],
   "source": [
    "# list\n",
    "l1 = [1,2,3,4,5]\n",
    "display(l1)\n",
    "display(type(l1))\n",
    "\n",
    "l1 = np.array(l1)\n",
    "display(l1)\n",
    "display(type(l1))\n",
    "\n",
    "print('=====some use full properties===')\n",
    "print(\"Dimension: \",l1.ndim)\n",
    "print(\"Size number of items in array: \", l1.size)\n",
    "print(\"Array shape or numbers of access in each dimension: \", l1.shape)\n",
    "print(\"Array element datatype: \", l1.dtype)"
   ]
  },
  {
   "cell_type": "code",
   "execution_count": 30,
   "id": "7e461f2c",
   "metadata": {},
   "outputs": [
    {
     "data": {
      "text/plain": [
       "(1, 2, 3, 4, 5)"
      ]
     },
     "metadata": {},
     "output_type": "display_data"
    },
    {
     "data": {
      "text/plain": [
       "tuple"
      ]
     },
     "metadata": {},
     "output_type": "display_data"
    },
    {
     "data": {
      "text/plain": [
       "array([1, 2, 3, 4, 5])"
      ]
     },
     "metadata": {},
     "output_type": "display_data"
    },
    {
     "data": {
      "text/plain": [
       "numpy.ndarray"
      ]
     },
     "metadata": {},
     "output_type": "display_data"
    },
    {
     "name": "stdout",
     "output_type": "stream",
     "text": [
      "=====some use full properties===\n",
      "Dimension:  1\n",
      "Size number of items in array:  5\n",
      "Array shape or numbers of access in each dimension:  (5,)\n",
      "Array element datatype:  int32\n"
     ]
    }
   ],
   "source": [
    "# tuple\n",
    "l1 = (1,2,3,4,5)\n",
    "display(l1)\n",
    "display(type(l1))\n",
    "\n",
    "l1 = np.array(l1)\n",
    "display(l1)\n",
    "display(type(l1))\n",
    "\n",
    "print('=====some use full properties===')\n",
    "print(\"Dimension: \",l1.ndim)\n",
    "print(\"Size number of items in array: \", l1.size)\n",
    "print(\"Array shape or numbers of access in each dimension: \", l1.shape)\n",
    "print(\"Array element datatype: \", l1.dtype)"
   ]
  },
  {
   "cell_type": "code",
   "execution_count": 31,
   "id": "1b0ec5e9",
   "metadata": {},
   "outputs": [
    {
     "data": {
      "text/plain": [
       "{1, 2, 3, 4, 5}"
      ]
     },
     "metadata": {},
     "output_type": "display_data"
    },
    {
     "data": {
      "text/plain": [
       "set"
      ]
     },
     "metadata": {},
     "output_type": "display_data"
    },
    {
     "data": {
      "text/plain": [
       "array({1, 2, 3, 4, 5}, dtype=object)"
      ]
     },
     "metadata": {},
     "output_type": "display_data"
    },
    {
     "data": {
      "text/plain": [
       "numpy.ndarray"
      ]
     },
     "metadata": {},
     "output_type": "display_data"
    },
    {
     "name": "stdout",
     "output_type": "stream",
     "text": [
      "=====some use full properties===\n",
      "Dimension:  0\n",
      "Size number of items in array:  1\n",
      "Array shape or numbers of access in each dimension:  ()\n",
      "Array element datatype:  object\n"
     ]
    }
   ],
   "source": [
    "# set\n",
    "l1 = {1,2,3,4,5}\n",
    "display(l1)\n",
    "display(type(l1))\n",
    "\n",
    "l1 = np.array(l1)\n",
    "display(l1)\n",
    "display(type(l1))\n",
    "\n",
    "print('=====some use full properties===')\n",
    "print(\"Dimension: \",l1.ndim)\n",
    "print(\"Size number of items in array: \", l1.size)\n",
    "print(\"Array shape or numbers of access in each dimension: \", l1.shape)\n",
    "print(\"Array element datatype: \", l1.dtype)"
   ]
  },
  {
   "cell_type": "code",
   "execution_count": 32,
   "id": "a5573786",
   "metadata": {},
   "outputs": [
    {
     "data": {
      "text/plain": [
       "[[1, 2, 3, 5], [4, 5, 6, 5], [7, 8, 9, 5]]"
      ]
     },
     "metadata": {},
     "output_type": "display_data"
    },
    {
     "data": {
      "text/plain": [
       "list"
      ]
     },
     "metadata": {},
     "output_type": "display_data"
    },
    {
     "data": {
      "text/plain": [
       "array([[1, 2, 3, 5],\n",
       "       [4, 5, 6, 5],\n",
       "       [7, 8, 9, 5]])"
      ]
     },
     "metadata": {},
     "output_type": "display_data"
    },
    {
     "data": {
      "text/plain": [
       "numpy.ndarray"
      ]
     },
     "metadata": {},
     "output_type": "display_data"
    },
    {
     "name": "stdout",
     "output_type": "stream",
     "text": [
      "=====some use full properties===\n",
      "Dimension:  2\n",
      "Size number of items in array:  12\n",
      "Array shape or numbers of access in each dimension:  (3, 4)\n",
      "Array element datatype:  int32\n"
     ]
    }
   ],
   "source": [
    "# list\n",
    "l1 = [[1,2,3,5],\n",
    "      [4,5,6,5],\n",
    "      [7,8,9,5]]\n",
    "display(l1)\n",
    "display(type(l1))\n",
    "\n",
    "l1 = np.array(l1)\n",
    "display(l1)\n",
    "display(type(l1))\n",
    "\n",
    "print('=====some use full properties===')\n",
    "print(\"Dimension: \",l1.ndim)\n",
    "print(\"Size number of items in array: \", l1.size)\n",
    "print(\"Array shape or numbers of access in each dimension: \", l1.shape)\n",
    "print(\"Array element datatype: \", l1.dtype)"
   ]
  },
  {
   "cell_type": "code",
   "execution_count": 33,
   "id": "4abe3fd3",
   "metadata": {},
   "outputs": [
    {
     "data": {
      "text/plain": [
       "([1, 2, 3, 5], [4, 5, 6, 5], [7, 8, 9, 5])"
      ]
     },
     "metadata": {},
     "output_type": "display_data"
    },
    {
     "data": {
      "text/plain": [
       "tuple"
      ]
     },
     "metadata": {},
     "output_type": "display_data"
    },
    {
     "data": {
      "text/plain": [
       "array([[1, 2, 3, 5],\n",
       "       [4, 5, 6, 5],\n",
       "       [7, 8, 9, 5]])"
      ]
     },
     "metadata": {},
     "output_type": "display_data"
    },
    {
     "data": {
      "text/plain": [
       "numpy.ndarray"
      ]
     },
     "metadata": {},
     "output_type": "display_data"
    },
    {
     "name": "stdout",
     "output_type": "stream",
     "text": [
      "=====some use full properties===\n",
      "Dimension:  2\n",
      "Size number of items in array:  12\n",
      "Array shape or numbers of access in each dimension:  (3, 4)\n",
      "Array element datatype:  int32\n"
     ]
    }
   ],
   "source": [
    "# list\n",
    "l1 = ([1,2,3,5],\n",
    "      [4,5,6,5],\n",
    "      [7,8,9,5]\n",
    "display(l1)\n",
    "display(type(l1))\n",
    "\n",
    "l1 = np.array(l1)\n",
    "display(l1)\n",
    "display(type(l1))\n",
    "\n",
    "print('=====some use full properties===')\n",
    "print(\"Dimension: \",l1.ndim)\n",
    "print(\"Size number of items in array: \", l1.size)\n",
    "print(\"Array shape or numbers of access in each dimension: \", l1.shape)\n",
    "print(\"Array element datatype: \", l1.dtype)"
   ]
  },
  {
   "cell_type": "code",
   "execution_count": 34,
   "id": "879df733",
   "metadata": {},
   "outputs": [
    {
     "ename": "TypeError",
     "evalue": "unhashable type: 'set'",
     "output_type": "error",
     "traceback": [
      "\u001b[1;31m---------------------------------------------------------------------------\u001b[0m",
      "\u001b[1;31mTypeError\u001b[0m                                 Traceback (most recent call last)",
      "\u001b[1;32m~\\AppData\\Local\\Temp\\ipykernel_14868\\2060585282.py\u001b[0m in \u001b[0;36m<module>\u001b[1;34m\u001b[0m\n\u001b[0;32m      1\u001b[0m \u001b[1;31m# list\u001b[0m\u001b[1;33m\u001b[0m\u001b[1;33m\u001b[0m\u001b[0m\n\u001b[1;32m----> 2\u001b[1;33m l1 = {{1,2,3,5},\n\u001b[0m\u001b[0;32m      3\u001b[0m       \u001b[1;33m{\u001b[0m\u001b[1;36m4\u001b[0m\u001b[1;33m,\u001b[0m\u001b[1;36m5\u001b[0m\u001b[1;33m,\u001b[0m\u001b[1;36m6\u001b[0m\u001b[1;33m,\u001b[0m\u001b[1;36m5\u001b[0m\u001b[1;33m}\u001b[0m\u001b[1;33m,\u001b[0m\u001b[1;33m\u001b[0m\u001b[1;33m\u001b[0m\u001b[0m\n\u001b[0;32m      4\u001b[0m       {7,8,9,5}}\n\u001b[0;32m      5\u001b[0m \u001b[0mdisplay\u001b[0m\u001b[1;33m(\u001b[0m\u001b[0ml1\u001b[0m\u001b[1;33m)\u001b[0m\u001b[1;33m\u001b[0m\u001b[1;33m\u001b[0m\u001b[0m\n",
      "\u001b[1;31mTypeError\u001b[0m: unhashable type: 'set'"
     ]
    }
   ],
   "source": [
    "# list\n",
    "l1 = {{1,2,3,5},\n",
    "      {4,5,6,5},\n",
    "      {7,8,9,5}}\n",
    "display(l1)\n",
    "display(type(l1))\n",
    "\n",
    "l1 = np.array(l1)\n",
    "display(l1)\n",
    "display(type(l1))\n",
    "\n",
    "print('=====some use full properties===')\n",
    "print(\"Dimension: \",l1.ndim)\n",
    "print(\"Size number of items in array: \", l1.size)\n",
    "print(\"Array shape or numbers of access in each dimension: \", l1.shape)\n",
    "print(\"Array element datatype: \", l1.dtype)"
   ]
  },
  {
   "cell_type": "code",
   "execution_count": 37,
   "id": "fa75cc0b",
   "metadata": {},
   "outputs": [
    {
     "name": "stderr",
     "output_type": "stream",
     "text": [
      "<>:1: SyntaxWarning: 'set' object is not subscriptable; perhaps you missed a comma?\n",
      "<>:1: SyntaxWarning: 'set' object is not subscriptable; perhaps you missed a comma?\n",
      "C:\\Users\\saylani\\AppData\\Local\\Temp\\ipykernel_14868\\3345480567.py:1: SyntaxWarning: 'set' object is not subscriptable; perhaps you missed a comma?\n",
      "  {1,2,3}[0]\n"
     ]
    },
    {
     "ename": "TypeError",
     "evalue": "'set' object is not subscriptable",
     "output_type": "error",
     "traceback": [
      "\u001b[1;31m---------------------------------------------------------------------------\u001b[0m",
      "\u001b[1;31mTypeError\u001b[0m                                 Traceback (most recent call last)",
      "\u001b[1;32m~\\AppData\\Local\\Temp\\ipykernel_14868\\3345480567.py\u001b[0m in \u001b[0;36m<module>\u001b[1;34m\u001b[0m\n\u001b[1;32m----> 1\u001b[1;33m \u001b[1;33m{\u001b[0m\u001b[1;36m1\u001b[0m\u001b[1;33m,\u001b[0m\u001b[1;36m2\u001b[0m\u001b[1;33m,\u001b[0m\u001b[1;36m3\u001b[0m\u001b[1;33m}\u001b[0m\u001b[1;33m[\u001b[0m\u001b[1;36m0\u001b[0m\u001b[1;33m]\u001b[0m\u001b[1;33m\u001b[0m\u001b[1;33m\u001b[0m\u001b[0m\n\u001b[0m",
      "\u001b[1;31mTypeError\u001b[0m: 'set' object is not subscriptable"
     ]
    }
   ],
   "source": [
    "{1,2,3}[0]"
   ]
  },
  {
   "cell_type": "markdown",
   "id": "e5b66cef",
   "metadata": {},
   "source": [
    "# Real world Data\n",
    "* scalar\n",
    "* vector\n",
    "* metrics\n",
    "* n-dimension array\n",
    "\n",
    "### rank/dimension"
   ]
  },
  {
   "cell_type": "markdown",
   "id": "0e56962d",
   "metadata": {},
   "source": [
    "# Scalar"
   ]
  },
  {
   "cell_type": "code",
   "execution_count": 39,
   "id": "43f33470",
   "metadata": {},
   "outputs": [
    {
     "name": "stdout",
     "output_type": "stream",
     "text": [
      "<class 'numpy.ndarray'>\n",
      "=====some use full properties===\n",
      "Dimension:  0\n",
      "Size number of items in array:  1\n",
      "Array shape or numbers of access in each dimension:  ()\n",
      "Array element datatype:  int32\n"
     ]
    }
   ],
   "source": [
    "l1 = np.asarray(7)\n",
    "\n",
    "print(type(l1))\n",
    "\n",
    "print('=====some use full properties===')\n",
    "print(\"Dimension: \",l1.ndim)\n",
    "print(\"Size number of items in array: \", l1.size)\n",
    "print(\"Array shape or numbers of access in each dimension: \", l1.shape)\n",
    "print(\"Array element datatype: \", l1.dtype)"
   ]
  },
  {
   "cell_type": "markdown",
   "id": "c93349d8",
   "metadata": {},
   "source": [
    "# Vector"
   ]
  },
  {
   "cell_type": "code",
   "execution_count": 40,
   "id": "9264f1fb",
   "metadata": {},
   "outputs": [
    {
     "name": "stdout",
     "output_type": "stream",
     "text": [
      "<class 'numpy.ndarray'>\n",
      "=====some use full properties===\n",
      "Dimension:  1\n",
      "Size number of items in array:  5\n",
      "Array shape or numbers of access in each dimension:  (5,)\n",
      "Array element datatype:  int32\n"
     ]
    }
   ],
   "source": [
    "l1 = np.asarray([1,2,3,4,5])\n",
    "\n",
    "print(type(l1))\n",
    "\n",
    "print('=====some use full properties===')\n",
    "print(\"Dimension: \",l1.ndim)\n",
    "print(\"Size number of items in array: \", l1.size)\n",
    "print(\"Array shape or numbers of access in each dimension: \", l1.shape)\n",
    "print(\"Array element datatype: \", l1.dtype)"
   ]
  },
  {
   "cell_type": "markdown",
   "id": "7c1046fe",
   "metadata": {},
   "source": [
    "# Metrics"
   ]
  },
  {
   "cell_type": "code",
   "execution_count": 41,
   "id": "78efaf00",
   "metadata": {},
   "outputs": [
    {
     "data": {
      "text/plain": [
       "[[1, 2, 3, 5], [4, 5, 6, 5], [7, 8, 9, 5]]"
      ]
     },
     "metadata": {},
     "output_type": "display_data"
    },
    {
     "data": {
      "text/plain": [
       "list"
      ]
     },
     "metadata": {},
     "output_type": "display_data"
    },
    {
     "data": {
      "text/plain": [
       "array([[1, 2, 3, 5],\n",
       "       [4, 5, 6, 5],\n",
       "       [7, 8, 9, 5]])"
      ]
     },
     "metadata": {},
     "output_type": "display_data"
    },
    {
     "data": {
      "text/plain": [
       "numpy.ndarray"
      ]
     },
     "metadata": {},
     "output_type": "display_data"
    },
    {
     "name": "stdout",
     "output_type": "stream",
     "text": [
      "=====some use full properties===\n",
      "Dimension:  2\n",
      "Size number of items in array:  12\n",
      "Array shape or numbers of access in each dimension:  (3, 4)\n",
      "Array element datatype:  int32\n"
     ]
    }
   ],
   "source": [
    "# list\n",
    "l1 = [[1,2,3,5],\n",
    "      [4,5,6,5],\n",
    "      [7,8,9,5]]\n",
    "display(l1)\n",
    "display(type(l1))\n",
    "\n",
    "l1 = np.array(l1)\n",
    "display(l1)\n",
    "display(type(l1))\n",
    "\n",
    "print('=====some use full properties===')\n",
    "print(\"Dimension: \",l1.ndim)\n",
    "print(\"Size number of items in array: \", l1.size)\n",
    "print(\"Array shape or numbers of access in each dimension: \", l1.shape)\n",
    "print(\"Array element datatype: \", l1.dtype)"
   ]
  },
  {
   "cell_type": "code",
   "execution_count": 42,
   "id": "672d62e3",
   "metadata": {},
   "outputs": [
    {
     "data": {
      "text/plain": [
       "[[20]]"
      ]
     },
     "metadata": {},
     "output_type": "display_data"
    },
    {
     "data": {
      "text/plain": [
       "list"
      ]
     },
     "metadata": {},
     "output_type": "display_data"
    },
    {
     "data": {
      "text/plain": [
       "array([[20]])"
      ]
     },
     "metadata": {},
     "output_type": "display_data"
    },
    {
     "data": {
      "text/plain": [
       "numpy.ndarray"
      ]
     },
     "metadata": {},
     "output_type": "display_data"
    },
    {
     "name": "stdout",
     "output_type": "stream",
     "text": [
      "=====some use full properties===\n",
      "Dimension:  2\n",
      "Size number of items in array:  1\n",
      "Array shape or numbers of access in each dimension:  (1, 1)\n",
      "Array element datatype:  int32\n"
     ]
    }
   ],
   "source": [
    "# list\n",
    "l1 = [[20]]\n",
    "display(l1)\n",
    "display(type(l1))\n",
    "\n",
    "l1 = np.array(l1)\n",
    "display(l1)\n",
    "display(type(l1))\n",
    "\n",
    "print('=====some use full properties===')\n",
    "print(\"Dimension: \",l1.ndim)\n",
    "print(\"Size number of items in array: \", l1.size)\n",
    "print(\"Array shape or numbers of access in each dimension: \", l1.shape)\n",
    "print(\"Array element datatype: \", l1.dtype)"
   ]
  },
  {
   "cell_type": "code",
   "execution_count": 44,
   "id": "60078509",
   "metadata": {},
   "outputs": [
    {
     "data": {
      "text/plain": [
       "array([1, 2, 3])"
      ]
     },
     "metadata": {},
     "output_type": "display_data"
    },
    {
     "data": {
      "text/plain": [
       "array([1, 2, 3])"
      ]
     },
     "metadata": {},
     "output_type": "display_data"
    },
    {
     "data": {
      "text/plain": [
       "array([1, 2, 3])"
      ]
     },
     "metadata": {},
     "output_type": "display_data"
    }
   ],
   "source": [
    "l1 = [1,2,3]\n",
    "display(np.array(l1))\n",
    "display(np.asarray(l1))\n",
    "display(np.arange(1,4))"
   ]
  },
  {
   "cell_type": "code",
   "execution_count": 45,
   "id": "368263c7",
   "metadata": {},
   "outputs": [
    {
     "data": {
      "text/plain": [
       "array([ 1,  2,  3,  4,  5,  6,  7,  8,  9, 10, 11, 12])"
      ]
     },
     "execution_count": 45,
     "metadata": {},
     "output_type": "execute_result"
    }
   ],
   "source": [
    "l1 = np.arange(1,13)\n",
    "l1"
   ]
  },
  {
   "cell_type": "code",
   "execution_count": 47,
   "id": "5d1d9178",
   "metadata": {},
   "outputs": [
    {
     "data": {
      "text/plain": [
       "array([[ 1,  2,  3,  4,  5,  6],\n",
       "       [ 7,  8,  9, 10, 11, 12]])"
      ]
     },
     "metadata": {},
     "output_type": "display_data"
    },
    {
     "name": "stdout",
     "output_type": "stream",
     "text": [
      "=====some use full properties===\n",
      "Dimension:  2\n",
      "Size number of items in array:  12\n",
      "Array shape or numbers of access in each dimension:  (2, 6)\n",
      "Array element datatype:  int32\n"
     ]
    }
   ],
   "source": [
    "l1 = np.arange(1,13).reshape((2,6))\n",
    "display(l1)\n",
    "print('=====some use full properties===')\n",
    "print(\"Dimension: \",l1.ndim)\n",
    "print(\"Size number of items in array: \", l1.size)\n",
    "print(\"Array shape or numbers of access in each dimension: \", l1.shape)\n",
    "print(\"Array element datatype: \", l1.dtype)"
   ]
  },
  {
   "cell_type": "code",
   "execution_count": 52,
   "id": "e5b72747",
   "metadata": {},
   "outputs": [
    {
     "data": {
      "text/plain": [
       "array([[ 1,  2],\n",
       "       [ 3,  4],\n",
       "       [ 5,  6],\n",
       "       [ 7,  8],\n",
       "       [ 9, 10],\n",
       "       [11, 12]])"
      ]
     },
     "metadata": {},
     "output_type": "display_data"
    },
    {
     "data": {
      "text/plain": [
       "array([[ 1,  2,  3,  4],\n",
       "       [ 5,  6,  7,  8],\n",
       "       [ 9, 10, 11, 12]])"
      ]
     },
     "metadata": {},
     "output_type": "display_data"
    },
    {
     "data": {
      "text/plain": [
       "array([[ 1,  2,  3],\n",
       "       [ 4,  5,  6],\n",
       "       [ 7,  8,  9],\n",
       "       [10, 11, 12]])"
      ]
     },
     "metadata": {},
     "output_type": "display_data"
    },
    {
     "data": {
      "text/plain": [
       "array([[ 1],\n",
       "       [ 2],\n",
       "       [ 3],\n",
       "       [ 4],\n",
       "       [ 5],\n",
       "       [ 6],\n",
       "       [ 7],\n",
       "       [ 8],\n",
       "       [ 9],\n",
       "       [10],\n",
       "       [11],\n",
       "       [12]])"
      ]
     },
     "metadata": {},
     "output_type": "display_data"
    },
    {
     "data": {
      "text/plain": [
       "array([[ 1,  2,  3,  4,  5,  6,  7,  8,  9, 10, 11, 12]])"
      ]
     },
     "metadata": {},
     "output_type": "display_data"
    }
   ],
   "source": [
    "l1 = np.arange(1,13).reshape((6,2))\n",
    "display(l1)\n",
    "display(l1.reshape((3,4)))\n",
    "display(l1.reshape(4,3))\n",
    "display(l1.reshape((12,1)))\n",
    "display(l1.reshape((1,12)))\n",
    "\n",
    "\n"
   ]
  },
  {
   "cell_type": "code",
   "execution_count": 53,
   "id": "c29fb84d",
   "metadata": {},
   "outputs": [
    {
     "ename": "ValueError",
     "evalue": "cannot reshape array of size 12 into shape (5,10)",
     "output_type": "error",
     "traceback": [
      "\u001b[1;31m---------------------------------------------------------------------------\u001b[0m",
      "\u001b[1;31mValueError\u001b[0m                                Traceback (most recent call last)",
      "\u001b[1;32m~\\AppData\\Local\\Temp\\ipykernel_14868\\93323873.py\u001b[0m in \u001b[0;36m<module>\u001b[1;34m\u001b[0m\n\u001b[1;32m----> 1\u001b[1;33m \u001b[0ml1\u001b[0m\u001b[1;33m.\u001b[0m\u001b[0mreshape\u001b[0m\u001b[1;33m(\u001b[0m\u001b[1;33m(\u001b[0m\u001b[1;36m5\u001b[0m\u001b[1;33m,\u001b[0m\u001b[1;36m10\u001b[0m\u001b[1;33m)\u001b[0m\u001b[1;33m)\u001b[0m\u001b[1;33m\u001b[0m\u001b[1;33m\u001b[0m\u001b[0m\n\u001b[0m",
      "\u001b[1;31mValueError\u001b[0m: cannot reshape array of size 12 into shape (5,10)"
     ]
    }
   ],
   "source": [
    "l1.reshape((5,10))"
   ]
  },
  {
   "cell_type": "code",
   "execution_count": 54,
   "id": "12312c47",
   "metadata": {},
   "outputs": [
    {
     "data": {
      "text/plain": [
       "array([[ 0,  1],\n",
       "       [ 2,  3],\n",
       "       [ 4,  5],\n",
       "       [ 6,  7],\n",
       "       [ 8,  9],\n",
       "       [10, 11]])"
      ]
     },
     "execution_count": 54,
     "metadata": {},
     "output_type": "execute_result"
    }
   ],
   "source": [
    "l1 = np.arange(6*2).reshape((6,2))\n",
    "l1\n"
   ]
  },
  {
   "cell_type": "code",
   "execution_count": 56,
   "id": "8895b4ec",
   "metadata": {},
   "outputs": [
    {
     "data": {
      "text/plain": [
       "array([[[ 0,  1,  2,  3],\n",
       "        [ 4,  5,  6,  7]],\n",
       "\n",
       "       [[ 8,  9, 10, 11],\n",
       "        [12, 13, 14, 15]],\n",
       "\n",
       "       [[16, 17, 18, 19],\n",
       "        [20, 21, 22, 23]]])"
      ]
     },
     "metadata": {},
     "output_type": "display_data"
    },
    {
     "name": "stdout",
     "output_type": "stream",
     "text": [
      "=====some use full properties===\n",
      "Dimension:  3\n",
      "Size number of items in array:  24\n",
      "Array shape or numbers of access in each dimension:  (3, 2, 4)\n",
      "Array element datatype:  int32\n"
     ]
    }
   ],
   "source": [
    "l1 = np.arange(3*2*4).reshape((3,2,4))\n",
    "\n",
    "\n",
    "display(l1)\n",
    "print('=====some use full properties===')\n",
    "print(\"Dimension: \",l1.ndim)\n",
    "print(\"Size number of items in array: \", l1.size)\n",
    "print(\"Array shape or numbers of access in each dimension: \", l1.shape)\n",
    "print(\"Array element datatype: \", l1.dtype)\n"
   ]
  },
  {
   "cell_type": "code",
   "execution_count": 62,
   "id": "3efa51ba",
   "metadata": {},
   "outputs": [
    {
     "data": {
      "text/plain": [
       "array([[[[ 0,  1,  2,  3],\n",
       "         [ 4,  5,  6,  7]],\n",
       "\n",
       "        [[ 8,  9, 10, 11],\n",
       "         [12, 13, 14, 15]],\n",
       "\n",
       "        [[16, 17, 18, 19],\n",
       "         [20, 21, 22, 23]]],\n",
       "\n",
       "\n",
       "       [[[24, 25, 26, 27],\n",
       "         [28, 29, 30, 31]],\n",
       "\n",
       "        [[32, 33, 34, 35],\n",
       "         [36, 37, 38, 39]],\n",
       "\n",
       "        [[40, 41, 42, 43],\n",
       "         [44, 45, 46, 47]]]])"
      ]
     },
     "metadata": {},
     "output_type": "display_data"
    },
    {
     "name": "stdout",
     "output_type": "stream",
     "text": [
      "=====some use full properties===\n",
      "Dimension:  4\n",
      "Size number of items in array:  48\n",
      "Array shape or numbers of access in each dimension:  (2, 3, 2, 4)\n",
      "Array element datatype:  int32\n"
     ]
    }
   ],
   "source": [
    "l1 = np.arange(2*3*2*4).reshape((2,3,2,4))\n",
    "\n",
    "\n",
    "display(l1)\n",
    "print('=====some use full properties===')\n",
    "print(\"Dimension: \",l1.ndim)\n",
    "print(\"Size number of items in array: \", l1.size)\n",
    "print(\"Array shape or numbers of access in each dimension: \", l1.shape)\n",
    "print(\"Array element datatype: \", l1.dtype)\n"
   ]
  },
  {
   "cell_type": "code",
   "execution_count": 59,
   "id": "578a6aac",
   "metadata": {},
   "outputs": [
    {
     "data": {
      "text/plain": [
       "array([[[[[  0,   1],\n",
       "          [  2,   3]],\n",
       "\n",
       "         [[  4,   5],\n",
       "          [  6,   7]],\n",
       "\n",
       "         [[  8,   9],\n",
       "          [ 10,  11]]],\n",
       "\n",
       "\n",
       "        [[[ 12,  13],\n",
       "          [ 14,  15]],\n",
       "\n",
       "         [[ 16,  17],\n",
       "          [ 18,  19]],\n",
       "\n",
       "         [[ 20,  21],\n",
       "          [ 22,  23]]],\n",
       "\n",
       "\n",
       "        [[[ 24,  25],\n",
       "          [ 26,  27]],\n",
       "\n",
       "         [[ 28,  29],\n",
       "          [ 30,  31]],\n",
       "\n",
       "         [[ 32,  33],\n",
       "          [ 34,  35]]],\n",
       "\n",
       "\n",
       "        [[[ 36,  37],\n",
       "          [ 38,  39]],\n",
       "\n",
       "         [[ 40,  41],\n",
       "          [ 42,  43]],\n",
       "\n",
       "         [[ 44,  45],\n",
       "          [ 46,  47]]]],\n",
       "\n",
       "\n",
       "\n",
       "       [[[[ 48,  49],\n",
       "          [ 50,  51]],\n",
       "\n",
       "         [[ 52,  53],\n",
       "          [ 54,  55]],\n",
       "\n",
       "         [[ 56,  57],\n",
       "          [ 58,  59]]],\n",
       "\n",
       "\n",
       "        [[[ 60,  61],\n",
       "          [ 62,  63]],\n",
       "\n",
       "         [[ 64,  65],\n",
       "          [ 66,  67]],\n",
       "\n",
       "         [[ 68,  69],\n",
       "          [ 70,  71]]],\n",
       "\n",
       "\n",
       "        [[[ 72,  73],\n",
       "          [ 74,  75]],\n",
       "\n",
       "         [[ 76,  77],\n",
       "          [ 78,  79]],\n",
       "\n",
       "         [[ 80,  81],\n",
       "          [ 82,  83]]],\n",
       "\n",
       "\n",
       "        [[[ 84,  85],\n",
       "          [ 86,  87]],\n",
       "\n",
       "         [[ 88,  89],\n",
       "          [ 90,  91]],\n",
       "\n",
       "         [[ 92,  93],\n",
       "          [ 94,  95]]]],\n",
       "\n",
       "\n",
       "\n",
       "       [[[[ 96,  97],\n",
       "          [ 98,  99]],\n",
       "\n",
       "         [[100, 101],\n",
       "          [102, 103]],\n",
       "\n",
       "         [[104, 105],\n",
       "          [106, 107]]],\n",
       "\n",
       "\n",
       "        [[[108, 109],\n",
       "          [110, 111]],\n",
       "\n",
       "         [[112, 113],\n",
       "          [114, 115]],\n",
       "\n",
       "         [[116, 117],\n",
       "          [118, 119]]],\n",
       "\n",
       "\n",
       "        [[[120, 121],\n",
       "          [122, 123]],\n",
       "\n",
       "         [[124, 125],\n",
       "          [126, 127]],\n",
       "\n",
       "         [[128, 129],\n",
       "          [130, 131]]],\n",
       "\n",
       "\n",
       "        [[[132, 133],\n",
       "          [134, 135]],\n",
       "\n",
       "         [[136, 137],\n",
       "          [138, 139]],\n",
       "\n",
       "         [[140, 141],\n",
       "          [142, 143]]]],\n",
       "\n",
       "\n",
       "\n",
       "       [[[[144, 145],\n",
       "          [146, 147]],\n",
       "\n",
       "         [[148, 149],\n",
       "          [150, 151]],\n",
       "\n",
       "         [[152, 153],\n",
       "          [154, 155]]],\n",
       "\n",
       "\n",
       "        [[[156, 157],\n",
       "          [158, 159]],\n",
       "\n",
       "         [[160, 161],\n",
       "          [162, 163]],\n",
       "\n",
       "         [[164, 165],\n",
       "          [166, 167]]],\n",
       "\n",
       "\n",
       "        [[[168, 169],\n",
       "          [170, 171]],\n",
       "\n",
       "         [[172, 173],\n",
       "          [174, 175]],\n",
       "\n",
       "         [[176, 177],\n",
       "          [178, 179]]],\n",
       "\n",
       "\n",
       "        [[[180, 181],\n",
       "          [182, 183]],\n",
       "\n",
       "         [[184, 185],\n",
       "          [186, 187]],\n",
       "\n",
       "         [[188, 189],\n",
       "          [190, 191]]]],\n",
       "\n",
       "\n",
       "\n",
       "       [[[[192, 193],\n",
       "          [194, 195]],\n",
       "\n",
       "         [[196, 197],\n",
       "          [198, 199]],\n",
       "\n",
       "         [[200, 201],\n",
       "          [202, 203]]],\n",
       "\n",
       "\n",
       "        [[[204, 205],\n",
       "          [206, 207]],\n",
       "\n",
       "         [[208, 209],\n",
       "          [210, 211]],\n",
       "\n",
       "         [[212, 213],\n",
       "          [214, 215]]],\n",
       "\n",
       "\n",
       "        [[[216, 217],\n",
       "          [218, 219]],\n",
       "\n",
       "         [[220, 221],\n",
       "          [222, 223]],\n",
       "\n",
       "         [[224, 225],\n",
       "          [226, 227]]],\n",
       "\n",
       "\n",
       "        [[[228, 229],\n",
       "          [230, 231]],\n",
       "\n",
       "         [[232, 233],\n",
       "          [234, 235]],\n",
       "\n",
       "         [[236, 237],\n",
       "          [238, 239]]]]])"
      ]
     },
     "metadata": {},
     "output_type": "display_data"
    },
    {
     "name": "stdout",
     "output_type": "stream",
     "text": [
      "=====some use full properties===\n",
      "Dimension:  5\n",
      "Size number of items in array:  240\n",
      "Array shape or numbers of access in each dimension:  (5, 4, 3, 2, 2)\n",
      "Array element datatype:  int32\n"
     ]
    }
   ],
   "source": [
    "l1 = np.arange(5*4*3*2*2).reshape((5,4,3,2,2))\n",
    "\n",
    "\n",
    "display(l1)\n",
    "print('=====some use full properties===')\n",
    "print(\"Dimension: \",l1.ndim)\n",
    "print(\"Size number of items in array: \", l1.size)\n",
    "print(\"Array shape or numbers of access in each dimension: \", l1.shape)\n",
    "print(\"Array element datatype: \", l1.dtype)\n"
   ]
  },
  {
   "cell_type": "markdown",
   "id": "a6c14834",
   "metadata": {},
   "source": [
    "# Generate RGB slide"
   ]
  },
  {
   "cell_type": "code",
   "execution_count": 67,
   "id": "79cd5749",
   "metadata": {},
   "outputs": [
    {
     "data": {
      "text/plain": [
       "array([[[ 73,  76, 165],\n",
       "        [173,  55, 165],\n",
       "        [110, 181, 232],\n",
       "        [156,   5,  18],\n",
       "        [222, 235,  78]],\n",
       "\n",
       "       [[ 73,   0,  44],\n",
       "        [ 42, 102,  52],\n",
       "        [216,  10, 126],\n",
       "        [ 46, 238, 108],\n",
       "        [210,  46, 131]],\n",
       "\n",
       "       [[143, 175, 187],\n",
       "        [176, 195, 166],\n",
       "        [107, 133, 145],\n",
       "        [ 66, 225, 131],\n",
       "        [109, 185, 191]],\n",
       "\n",
       "       [[229, 129, 213],\n",
       "        [192, 172, 228],\n",
       "        [178,  96, 107],\n",
       "        [198, 185,  97],\n",
       "        [203, 112, 206]],\n",
       "\n",
       "       [[110, 218, 123],\n",
       "        [245, 164, 205],\n",
       "        [222,  45, 234],\n",
       "        [ 59, 240, 155],\n",
       "        [204, 214, 247]]])"
      ]
     },
     "execution_count": 67,
     "metadata": {},
     "output_type": "execute_result"
    }
   ],
   "source": [
    "img = np.random.randint(0,255, size=(5,5,3))\n",
    "img"
   ]
  },
  {
   "cell_type": "code",
   "execution_count": 68,
   "id": "3aed98d3",
   "metadata": {},
   "outputs": [],
   "source": [
    "import matplotlib.pyplot as plt"
   ]
  },
  {
   "cell_type": "code",
   "execution_count": 69,
   "id": "1773f448",
   "metadata": {},
   "outputs": [
    {
     "data": {
      "text/plain": [
       "<matplotlib.image.AxesImage at 0x162c1643790>"
      ]
     },
     "execution_count": 69,
     "metadata": {},
     "output_type": "execute_result"
    },
    {
     "data": {
      "image/png": "[encoded data removed]",
      "text/plain": [
       "<Figure size 640x480 with 1 Axes>"
      ]
     },
     "metadata": {},
     "output_type": "display_data"
    }
   ],
   "source": [
    "plt.imshow(img)"
   ]
  },
  {
   "cell_type": "code",
   "execution_count": 71,
   "id": "a6bc31f9",
   "metadata": {},
   "outputs": [
    {
     "data": {
      "text/plain": [
       "<matplotlib.image.AxesImage at 0x162c1324640>"
      ]
     },
     "execution_count": 71,
     "metadata": {},
     "output_type": "execute_result"
    },
    {
     "data": {
      "image/png": "[encoded data removed]",
      "text/plain": [
       "<Figure size 640x480 with 1 Axes>"
      ]
     },
     "metadata": {},
     "output_type": "display_data"
    }
   ],
   "source": [
    "img = np.random.randint(0,255, size=(50,50,3))\n",
    "plt.imshow(img)"
   ]
  },
  {
   "cell_type": "code",
   "execution_count": 73,
   "id": "85d80f53",
   "metadata": {},
   "outputs": [
    {
     "data": {
      "text/plain": [
       "dtype('int32')"
      ]
     },
     "execution_count": 73,
     "metadata": {},
     "output_type": "execute_result"
    }
   ],
   "source": [
    "img.dtype"
   ]
  },
  {
   "cell_type": "code",
   "execution_count": 77,
   "id": "c7d42fc6",
   "metadata": {
    "scrolled": true
   },
   "outputs": [
    {
     "data": {
      "image/png": "[encoded data removed]",
      "text/plain": [
       "<Figure size 640x480 with 1 Axes>"
      ]
     },
     "metadata": {},
     "output_type": "display_data"
    }
   ],
   "source": [
    "img = np.random.randint(0,255, size=(50,50,3), dtype=np.uint8)\n",
    "plt.imshow(img)\n",
    "plt.imsave(\"aa.jpeg\",img)"
   ]
  },
  {
   "cell_type": "code",
   "execution_count": 78,
   "id": "8b858d6c",
   "metadata": {},
   "outputs": [
    {
     "data": {
      "image/png": "[encoded data removed]",
      "text/plain": [
       "<Figure size 640x480 with 1 Axes>"
      ]
     },
     "metadata": {},
     "output_type": "display_data"
    }
   ],
   "source": [
    "img = np.random.randint(0,255, size=(1024,768,3), dtype=np.uint8)\n",
    "plt.imshow(img)\n",
    "plt.imsave(\"aa2.jpeg\",img)"
   ]
  },
  {
   "cell_type": "markdown",
   "id": "9c4e3d9d",
   "metadata": {},
   "source": [
    "# Task: load any jpeg/png/gif image and visualize with numpy and matplot lib"
   ]
  },
  {
   "cell_type": "code",
   "execution_count": null,
   "id": "845a3b43",
   "metadata": {},
   "outputs": [],
   "source": []
  }
 ],
 "metadata": {
  "kernelspec": {
   "display_name": "Python 3 (ipykernel)",
   "language": "python",
   "name": "python3"
  },
  "language_info": {
   "codemirror_mode": {
    "name": "ipython",
    "version": 3
   },
   "file_extension": ".py",
   "mimetype": "text/x-python",
   "name": "python",
   "nbconvert_exporter": "python",
   "pygments_lexer": "ipython3",
   "version": "3.9.13"
  }
 },
 "nbformat": 4,
 "nbformat_minor": 5
}
