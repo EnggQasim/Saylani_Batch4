{
 "cells": [
  {
   "cell_type": "code",
   "execution_count": 1,
   "metadata": {
    "colab": {
     "base_uri": "https://localhost:8080/"
    },
    "id": "lgHePKak9QS-",
    "outputId": "be4cb834-627f-42dc-adde-e31e2b79fa73"
   },
   "outputs": [
    {
     "name": "stdout",
     "output_type": "stream",
     "text": [
      "2.13.0\n"
     ]
    }
   ],
   "source": [
    "import tensorflow as tf\n",
    "print(tf.__version__)"
   ]
  },
  {
   "cell_type": "code",
   "execution_count": 2,
   "metadata": {
    "colab": {
     "base_uri": "https://localhost:8080/"
    },
    "id": "L4t4FInE9dQZ",
    "outputId": "ec3fbce5-15b0-4972-8bd1-9f1b09f71f67"
   },
   "outputs": [],
   "source": [
    "#!pip install tensorflow"
   ]
  },
  {
   "cell_type": "markdown",
   "metadata": {
    "id": "Cse-Qnj-BTRB"
   },
   "source": [
    "<img src='data:image/png;base64,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'>\n",
    "\n",
    "<img src='https://miro.medium.com/max/432/1*y0pXhfaTGmvfNwaGoHnW5w.jpeg'>"
   ]
  },
  {
   "cell_type": "code",
   "execution_count": 3,
   "metadata": {
    "id": "6MP7jiKR98IH"
   },
   "outputs": [],
   "source": [
    "from tensorflow.keras.models import Sequential\n",
    "from tensorflow.keras.layers import Dense\n",
    "from tensorflow.keras.optimizers import SGD, Adam"
   ]
  },
  {
   "cell_type": "code",
   "execution_count": 4,
   "metadata": {
    "id": "MPDu7Q8NA2nZ"
   },
   "outputs": [],
   "source": [
    "import pandas as pd\n",
    "import numpy as np\n",
    "import matplotlib.pyplot as plt"
   ]
  },
  {
   "cell_type": "code",
   "execution_count": 6,
   "metadata": {
    "colab": {
     "base_uri": "https://localhost:8080/",
     "height": 206
    },
    "id": "UOWZ41VaD073",
    "outputId": "a55c394c-b73d-4170-92b7-9ba6d1e50fd5"
   },
   "outputs": [
    {
     "ename": "FileNotFoundError",
     "evalue": "[Errno 2] No such file or directory: '/content/weight-height.csv'",
     "output_type": "error",
     "traceback": [
      "\u001b[1;31m---------------------------------------------------------------------------\u001b[0m",
      "\u001b[1;31mFileNotFoundError\u001b[0m                         Traceback (most recent call last)",
      "\u001b[1;32m~\\AppData\\Local\\Temp\\ipykernel_22064\\4188077597.py\u001b[0m in \u001b[0;36m<module>\u001b[1;34m\u001b[0m\n\u001b[1;32m----> 1\u001b[1;33m \u001b[0mdf\u001b[0m \u001b[1;33m=\u001b[0m \u001b[0mpd\u001b[0m\u001b[1;33m.\u001b[0m\u001b[0mread_csv\u001b[0m\u001b[1;33m(\u001b[0m\u001b[1;34m\"/content/weight-height.csv\"\u001b[0m\u001b[1;33m)\u001b[0m\u001b[1;33m\u001b[0m\u001b[1;33m\u001b[0m\u001b[0m\n\u001b[0m\u001b[0;32m      2\u001b[0m \u001b[0mdf\u001b[0m\u001b[1;33m.\u001b[0m\u001b[0mhead\u001b[0m\u001b[1;33m(\u001b[0m\u001b[1;33m)\u001b[0m\u001b[1;33m\u001b[0m\u001b[1;33m\u001b[0m\u001b[0m\n",
      "\u001b[1;32m~\\AppData\\Roaming\\Python\\Python39\\site-packages\\pandas\\util\\_decorators.py\u001b[0m in \u001b[0;36mwrapper\u001b[1;34m(*args, **kwargs)\u001b[0m\n\u001b[0;32m    209\u001b[0m                 \u001b[1;32melse\u001b[0m\u001b[1;33m:\u001b[0m\u001b[1;33m\u001b[0m\u001b[1;33m\u001b[0m\u001b[0m\n\u001b[0;32m    210\u001b[0m                     \u001b[0mkwargs\u001b[0m\u001b[1;33m[\u001b[0m\u001b[0mnew_arg_name\u001b[0m\u001b[1;33m]\u001b[0m \u001b[1;33m=\u001b[0m \u001b[0mnew_arg_value\u001b[0m\u001b[1;33m\u001b[0m\u001b[1;33m\u001b[0m\u001b[0m\n\u001b[1;32m--> 211\u001b[1;33m             \u001b[1;32mreturn\u001b[0m \u001b[0mfunc\u001b[0m\u001b[1;33m(\u001b[0m\u001b[1;33m*\u001b[0m\u001b[0margs\u001b[0m\u001b[1;33m,\u001b[0m \u001b[1;33m**\u001b[0m\u001b[0mkwargs\u001b[0m\u001b[1;33m)\u001b[0m\u001b[1;33m\u001b[0m\u001b[1;33m\u001b[0m\u001b[0m\n\u001b[0m\u001b[0;32m    212\u001b[0m \u001b[1;33m\u001b[0m\u001b[0m\n\u001b[0;32m    213\u001b[0m         \u001b[1;32mreturn\u001b[0m \u001b[0mcast\u001b[0m\u001b[1;33m(\u001b[0m\u001b[0mF\u001b[0m\u001b[1;33m,\u001b[0m \u001b[0mwrapper\u001b[0m\u001b[1;33m)\u001b[0m\u001b[1;33m\u001b[0m\u001b[1;33m\u001b[0m\u001b[0m\n",
      "\u001b[1;32m~\\AppData\\Roaming\\Python\\Python39\\site-packages\\pandas\\util\\_decorators.py\u001b[0m in \u001b[0;36mwrapper\u001b[1;34m(*args, **kwargs)\u001b[0m\n\u001b[0;32m    329\u001b[0m                     \u001b[0mstacklevel\u001b[0m\u001b[1;33m=\u001b[0m\u001b[0mfind_stack_level\u001b[0m\u001b[1;33m(\u001b[0m\u001b[1;33m)\u001b[0m\u001b[1;33m,\u001b[0m\u001b[1;33m\u001b[0m\u001b[1;33m\u001b[0m\u001b[0m\n\u001b[0;32m    330\u001b[0m                 )\n\u001b[1;32m--> 331\u001b[1;33m             \u001b[1;32mreturn\u001b[0m \u001b[0mfunc\u001b[0m\u001b[1;33m(\u001b[0m\u001b[1;33m*\u001b[0m\u001b[0margs\u001b[0m\u001b[1;33m,\u001b[0m \u001b[1;33m**\u001b[0m\u001b[0mkwargs\u001b[0m\u001b[1;33m)\u001b[0m\u001b[1;33m\u001b[0m\u001b[1;33m\u001b[0m\u001b[0m\n\u001b[0m\u001b[0;32m    332\u001b[0m \u001b[1;33m\u001b[0m\u001b[0m\n\u001b[0;32m    333\u001b[0m         \u001b[1;31m# error: \"Callable[[VarArg(Any), KwArg(Any)], Any]\" has no\u001b[0m\u001b[1;33m\u001b[0m\u001b[1;33m\u001b[0m\u001b[0m\n",
      "\u001b[1;32m~\\AppData\\Roaming\\Python\\Python39\\site-packages\\pandas\\io\\parsers\\readers.py\u001b[0m in \u001b[0;36mread_csv\u001b[1;34m(filepath_or_buffer, sep, delimiter, header, names, index_col, usecols, squeeze, prefix, mangle_dupe_cols, dtype, engine, converters, true_values, false_values, skipinitialspace, skiprows, skipfooter, nrows, na_values, keep_default_na, na_filter, verbose, skip_blank_lines, parse_dates, infer_datetime_format, keep_date_col, date_parser, dayfirst, cache_dates, iterator, chunksize, compression, thousands, decimal, lineterminator, quotechar, quoting, doublequote, escapechar, comment, encoding, encoding_errors, dialect, error_bad_lines, warn_bad_lines, on_bad_lines, delim_whitespace, low_memory, memory_map, float_precision, storage_options)\u001b[0m\n\u001b[0;32m    948\u001b[0m     \u001b[0mkwds\u001b[0m\u001b[1;33m.\u001b[0m\u001b[0mupdate\u001b[0m\u001b[1;33m(\u001b[0m\u001b[0mkwds_defaults\u001b[0m\u001b[1;33m)\u001b[0m\u001b[1;33m\u001b[0m\u001b[1;33m\u001b[0m\u001b[0m\n\u001b[0;32m    949\u001b[0m \u001b[1;33m\u001b[0m\u001b[0m\n\u001b[1;32m--> 950\u001b[1;33m     \u001b[1;32mreturn\u001b[0m \u001b[0m_read\u001b[0m\u001b[1;33m(\u001b[0m\u001b[0mfilepath_or_buffer\u001b[0m\u001b[1;33m,\u001b[0m \u001b[0mkwds\u001b[0m\u001b[1;33m)\u001b[0m\u001b[1;33m\u001b[0m\u001b[1;33m\u001b[0m\u001b[0m\n\u001b[0m\u001b[0;32m    951\u001b[0m \u001b[1;33m\u001b[0m\u001b[0m\n\u001b[0;32m    952\u001b[0m \u001b[1;33m\u001b[0m\u001b[0m\n",
      "\u001b[1;32m~\\AppData\\Roaming\\Python\\Python39\\site-packages\\pandas\\io\\parsers\\readers.py\u001b[0m in \u001b[0;36m_read\u001b[1;34m(filepath_or_buffer, kwds)\u001b[0m\n\u001b[0;32m    603\u001b[0m \u001b[1;33m\u001b[0m\u001b[0m\n\u001b[0;32m    604\u001b[0m     \u001b[1;31m# Create the parser.\u001b[0m\u001b[1;33m\u001b[0m\u001b[1;33m\u001b[0m\u001b[0m\n\u001b[1;32m--> 605\u001b[1;33m     \u001b[0mparser\u001b[0m \u001b[1;33m=\u001b[0m \u001b[0mTextFileReader\u001b[0m\u001b[1;33m(\u001b[0m\u001b[0mfilepath_or_buffer\u001b[0m\u001b[1;33m,\u001b[0m \u001b[1;33m**\u001b[0m\u001b[0mkwds\u001b[0m\u001b[1;33m)\u001b[0m\u001b[1;33m\u001b[0m\u001b[1;33m\u001b[0m\u001b[0m\n\u001b[0m\u001b[0;32m    606\u001b[0m \u001b[1;33m\u001b[0m\u001b[0m\n\u001b[0;32m    607\u001b[0m     \u001b[1;32mif\u001b[0m \u001b[0mchunksize\u001b[0m \u001b[1;32mor\u001b[0m \u001b[0miterator\u001b[0m\u001b[1;33m:\u001b[0m\u001b[1;33m\u001b[0m\u001b[1;33m\u001b[0m\u001b[0m\n",
      "\u001b[1;32m~\\AppData\\Roaming\\Python\\Python39\\site-packages\\pandas\\io\\parsers\\readers.py\u001b[0m in \u001b[0;36m__init__\u001b[1;34m(self, f, engine, **kwds)\u001b[0m\n\u001b[0;32m   1440\u001b[0m \u001b[1;33m\u001b[0m\u001b[0m\n\u001b[0;32m   1441\u001b[0m         \u001b[0mself\u001b[0m\u001b[1;33m.\u001b[0m\u001b[0mhandles\u001b[0m\u001b[1;33m:\u001b[0m \u001b[0mIOHandles\u001b[0m \u001b[1;33m|\u001b[0m \u001b[1;32mNone\u001b[0m \u001b[1;33m=\u001b[0m \u001b[1;32mNone\u001b[0m\u001b[1;33m\u001b[0m\u001b[1;33m\u001b[0m\u001b[0m\n\u001b[1;32m-> 1442\u001b[1;33m         \u001b[0mself\u001b[0m\u001b[1;33m.\u001b[0m\u001b[0m_engine\u001b[0m \u001b[1;33m=\u001b[0m \u001b[0mself\u001b[0m\u001b[1;33m.\u001b[0m\u001b[0m_make_engine\u001b[0m\u001b[1;33m(\u001b[0m\u001b[0mf\u001b[0m\u001b[1;33m,\u001b[0m \u001b[0mself\u001b[0m\u001b[1;33m.\u001b[0m\u001b[0mengine\u001b[0m\u001b[1;33m)\u001b[0m\u001b[1;33m\u001b[0m\u001b[1;33m\u001b[0m\u001b[0m\n\u001b[0m\u001b[0;32m   1443\u001b[0m \u001b[1;33m\u001b[0m\u001b[0m\n\u001b[0;32m   1444\u001b[0m     \u001b[1;32mdef\u001b[0m \u001b[0mclose\u001b[0m\u001b[1;33m(\u001b[0m\u001b[0mself\u001b[0m\u001b[1;33m)\u001b[0m \u001b[1;33m->\u001b[0m \u001b[1;32mNone\u001b[0m\u001b[1;33m:\u001b[0m\u001b[1;33m\u001b[0m\u001b[1;33m\u001b[0m\u001b[0m\n",
      "\u001b[1;32m~\\AppData\\Roaming\\Python\\Python39\\site-packages\\pandas\\io\\parsers\\readers.py\u001b[0m in \u001b[0;36m_make_engine\u001b[1;34m(self, f, engine)\u001b[0m\n\u001b[0;32m   1733\u001b[0m                 \u001b[1;32mif\u001b[0m \u001b[1;34m\"b\"\u001b[0m \u001b[1;32mnot\u001b[0m \u001b[1;32min\u001b[0m \u001b[0mmode\u001b[0m\u001b[1;33m:\u001b[0m\u001b[1;33m\u001b[0m\u001b[1;33m\u001b[0m\u001b[0m\n\u001b[0;32m   1734\u001b[0m                     \u001b[0mmode\u001b[0m \u001b[1;33m+=\u001b[0m \u001b[1;34m\"b\"\u001b[0m\u001b[1;33m\u001b[0m\u001b[1;33m\u001b[0m\u001b[0m\n\u001b[1;32m-> 1735\u001b[1;33m             self.handles = get_handle(\n\u001b[0m\u001b[0;32m   1736\u001b[0m                 \u001b[0mf\u001b[0m\u001b[1;33m,\u001b[0m\u001b[1;33m\u001b[0m\u001b[1;33m\u001b[0m\u001b[0m\n\u001b[0;32m   1737\u001b[0m                 \u001b[0mmode\u001b[0m\u001b[1;33m,\u001b[0m\u001b[1;33m\u001b[0m\u001b[1;33m\u001b[0m\u001b[0m\n",
      "\u001b[1;32m~\\AppData\\Roaming\\Python\\Python39\\site-packages\\pandas\\io\\common.py\u001b[0m in \u001b[0;36mget_handle\u001b[1;34m(path_or_buf, mode, encoding, compression, memory_map, is_text, errors, storage_options)\u001b[0m\n\u001b[0;32m    854\u001b[0m         \u001b[1;32mif\u001b[0m \u001b[0mioargs\u001b[0m\u001b[1;33m.\u001b[0m\u001b[0mencoding\u001b[0m \u001b[1;32mand\u001b[0m \u001b[1;34m\"b\"\u001b[0m \u001b[1;32mnot\u001b[0m \u001b[1;32min\u001b[0m \u001b[0mioargs\u001b[0m\u001b[1;33m.\u001b[0m\u001b[0mmode\u001b[0m\u001b[1;33m:\u001b[0m\u001b[1;33m\u001b[0m\u001b[1;33m\u001b[0m\u001b[0m\n\u001b[0;32m    855\u001b[0m             \u001b[1;31m# Encoding\u001b[0m\u001b[1;33m\u001b[0m\u001b[1;33m\u001b[0m\u001b[0m\n\u001b[1;32m--> 856\u001b[1;33m             handle = open(\n\u001b[0m\u001b[0;32m    857\u001b[0m                 \u001b[0mhandle\u001b[0m\u001b[1;33m,\u001b[0m\u001b[1;33m\u001b[0m\u001b[1;33m\u001b[0m\u001b[0m\n\u001b[0;32m    858\u001b[0m                 \u001b[0mioargs\u001b[0m\u001b[1;33m.\u001b[0m\u001b[0mmode\u001b[0m\u001b[1;33m,\u001b[0m\u001b[1;33m\u001b[0m\u001b[1;33m\u001b[0m\u001b[0m\n",
      "\u001b[1;31mFileNotFoundError\u001b[0m: [Errno 2] No such file or directory: '/content/weight-height.csv'"
     ]
    }
   ],
   "source": [
    "df = pd.read_csv(\"/content/weight-height.csv\")\n",
    "df.head()"
   ]
  },
  {
   "cell_type": "code",
   "execution_count": 8,
   "metadata": {
    "colab": {
     "base_uri": "https://localhost:8080/",
     "height": 206
    },
    "id": "aRYAAZLXD9E3",
    "outputId": "e4e0a745-593f-4e65-cf08-153d7b4651f1"
   },
   "outputs": [
    {
     "data": {
      "text/html": [
       "\n",
       "  <div id=\"df-76236706-306c-44d4-a09a-b392e1f3087e\">\n",
       "    <div class=\"colab-df-container\">\n",
       "      <div>\n",
       "<style scoped>\n",
       "    .dataframe tbody tr th:only-of-type {\n",
       "        vertical-align: middle;\n",
       "    }\n",
       "\n",
       "    .dataframe tbody tr th {\n",
       "        vertical-align: top;\n",
       "    }\n",
       "\n",
       "    .dataframe thead th {\n",
       "        text-align: right;\n",
       "    }\n",
       "</style>\n",
       "<table border=\"1\" class=\"dataframe\">\n",
       "  <thead>\n",
       "    <tr style=\"text-align: right;\">\n",
       "      <th></th>\n",
       "      <th>Gender</th>\n",
       "      <th>Height</th>\n",
       "      <th>Weight</th>\n",
       "    </tr>\n",
       "  </thead>\n",
       "  <tbody>\n",
       "    <tr>\n",
       "      <th>0</th>\n",
       "      <td>Male</td>\n",
       "      <td>73.847017</td>\n",
       "      <td>241.893563</td>\n",
       "    </tr>\n",
       "    <tr>\n",
       "      <th>1</th>\n",
       "      <td>Male</td>\n",
       "      <td>68.781904</td>\n",
       "      <td>162.310473</td>\n",
       "    </tr>\n",
       "    <tr>\n",
       "      <th>2</th>\n",
       "      <td>Male</td>\n",
       "      <td>74.110105</td>\n",
       "      <td>212.740856</td>\n",
       "    </tr>\n",
       "    <tr>\n",
       "      <th>3</th>\n",
       "      <td>Male</td>\n",
       "      <td>71.730978</td>\n",
       "      <td>220.042470</td>\n",
       "    </tr>\n",
       "    <tr>\n",
       "      <th>4</th>\n",
       "      <td>Male</td>\n",
       "      <td>69.881796</td>\n",
       "      <td>206.349801</td>\n",
       "    </tr>\n",
       "  </tbody>\n",
       "</table>\n",
       "</div>\n",
       "      <button class=\"colab-df-convert\" onclick=\"convertToInteractive('df-76236706-306c-44d4-a09a-b392e1f3087e')\"\n",
       "              title=\"Convert this dataframe to an interactive table.\"\n",
       "              style=\"display:none;\">\n",
       "        \n",
       "  <svg xmlns=\"http://www.w3.org/2000/svg\" height=\"24px\"viewBox=\"0 0 24 24\"\n",
       "       width=\"24px\">\n",
       "    <path d=\"M0 0h24v24H0V0z\" fill=\"none\"/>\n",
       "    <path d=\"M18.56 5.44l.94 2.06.94-2.06 2.06-.94-2.06-.94-.94-2.06-.94 2.06-2.06.94zm-11 1L8.5 8.5l.94-2.06 2.06-.94-2.06-.94L8.5 2.5l-.94 2.06-2.06.94zm10 10l.94 2.06.94-2.06 2.06-.94-2.06-.94-.94-2.06-.94 2.06-2.06.94z\"/><path d=\"M17.41 7.96l-1.37-1.37c-.4-.4-.92-.59-1.43-.59-.52 0-1.04.2-1.43.59L10.3 9.45l-7.72 7.72c-.78.78-.78 2.05 0 2.83L4 21.41c.39.39.9.59 1.41.59.51 0 1.02-.2 1.41-.59l7.78-7.78 2.81-2.81c.8-.78.8-2.07 0-2.86zM5.41 20L4 18.59l7.72-7.72 1.47 1.35L5.41 20z\"/>\n",
       "  </svg>\n",
       "      </button>\n",
       "      \n",
       "  <style>\n",
       "    .colab-df-container {\n",
       "      display:flex;\n",
       "      flex-wrap:wrap;\n",
       "      gap: 12px;\n",
       "    }\n",
       "\n",
       "    .colab-df-convert {\n",
       "      background-color: #E8F0FE;\n",
       "      border: none;\n",
       "      border-radius: 50%;\n",
       "      cursor: pointer;\n",
       "      display: none;\n",
       "      fill: #1967D2;\n",
       "      height: 32px;\n",
       "      padding: 0 0 0 0;\n",
       "      width: 32px;\n",
       "    }\n",
       "\n",
       "    .colab-df-convert:hover {\n",
       "      background-color: #E2EBFA;\n",
       "      box-shadow: 0px 1px 2px rgba(60, 64, 67, 0.3), 0px 1px 3px 1px rgba(60, 64, 67, 0.15);\n",
       "      fill: #174EA6;\n",
       "    }\n",
       "\n",
       "    [theme=dark] .colab-df-convert {\n",
       "      background-color: #3B4455;\n",
       "      fill: #D2E3FC;\n",
       "    }\n",
       "\n",
       "    [theme=dark] .colab-df-convert:hover {\n",
       "      background-color: #434B5C;\n",
       "      box-shadow: 0px 1px 3px 1px rgba(0, 0, 0, 0.15);\n",
       "      filter: drop-shadow(0px 1px 2px rgba(0, 0, 0, 0.3));\n",
       "      fill: #FFFFFF;\n",
       "    }\n",
       "  </style>\n",
       "\n",
       "      <script>\n",
       "        const buttonEl =\n",
       "          document.querySelector('#df-76236706-306c-44d4-a09a-b392e1f3087e button.colab-df-convert');\n",
       "        buttonEl.style.display =\n",
       "          google.colab.kernel.accessAllowed ? 'block' : 'none';\n",
       "\n",
       "        async function convertToInteractive(key) {\n",
       "          const element = document.querySelector('#df-76236706-306c-44d4-a09a-b392e1f3087e');\n",
       "          const dataTable =\n",
       "            await google.colab.kernel.invokeFunction('convertToInteractive',\n",
       "                                                     [key], {});\n",
       "          if (!dataTable) return;\n",
       "\n",
       "          const docLinkHtml = 'Like what you see? Visit the ' +\n",
       "            '<a target=\"_blank\" href=https://colab.research.google.com/notebooks/data_table.ipynb>data table notebook</a>'\n",
       "            + ' to learn more about interactive tables.';\n",
       "          element.innerHTML = '';\n",
       "          dataTable['output_type'] = 'display_data';\n",
       "          await google.colab.output.renderOutput(dataTable, element);\n",
       "          const docLink = document.createElement('div');\n",
       "          docLink.innerHTML = docLinkHtml;\n",
       "          element.appendChild(docLink);\n",
       "        }\n",
       "      </script>\n",
       "    </div>\n",
       "  </div>\n",
       "  "
      ],
      "text/plain": [
       "  Gender     Height      Weight\n",
       "0   Male  73.847017  241.893563\n",
       "1   Male  68.781904  162.310473\n",
       "2   Male  74.110105  212.740856\n",
       "3   Male  71.730978  220.042470\n",
       "4   Male  69.881796  206.349801"
      ]
     },
     "execution_count": 8,
     "metadata": {},
     "output_type": "execute_result"
    }
   ],
   "source": [
    "df = pd.read_csv('https://raw.githubusercontent.com/EnggQasim/NED_ML_batch3/main/class3/data/weight-height.csv')\n",
    "df.head()"
   ]
  },
  {
   "cell_type": "code",
   "execution_count": 9,
   "metadata": {
    "colab": {
     "base_uri": "https://localhost:8080/",
     "height": 300
    },
    "id": "FtEyKBSbEJJo",
    "outputId": "44f7abc9-3527-45c2-bb16-f518293f46e7"
   },
   "outputs": [
    {
     "data": {
      "text/html": [
       "\n",
       "  <div id=\"df-53117992-0f17-4b6c-847f-a1d590cb7291\">\n",
       "    <div class=\"colab-df-container\">\n",
       "      <div>\n",
       "<style scoped>\n",
       "    .dataframe tbody tr th:only-of-type {\n",
       "        vertical-align: middle;\n",
       "    }\n",
       "\n",
       "    .dataframe tbody tr th {\n",
       "        vertical-align: top;\n",
       "    }\n",
       "\n",
       "    .dataframe thead th {\n",
       "        text-align: right;\n",
       "    }\n",
       "</style>\n",
       "<table border=\"1\" class=\"dataframe\">\n",
       "  <thead>\n",
       "    <tr style=\"text-align: right;\">\n",
       "      <th></th>\n",
       "      <th>Height</th>\n",
       "      <th>Weight</th>\n",
       "    </tr>\n",
       "  </thead>\n",
       "  <tbody>\n",
       "    <tr>\n",
       "      <th>count</th>\n",
       "      <td>10000.000000</td>\n",
       "      <td>10000.000000</td>\n",
       "    </tr>\n",
       "    <tr>\n",
       "      <th>mean</th>\n",
       "      <td>66.367560</td>\n",
       "      <td>161.440357</td>\n",
       "    </tr>\n",
       "    <tr>\n",
       "      <th>std</th>\n",
       "      <td>3.847528</td>\n",
       "      <td>32.108439</td>\n",
       "    </tr>\n",
       "    <tr>\n",
       "      <th>min</th>\n",
       "      <td>54.263133</td>\n",
       "      <td>64.700127</td>\n",
       "    </tr>\n",
       "    <tr>\n",
       "      <th>25%</th>\n",
       "      <td>63.505620</td>\n",
       "      <td>135.818051</td>\n",
       "    </tr>\n",
       "    <tr>\n",
       "      <th>50%</th>\n",
       "      <td>66.318070</td>\n",
       "      <td>161.212928</td>\n",
       "    </tr>\n",
       "    <tr>\n",
       "      <th>75%</th>\n",
       "      <td>69.174262</td>\n",
       "      <td>187.169525</td>\n",
       "    </tr>\n",
       "    <tr>\n",
       "      <th>max</th>\n",
       "      <td>78.998742</td>\n",
       "      <td>269.989699</td>\n",
       "    </tr>\n",
       "  </tbody>\n",
       "</table>\n",
       "</div>\n",
       "      <button class=\"colab-df-convert\" onclick=\"convertToInteractive('df-53117992-0f17-4b6c-847f-a1d590cb7291')\"\n",
       "              title=\"Convert this dataframe to an interactive table.\"\n",
       "              style=\"display:none;\">\n",
       "        \n",
       "  <svg xmlns=\"http://www.w3.org/2000/svg\" height=\"24px\"viewBox=\"0 0 24 24\"\n",
       "       width=\"24px\">\n",
       "    <path d=\"M0 0h24v24H0V0z\" fill=\"none\"/>\n",
       "    <path d=\"M18.56 5.44l.94 2.06.94-2.06 2.06-.94-2.06-.94-.94-2.06-.94 2.06-2.06.94zm-11 1L8.5 8.5l.94-2.06 2.06-.94-2.06-.94L8.5 2.5l-.94 2.06-2.06.94zm10 10l.94 2.06.94-2.06 2.06-.94-2.06-.94-.94-2.06-.94 2.06-2.06.94z\"/><path d=\"M17.41 7.96l-1.37-1.37c-.4-.4-.92-.59-1.43-.59-.52 0-1.04.2-1.43.59L10.3 9.45l-7.72 7.72c-.78.78-.78 2.05 0 2.83L4 21.41c.39.39.9.59 1.41.59.51 0 1.02-.2 1.41-.59l7.78-7.78 2.81-2.81c.8-.78.8-2.07 0-2.86zM5.41 20L4 18.59l7.72-7.72 1.47 1.35L5.41 20z\"/>\n",
       "  </svg>\n",
       "      </button>\n",
       "      \n",
       "  <style>\n",
       "    .colab-df-container {\n",
       "      display:flex;\n",
       "      flex-wrap:wrap;\n",
       "      gap: 12px;\n",
       "    }\n",
       "\n",
       "    .colab-df-convert {\n",
       "      background-color: #E8F0FE;\n",
       "      border: none;\n",
       "      border-radius: 50%;\n",
       "      cursor: pointer;\n",
       "      display: none;\n",
       "      fill: #1967D2;\n",
       "      height: 32px;\n",
       "      padding: 0 0 0 0;\n",
       "      width: 32px;\n",
       "    }\n",
       "\n",
       "    .colab-df-convert:hover {\n",
       "      background-color: #E2EBFA;\n",
       "      box-shadow: 0px 1px 2px rgba(60, 64, 67, 0.3), 0px 1px 3px 1px rgba(60, 64, 67, 0.15);\n",
       "      fill: #174EA6;\n",
       "    }\n",
       "\n",
       "    [theme=dark] .colab-df-convert {\n",
       "      background-color: #3B4455;\n",
       "      fill: #D2E3FC;\n",
       "    }\n",
       "\n",
       "    [theme=dark] .colab-df-convert:hover {\n",
       "      background-color: #434B5C;\n",
       "      box-shadow: 0px 1px 3px 1px rgba(0, 0, 0, 0.15);\n",
       "      filter: drop-shadow(0px 1px 2px rgba(0, 0, 0, 0.3));\n",
       "      fill: #FFFFFF;\n",
       "    }\n",
       "  </style>\n",
       "\n",
       "      <script>\n",
       "        const buttonEl =\n",
       "          document.querySelector('#df-53117992-0f17-4b6c-847f-a1d590cb7291 button.colab-df-convert');\n",
       "        buttonEl.style.display =\n",
       "          google.colab.kernel.accessAllowed ? 'block' : 'none';\n",
       "\n",
       "        async function convertToInteractive(key) {\n",
       "          const element = document.querySelector('#df-53117992-0f17-4b6c-847f-a1d590cb7291');\n",
       "          const dataTable =\n",
       "            await google.colab.kernel.invokeFunction('convertToInteractive',\n",
       "                                                     [key], {});\n",
       "          if (!dataTable) return;\n",
       "\n",
       "          const docLinkHtml = 'Like what you see? Visit the ' +\n",
       "            '<a target=\"_blank\" href=https://colab.research.google.com/notebooks/data_table.ipynb>data table notebook</a>'\n",
       "            + ' to learn more about interactive tables.';\n",
       "          element.innerHTML = '';\n",
       "          dataTable['output_type'] = 'display_data';\n",
       "          await google.colab.output.renderOutput(dataTable, element);\n",
       "          const docLink = document.createElement('div');\n",
       "          docLink.innerHTML = docLinkHtml;\n",
       "          element.appendChild(docLink);\n",
       "        }\n",
       "      </script>\n",
       "    </div>\n",
       "  </div>\n",
       "  "
      ],
      "text/plain": [
       "             Height        Weight\n",
       "count  10000.000000  10000.000000\n",
       "mean      66.367560    161.440357\n",
       "std        3.847528     32.108439\n",
       "min       54.263133     64.700127\n",
       "25%       63.505620    135.818051\n",
       "50%       66.318070    161.212928\n",
       "75%       69.174262    187.169525\n",
       "max       78.998742    269.989699"
      ]
     },
     "execution_count": 9,
     "metadata": {},
     "output_type": "execute_result"
    }
   ],
   "source": [
    "df.describe()"
   ]
  },
  {
   "cell_type": "code",
   "execution_count": 10,
   "metadata": {
    "colab": {
     "base_uri": "https://localhost:8080/"
    },
    "id": "m_1Q2MdwEnXX",
    "outputId": "9485a705-2be4-4d18-de0d-0cad39f08ca5"
   },
   "outputs": [
    {
     "name": "stdout",
     "output_type": "stream",
     "text": [
      "<class 'pandas.core.frame.DataFrame'>\n",
      "RangeIndex: 10000 entries, 0 to 9999\n",
      "Data columns (total 3 columns):\n",
      " #   Column  Non-Null Count  Dtype  \n",
      "---  ------  --------------  -----  \n",
      " 0   Gender  10000 non-null  object \n",
      " 1   Height  10000 non-null  float64\n",
      " 2   Weight  10000 non-null  float64\n",
      "dtypes: float64(2), object(1)\n",
      "memory usage: 234.5+ KB\n"
     ]
    }
   ],
   "source": [
    "df.info()"
   ]
  },
  {
   "cell_type": "code",
   "execution_count": 12,
   "metadata": {
    "colab": {
     "base_uri": "https://localhost:8080/"
    },
    "id": "HMUwQazqEoRo",
    "outputId": "1647e3d4-819e-4e07-eb02-45f6e41ec190"
   },
   "outputs": [
    {
     "name": "stdout",
     "output_type": "stream",
     "text": [
      "Pakistan\n",
      "ABC\n"
     ]
    }
   ],
   "source": [
    "print(\"Pakistan\")\n",
    "df.head()\n",
    "print(\"ABC\")"
   ]
  },
  {
   "cell_type": "code",
   "execution_count": 13,
   "metadata": {
    "colab": {
     "base_uri": "https://localhost:8080/"
    },
    "id": "JuIcuG66EvUn",
    "outputId": "91068eaa-e6e2-4c06-d170-e828786fc8a1"
   },
   "outputs": [
    {
     "name": "stdout",
     "output_type": "stream",
     "text": [
      "Pakistan\n",
      "  Gender     Height      Weight\n",
      "0   Male  73.847017  241.893563\n",
      "1   Male  68.781904  162.310473\n",
      "2   Male  74.110105  212.740856\n",
      "3   Male  71.730978  220.042470\n",
      "4   Male  69.881796  206.349801\n",
      "ABC\n"
     ]
    }
   ],
   "source": [
    "print(\"Pakistan\")\n",
    "print(df.head())\n",
    "print(\"ABC\")"
   ]
  },
  {
   "cell_type": "code",
   "execution_count": 14,
   "metadata": {
    "colab": {
     "base_uri": "https://localhost:8080/",
     "height": 241
    },
    "id": "XPq4NF1FE3bX",
    "outputId": "bbffa522-a8ae-4156-8921-7f91a13b2a0c"
   },
   "outputs": [
    {
     "name": "stdout",
     "output_type": "stream",
     "text": [
      "Pakistan\n"
     ]
    },
    {
     "data": {
      "text/html": [
       "\n",
       "  <div id=\"df-fec3a23d-8641-498b-be5c-cd4db3248ba2\">\n",
       "    <div class=\"colab-df-container\">\n",
       "      <div>\n",
       "<style scoped>\n",
       "    .dataframe tbody tr th:only-of-type {\n",
       "        vertical-align: middle;\n",
       "    }\n",
       "\n",
       "    .dataframe tbody tr th {\n",
       "        vertical-align: top;\n",
       "    }\n",
       "\n",
       "    .dataframe thead th {\n",
       "        text-align: right;\n",
       "    }\n",
       "</style>\n",
       "<table border=\"1\" class=\"dataframe\">\n",
       "  <thead>\n",
       "    <tr style=\"text-align: right;\">\n",
       "      <th></th>\n",
       "      <th>Gender</th>\n",
       "      <th>Height</th>\n",
       "      <th>Weight</th>\n",
       "    </tr>\n",
       "  </thead>\n",
       "  <tbody>\n",
       "    <tr>\n",
       "      <th>0</th>\n",
       "      <td>Male</td>\n",
       "      <td>73.847017</td>\n",
       "      <td>241.893563</td>\n",
       "    </tr>\n",
       "    <tr>\n",
       "      <th>1</th>\n",
       "      <td>Male</td>\n",
       "      <td>68.781904</td>\n",
       "      <td>162.310473</td>\n",
       "    </tr>\n",
       "    <tr>\n",
       "      <th>2</th>\n",
       "      <td>Male</td>\n",
       "      <td>74.110105</td>\n",
       "      <td>212.740856</td>\n",
       "    </tr>\n",
       "    <tr>\n",
       "      <th>3</th>\n",
       "      <td>Male</td>\n",
       "      <td>71.730978</td>\n",
       "      <td>220.042470</td>\n",
       "    </tr>\n",
       "    <tr>\n",
       "      <th>4</th>\n",
       "      <td>Male</td>\n",
       "      <td>69.881796</td>\n",
       "      <td>206.349801</td>\n",
       "    </tr>\n",
       "  </tbody>\n",
       "</table>\n",
       "</div>\n",
       "      <button class=\"colab-df-convert\" onclick=\"convertToInteractive('df-fec3a23d-8641-498b-be5c-cd4db3248ba2')\"\n",
       "              title=\"Convert this dataframe to an interactive table.\"\n",
       "              style=\"display:none;\">\n",
       "        \n",
       "  <svg xmlns=\"http://www.w3.org/2000/svg\" height=\"24px\"viewBox=\"0 0 24 24\"\n",
       "       width=\"24px\">\n",
       "    <path d=\"M0 0h24v24H0V0z\" fill=\"none\"/>\n",
       "    <path d=\"M18.56 5.44l.94 2.06.94-2.06 2.06-.94-2.06-.94-.94-2.06-.94 2.06-2.06.94zm-11 1L8.5 8.5l.94-2.06 2.06-.94-2.06-.94L8.5 2.5l-.94 2.06-2.06.94zm10 10l.94 2.06.94-2.06 2.06-.94-2.06-.94-.94-2.06-.94 2.06-2.06.94z\"/><path d=\"M17.41 7.96l-1.37-1.37c-.4-.4-.92-.59-1.43-.59-.52 0-1.04.2-1.43.59L10.3 9.45l-7.72 7.72c-.78.78-.78 2.05 0 2.83L4 21.41c.39.39.9.59 1.41.59.51 0 1.02-.2 1.41-.59l7.78-7.78 2.81-2.81c.8-.78.8-2.07 0-2.86zM5.41 20L4 18.59l7.72-7.72 1.47 1.35L5.41 20z\"/>\n",
       "  </svg>\n",
       "      </button>\n",
       "      \n",
       "  <style>\n",
       "    .colab-df-container {\n",
       "      display:flex;\n",
       "      flex-wrap:wrap;\n",
       "      gap: 12px;\n",
       "    }\n",
       "\n",
       "    .colab-df-convert {\n",
       "      background-color: #E8F0FE;\n",
       "      border: none;\n",
       "      border-radius: 50%;\n",
       "      cursor: pointer;\n",
       "      display: none;\n",
       "      fill: #1967D2;\n",
       "      height: 32px;\n",
       "      padding: 0 0 0 0;\n",
       "      width: 32px;\n",
       "    }\n",
       "\n",
       "    .colab-df-convert:hover {\n",
       "      background-color: #E2EBFA;\n",
       "      box-shadow: 0px 1px 2px rgba(60, 64, 67, 0.3), 0px 1px 3px 1px rgba(60, 64, 67, 0.15);\n",
       "      fill: #174EA6;\n",
       "    }\n",
       "\n",
       "    [theme=dark] .colab-df-convert {\n",
       "      background-color: #3B4455;\n",
       "      fill: #D2E3FC;\n",
       "    }\n",
       "\n",
       "    [theme=dark] .colab-df-convert:hover {\n",
       "      background-color: #434B5C;\n",
       "      box-shadow: 0px 1px 3px 1px rgba(0, 0, 0, 0.15);\n",
       "      filter: drop-shadow(0px 1px 2px rgba(0, 0, 0, 0.3));\n",
       "      fill: #FFFFFF;\n",
       "    }\n",
       "  </style>\n",
       "\n",
       "      <script>\n",
       "        const buttonEl =\n",
       "          document.querySelector('#df-fec3a23d-8641-498b-be5c-cd4db3248ba2 button.colab-df-convert');\n",
       "        buttonEl.style.display =\n",
       "          google.colab.kernel.accessAllowed ? 'block' : 'none';\n",
       "\n",
       "        async function convertToInteractive(key) {\n",
       "          const element = document.querySelector('#df-fec3a23d-8641-498b-be5c-cd4db3248ba2');\n",
       "          const dataTable =\n",
       "            await google.colab.kernel.invokeFunction('convertToInteractive',\n",
       "                                                     [key], {});\n",
       "          if (!dataTable) return;\n",
       "\n",
       "          const docLinkHtml = 'Like what you see? Visit the ' +\n",
       "            '<a target=\"_blank\" href=https://colab.research.google.com/notebooks/data_table.ipynb>data table notebook</a>'\n",
       "            + ' to learn more about interactive tables.';\n",
       "          element.innerHTML = '';\n",
       "          dataTable['output_type'] = 'display_data';\n",
       "          await google.colab.output.renderOutput(dataTable, element);\n",
       "          const docLink = document.createElement('div');\n",
       "          docLink.innerHTML = docLinkHtml;\n",
       "          element.appendChild(docLink);\n",
       "        }\n",
       "      </script>\n",
       "    </div>\n",
       "  </div>\n",
       "  "
      ],
      "text/plain": [
       "  Gender     Height      Weight\n",
       "0   Male  73.847017  241.893563\n",
       "1   Male  68.781904  162.310473\n",
       "2   Male  74.110105  212.740856\n",
       "3   Male  71.730978  220.042470\n",
       "4   Male  69.881796  206.349801"
      ]
     },
     "metadata": {},
     "output_type": "display_data"
    },
    {
     "name": "stdout",
     "output_type": "stream",
     "text": [
      "ABC\n"
     ]
    }
   ],
   "source": [
    "print(\"Pakistan\")\n",
    "display(df.head())\n",
    "print(\"ABC\")"
   ]
  },
  {
   "cell_type": "code",
   "execution_count": 15,
   "metadata": {
    "colab": {
     "base_uri": "https://localhost:8080/"
    },
    "id": "wc_pQjTUE633",
    "outputId": "6b674235-e816-4ad0-a0e4-ddb26506c9de"
   },
   "outputs": [
    {
     "data": {
      "text/plain": [
       "array([73.84701702, 68.78190405, 74.11010539, ..., 63.86799221,\n",
       "       69.03424313, 61.94424588])"
      ]
     },
     "execution_count": 15,
     "metadata": {},
     "output_type": "execute_result"
    }
   ],
   "source": [
    "X = df.Height.values\n",
    "X"
   ]
  },
  {
   "cell_type": "code",
   "execution_count": 16,
   "metadata": {
    "colab": {
     "base_uri": "https://localhost:8080/"
    },
    "id": "JtYQVfOzFQYK",
    "outputId": "8423f959-19e5-43e4-e1f0-1fe4e6a70d30"
   },
   "outputs": [
    {
     "data": {
      "text/plain": [
       "73.847017017515"
      ]
     },
     "execution_count": 16,
     "metadata": {},
     "output_type": "execute_result"
    }
   ],
   "source": [
    "X[0]"
   ]
  },
  {
   "cell_type": "code",
   "execution_count": 17,
   "metadata": {
    "colab": {
     "base_uri": "https://localhost:8080/"
    },
    "id": "dP4zAg5OFJzI",
    "outputId": "29d14c0c-f924-43f9-f139-e5d5dd81a716"
   },
   "outputs": [
    {
     "data": {
      "text/plain": [
       "array([[73.84701702],\n",
       "       [68.78190405],\n",
       "       [74.11010539],\n",
       "       ...,\n",
       "       [63.86799221],\n",
       "       [69.03424313],\n",
       "       [61.94424588]])"
      ]
     },
     "execution_count": 17,
     "metadata": {},
     "output_type": "execute_result"
    }
   ],
   "source": [
    "X = df[['Height']].values\n",
    "X"
   ]
  },
  {
   "cell_type": "code",
   "execution_count": 18,
   "metadata": {
    "colab": {
     "base_uri": "https://localhost:8080/"
    },
    "id": "4uYkxQXFFZ8Y",
    "outputId": "60bd3b86-8b37-4d04-8cb8-5108e5719e4b"
   },
   "outputs": [
    {
     "data": {
      "text/plain": [
       "array([73.84701702])"
      ]
     },
     "execution_count": 18,
     "metadata": {},
     "output_type": "execute_result"
    }
   ],
   "source": [
    "X[0]"
   ]
  },
  {
   "cell_type": "code",
   "execution_count": 19,
   "metadata": {
    "colab": {
     "base_uri": "https://localhost:8080/"
    },
    "id": "n4-ya0XoFbpn",
    "outputId": "a731babc-fc39-402e-d596-3db216f35582"
   },
   "outputs": [
    {
     "data": {
      "text/plain": [
       "array([[241.89356318],\n",
       "       [162.31047252],\n",
       "       [212.74085556],\n",
       "       ...,\n",
       "       [128.47531878],\n",
       "       [163.85246135],\n",
       "       [113.64910268]])"
      ]
     },
     "execution_count": 19,
     "metadata": {},
     "output_type": "execute_result"
    }
   ],
   "source": [
    "y_true = df[[\"Weight\"]].values\n",
    "y_true"
   ]
  },
  {
   "cell_type": "code",
   "execution_count": 21,
   "metadata": {
    "colab": {
     "base_uri": "https://localhost:8080/"
    },
    "id": "w4I9y7E3FpHn",
    "outputId": "aacdda07-8219-4b91-9504-f156a3c53ae8"
   },
   "outputs": [
    {
     "name": "stdout",
     "output_type": "stream",
     "text": [
      "(10000, 1)\n",
      "(10000, 1)\n"
     ]
    }
   ],
   "source": [
    "print(X.shape)\n",
    "print(y_true.shape)"
   ]
  },
  {
   "cell_type": "code",
   "execution_count": 22,
   "metadata": {
    "colab": {
     "base_uri": "https://localhost:8080/"
    },
    "id": "BMbu22ZcFuN3",
    "outputId": "2fad805f-8187-4d6b-8942-380b16206931"
   },
   "outputs": [
    {
     "data": {
      "text/plain": [
       "(1,)"
      ]
     },
     "execution_count": 22,
     "metadata": {},
     "output_type": "execute_result"
    }
   ],
   "source": [
    "X[0].shape"
   ]
  },
  {
   "cell_type": "code",
   "execution_count": 25,
   "metadata": {
    "colab": {
     "base_uri": "https://localhost:8080/",
     "height": 191
    },
    "id": "oG60OZAvF7cH",
    "outputId": "6708a72d-8152-471c-f7e4-e26bb894b12b"
   },
   "outputs": [
    {
     "data": {
      "text/plain": [
       "array(27)"
      ]
     },
     "metadata": {},
     "output_type": "display_data"
    },
    {
     "data": {
      "text/plain": [
       "array([1, 2, 3, 4])"
      ]
     },
     "metadata": {},
     "output_type": "display_data"
    },
    {
     "data": {
      "text/plain": [
       "array([[1, 2, 3],\n",
       "       [4, 5, 6]])"
      ]
     },
     "metadata": {},
     "output_type": "display_data"
    },
    {
     "data": {
      "text/plain": [
       "0"
      ]
     },
     "metadata": {},
     "output_type": "display_data"
    },
    {
     "data": {
      "text/plain": [
       "1"
      ]
     },
     "metadata": {},
     "output_type": "display_data"
    },
    {
     "data": {
      "text/plain": [
       "2"
      ]
     },
     "metadata": {},
     "output_type": "display_data"
    },
    {
     "data": {
      "text/plain": [
       "()"
      ]
     },
     "metadata": {},
     "output_type": "display_data"
    },
    {
     "data": {
      "text/plain": [
       "(4,)"
      ]
     },
     "metadata": {},
     "output_type": "display_data"
    },
    {
     "data": {
      "text/plain": [
       "(2, 3)"
      ]
     },
     "metadata": {},
     "output_type": "display_data"
    }
   ],
   "source": [
    "display(np.array(27))\n",
    "display(np.array([1,2,3,4]))\n",
    "display(np.array([[1,2,3],[4,5,6]]))\n",
    "\n",
    "display(np.array(27).ndim)\n",
    "display(np.array([1,2,3,4]).ndim)\n",
    "display(np.array([[1,2,3],[4,5,6]]).ndim)\n",
    "\n",
    "\n",
    "display(np.array(27).shape)\n",
    "display(np.array([1,2,3,4]).shape)\n",
    "display(np.array([[1,2,3],[4,5,6]]).shape)"
   ]
  },
  {
   "cell_type": "markdown",
   "metadata": {
    "id": "HKW9j9iyHAQq"
   },
   "source": [
    "# Create Nural Network "
   ]
  },
  {
   "cell_type": "code",
   "execution_count": 27,
   "metadata": {
    "colab": {
     "base_uri": "https://localhost:8080/",
     "height": 52
    },
    "id": "l5ROf0uqGL0a",
    "outputId": "7b8cf421-b4ed-4885-a660-b85845f976c2"
   },
   "outputs": [
    {
     "name": "stdout",
     "output_type": "stream",
     "text": [
      "[73.84701702]\n"
     ]
    },
    {
     "data": {
      "text/plain": [
       "(1,)"
      ]
     },
     "metadata": {},
     "output_type": "display_data"
    }
   ],
   "source": [
    "print(X[0])\n",
    "display(X[0].shape)"
   ]
  },
  {
   "cell_type": "code",
   "execution_count": 28,
   "metadata": {
    "colab": {
     "base_uri": "https://localhost:8080/",
     "height": 81
    },
    "id": "_09Yt7aiGU43",
    "outputId": "e74f170c-4f93-4300-eeb5-ad9a2c2add27"
   },
   "outputs": [
    {
     "data": {
      "text/html": [
       "\n",
       "  <div id=\"df-ffa54818-8817-471c-bc8b-5f0b23e14259\">\n",
       "    <div class=\"colab-df-container\">\n",
       "      <div>\n",
       "<style scoped>\n",
       "    .dataframe tbody tr th:only-of-type {\n",
       "        vertical-align: middle;\n",
       "    }\n",
       "\n",
       "    .dataframe tbody tr th {\n",
       "        vertical-align: top;\n",
       "    }\n",
       "\n",
       "    .dataframe thead th {\n",
       "        text-align: right;\n",
       "    }\n",
       "</style>\n",
       "<table border=\"1\" class=\"dataframe\">\n",
       "  <thead>\n",
       "    <tr style=\"text-align: right;\">\n",
       "      <th></th>\n",
       "      <th>Gender</th>\n",
       "      <th>Height</th>\n",
       "      <th>Weight</th>\n",
       "    </tr>\n",
       "  </thead>\n",
       "  <tbody>\n",
       "    <tr>\n",
       "      <th>0</th>\n",
       "      <td>Male</td>\n",
       "      <td>73.847017</td>\n",
       "      <td>241.893563</td>\n",
       "    </tr>\n",
       "  </tbody>\n",
       "</table>\n",
       "</div>\n",
       "      <button class=\"colab-df-convert\" onclick=\"convertToInteractive('df-ffa54818-8817-471c-bc8b-5f0b23e14259')\"\n",
       "              title=\"Convert this dataframe to an interactive table.\"\n",
       "              style=\"display:none;\">\n",
       "        \n",
       "  <svg xmlns=\"http://www.w3.org/2000/svg\" height=\"24px\"viewBox=\"0 0 24 24\"\n",
       "       width=\"24px\">\n",
       "    <path d=\"M0 0h24v24H0V0z\" fill=\"none\"/>\n",
       "    <path d=\"M18.56 5.44l.94 2.06.94-2.06 2.06-.94-2.06-.94-.94-2.06-.94 2.06-2.06.94zm-11 1L8.5 8.5l.94-2.06 2.06-.94-2.06-.94L8.5 2.5l-.94 2.06-2.06.94zm10 10l.94 2.06.94-2.06 2.06-.94-2.06-.94-.94-2.06-.94 2.06-2.06.94z\"/><path d=\"M17.41 7.96l-1.37-1.37c-.4-.4-.92-.59-1.43-.59-.52 0-1.04.2-1.43.59L10.3 9.45l-7.72 7.72c-.78.78-.78 2.05 0 2.83L4 21.41c.39.39.9.59 1.41.59.51 0 1.02-.2 1.41-.59l7.78-7.78 2.81-2.81c.8-.78.8-2.07 0-2.86zM5.41 20L4 18.59l7.72-7.72 1.47 1.35L5.41 20z\"/>\n",
       "  </svg>\n",
       "      </button>\n",
       "      \n",
       "  <style>\n",
       "    .colab-df-container {\n",
       "      display:flex;\n",
       "      flex-wrap:wrap;\n",
       "      gap: 12px;\n",
       "    }\n",
       "\n",
       "    .colab-df-convert {\n",
       "      background-color: #E8F0FE;\n",
       "      border: none;\n",
       "      border-radius: 50%;\n",
       "      cursor: pointer;\n",
       "      display: none;\n",
       "      fill: #1967D2;\n",
       "      height: 32px;\n",
       "      padding: 0 0 0 0;\n",
       "      width: 32px;\n",
       "    }\n",
       "\n",
       "    .colab-df-convert:hover {\n",
       "      background-color: #E2EBFA;\n",
       "      box-shadow: 0px 1px 2px rgba(60, 64, 67, 0.3), 0px 1px 3px 1px rgba(60, 64, 67, 0.15);\n",
       "      fill: #174EA6;\n",
       "    }\n",
       "\n",
       "    [theme=dark] .colab-df-convert {\n",
       "      background-color: #3B4455;\n",
       "      fill: #D2E3FC;\n",
       "    }\n",
       "\n",
       "    [theme=dark] .colab-df-convert:hover {\n",
       "      background-color: #434B5C;\n",
       "      box-shadow: 0px 1px 3px 1px rgba(0, 0, 0, 0.15);\n",
       "      filter: drop-shadow(0px 1px 2px rgba(0, 0, 0, 0.3));\n",
       "      fill: #FFFFFF;\n",
       "    }\n",
       "  </style>\n",
       "\n",
       "      <script>\n",
       "        const buttonEl =\n",
       "          document.querySelector('#df-ffa54818-8817-471c-bc8b-5f0b23e14259 button.colab-df-convert');\n",
       "        buttonEl.style.display =\n",
       "          google.colab.kernel.accessAllowed ? 'block' : 'none';\n",
       "\n",
       "        async function convertToInteractive(key) {\n",
       "          const element = document.querySelector('#df-ffa54818-8817-471c-bc8b-5f0b23e14259');\n",
       "          const dataTable =\n",
       "            await google.colab.kernel.invokeFunction('convertToInteractive',\n",
       "                                                     [key], {});\n",
       "          if (!dataTable) return;\n",
       "\n",
       "          const docLinkHtml = 'Like what you see? Visit the ' +\n",
       "            '<a target=\"_blank\" href=https://colab.research.google.com/notebooks/data_table.ipynb>data table notebook</a>'\n",
       "            + ' to learn more about interactive tables.';\n",
       "          element.innerHTML = '';\n",
       "          dataTable['output_type'] = 'display_data';\n",
       "          await google.colab.output.renderOutput(dataTable, element);\n",
       "          const docLink = document.createElement('div');\n",
       "          docLink.innerHTML = docLinkHtml;\n",
       "          element.appendChild(docLink);\n",
       "        }\n",
       "      </script>\n",
       "    </div>\n",
       "  </div>\n",
       "  "
      ],
      "text/plain": [
       "  Gender     Height      Weight\n",
       "0   Male  73.847017  241.893563"
      ]
     },
     "execution_count": 28,
     "metadata": {},
     "output_type": "execute_result"
    }
   ],
   "source": [
    "df.head(1)"
   ]
  },
  {
   "cell_type": "code",
   "execution_count": 34,
   "metadata": {
    "colab": {
     "base_uri": "https://localhost:8080/"
    },
    "id": "3sPxR7D0HcFo",
    "outputId": "fa485605-9bee-43f8-d1af-cbc2e0b10474"
   },
   "outputs": [
    {
     "data": {
      "text/plain": [
       "(2,)"
      ]
     },
     "execution_count": 34,
     "metadata": {},
     "output_type": "execute_result"
    }
   ],
   "source": [
    "df[[\"Gender\",\"Height\"]].values[0].shape"
   ]
  },
  {
   "cell_type": "code",
   "execution_count": 36,
   "metadata": {
    "id": "evhKODRAHkeH"
   },
   "outputs": [],
   "source": [
    "model = Sequential()\n",
    "model.add(Dense(1, input_shape=(1,)))"
   ]
  },
  {
   "cell_type": "markdown",
   "metadata": {
    "id": "2B6Fs-P0KVJT"
   },
   "source": [
    "## Model Summary"
   ]
  },
  {
   "cell_type": "code",
   "execution_count": 37,
   "metadata": {
    "colab": {
     "base_uri": "https://localhost:8080/"
    },
    "id": "KvnuYdX8KW9X",
    "outputId": "f98acb74-c86a-49e2-ea5e-082b131da5d4"
   },
   "outputs": [
    {
     "name": "stdout",
     "output_type": "stream",
     "text": [
      "Model: \"sequential_1\"\n",
      "_________________________________________________________________\n",
      " Layer (type)                Output Shape              Param #   \n",
      "=================================================================\n",
      " dense (Dense)               (None, 1)                 2         \n",
      "                                                                 \n",
      "=================================================================\n",
      "Total params: 2\n",
      "Trainable params: 2\n",
      "Non-trainable params: 0\n",
      "_________________________________________________________________\n"
     ]
    }
   ],
   "source": [
    "model.summary()"
   ]
  },
  {
   "cell_type": "markdown",
   "metadata": {
    "id": "pkV7kVoOKmT5"
   },
   "source": [
    "# Compilation Steps"
   ]
  },
  {
   "cell_type": "code",
   "execution_count": 38,
   "metadata": {
    "colab": {
     "base_uri": "https://localhost:8080/"
    },
    "id": "v361VEReKvMH",
    "outputId": "a5e43577-764e-4bf3-b6a3-fd4fa68ed2cd"
   },
   "outputs": [
    {
     "name": "stderr",
     "output_type": "stream",
     "text": [
      "/usr/local/lib/python3.8/dist-packages/keras/optimizers/optimizer_v2/adam.py:110: UserWarning: The `lr` argument is deprecated, use `learning_rate` instead.\n",
      "  super(Adam, self).__init__(name, **kwargs)\n"
     ]
    }
   ],
   "source": [
    "model.compile(Adam(lr=0.8), 'mean_squared_error')"
   ]
  },
  {
   "cell_type": "markdown",
   "metadata": {
    "id": "JhfyNrfIM9hI"
   },
   "source": [
    "#Split data train and test portion"
   ]
  },
  {
   "cell_type": "code",
   "execution_count": 41,
   "metadata": {
    "id": "tQQ_FulFM5rw"
   },
   "outputs": [],
   "source": [
    "X_train = X[:8000]\n",
    "y_train = y_true[:8000]\n",
    "\n",
    "X_test = X[8000:]\n",
    "y_test = y_true[8000:]"
   ]
  },
  {
   "cell_type": "code",
   "execution_count": 43,
   "metadata": {
    "colab": {
     "base_uri": "https://localhost:8080/"
    },
    "id": "S0VWiqJKODII",
    "outputId": "d52ec3e2-d40b-4972-86c9-78e0ad02ec48"
   },
   "outputs": [
    {
     "name": "stdout",
     "output_type": "stream",
     "text": [
      "8000\n",
      "2000\n"
     ]
    }
   ],
   "source": [
    "print(len(X_train))\n",
    "print(len(X_test))"
   ]
  },
  {
   "cell_type": "markdown",
   "metadata": {
    "id": "pMxD_kRNLf7y"
   },
   "source": [
    "# Now Starting Training"
   ]
  },
  {
   "cell_type": "code",
   "execution_count": 44,
   "metadata": {
    "colab": {
     "base_uri": "https://localhost:8080/"
    },
    "id": "GcnvlcmQJikX",
    "outputId": "ac98e2b2-7802-4683-fcfc-94092378afe5"
   },
   "outputs": [
    {
     "name": "stdout",
     "output_type": "stream",
     "text": [
      "Epoch 1/40\n",
      "63/63 [==============================] - 0s 1ms/step - loss: 204.6919\n",
      "Epoch 2/40\n",
      "63/63 [==============================] - 0s 1ms/step - loss: 184.8059\n",
      "Epoch 3/40\n",
      "63/63 [==============================] - 0s 1ms/step - loss: 184.8963\n",
      "Epoch 4/40\n",
      "63/63 [==============================] - 0s 1ms/step - loss: 180.2548\n",
      "Epoch 5/40\n",
      "63/63 [==============================] - 0s 1ms/step - loss: 183.5761\n",
      "Epoch 6/40\n",
      "63/63 [==============================] - 0s 1ms/step - loss: 180.5434\n",
      "Epoch 7/40\n",
      "63/63 [==============================] - 0s 1ms/step - loss: 179.0417\n",
      "Epoch 8/40\n",
      "63/63 [==============================] - 0s 1ms/step - loss: 181.4002\n",
      "Epoch 9/40\n",
      "63/63 [==============================] - 0s 1ms/step - loss: 171.7375\n",
      "Epoch 10/40\n",
      "63/63 [==============================] - 0s 1ms/step - loss: 182.0280\n",
      "Epoch 11/40\n",
      "63/63 [==============================] - 0s 1ms/step - loss: 179.0160\n",
      "Epoch 12/40\n",
      "63/63 [==============================] - 0s 1ms/step - loss: 168.0712\n",
      "Epoch 13/40\n",
      "63/63 [==============================] - 0s 1ms/step - loss: 168.2874\n",
      "Epoch 14/40\n",
      "63/63 [==============================] - 0s 1ms/step - loss: 161.9178\n",
      "Epoch 15/40\n",
      "63/63 [==============================] - 0s 1ms/step - loss: 176.5816\n",
      "Epoch 16/40\n",
      "63/63 [==============================] - 0s 1ms/step - loss: 163.0101\n",
      "Epoch 17/40\n",
      "63/63 [==============================] - 0s 1ms/step - loss: 171.2686\n",
      "Epoch 18/40\n",
      "63/63 [==============================] - 0s 1ms/step - loss: 165.5420\n",
      "Epoch 19/40\n",
      "63/63 [==============================] - 0s 1ms/step - loss: 162.6536\n",
      "Epoch 20/40\n",
      "63/63 [==============================] - 0s 1ms/step - loss: 162.9012\n",
      "Epoch 21/40\n",
      "63/63 [==============================] - 0s 1ms/step - loss: 160.1216\n",
      "Epoch 22/40\n",
      "63/63 [==============================] - 0s 1ms/step - loss: 165.1046\n",
      "Epoch 23/40\n",
      "63/63 [==============================] - 0s 1ms/step - loss: 164.0479\n",
      "Epoch 24/40\n",
      "63/63 [==============================] - 0s 1ms/step - loss: 167.6804\n",
      "Epoch 25/40\n",
      "63/63 [==============================] - 0s 1ms/step - loss: 181.2371\n",
      "Epoch 26/40\n",
      "63/63 [==============================] - 0s 1ms/step - loss: 163.5130\n",
      "Epoch 27/40\n",
      "63/63 [==============================] - 0s 1ms/step - loss: 169.2302\n",
      "Epoch 28/40\n",
      "63/63 [==============================] - 0s 1ms/step - loss: 159.8477\n",
      "Epoch 29/40\n",
      "63/63 [==============================] - 0s 2ms/step - loss: 169.2951\n",
      "Epoch 30/40\n",
      "63/63 [==============================] - 0s 1ms/step - loss: 178.9873\n",
      "Epoch 31/40\n",
      "63/63 [==============================] - 0s 1ms/step - loss: 165.9028\n",
      "Epoch 32/40\n",
      "63/63 [==============================] - 0s 1ms/step - loss: 163.3604\n",
      "Epoch 33/40\n",
      "63/63 [==============================] - 0s 1ms/step - loss: 162.8842\n",
      "Epoch 34/40\n",
      "63/63 [==============================] - 0s 1ms/step - loss: 159.9256\n",
      "Epoch 35/40\n",
      "63/63 [==============================] - 0s 1ms/step - loss: 163.5163\n",
      "Epoch 36/40\n",
      "63/63 [==============================] - 0s 1ms/step - loss: 156.8014\n",
      "Epoch 37/40\n",
      "63/63 [==============================] - 0s 1ms/step - loss: 160.8438\n",
      "Epoch 38/40\n",
      "63/63 [==============================] - 0s 1ms/step - loss: 159.3788\n",
      "Epoch 39/40\n",
      "63/63 [==============================] - 0s 1ms/step - loss: 160.3996\n",
      "Epoch 40/40\n",
      "63/63 [==============================] - 0s 1ms/step - loss: 179.4728\n"
     ]
    },
    {
     "data": {
      "text/plain": [
       "<keras.callbacks.History at 0x7fa032ee1310>"
      ]
     },
     "execution_count": 44,
     "metadata": {},
     "output_type": "execute_result"
    }
   ],
   "source": [
    "model.fit(X_train, y_train, batch_size=128, epochs=40)"
   ]
  },
  {
   "cell_type": "markdown",
   "metadata": {
    "id": "DWTu9hdUOhIi"
   },
   "source": [
    "# Test on unseen_data"
   ]
  },
  {
   "cell_type": "code",
   "execution_count": 45,
   "metadata": {
    "colab": {
     "base_uri": "https://localhost:8080/"
    },
    "id": "YXbN7pDDMwnJ",
    "outputId": "f6e34faf-9504-472b-e88d-0cd77323b666"
   },
   "outputs": [
    {
     "name": "stdout",
     "output_type": "stream",
     "text": [
      "63/63 [==============================] - 0s 1ms/step - loss: 111.1129\n"
     ]
    },
    {
     "data": {
      "text/plain": [
       "111.11285400390625"
      ]
     },
     "execution_count": 45,
     "metadata": {},
     "output_type": "execute_result"
    }
   ],
   "source": [
    "model.evaluate(X_test,y_test)"
   ]
  },
  {
   "cell_type": "markdown",
   "metadata": {
    "id": "1-OBMd4tO2rh"
   },
   "source": [
    "# Prediction with model"
   ]
  },
  {
   "cell_type": "code",
   "execution_count": 49,
   "metadata": {
    "colab": {
     "base_uri": "https://localhost:8080/"
    },
    "id": "TA1iqy8rO1RI",
    "outputId": "f180df0b-bf3c-41dc-92b3-a01017c6162b"
   },
   "outputs": [
    {
     "name": "stdout",
     "output_type": "stream",
     "text": [
      "313/313 [==============================] - 0s 1ms/step\n"
     ]
    },
    {
     "data": {
      "text/plain": [
       "array([[210.4396 ],\n",
       "       [173.56818],\n",
       "       [212.35477],\n",
       "       ...,\n",
       "       [137.79736],\n",
       "       [175.40503],\n",
       "       [123.79343]], dtype=float32)"
      ]
     },
     "execution_count": 49,
     "metadata": {},
     "output_type": "execute_result"
    }
   ],
   "source": [
    "y_pred = model.predict(X)\n",
    "y_pred"
   ]
  },
  {
   "cell_type": "code",
   "execution_count": 47,
   "metadata": {
    "colab": {
     "base_uri": "https://localhost:8080/"
    },
    "id": "Uv8Fp-OJMhFP",
    "outputId": "d709c50e-8e11-4e15-eefa-af1a1b324126"
   },
   "outputs": [
    {
     "data": {
      "text/plain": [
       "array([[118.51301293],\n",
       "       [122.56183473],\n",
       "       [106.78231003],\n",
       "       ...,\n",
       "       [128.47531878],\n",
       "       [163.85246135],\n",
       "       [113.64910268]])"
      ]
     },
     "execution_count": 47,
     "metadata": {},
     "output_type": "execute_result"
    }
   ],
   "source": [
    "y_test"
   ]
  },
  {
   "cell_type": "code",
   "execution_count": 50,
   "metadata": {
    "colab": {
     "base_uri": "https://localhost:8080/",
     "height": 312
    },
    "id": "z8Bl-MRXPGN3",
    "outputId": "aefd661a-ca38-4f7f-d8ee-69a4184808cb"
   },
   "outputs": [
    {
     "data": {
      "text/plain": [
       "[<matplotlib.lines.Line2D at 0x7fa031d76610>]"
      ]
     },
     "execution_count": 50,
     "metadata": {},
     "output_type": "execute_result"
    },
    {
     "data": {
      "image/png": "[encoded data removed]",
      "text/plain": [
       "<Figure size 432x288 with 1 Axes>"
      ]
     },
     "metadata": {
      "needs_background": "light"
     },
     "output_type": "display_data"
    }
   ],
   "source": [
    "df.plot(kind='scatter',\n",
    "        x=\"Height\",\n",
    "        y=\"Weight\",\n",
    "        title=\"Weight and Height\")\n",
    "plt.plot(X,y_pred, color='red', linewidth=2)"
   ]
  },
  {
   "cell_type": "code",
   "execution_count": 51,
   "metadata": {
    "id": "Tga6956KPcEH"
   },
   "outputs": [],
   "source": [
    "w, b = model.get_weights()"
   ]
  },
  {
   "cell_type": "code",
   "execution_count": 52,
   "metadata": {
    "colab": {
     "base_uri": "https://localhost:8080/"
    },
    "id": "bD_eft55Px2W",
    "outputId": "65aee434-fc43-470a-9f09-601083f14722"
   },
   "outputs": [
    {
     "name": "stdout",
     "output_type": "stream",
     "text": [
      "[[7.2794957]]\n",
      "[-327.12943]\n"
     ]
    }
   ],
   "source": [
    "print(w)\n",
    "print(b)"
   ]
  },
  {
   "cell_type": "code",
   "execution_count": 54,
   "metadata": {
    "colab": {
     "base_uri": "https://localhost:8080/"
    },
    "id": "pKtWFonUPzmH",
    "outputId": "8e0da12d-0f3d-4164-81cc-5d4f4843dfdb"
   },
   "outputs": [
    {
     "name": "stdout",
     "output_type": "stream",
     "text": [
      "1/1 [==============================] - 0s 38ms/step\n"
     ]
    },
    {
     "data": {
      "text/plain": [
       "array([[1419.9496]], dtype=float32)"
      ]
     },
     "execution_count": 54,
     "metadata": {},
     "output_type": "execute_result"
    }
   ],
   "source": [
    "model.predict([240])"
   ]
  },
  {
   "cell_type": "code",
   "execution_count": 60,
   "metadata": {
    "colab": {
     "base_uri": "https://localhost:8080/",
     "height": 330
    },
    "id": "9GIhVVrDP9UX",
    "outputId": "f4dd3de9-e5a8-49f7-a7ad-ef740be925e2"
   },
   "outputs": [
    {
     "name": "stdout",
     "output_type": "stream",
     "text": [
      "1/1 [==============================] - 0s 30ms/step\n"
     ]
    },
    {
     "data": {
      "text/plain": [
       "<matplotlib.collections.PathCollection at 0x7fa03581f160>"
      ]
     },
     "execution_count": 60,
     "metadata": {},
     "output_type": "execute_result"
    },
    {
     "data": {
      "image/png": "[encoded data removed]",
      "text/plain": [
       "<Figure size 432x288 with 1 Axes>"
      ]
     },
     "metadata": {
      "needs_background": "light"
     },
     "output_type": "display_data"
    }
   ],
   "source": [
    "run_height = 70\n",
    "df.plot(kind='scatter',\n",
    "        x=\"Height\",\n",
    "        y=\"Weight\",\n",
    "        title=\"Weight and Height\")\n",
    "plt.plot(X,y_pred, color='red', linewidth=2)\n",
    "\n",
    "plt.scatter(x=run_height,\n",
    "            y=model.predict([run_height]),\n",
    "            color='orange')"
   ]
  },
  {
   "cell_type": "code",
   "execution_count": null,
   "metadata": {
    "id": "sykJ92rIQfZX"
   },
   "outputs": [],
   "source": []
  }
 ],
 "metadata": {
  "colab": {
   "provenance": []
  },
  "kernelspec": {
   "display_name": "Python 3 (ipykernel)",
   "language": "python",
   "name": "python3"
  },
  "language_info": {
   "codemirror_mode": {
    "name": "ipython",
    "version": 3
   },
   "file_extension": ".py",
   "mimetype": "text/x-python",
   "name": "python",
   "nbconvert_exporter": "python",
   "pygments_lexer": "ipython3",
   "version": "3.9.13"
  }
 },
 "nbformat": 4,
 "nbformat_minor": 1
}
