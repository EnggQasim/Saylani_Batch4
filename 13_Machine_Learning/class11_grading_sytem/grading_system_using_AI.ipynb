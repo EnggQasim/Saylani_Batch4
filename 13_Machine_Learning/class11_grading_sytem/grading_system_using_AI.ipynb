{
 "cells": [
  {
   "cell_type": "code",
   "execution_count": 1,
   "id": "a43ec328",
   "metadata": {},
   "outputs": [],
   "source": [
    "import numpy as np\n",
    "import pandas as pd"
   ]
  },
  {
   "cell_type": "code",
   "execution_count": 2,
   "id": "1edd91e7",
   "metadata": {},
   "outputs": [
    {
     "name": "stdout",
     "output_type": "stream",
     "text": [
      "1040000\n",
      "203738\n"
     ]
    },
    {
     "data": {
      "text/html": [
       "<div>\n",
       "<style scoped>\n",
       "    .dataframe tbody tr th:only-of-type {\n",
       "        vertical-align: middle;\n",
       "    }\n",
       "\n",
       "    .dataframe tbody tr th {\n",
       "        vertical-align: top;\n",
       "    }\n",
       "\n",
       "    .dataframe thead th {\n",
       "        text-align: right;\n",
       "    }\n",
       "</style>\n",
       "<table border=\"1\" class=\"dataframe\">\n",
       "  <thead>\n",
       "    <tr style=\"text-align: right;\">\n",
       "      <th></th>\n",
       "      <th>s1</th>\n",
       "      <th>s2</th>\n",
       "      <th>s3</th>\n",
       "      <th>s4</th>\n",
       "      <th>s5</th>\n",
       "    </tr>\n",
       "  </thead>\n",
       "  <tbody>\n",
       "    <tr>\n",
       "      <th>0</th>\n",
       "      <td>88</td>\n",
       "      <td>94</td>\n",
       "      <td>92</td>\n",
       "      <td>89</td>\n",
       "      <td>82</td>\n",
       "    </tr>\n",
       "    <tr>\n",
       "      <th>1</th>\n",
       "      <td>89</td>\n",
       "      <td>88</td>\n",
       "      <td>99</td>\n",
       "      <td>89</td>\n",
       "      <td>80</td>\n",
       "    </tr>\n",
       "    <tr>\n",
       "      <th>2</th>\n",
       "      <td>85</td>\n",
       "      <td>80</td>\n",
       "      <td>87</td>\n",
       "      <td>99</td>\n",
       "      <td>88</td>\n",
       "    </tr>\n",
       "    <tr>\n",
       "      <th>3</th>\n",
       "      <td>93</td>\n",
       "      <td>88</td>\n",
       "      <td>81</td>\n",
       "      <td>90</td>\n",
       "      <td>87</td>\n",
       "    </tr>\n",
       "    <tr>\n",
       "      <th>4</th>\n",
       "      <td>96</td>\n",
       "      <td>98</td>\n",
       "      <td>94</td>\n",
       "      <td>85</td>\n",
       "      <td>97</td>\n",
       "    </tr>\n",
       "  </tbody>\n",
       "</table>\n",
       "</div>"
      ],
      "text/plain": [
       "   s1  s2  s3  s4  s5\n",
       "0  88  94  92  89  82\n",
       "1  89  88  99  89  80\n",
       "2  85  80  87  99  88\n",
       "3  93  88  81  90  87\n",
       "4  96  98  94  85  97"
      ]
     },
     "execution_count": 2,
     "metadata": {},
     "output_type": "execute_result"
    }
   ],
   "source": [
    "g1 = pd.DataFrame(np.random.randint(80,100, size=(40000,5)), columns = [\"s1\",'s2','s3','s4','s5'])\n",
    "g2 = pd.DataFrame(np.random.randint(70,79, size=(40000,5)), columns = [\"s1\",'s2','s3','s4','s5'])\n",
    "g3 = pd.DataFrame(np.random.randint(60,69, size=(40000,5)), columns = [\"s1\",'s2','s3','s4','s5'])\n",
    "g4 = pd.DataFrame(np.random.randint(50,59, size=(40000,5)), columns = [\"s1\",'s2','s3','s4','s5'])\n",
    "g5 = pd.DataFrame(np.random.randint(40,49, size=(40000,5)), columns = [\"s1\",'s2','s3','s4','s5'])\n",
    "g6 = pd.DataFrame(np.random.randint(33,39, size=(800000,5)), columns = [\"s1\",'s2','s3','s4','s5'])\n",
    "g7 = pd.DataFrame(np.random.randint(0,32, size=(40000,5)), columns = [\"s1\",'s2','s3','s4','s5'])\n",
    "\n",
    "df = pd.concat([g1,g2,g3,g4,g5,g6,g7])\n",
    "print(len(df))\n",
    "df = df.drop_duplicates()# get all unique records\n",
    "print(len(df))\n",
    "df.head()"
   ]
  },
  {
   "cell_type": "code",
   "execution_count": 3,
   "id": "d6cb3ace",
   "metadata": {},
   "outputs": [
    {
     "data": {
      "text/html": [
       "<div>\n",
       "<style scoped>\n",
       "    .dataframe tbody tr th:only-of-type {\n",
       "        vertical-align: middle;\n",
       "    }\n",
       "\n",
       "    .dataframe tbody tr th {\n",
       "        vertical-align: top;\n",
       "    }\n",
       "\n",
       "    .dataframe thead th {\n",
       "        text-align: right;\n",
       "    }\n",
       "</style>\n",
       "<table border=\"1\" class=\"dataframe\">\n",
       "  <thead>\n",
       "    <tr style=\"text-align: right;\">\n",
       "      <th></th>\n",
       "      <th>s1</th>\n",
       "      <th>s2</th>\n",
       "      <th>s3</th>\n",
       "      <th>s4</th>\n",
       "      <th>s5</th>\n",
       "    </tr>\n",
       "  </thead>\n",
       "  <tbody>\n",
       "    <tr>\n",
       "      <th>39995</th>\n",
       "      <td>24</td>\n",
       "      <td>20</td>\n",
       "      <td>3</td>\n",
       "      <td>21</td>\n",
       "      <td>15</td>\n",
       "    </tr>\n",
       "    <tr>\n",
       "      <th>39996</th>\n",
       "      <td>13</td>\n",
       "      <td>26</td>\n",
       "      <td>14</td>\n",
       "      <td>13</td>\n",
       "      <td>3</td>\n",
       "    </tr>\n",
       "    <tr>\n",
       "      <th>39997</th>\n",
       "      <td>17</td>\n",
       "      <td>22</td>\n",
       "      <td>12</td>\n",
       "      <td>6</td>\n",
       "      <td>31</td>\n",
       "    </tr>\n",
       "    <tr>\n",
       "      <th>39998</th>\n",
       "      <td>25</td>\n",
       "      <td>30</td>\n",
       "      <td>17</td>\n",
       "      <td>25</td>\n",
       "      <td>11</td>\n",
       "    </tr>\n",
       "    <tr>\n",
       "      <th>39999</th>\n",
       "      <td>2</td>\n",
       "      <td>7</td>\n",
       "      <td>18</td>\n",
       "      <td>26</td>\n",
       "      <td>8</td>\n",
       "    </tr>\n",
       "  </tbody>\n",
       "</table>\n",
       "</div>"
      ],
      "text/plain": [
       "       s1  s2  s3  s4  s5\n",
       "39995  24  20   3  21  15\n",
       "39996  13  26  14  13   3\n",
       "39997  17  22  12   6  31\n",
       "39998  25  30  17  25  11\n",
       "39999   2   7  18  26   8"
      ]
     },
     "execution_count": 3,
     "metadata": {},
     "output_type": "execute_result"
    }
   ],
   "source": [
    "df.tail()"
   ]
  },
  {
   "cell_type": "markdown",
   "id": "c817ec4a",
   "metadata": {},
   "source": [
    "# Symbolic AI"
   ]
  },
  {
   "cell_type": "code",
   "execution_count": 4,
   "id": "87fb42b5",
   "metadata": {},
   "outputs": [
    {
     "data": {
      "text/html": [
       "<div>\n",
       "<style scoped>\n",
       "    .dataframe tbody tr th:only-of-type {\n",
       "        vertical-align: middle;\n",
       "    }\n",
       "\n",
       "    .dataframe tbody tr th {\n",
       "        vertical-align: top;\n",
       "    }\n",
       "\n",
       "    .dataframe thead th {\n",
       "        text-align: right;\n",
       "    }\n",
       "</style>\n",
       "<table border=\"1\" class=\"dataframe\">\n",
       "  <thead>\n",
       "    <tr style=\"text-align: right;\">\n",
       "      <th></th>\n",
       "      <th>s1</th>\n",
       "      <th>s2</th>\n",
       "      <th>s3</th>\n",
       "      <th>s4</th>\n",
       "      <th>s5</th>\n",
       "      <th>Total</th>\n",
       "      <th>Obtained</th>\n",
       "      <th>Percentage</th>\n",
       "      <th>Grade</th>\n",
       "    </tr>\n",
       "  </thead>\n",
       "  <tbody>\n",
       "    <tr>\n",
       "      <th>0</th>\n",
       "      <td>88</td>\n",
       "      <td>94</td>\n",
       "      <td>92</td>\n",
       "      <td>89</td>\n",
       "      <td>82</td>\n",
       "      <td>500</td>\n",
       "      <td>445</td>\n",
       "      <td>89.0</td>\n",
       "      <td>A+</td>\n",
       "    </tr>\n",
       "    <tr>\n",
       "      <th>1</th>\n",
       "      <td>89</td>\n",
       "      <td>88</td>\n",
       "      <td>99</td>\n",
       "      <td>89</td>\n",
       "      <td>80</td>\n",
       "      <td>500</td>\n",
       "      <td>445</td>\n",
       "      <td>89.0</td>\n",
       "      <td>A+</td>\n",
       "    </tr>\n",
       "    <tr>\n",
       "      <th>2</th>\n",
       "      <td>85</td>\n",
       "      <td>80</td>\n",
       "      <td>87</td>\n",
       "      <td>99</td>\n",
       "      <td>88</td>\n",
       "      <td>500</td>\n",
       "      <td>439</td>\n",
       "      <td>87.8</td>\n",
       "      <td>A+</td>\n",
       "    </tr>\n",
       "    <tr>\n",
       "      <th>3</th>\n",
       "      <td>93</td>\n",
       "      <td>88</td>\n",
       "      <td>81</td>\n",
       "      <td>90</td>\n",
       "      <td>87</td>\n",
       "      <td>500</td>\n",
       "      <td>439</td>\n",
       "      <td>87.8</td>\n",
       "      <td>A+</td>\n",
       "    </tr>\n",
       "    <tr>\n",
       "      <th>4</th>\n",
       "      <td>96</td>\n",
       "      <td>98</td>\n",
       "      <td>94</td>\n",
       "      <td>85</td>\n",
       "      <td>97</td>\n",
       "      <td>500</td>\n",
       "      <td>470</td>\n",
       "      <td>94.0</td>\n",
       "      <td>A+</td>\n",
       "    </tr>\n",
       "    <tr>\n",
       "      <th>...</th>\n",
       "      <td>...</td>\n",
       "      <td>...</td>\n",
       "      <td>...</td>\n",
       "      <td>...</td>\n",
       "      <td>...</td>\n",
       "      <td>...</td>\n",
       "      <td>...</td>\n",
       "      <td>...</td>\n",
       "      <td>...</td>\n",
       "    </tr>\n",
       "    <tr>\n",
       "      <th>39995</th>\n",
       "      <td>24</td>\n",
       "      <td>20</td>\n",
       "      <td>3</td>\n",
       "      <td>21</td>\n",
       "      <td>15</td>\n",
       "      <td>500</td>\n",
       "      <td>83</td>\n",
       "      <td>16.6</td>\n",
       "      <td>Fail</td>\n",
       "    </tr>\n",
       "    <tr>\n",
       "      <th>39996</th>\n",
       "      <td>13</td>\n",
       "      <td>26</td>\n",
       "      <td>14</td>\n",
       "      <td>13</td>\n",
       "      <td>3</td>\n",
       "      <td>500</td>\n",
       "      <td>69</td>\n",
       "      <td>13.8</td>\n",
       "      <td>Fail</td>\n",
       "    </tr>\n",
       "    <tr>\n",
       "      <th>39997</th>\n",
       "      <td>17</td>\n",
       "      <td>22</td>\n",
       "      <td>12</td>\n",
       "      <td>6</td>\n",
       "      <td>31</td>\n",
       "      <td>500</td>\n",
       "      <td>88</td>\n",
       "      <td>17.6</td>\n",
       "      <td>Fail</td>\n",
       "    </tr>\n",
       "    <tr>\n",
       "      <th>39998</th>\n",
       "      <td>25</td>\n",
       "      <td>30</td>\n",
       "      <td>17</td>\n",
       "      <td>25</td>\n",
       "      <td>11</td>\n",
       "      <td>500</td>\n",
       "      <td>108</td>\n",
       "      <td>21.6</td>\n",
       "      <td>Fail</td>\n",
       "    </tr>\n",
       "    <tr>\n",
       "      <th>39999</th>\n",
       "      <td>2</td>\n",
       "      <td>7</td>\n",
       "      <td>18</td>\n",
       "      <td>26</td>\n",
       "      <td>8</td>\n",
       "      <td>500</td>\n",
       "      <td>61</td>\n",
       "      <td>12.2</td>\n",
       "      <td>Fail</td>\n",
       "    </tr>\n",
       "  </tbody>\n",
       "</table>\n",
       "<p>203738 rows × 9 columns</p>\n",
       "</div>"
      ],
      "text/plain": [
       "       s1  s2  s3  s4  s5  Total  Obtained  Percentage Grade\n",
       "0      88  94  92  89  82    500       445        89.0    A+\n",
       "1      89  88  99  89  80    500       445        89.0    A+\n",
       "2      85  80  87  99  88    500       439        87.8    A+\n",
       "3      93  88  81  90  87    500       439        87.8    A+\n",
       "4      96  98  94  85  97    500       470        94.0    A+\n",
       "...    ..  ..  ..  ..  ..    ...       ...         ...   ...\n",
       "39995  24  20   3  21  15    500        83        16.6  Fail\n",
       "39996  13  26  14  13   3    500        69        13.8  Fail\n",
       "39997  17  22  12   6  31    500        88        17.6  Fail\n",
       "39998  25  30  17  25  11    500       108        21.6  Fail\n",
       "39999   2   7  18  26   8    500        61        12.2  Fail\n",
       "\n",
       "[203738 rows x 9 columns]"
      ]
     },
     "execution_count": 4,
     "metadata": {},
     "output_type": "execute_result"
    }
   ],
   "source": [
    "def grade(sb1,sb2, sb3, sb4, sb5):\n",
    "    total = 500\n",
    "    obtain = sb1 + sb2 + sb3 + sb4 + sb5\n",
    "    per = (obtain / total) * 100\n",
    "    \n",
    "    grade = None\n",
    "    \n",
    "    if per >= 80:\n",
    "        grade = \"A+\"\n",
    "    elif per >= 70:\n",
    "        grade = \"A\"\n",
    "    elif per >= 60:\n",
    "        grade = \"B\"\n",
    "    elif per >= 50:\n",
    "        grade = \"C\"\n",
    "    elif per >= 40:\n",
    "        grade = \"D\"\n",
    "    elif per >= 33:\n",
    "        grade = \"E\"\n",
    "    else:\n",
    "        grade = \"Fail\"\n",
    "        \n",
    "    return total, obtain , per , grade\n",
    "\n",
    "# df[[\"Total\",\"Obtained\",\"Percentage\",\"Grade\"]] = df[[\"s1\",\"s2\",\"s3\",\"s4\",\"s5\"]].apply(lambda x:grade(*x), axis=1, result_type='expand')\n",
    "df[[\"Total\",\"Obtained\",\"Percentage\",\"Grade\"]] = df[[\"s1\",\"s2\",\"s3\",\"s4\",\"s5\"]].apply(lambda x:grade(x[0],x[1],x[2],x[3],x[4]), axis=1, result_type='expand')\n",
    "df"
   ]
  },
  {
   "cell_type": "code",
   "execution_count": 5,
   "id": "bc24a810",
   "metadata": {},
   "outputs": [
    {
     "data": {
      "text/plain": [
       "Fail    39972\n",
       "A+      39740\n",
       "A       29096\n",
       "C       29083\n",
       "B       29062\n",
       "D       29009\n",
       "E        7776\n",
       "Name: Grade, dtype: int64"
      ]
     },
     "execution_count": 5,
     "metadata": {},
     "output_type": "execute_result"
    }
   ],
   "source": [
    "df.Grade.value_counts()\n",
    "# Fail    39988\n",
    "# A+      39744\n",
    "# D       29203\n",
    "# C       29012\n",
    "# B       29006\n",
    "# A       28925\n",
    "# E        7776"
   ]
  },
  {
   "cell_type": "code",
   "execution_count": 6,
   "id": "6121926e",
   "metadata": {},
   "outputs": [
    {
     "name": "stdout",
     "output_type": "stream",
     "text": [
      "54432\n",
      "700\n"
     ]
    }
   ],
   "source": [
    "df1 = pd.DataFrame()\n",
    "test = pd.DataFrame()\n",
    "for i in df.Grade.unique():\n",
    "    df1 = pd.concat([df1,df[df.Grade==i].head(7776)])\n",
    "    test = pd.concat([test,df[df.Grade==i].head(100)])\n",
    "print(len(df1))\n",
    "print(len(test))"
   ]
  },
  {
   "cell_type": "markdown",
   "id": "a0f238ba",
   "metadata": {},
   "source": [
    "# Create data for ML"
   ]
  },
  {
   "cell_type": "code",
   "execution_count": 9,
   "id": "b93ee1e0",
   "metadata": {},
   "outputs": [
    {
     "name": "stdout",
     "output_type": "stream",
     "text": [
      "54432\n"
     ]
    },
    {
     "data": {
      "text/html": [
       "<div>\n",
       "<style scoped>\n",
       "    .dataframe tbody tr th:only-of-type {\n",
       "        vertical-align: middle;\n",
       "    }\n",
       "\n",
       "    .dataframe tbody tr th {\n",
       "        vertical-align: top;\n",
       "    }\n",
       "\n",
       "    .dataframe thead th {\n",
       "        text-align: right;\n",
       "    }\n",
       "</style>\n",
       "<table border=\"1\" class=\"dataframe\">\n",
       "  <thead>\n",
       "    <tr style=\"text-align: right;\">\n",
       "      <th></th>\n",
       "      <th>s1</th>\n",
       "      <th>s2</th>\n",
       "      <th>s3</th>\n",
       "      <th>s4</th>\n",
       "      <th>s5</th>\n",
       "      <th>Percentage</th>\n",
       "      <th>Grade</th>\n",
       "    </tr>\n",
       "  </thead>\n",
       "  <tbody>\n",
       "    <tr>\n",
       "      <th>6077</th>\n",
       "      <td>78</td>\n",
       "      <td>76</td>\n",
       "      <td>74</td>\n",
       "      <td>72</td>\n",
       "      <td>70</td>\n",
       "      <td>74.0</td>\n",
       "      <td>A</td>\n",
       "    </tr>\n",
       "    <tr>\n",
       "      <th>769</th>\n",
       "      <td>91</td>\n",
       "      <td>83</td>\n",
       "      <td>95</td>\n",
       "      <td>84</td>\n",
       "      <td>94</td>\n",
       "      <td>89.4</td>\n",
       "      <td>A+</td>\n",
       "    </tr>\n",
       "    <tr>\n",
       "      <th>5003</th>\n",
       "      <td>0</td>\n",
       "      <td>8</td>\n",
       "      <td>21</td>\n",
       "      <td>26</td>\n",
       "      <td>14</td>\n",
       "      <td>13.8</td>\n",
       "      <td>Fail</td>\n",
       "    </tr>\n",
       "    <tr>\n",
       "      <th>3514</th>\n",
       "      <td>76</td>\n",
       "      <td>74</td>\n",
       "      <td>74</td>\n",
       "      <td>70</td>\n",
       "      <td>77</td>\n",
       "      <td>74.2</td>\n",
       "      <td>A</td>\n",
       "    </tr>\n",
       "    <tr>\n",
       "      <th>7518</th>\n",
       "      <td>61</td>\n",
       "      <td>65</td>\n",
       "      <td>62</td>\n",
       "      <td>61</td>\n",
       "      <td>68</td>\n",
       "      <td>63.4</td>\n",
       "      <td>B</td>\n",
       "    </tr>\n",
       "    <tr>\n",
       "      <th>...</th>\n",
       "      <td>...</td>\n",
       "      <td>...</td>\n",
       "      <td>...</td>\n",
       "      <td>...</td>\n",
       "      <td>...</td>\n",
       "      <td>...</td>\n",
       "      <td>...</td>\n",
       "    </tr>\n",
       "    <tr>\n",
       "      <th>3645</th>\n",
       "      <td>73</td>\n",
       "      <td>74</td>\n",
       "      <td>70</td>\n",
       "      <td>74</td>\n",
       "      <td>74</td>\n",
       "      <td>73.0</td>\n",
       "      <td>A</td>\n",
       "    </tr>\n",
       "    <tr>\n",
       "      <th>1067</th>\n",
       "      <td>5</td>\n",
       "      <td>11</td>\n",
       "      <td>7</td>\n",
       "      <td>22</td>\n",
       "      <td>31</td>\n",
       "      <td>15.2</td>\n",
       "      <td>Fail</td>\n",
       "    </tr>\n",
       "    <tr>\n",
       "      <th>2677</th>\n",
       "      <td>75</td>\n",
       "      <td>70</td>\n",
       "      <td>71</td>\n",
       "      <td>76</td>\n",
       "      <td>75</td>\n",
       "      <td>73.4</td>\n",
       "      <td>A</td>\n",
       "    </tr>\n",
       "    <tr>\n",
       "      <th>7396</th>\n",
       "      <td>80</td>\n",
       "      <td>82</td>\n",
       "      <td>91</td>\n",
       "      <td>91</td>\n",
       "      <td>83</td>\n",
       "      <td>85.4</td>\n",
       "      <td>A+</td>\n",
       "    </tr>\n",
       "    <tr>\n",
       "      <th>5045</th>\n",
       "      <td>18</td>\n",
       "      <td>13</td>\n",
       "      <td>9</td>\n",
       "      <td>19</td>\n",
       "      <td>1</td>\n",
       "      <td>12.0</td>\n",
       "      <td>Fail</td>\n",
       "    </tr>\n",
       "  </tbody>\n",
       "</table>\n",
       "<p>54432 rows × 7 columns</p>\n",
       "</div>"
      ],
      "text/plain": [
       "      s1  s2  s3  s4  s5  Percentage Grade\n",
       "6077  78  76  74  72  70        74.0     A\n",
       "769   91  83  95  84  94        89.4    A+\n",
       "5003   0   8  21  26  14        13.8  Fail\n",
       "3514  76  74  74  70  77        74.2     A\n",
       "7518  61  65  62  61  68        63.4     B\n",
       "...   ..  ..  ..  ..  ..         ...   ...\n",
       "3645  73  74  70  74  74        73.0     A\n",
       "1067   5  11   7  22  31        15.2  Fail\n",
       "2677  75  70  71  76  75        73.4     A\n",
       "7396  80  82  91  91  83        85.4    A+\n",
       "5045  18  13   9  19   1        12.0  Fail\n",
       "\n",
       "[54432 rows x 7 columns]"
      ]
     },
     "execution_count": 9,
     "metadata": {},
     "output_type": "execute_result"
    }
   ],
   "source": [
    "data = df1[[\"s1\",\"s2\",\"s3\",'s4','s5',\"Percentage\",'Grade']].copy()\n",
    "data = data.sample(frac=1)\n",
    "print(len(data))\n",
    "data"
   ]
  },
  {
   "cell_type": "code",
   "execution_count": 9,
   "id": "fed46928",
   "metadata": {},
   "outputs": [
    {
     "data": {
      "text/html": [
       "<div>\n",
       "<style scoped>\n",
       "    .dataframe tbody tr th:only-of-type {\n",
       "        vertical-align: middle;\n",
       "    }\n",
       "\n",
       "    .dataframe tbody tr th {\n",
       "        vertical-align: top;\n",
       "    }\n",
       "\n",
       "    .dataframe thead th {\n",
       "        text-align: right;\n",
       "    }\n",
       "</style>\n",
       "<table border=\"1\" class=\"dataframe\">\n",
       "  <thead>\n",
       "    <tr style=\"text-align: right;\">\n",
       "      <th></th>\n",
       "      <th>s1</th>\n",
       "      <th>s2</th>\n",
       "      <th>s3</th>\n",
       "      <th>s4</th>\n",
       "      <th>s5</th>\n",
       "      <th>Percentage</th>\n",
       "    </tr>\n",
       "  </thead>\n",
       "  <tbody>\n",
       "    <tr>\n",
       "      <th>s1</th>\n",
       "      <td>1.000000</td>\n",
       "      <td>0.961079</td>\n",
       "      <td>0.961584</td>\n",
       "      <td>0.961478</td>\n",
       "      <td>0.961096</td>\n",
       "      <td>0.984472</td>\n",
       "    </tr>\n",
       "    <tr>\n",
       "      <th>s2</th>\n",
       "      <td>0.961079</td>\n",
       "      <td>1.000000</td>\n",
       "      <td>0.960895</td>\n",
       "      <td>0.961855</td>\n",
       "      <td>0.960543</td>\n",
       "      <td>0.984270</td>\n",
       "    </tr>\n",
       "    <tr>\n",
       "      <th>s3</th>\n",
       "      <td>0.961584</td>\n",
       "      <td>0.960895</td>\n",
       "      <td>1.000000</td>\n",
       "      <td>0.961271</td>\n",
       "      <td>0.961040</td>\n",
       "      <td>0.984364</td>\n",
       "    </tr>\n",
       "    <tr>\n",
       "      <th>s4</th>\n",
       "      <td>0.961478</td>\n",
       "      <td>0.961855</td>\n",
       "      <td>0.961271</td>\n",
       "      <td>1.000000</td>\n",
       "      <td>0.961103</td>\n",
       "      <td>0.984532</td>\n",
       "    </tr>\n",
       "    <tr>\n",
       "      <th>s5</th>\n",
       "      <td>0.961096</td>\n",
       "      <td>0.960543</td>\n",
       "      <td>0.961040</td>\n",
       "      <td>0.961103</td>\n",
       "      <td>1.000000</td>\n",
       "      <td>0.984139</td>\n",
       "    </tr>\n",
       "    <tr>\n",
       "      <th>Percentage</th>\n",
       "      <td>0.984472</td>\n",
       "      <td>0.984270</td>\n",
       "      <td>0.984364</td>\n",
       "      <td>0.984532</td>\n",
       "      <td>0.984139</td>\n",
       "      <td>1.000000</td>\n",
       "    </tr>\n",
       "  </tbody>\n",
       "</table>\n",
       "</div>"
      ],
      "text/plain": [
       "                  s1        s2        s3        s4        s5  Percentage\n",
       "s1          1.000000  0.961079  0.961584  0.961478  0.961096    0.984472\n",
       "s2          0.961079  1.000000  0.960895  0.961855  0.960543    0.984270\n",
       "s3          0.961584  0.960895  1.000000  0.961271  0.961040    0.984364\n",
       "s4          0.961478  0.961855  0.961271  1.000000  0.961103    0.984532\n",
       "s5          0.961096  0.960543  0.961040  0.961103  1.000000    0.984139\n",
       "Percentage  0.984472  0.984270  0.984364  0.984532  0.984139    1.000000"
      ]
     },
     "execution_count": 9,
     "metadata": {},
     "output_type": "execute_result"
    }
   ],
   "source": [
    "data.corr()"
   ]
  },
  {
   "cell_type": "code",
   "execution_count": 10,
   "id": "9d579669",
   "metadata": {
    "scrolled": true
   },
   "outputs": [
    {
     "data": {
      "text/plain": [
       "<AxesSubplot:>"
      ]
     },
     "execution_count": 10,
     "metadata": {},
     "output_type": "execute_result"
    },
    {
     "data": {
      "image/png": "[encoded data removed]",
      "text/plain": [
       "<Figure size 432x288 with 1 Axes>"
      ]
     },
     "metadata": {
      "needs_background": "light"
     },
     "output_type": "display_data"
    }
   ],
   "source": [
    "data.corr().plot(kind='bar')"
   ]
  },
  {
   "cell_type": "code",
   "execution_count": 10,
   "id": "6cc8ee25",
   "metadata": {},
   "outputs": [
    {
     "data": {
      "text/html": [
       "<div>\n",
       "<style scoped>\n",
       "    .dataframe tbody tr th:only-of-type {\n",
       "        vertical-align: middle;\n",
       "    }\n",
       "\n",
       "    .dataframe tbody tr th {\n",
       "        vertical-align: top;\n",
       "    }\n",
       "\n",
       "    .dataframe thead th {\n",
       "        text-align: right;\n",
       "    }\n",
       "</style>\n",
       "<table border=\"1\" class=\"dataframe\">\n",
       "  <thead>\n",
       "    <tr style=\"text-align: right;\">\n",
       "      <th></th>\n",
       "      <th>s1</th>\n",
       "      <th>s2</th>\n",
       "      <th>s3</th>\n",
       "      <th>s4</th>\n",
       "      <th>s5</th>\n",
       "      <th>Percentage</th>\n",
       "      <th>Grade</th>\n",
       "      <th>Grade1</th>\n",
       "    </tr>\n",
       "  </thead>\n",
       "  <tbody>\n",
       "    <tr>\n",
       "      <th>6077</th>\n",
       "      <td>78</td>\n",
       "      <td>76</td>\n",
       "      <td>74</td>\n",
       "      <td>72</td>\n",
       "      <td>70</td>\n",
       "      <td>74.0</td>\n",
       "      <td>A</td>\n",
       "      <td>6</td>\n",
       "    </tr>\n",
       "    <tr>\n",
       "      <th>769</th>\n",
       "      <td>91</td>\n",
       "      <td>83</td>\n",
       "      <td>95</td>\n",
       "      <td>84</td>\n",
       "      <td>94</td>\n",
       "      <td>89.4</td>\n",
       "      <td>A+</td>\n",
       "      <td>7</td>\n",
       "    </tr>\n",
       "    <tr>\n",
       "      <th>5003</th>\n",
       "      <td>0</td>\n",
       "      <td>8</td>\n",
       "      <td>21</td>\n",
       "      <td>26</td>\n",
       "      <td>14</td>\n",
       "      <td>13.8</td>\n",
       "      <td>Fail</td>\n",
       "      <td>1</td>\n",
       "    </tr>\n",
       "    <tr>\n",
       "      <th>3514</th>\n",
       "      <td>76</td>\n",
       "      <td>74</td>\n",
       "      <td>74</td>\n",
       "      <td>70</td>\n",
       "      <td>77</td>\n",
       "      <td>74.2</td>\n",
       "      <td>A</td>\n",
       "      <td>6</td>\n",
       "    </tr>\n",
       "    <tr>\n",
       "      <th>7518</th>\n",
       "      <td>61</td>\n",
       "      <td>65</td>\n",
       "      <td>62</td>\n",
       "      <td>61</td>\n",
       "      <td>68</td>\n",
       "      <td>63.4</td>\n",
       "      <td>B</td>\n",
       "      <td>5</td>\n",
       "    </tr>\n",
       "    <tr>\n",
       "      <th>...</th>\n",
       "      <td>...</td>\n",
       "      <td>...</td>\n",
       "      <td>...</td>\n",
       "      <td>...</td>\n",
       "      <td>...</td>\n",
       "      <td>...</td>\n",
       "      <td>...</td>\n",
       "      <td>...</td>\n",
       "    </tr>\n",
       "    <tr>\n",
       "      <th>3645</th>\n",
       "      <td>73</td>\n",
       "      <td>74</td>\n",
       "      <td>70</td>\n",
       "      <td>74</td>\n",
       "      <td>74</td>\n",
       "      <td>73.0</td>\n",
       "      <td>A</td>\n",
       "      <td>6</td>\n",
       "    </tr>\n",
       "    <tr>\n",
       "      <th>1067</th>\n",
       "      <td>5</td>\n",
       "      <td>11</td>\n",
       "      <td>7</td>\n",
       "      <td>22</td>\n",
       "      <td>31</td>\n",
       "      <td>15.2</td>\n",
       "      <td>Fail</td>\n",
       "      <td>1</td>\n",
       "    </tr>\n",
       "    <tr>\n",
       "      <th>2677</th>\n",
       "      <td>75</td>\n",
       "      <td>70</td>\n",
       "      <td>71</td>\n",
       "      <td>76</td>\n",
       "      <td>75</td>\n",
       "      <td>73.4</td>\n",
       "      <td>A</td>\n",
       "      <td>6</td>\n",
       "    </tr>\n",
       "    <tr>\n",
       "      <th>7396</th>\n",
       "      <td>80</td>\n",
       "      <td>82</td>\n",
       "      <td>91</td>\n",
       "      <td>91</td>\n",
       "      <td>83</td>\n",
       "      <td>85.4</td>\n",
       "      <td>A+</td>\n",
       "      <td>7</td>\n",
       "    </tr>\n",
       "    <tr>\n",
       "      <th>5045</th>\n",
       "      <td>18</td>\n",
       "      <td>13</td>\n",
       "      <td>9</td>\n",
       "      <td>19</td>\n",
       "      <td>1</td>\n",
       "      <td>12.0</td>\n",
       "      <td>Fail</td>\n",
       "      <td>1</td>\n",
       "    </tr>\n",
       "  </tbody>\n",
       "</table>\n",
       "<p>54432 rows × 8 columns</p>\n",
       "</div>"
      ],
      "text/plain": [
       "      s1  s2  s3  s4  s5  Percentage Grade  Grade1\n",
       "6077  78  76  74  72  70        74.0     A       6\n",
       "769   91  83  95  84  94        89.4    A+       7\n",
       "5003   0   8  21  26  14        13.8  Fail       1\n",
       "3514  76  74  74  70  77        74.2     A       6\n",
       "7518  61  65  62  61  68        63.4     B       5\n",
       "...   ..  ..  ..  ..  ..         ...   ...     ...\n",
       "3645  73  74  70  74  74        73.0     A       6\n",
       "1067   5  11   7  22  31        15.2  Fail       1\n",
       "2677  75  70  71  76  75        73.4     A       6\n",
       "7396  80  82  91  91  83        85.4    A+       7\n",
       "5045  18  13   9  19   1        12.0  Fail       1\n",
       "\n",
       "[54432 rows x 8 columns]"
      ]
     },
     "execution_count": 10,
     "metadata": {},
     "output_type": "execute_result"
    }
   ],
   "source": [
    "grades = {\n",
    "    \"A+\":7,\n",
    "    \"A\":6,\n",
    "    \"B\":5,\n",
    "    \"C\":4,\n",
    "    \"D\":3,\n",
    "    \"E\":2,\n",
    "    \"Fail\":1\n",
    "}\n",
    "\n",
    "data['Grade1'] = data.Grade.map(grades)# map with dictionary\n",
    "data"
   ]
  },
  {
   "cell_type": "code",
   "execution_count": 13,
   "id": "967ff309",
   "metadata": {},
   "outputs": [
    {
     "name": "stderr",
     "output_type": "stream",
     "text": [
      "C:\\Users\\saylani\\AppData\\Local\\Temp\\ipykernel_8164\\759093254.py:1: FutureWarning: The default value of numeric_only in DataFrame.corr is deprecated. In a future version, it will default to False. Select only valid columns or specify the value of numeric_only to silence this warning.\n",
      "  data.corr().plot(kind='bar')\n"
     ]
    },
    {
     "data": {
      "text/plain": [
       "<AxesSubplot:>"
      ]
     },
     "execution_count": 13,
     "metadata": {},
     "output_type": "execute_result"
    },
    {
     "data": {
      "image/png": "[encoded data removed]",
      "text/plain": [
       "<Figure size 640x480 with 1 Axes>"
      ]
     },
     "metadata": {},
     "output_type": "display_data"
    }
   ],
   "source": [
    "data.corr().plot(kind='bar')"
   ]
  },
  {
   "cell_type": "code",
   "execution_count": 14,
   "id": "52be85f5",
   "metadata": {},
   "outputs": [
    {
     "name": "stderr",
     "output_type": "stream",
     "text": [
      "C:\\Users\\saylani\\AppData\\Local\\Temp\\ipykernel_8164\\2545985938.py:1: FutureWarning: The default value of numeric_only in DataFrame.corr is deprecated. In a future version, it will default to False. Select only valid columns or specify the value of numeric_only to silence this warning.\n",
      "  data.corr().plot(kind='bar', legend=False)\n"
     ]
    },
    {
     "data": {
      "text/plain": [
       "<AxesSubplot:>"
      ]
     },
     "execution_count": 14,
     "metadata": {},
     "output_type": "execute_result"
    },
    {
     "data": {
      "image/png": "[encoded data removed]",
      "text/plain": [
       "<Figure size 640x480 with 1 Axes>"
      ]
     },
     "metadata": {},
     "output_type": "display_data"
    }
   ],
   "source": [
    "data.corr().plot(kind='bar', legend=False)"
   ]
  },
  {
   "cell_type": "code",
   "execution_count": 15,
   "id": "5bb0d92f",
   "metadata": {},
   "outputs": [
    {
     "data": {
      "text/html": [
       "<div>\n",
       "<style scoped>\n",
       "    .dataframe tbody tr th:only-of-type {\n",
       "        vertical-align: middle;\n",
       "    }\n",
       "\n",
       "    .dataframe tbody tr th {\n",
       "        vertical-align: top;\n",
       "    }\n",
       "\n",
       "    .dataframe thead th {\n",
       "        text-align: right;\n",
       "    }\n",
       "</style>\n",
       "<table border=\"1\" class=\"dataframe\">\n",
       "  <thead>\n",
       "    <tr style=\"text-align: right;\">\n",
       "      <th></th>\n",
       "      <th>Percentage</th>\n",
       "      <th>Grade1</th>\n",
       "    </tr>\n",
       "  </thead>\n",
       "  <tbody>\n",
       "    <tr>\n",
       "      <th>Percentage</th>\n",
       "      <td>1.000000</td>\n",
       "      <td>0.989181</td>\n",
       "    </tr>\n",
       "    <tr>\n",
       "      <th>Grade1</th>\n",
       "      <td>0.989181</td>\n",
       "      <td>1.000000</td>\n",
       "    </tr>\n",
       "  </tbody>\n",
       "</table>\n",
       "</div>"
      ],
      "text/plain": [
       "            Percentage    Grade1\n",
       "Percentage    1.000000  0.989181\n",
       "Grade1        0.989181  1.000000"
      ]
     },
     "execution_count": 15,
     "metadata": {},
     "output_type": "execute_result"
    }
   ],
   "source": [
    "data[[\"Percentage\",\"Grade1\"]].corr()"
   ]
  },
  {
   "cell_type": "markdown",
   "id": "bb462677",
   "metadata": {},
   "source": [
    "# Find Grade (Rules) with Machine Learning"
   ]
  },
  {
   "cell_type": "code",
   "execution_count": 16,
   "id": "f37b67ea",
   "metadata": {},
   "outputs": [],
   "source": [
    "from sklearn.tree import DecisionTreeClassifier\n",
    "from sklearn.model_selection import train_test_split\n",
    "from sklearn import metrics"
   ]
  },
  {
   "cell_type": "markdown",
   "id": "ca70f534",
   "metadata": {},
   "source": [
    "<img src=\"https://www.researchgate.net/profile/Nimmisha-Shajihan/publication/347447352/figure/fig3/AS:970048604741634@1608289018974/Performance-measurement-TP-TN-FP-FN-are-the-parameters-used-in-the-evaluation-of.jpg\">\n",
    "<img src=\"https://miro.medium.com/max/974/1*CNWo23_VnUJPXdfrqbiB0g.jpeg\">"
   ]
  },
  {
   "cell_type": "markdown",
   "id": "f0d939c7",
   "metadata": {},
   "source": [
    "<img src=\"https://static.packt-cdn.com/products/9781785282287/graphics/B04223_10_02.jpg\">"
   ]
  },
  {
   "cell_type": "markdown",
   "id": "fe0f285f",
   "metadata": {},
   "source": [
    "<img src=\"https://i.ytimg.com/vi/ji48Lz6amMc/maxresdefault.jpg\">"
   ]
  },
  {
   "cell_type": "code",
   "execution_count": 17,
   "id": "0605879e",
   "metadata": {},
   "outputs": [
    {
     "data": {
      "text/html": [
       "<div>\n",
       "<style scoped>\n",
       "    .dataframe tbody tr th:only-of-type {\n",
       "        vertical-align: middle;\n",
       "    }\n",
       "\n",
       "    .dataframe tbody tr th {\n",
       "        vertical-align: top;\n",
       "    }\n",
       "\n",
       "    .dataframe thead th {\n",
       "        text-align: right;\n",
       "    }\n",
       "</style>\n",
       "<table border=\"1\" class=\"dataframe\">\n",
       "  <thead>\n",
       "    <tr style=\"text-align: right;\">\n",
       "      <th></th>\n",
       "      <th>Percentage</th>\n",
       "      <th>Grade1</th>\n",
       "    </tr>\n",
       "  </thead>\n",
       "  <tbody>\n",
       "    <tr>\n",
       "      <th>Percentage</th>\n",
       "      <td>1.000000</td>\n",
       "      <td>0.989181</td>\n",
       "    </tr>\n",
       "    <tr>\n",
       "      <th>Grade1</th>\n",
       "      <td>0.989181</td>\n",
       "      <td>1.000000</td>\n",
       "    </tr>\n",
       "  </tbody>\n",
       "</table>\n",
       "</div>"
      ],
      "text/plain": [
       "            Percentage    Grade1\n",
       "Percentage    1.000000  0.989181\n",
       "Grade1        0.989181  1.000000"
      ]
     },
     "execution_count": 17,
     "metadata": {},
     "output_type": "execute_result"
    }
   ],
   "source": [
    "data[[\"Percentage\",\"Grade1\"]].corr()"
   ]
  },
  {
   "cell_type": "markdown",
   "id": "ce375303",
   "metadata": {},
   "source": [
    "# Now select the feature based on above stats technique"
   ]
  },
  {
   "cell_type": "code",
   "execution_count": 18,
   "id": "4f23bb31",
   "metadata": {},
   "outputs": [
    {
     "data": {
      "text/html": [
       "<div>\n",
       "<style scoped>\n",
       "    .dataframe tbody tr th:only-of-type {\n",
       "        vertical-align: middle;\n",
       "    }\n",
       "\n",
       "    .dataframe tbody tr th {\n",
       "        vertical-align: top;\n",
       "    }\n",
       "\n",
       "    .dataframe thead th {\n",
       "        text-align: right;\n",
       "    }\n",
       "</style>\n",
       "<table border=\"1\" class=\"dataframe\">\n",
       "  <thead>\n",
       "    <tr style=\"text-align: right;\">\n",
       "      <th></th>\n",
       "      <th>s1</th>\n",
       "      <th>s2</th>\n",
       "      <th>s3</th>\n",
       "      <th>s4</th>\n",
       "      <th>s5</th>\n",
       "      <th>Percentage</th>\n",
       "      <th>Grade</th>\n",
       "      <th>Grade1</th>\n",
       "    </tr>\n",
       "  </thead>\n",
       "  <tbody>\n",
       "    <tr>\n",
       "      <th>6077</th>\n",
       "      <td>78</td>\n",
       "      <td>76</td>\n",
       "      <td>74</td>\n",
       "      <td>72</td>\n",
       "      <td>70</td>\n",
       "      <td>74.0</td>\n",
       "      <td>A</td>\n",
       "      <td>6</td>\n",
       "    </tr>\n",
       "    <tr>\n",
       "      <th>769</th>\n",
       "      <td>91</td>\n",
       "      <td>83</td>\n",
       "      <td>95</td>\n",
       "      <td>84</td>\n",
       "      <td>94</td>\n",
       "      <td>89.4</td>\n",
       "      <td>A+</td>\n",
       "      <td>7</td>\n",
       "    </tr>\n",
       "    <tr>\n",
       "      <th>5003</th>\n",
       "      <td>0</td>\n",
       "      <td>8</td>\n",
       "      <td>21</td>\n",
       "      <td>26</td>\n",
       "      <td>14</td>\n",
       "      <td>13.8</td>\n",
       "      <td>Fail</td>\n",
       "      <td>1</td>\n",
       "    </tr>\n",
       "    <tr>\n",
       "      <th>3514</th>\n",
       "      <td>76</td>\n",
       "      <td>74</td>\n",
       "      <td>74</td>\n",
       "      <td>70</td>\n",
       "      <td>77</td>\n",
       "      <td>74.2</td>\n",
       "      <td>A</td>\n",
       "      <td>6</td>\n",
       "    </tr>\n",
       "    <tr>\n",
       "      <th>7518</th>\n",
       "      <td>61</td>\n",
       "      <td>65</td>\n",
       "      <td>62</td>\n",
       "      <td>61</td>\n",
       "      <td>68</td>\n",
       "      <td>63.4</td>\n",
       "      <td>B</td>\n",
       "      <td>5</td>\n",
       "    </tr>\n",
       "  </tbody>\n",
       "</table>\n",
       "</div>"
      ],
      "text/plain": [
       "      s1  s2  s3  s4  s5  Percentage Grade  Grade1\n",
       "6077  78  76  74  72  70        74.0     A       6\n",
       "769   91  83  95  84  94        89.4    A+       7\n",
       "5003   0   8  21  26  14        13.8  Fail       1\n",
       "3514  76  74  74  70  77        74.2     A       6\n",
       "7518  61  65  62  61  68        63.4     B       5"
      ]
     },
     "execution_count": 18,
     "metadata": {},
     "output_type": "execute_result"
    }
   ],
   "source": [
    "data.head()"
   ]
  },
  {
   "cell_type": "code",
   "execution_count": 19,
   "id": "b82052b4",
   "metadata": {},
   "outputs": [],
   "source": [
    "feature = ['Percentage']\n",
    "\n",
    "X = data[feature]\n",
    "Y = data.Grade\n",
    "\n"
   ]
  },
  {
   "cell_type": "code",
   "execution_count": 24,
   "id": "96322fa2",
   "metadata": {},
   "outputs": [
    {
     "name": "stdout",
     "output_type": "stream",
     "text": [
      "<class 'pandas.core.frame.DataFrame'> 54432 <class 'numpy.ndarray'>\n"
     ]
    },
    {
     "data": {
      "text/html": [
       "<div>\n",
       "<style scoped>\n",
       "    .dataframe tbody tr th:only-of-type {\n",
       "        vertical-align: middle;\n",
       "    }\n",
       "\n",
       "    .dataframe tbody tr th {\n",
       "        vertical-align: top;\n",
       "    }\n",
       "\n",
       "    .dataframe thead th {\n",
       "        text-align: right;\n",
       "    }\n",
       "</style>\n",
       "<table border=\"1\" class=\"dataframe\">\n",
       "  <thead>\n",
       "    <tr style=\"text-align: right;\">\n",
       "      <th></th>\n",
       "      <th>Percentage</th>\n",
       "    </tr>\n",
       "  </thead>\n",
       "  <tbody>\n",
       "    <tr>\n",
       "      <th>6077</th>\n",
       "      <td>74.0</td>\n",
       "    </tr>\n",
       "    <tr>\n",
       "      <th>769</th>\n",
       "      <td>89.4</td>\n",
       "    </tr>\n",
       "    <tr>\n",
       "      <th>5003</th>\n",
       "      <td>13.8</td>\n",
       "    </tr>\n",
       "    <tr>\n",
       "      <th>3514</th>\n",
       "      <td>74.2</td>\n",
       "    </tr>\n",
       "    <tr>\n",
       "      <th>7518</th>\n",
       "      <td>63.4</td>\n",
       "    </tr>\n",
       "  </tbody>\n",
       "</table>\n",
       "</div>"
      ],
      "text/plain": [
       "      Percentage\n",
       "6077        74.0\n",
       "769         89.4\n",
       "5003        13.8\n",
       "3514        74.2\n",
       "7518        63.4"
      ]
     },
     "execution_count": 24,
     "metadata": {},
     "output_type": "execute_result"
    }
   ],
   "source": [
    "print(type(X), len(X), type(X.values[0]))\n",
    "X.head()"
   ]
  },
  {
   "cell_type": "code",
   "execution_count": 26,
   "id": "db2bd4a9",
   "metadata": {},
   "outputs": [
    {
     "name": "stdout",
     "output_type": "stream",
     "text": [
      "<class 'pandas.core.series.Series'> 54432 <class 'str'>\n"
     ]
    },
    {
     "data": {
      "text/plain": [
       "6077       A\n",
       "769       A+\n",
       "5003    Fail\n",
       "3514       A\n",
       "7518       B\n",
       "Name: Grade, dtype: object"
      ]
     },
     "execution_count": 26,
     "metadata": {},
     "output_type": "execute_result"
    }
   ],
   "source": [
    "print(type(Y),len(Y), type(Y.values[0]))\n",
    "Y.head()"
   ]
  },
  {
   "cell_type": "markdown",
   "id": "bb685617",
   "metadata": {},
   "source": [
    "# Split data in Training and Test dataset\n",
    "* X_train, X_test \n",
    "* Y_train, Y_test"
   ]
  },
  {
   "cell_type": "code",
   "execution_count": 28,
   "id": "f791450c",
   "metadata": {},
   "outputs": [
    {
     "name": "stdout",
     "output_type": "stream",
     "text": [
      "X len 54432 Y len 54432\n",
      "train X 38102\n",
      "38102 X Train len\n",
      "38102 Y train len\n",
      "16330 X_test len\n",
      "16330 Y_test\n"
     ]
    }
   ],
   "source": [
    "print(\"X len\",len(X),\"Y len\",len(Y))\n",
    "print(\"train X\",int(54432*70/100))\n",
    "X_train,X_test, Y_train, Y_test = train_test_split(X,Y, test_size=0.3,random_state=True)\n",
    "\n",
    "print(len(X_train), \"X Train len\")\n",
    "print(len(Y_train),\"Y train len\")\n",
    "print(len(X_test), \"X_test len\")\n",
    "print(len(Y_test), \"Y_test\")"
   ]
  },
  {
   "cell_type": "markdown",
   "id": "a98c9877",
   "metadata": {},
   "source": [
    "# Classifier"
   ]
  },
  {
   "cell_type": "code",
   "execution_count": 30,
   "id": "bb0d09f5",
   "metadata": {},
   "outputs": [],
   "source": [
    "clf = DecisionTreeClassifier()"
   ]
  },
  {
   "cell_type": "code",
   "execution_count": 31,
   "id": "0ee6af04",
   "metadata": {},
   "outputs": [],
   "source": [
    "clf = clf.fit(X_train, Y_train)"
   ]
  },
  {
   "cell_type": "markdown",
   "id": "d0479885",
   "metadata": {},
   "source": [
    "https://www.google.com/search?q=entropy+and+gini+index+decision+tree&source=lmns&tbm=vid&bih=636&biw=1296&hl=en&sa=X&ved=2ahUKEwjA7oW31J79AhXhpCcCHXgrAp0Q_AUoAnoECAEQAg\n",
    "\n",
    "* entropy\n",
    "* gini index"
   ]
  },
  {
   "cell_type": "code",
   "execution_count": 32,
   "id": "e2e14686",
   "metadata": {},
   "outputs": [
    {
     "data": {
      "text/html": [
       "<div>\n",
       "<style scoped>\n",
       "    .dataframe tbody tr th:only-of-type {\n",
       "        vertical-align: middle;\n",
       "    }\n",
       "\n",
       "    .dataframe tbody tr th {\n",
       "        vertical-align: top;\n",
       "    }\n",
       "\n",
       "    .dataframe thead th {\n",
       "        text-align: right;\n",
       "    }\n",
       "</style>\n",
       "<table border=\"1\" class=\"dataframe\">\n",
       "  <thead>\n",
       "    <tr style=\"text-align: right;\">\n",
       "      <th></th>\n",
       "      <th>Percentage</th>\n",
       "    </tr>\n",
       "  </thead>\n",
       "  <tbody>\n",
       "    <tr>\n",
       "      <th>2819</th>\n",
       "      <td>63.0</td>\n",
       "    </tr>\n",
       "    <tr>\n",
       "      <th>3511</th>\n",
       "      <td>36.6</td>\n",
       "    </tr>\n",
       "    <tr>\n",
       "      <th>3633</th>\n",
       "      <td>63.0</td>\n",
       "    </tr>\n",
       "    <tr>\n",
       "      <th>685</th>\n",
       "      <td>65.0</td>\n",
       "    </tr>\n",
       "    <tr>\n",
       "      <th>26040</th>\n",
       "      <td>36.2</td>\n",
       "    </tr>\n",
       "    <tr>\n",
       "      <th>...</th>\n",
       "      <td>...</td>\n",
       "    </tr>\n",
       "    <tr>\n",
       "      <th>346</th>\n",
       "      <td>55.0</td>\n",
       "    </tr>\n",
       "    <tr>\n",
       "      <th>2350</th>\n",
       "      <td>53.6</td>\n",
       "    </tr>\n",
       "    <tr>\n",
       "      <th>4914</th>\n",
       "      <td>64.0</td>\n",
       "    </tr>\n",
       "    <tr>\n",
       "      <th>3736</th>\n",
       "      <td>63.6</td>\n",
       "    </tr>\n",
       "    <tr>\n",
       "      <th>3542</th>\n",
       "      <td>53.6</td>\n",
       "    </tr>\n",
       "  </tbody>\n",
       "</table>\n",
       "<p>16330 rows × 1 columns</p>\n",
       "</div>"
      ],
      "text/plain": [
       "       Percentage\n",
       "2819         63.0\n",
       "3511         36.6\n",
       "3633         63.0\n",
       "685          65.0\n",
       "26040        36.2\n",
       "...           ...\n",
       "346          55.0\n",
       "2350         53.6\n",
       "4914         64.0\n",
       "3736         63.6\n",
       "3542         53.6\n",
       "\n",
       "[16330 rows x 1 columns]"
      ]
     },
     "execution_count": 32,
     "metadata": {},
     "output_type": "execute_result"
    }
   ],
   "source": [
    "X_test"
   ]
  },
  {
   "cell_type": "code",
   "execution_count": 33,
   "id": "3c81eedb",
   "metadata": {},
   "outputs": [
    {
     "data": {
      "text/plain": [
       "array(['B', 'E', 'B', ..., 'B', 'B', 'C'], dtype=object)"
      ]
     },
     "execution_count": 33,
     "metadata": {},
     "output_type": "execute_result"
    }
   ],
   "source": [
    "Y_predict = clf.predict(X_test)\n",
    "Y_predict"
   ]
  },
  {
   "cell_type": "code",
   "execution_count": 35,
   "id": "7adf6076",
   "metadata": {},
   "outputs": [
    {
     "data": {
      "text/html": [
       "<div>\n",
       "<style scoped>\n",
       "    .dataframe tbody tr th:only-of-type {\n",
       "        vertical-align: middle;\n",
       "    }\n",
       "\n",
       "    .dataframe tbody tr th {\n",
       "        vertical-align: top;\n",
       "    }\n",
       "\n",
       "    .dataframe thead th {\n",
       "        text-align: right;\n",
       "    }\n",
       "</style>\n",
       "<table border=\"1\" class=\"dataframe\">\n",
       "  <thead>\n",
       "    <tr style=\"text-align: right;\">\n",
       "      <th></th>\n",
       "      <th>Percentage</th>\n",
       "      <th>Actual_Y</th>\n",
       "      <th>predication</th>\n",
       "    </tr>\n",
       "  </thead>\n",
       "  <tbody>\n",
       "    <tr>\n",
       "      <th>2819</th>\n",
       "      <td>63.0</td>\n",
       "      <td>B</td>\n",
       "      <td>B</td>\n",
       "    </tr>\n",
       "    <tr>\n",
       "      <th>3511</th>\n",
       "      <td>36.6</td>\n",
       "      <td>E</td>\n",
       "      <td>E</td>\n",
       "    </tr>\n",
       "    <tr>\n",
       "      <th>3633</th>\n",
       "      <td>63.0</td>\n",
       "      <td>B</td>\n",
       "      <td>B</td>\n",
       "    </tr>\n",
       "    <tr>\n",
       "      <th>685</th>\n",
       "      <td>65.0</td>\n",
       "      <td>B</td>\n",
       "      <td>B</td>\n",
       "    </tr>\n",
       "    <tr>\n",
       "      <th>26040</th>\n",
       "      <td>36.2</td>\n",
       "      <td>E</td>\n",
       "      <td>E</td>\n",
       "    </tr>\n",
       "    <tr>\n",
       "      <th>...</th>\n",
       "      <td>...</td>\n",
       "      <td>...</td>\n",
       "      <td>...</td>\n",
       "    </tr>\n",
       "    <tr>\n",
       "      <th>346</th>\n",
       "      <td>55.0</td>\n",
       "      <td>C</td>\n",
       "      <td>C</td>\n",
       "    </tr>\n",
       "    <tr>\n",
       "      <th>2350</th>\n",
       "      <td>53.6</td>\n",
       "      <td>C</td>\n",
       "      <td>C</td>\n",
       "    </tr>\n",
       "    <tr>\n",
       "      <th>4914</th>\n",
       "      <td>64.0</td>\n",
       "      <td>B</td>\n",
       "      <td>B</td>\n",
       "    </tr>\n",
       "    <tr>\n",
       "      <th>3736</th>\n",
       "      <td>63.6</td>\n",
       "      <td>B</td>\n",
       "      <td>B</td>\n",
       "    </tr>\n",
       "    <tr>\n",
       "      <th>3542</th>\n",
       "      <td>53.6</td>\n",
       "      <td>C</td>\n",
       "      <td>C</td>\n",
       "    </tr>\n",
       "  </tbody>\n",
       "</table>\n",
       "<p>16330 rows × 3 columns</p>\n",
       "</div>"
      ],
      "text/plain": [
       "       Percentage Actual_Y predication\n",
       "2819         63.0        B           B\n",
       "3511         36.6        E           E\n",
       "3633         63.0        B           B\n",
       "685          65.0        B           B\n",
       "26040        36.2        E           E\n",
       "...           ...      ...         ...\n",
       "346          55.0        C           C\n",
       "2350         53.6        C           C\n",
       "4914         64.0        B           B\n",
       "3736         63.6        B           B\n",
       "3542         53.6        C           C\n",
       "\n",
       "[16330 rows x 3 columns]"
      ]
     },
     "execution_count": 35,
     "metadata": {},
     "output_type": "execute_result"
    }
   ],
   "source": [
    "abc = X_test.copy()\n",
    "abc['Actual_Y'] = Y_test\n",
    "abc['predication'] = clf.predict(X_test)# add prediction column\n",
    "\n",
    "abc"
   ]
  },
  {
   "cell_type": "code",
   "execution_count": 36,
   "id": "4bc1823d",
   "metadata": {},
   "outputs": [
    {
     "name": "stdout",
     "output_type": "stream",
     "text": [
      "              precision    recall  f1-score   support\n",
      "\n",
      "           A       1.00      1.00      1.00      2283\n",
      "          A+       1.00      1.00      1.00      2375\n",
      "           B       1.00      1.00      1.00      2381\n",
      "           C       1.00      1.00      1.00      2349\n",
      "           D       1.00      1.00      1.00      2304\n",
      "           E       1.00      1.00      1.00      2316\n",
      "        Fail       1.00      1.00      1.00      2322\n",
      "\n",
      "    accuracy                           1.00     16330\n",
      "   macro avg       1.00      1.00      1.00     16330\n",
      "weighted avg       1.00      1.00      1.00     16330\n",
      "\n"
     ]
    }
   ],
   "source": [
    "print(metrics.classification_report(Y_test,Y_predict))"
   ]
  },
  {
   "cell_type": "code",
   "execution_count": 44,
   "id": "8cac0930",
   "metadata": {},
   "outputs": [
    {
     "name": "stderr",
     "output_type": "stream",
     "text": [
      "C:\\ProgramData\\Anaconda3\\lib\\site-packages\\sklearn\\base.py:450: UserWarning: X does not have valid feature names, but DecisionTreeClassifier was fitted with feature names\n",
      "  warnings.warn(\n"
     ]
    },
    {
     "data": {
      "text/plain": [
       "array(['B'], dtype=object)"
      ]
     },
     "execution_count": 44,
     "metadata": {},
     "output_type": "execute_result"
    }
   ],
   "source": [
    "clf.predict([[61]])"
   ]
  },
  {
   "cell_type": "markdown",
   "id": "a9bc3ef6",
   "metadata": {},
   "source": [
    "# Display learning Rules"
   ]
  },
  {
   "cell_type": "code",
   "execution_count": 45,
   "id": "58a4c9d8",
   "metadata": {},
   "outputs": [],
   "source": [
    "from sklearn import tree\n",
    "import matplotlib.pyplot as plt"
   ]
  },
  {
   "cell_type": "code",
   "execution_count": 46,
   "id": "9ccf4fa0",
   "metadata": {},
   "outputs": [
    {
     "data": {
      "text/plain": [
       "[Text(0.2222222222222222, 0.9166666666666666, 'X[0] <= 31.4\\ngini = 0.857\\nsamples = 38102\\nvalue = [5493, 5401, 5395, 5427, 5472, 5460, 5454]\\nclass = y[0]'),\n",
       " Text(0.1111111111111111, 0.75, 'gini = 0.0\\nsamples = 5454\\nvalue = [0, 0, 0, 0, 0, 0, 5454]\\nclass = y[6]'),\n",
       " Text(0.3333333333333333, 0.75, 'X[0] <= 39.3\\ngini = 0.833\\nsamples = 32648\\nvalue = [5493, 5401, 5395, 5427, 5472, 5460, 0]\\nclass = y[0]'),\n",
       " Text(0.2222222222222222, 0.5833333333333334, 'gini = 0.0\\nsamples = 5460\\nvalue = [0, 0, 0, 0, 0, 5460, 0]\\nclass = y[5]'),\n",
       " Text(0.4444444444444444, 0.5833333333333334, 'X[0] <= 49.0\\ngini = 0.8\\nsamples = 27188\\nvalue = [5493, 5401, 5395, 5427, 5472, 0, 0]\\nclass = y[0]'),\n",
       " Text(0.3333333333333333, 0.4166666666666667, 'gini = 0.0\\nsamples = 5472\\nvalue = [0, 0, 0, 0, 5472, 0, 0]\\nclass = y[4]'),\n",
       " Text(0.5555555555555556, 0.4166666666666667, 'X[0] <= 69.0\\ngini = 0.75\\nsamples = 21716\\nvalue = [5493, 5401, 5395, 5427, 0, 0, 0]\\nclass = y[0]'),\n",
       " Text(0.3333333333333333, 0.25, 'X[0] <= 59.1\\ngini = 0.5\\nsamples = 10822\\nvalue = [0, 0, 5395, 5427, 0, 0, 0]\\nclass = y[3]'),\n",
       " Text(0.2222222222222222, 0.08333333333333333, 'gini = 0.0\\nsamples = 5427\\nvalue = [0, 0, 0, 5427, 0, 0, 0]\\nclass = y[3]'),\n",
       " Text(0.4444444444444444, 0.08333333333333333, 'gini = 0.0\\nsamples = 5395\\nvalue = [0, 0, 5395, 0, 0, 0, 0]\\nclass = y[2]'),\n",
       " Text(0.7777777777777778, 0.25, 'X[0] <= 79.7\\ngini = 0.5\\nsamples = 10894\\nvalue = [5493, 5401, 0, 0, 0, 0, 0]\\nclass = y[0]'),\n",
       " Text(0.6666666666666666, 0.08333333333333333, 'gini = 0.0\\nsamples = 5493\\nvalue = [5493, 0, 0, 0, 0, 0, 0]\\nclass = y[0]'),\n",
       " Text(0.8888888888888888, 0.08333333333333333, 'gini = 0.0\\nsamples = 5401\\nvalue = [0, 5401, 0, 0, 0, 0, 0]\\nclass = y[1]')]"
      ]
     },
     "execution_count": 46,
     "metadata": {},
     "output_type": "execute_result"
    },
    {
     "data": {
      "image/png": "[encoded data removed]",
      "text/plain": [
       "<Figure size 1500x1000 with 1 Axes>"
      ]
     },
     "metadata": {},
     "output_type": "display_data"
    }
   ],
   "source": [
    "plt.figure(figsize=(15,10))\n",
    "tree.plot_tree(clf, filled=True, class_names=True, fontsize=8)"
   ]
  },
  {
   "cell_type": "markdown",
   "id": "20d5daa3",
   "metadata": {},
   "source": [
    "<img src=\"https://www.researchgate.net/profile/Jessica-Pickles-2/publication/339279807/figure/fig1/AS:891889284829201@1589654384981/Random-forests-are-collections-of-randomised-decision-trees-A-A-single-decision-tree.ppm\">"
   ]
  },
  {
   "cell_type": "code",
   "execution_count": null,
   "id": "9d6b5494",
   "metadata": {},
   "outputs": [],
   "source": []
  },
  {
   "cell_type": "code",
   "execution_count": null,
   "id": "bcddf30c",
   "metadata": {},
   "outputs": [],
   "source": []
  },
  {
   "cell_type": "code",
   "execution_count": null,
   "id": "489b3b17",
   "metadata": {},
   "outputs": [],
   "source": []
  },
  {
   "cell_type": "code",
   "execution_count": null,
   "id": "1a2e6113",
   "metadata": {},
   "outputs": [],
   "source": []
  }
 ],
 "metadata": {
  "kernelspec": {
   "display_name": "Python 3 (ipykernel)",
   "language": "python",
   "name": "python3"
  },
  "language_info": {
   "codemirror_mode": {
    "name": "ipython",
    "version": 3
   },
   "file_extension": ".py",
   "mimetype": "text/x-python",
   "name": "python",
   "nbconvert_exporter": "python",
   "pygments_lexer": "ipython3",
   "version": "3.9.13"
  }
 },
 "nbformat": 4,
 "nbformat_minor": 5
}
