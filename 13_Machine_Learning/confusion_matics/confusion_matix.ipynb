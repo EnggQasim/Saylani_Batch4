{
 "cells": [
  {
   "cell_type": "markdown",
   "id": "ba0ca450",
   "metadata": {},
   "source": [
    "<img src='https://miro.medium.com/v2/resize:fit:712/1*Z54JgbS4DUwWSknhDCvNTQ.png'>"
   ]
  },
  {
   "cell_type": "markdown",
   "id": "09fb9a2f",
   "metadata": {},
   "source": [
    "<img src='https://www.unite.ai/wp-content/uploads/2019/12/Preventive_Medicine-e1576294312614.png'>"
   ]
  },
  {
   "cell_type": "markdown",
   "id": "77743cb6",
   "metadata": {},
   "source": [
    "<img src=\"https://blog.techcraft.org/wp-content/uploads/2023/02/How-to-Calculate-Precision-Recall-F1-and-More-for-Deep-Learning-Models.jpg\">"
   ]
  },
  {
   "cell_type": "code",
   "execution_count": null,
   "id": "29c009c8",
   "metadata": {},
   "outputs": [],
   "source": []
  }
 ],
 "metadata": {
  "kernelspec": {
   "display_name": "Python 3 (ipykernel)",
   "language": "python",
   "name": "python3"
  },
  "language_info": {
   "codemirror_mode": {
    "name": "ipython",
    "version": 3
   },
   "file_extension": ".py",
   "mimetype": "text/x-python",
   "name": "python",
   "nbconvert_exporter": "python",
   "pygments_lexer": "ipython3",
   "version": "3.9.13"
  }
 },
 "nbformat": 4,
 "nbformat_minor": 5
}
