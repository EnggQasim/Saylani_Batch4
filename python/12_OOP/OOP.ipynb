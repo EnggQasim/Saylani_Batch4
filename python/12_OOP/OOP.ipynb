{
 "cells": [
  {
   "cell_type": "markdown",
   "id": "20745e75",
   "metadata": {},
   "source": [
    "# OOP"
   ]
  },
  {
   "cell_type": "markdown",
   "id": "31cea404",
   "metadata": {},
   "source": [
    "### Class"
   ]
  },
  {
   "cell_type": "markdown",
   "id": "b5f95e93",
   "metadata": {},
   "source": [
    "### Structure programming\n",
    "* see problems"
   ]
  },
  {
   "cell_type": "code",
   "execution_count": 2,
   "id": "22ca15da",
   "metadata": {},
   "outputs": [],
   "source": [
    "s1_name = \"Qasim\"\n",
    "s2_name = \"Asif\"\n",
    "s3_name = \"Hamza\"\n",
    "\n",
    "def s1_login(): pass\n",
    "def s2_login(): pass\n",
    "def s3_login(): pass"
   ]
  },
  {
   "cell_type": "markdown",
   "id": "610fd44b",
   "metadata": {},
   "source": [
    "## OOPs\n"
   ]
  },
  {
   "cell_type": "code",
   "execution_count": 6,
   "id": "73bf8af8",
   "metadata": {},
   "outputs": [],
   "source": [
    "class Student():\n",
    "    def __init__(self, sname): # constructor\n",
    "        #self.attribute = value\n",
    "        self.name = sname # attribute\n",
    "        self.father_name = None\n",
    "        \n",
    "    def login(self, user,password):\n",
    "        pass\n",
    "        \n",
    "s1 = Student(\"Qasim\")   \n",
    "s2 = Student(\"Asif\")\n",
    "s3 = Student(\"Hamza\")"
   ]
  },
  {
   "cell_type": "code",
   "execution_count": 7,
   "id": "1ed513df",
   "metadata": {},
   "outputs": [
    {
     "name": "stdout",
     "output_type": "stream",
     "text": [
      "Qasim\n",
      "Asif\n",
      "Hamza\n"
     ]
    }
   ],
   "source": [
    "print(s1.name)\n",
    "print(s2.name)\n",
    "print(s3.name)"
   ]
  },
  {
   "cell_type": "code",
   "execution_count": 9,
   "id": "38dd8bcc",
   "metadata": {},
   "outputs": [],
   "source": [
    "s1.login('a','b')"
   ]
  },
  {
   "cell_type": "markdown",
   "id": "39b04684",
   "metadata": {},
   "source": [
    "### class Variable"
   ]
  },
  {
   "cell_type": "code",
   "execution_count": 15,
   "id": "7ff1772e",
   "metadata": {},
   "outputs": [],
   "source": [
    "class Student():\n",
    "    counter = 100\n",
    "    def __init__(self, sname): # constructor\n",
    "        #self.attribute = value\n",
    "        self.name = sname # attribute\n",
    "        self.father_name = None\n",
    "        \n",
    "    def login(self, user,password):\n",
    "        pass\n",
    "        \n",
    "s1 = Student(\"Qasim\")   \n",
    "s2 = Student(\"Asif\")\n",
    "s3 = Student(\"Hamza\")"
   ]
  },
  {
   "cell_type": "code",
   "execution_count": 16,
   "id": "7bc43d53",
   "metadata": {},
   "outputs": [
    {
     "data": {
      "text/plain": [
       "100"
      ]
     },
     "execution_count": 16,
     "metadata": {},
     "output_type": "execute_result"
    }
   ],
   "source": [
    "Student.counter"
   ]
  },
  {
   "cell_type": "code",
   "execution_count": 17,
   "id": "75a293a8",
   "metadata": {},
   "outputs": [
    {
     "data": {
      "text/plain": [
       "100"
      ]
     },
     "execution_count": 17,
     "metadata": {},
     "output_type": "execute_result"
    }
   ],
   "source": [
    "s1.counter"
   ]
  },
  {
   "cell_type": "code",
   "execution_count": 18,
   "id": "f40eca3f",
   "metadata": {},
   "outputs": [
    {
     "data": {
      "text/plain": [
       "100"
      ]
     },
     "execution_count": 18,
     "metadata": {},
     "output_type": "execute_result"
    }
   ],
   "source": [
    "s2.counter"
   ]
  },
  {
   "cell_type": "code",
   "execution_count": 19,
   "id": "2336e44d",
   "metadata": {},
   "outputs": [
    {
     "data": {
      "text/plain": [
       "100"
      ]
     },
     "execution_count": 19,
     "metadata": {},
     "output_type": "execute_result"
    }
   ],
   "source": [
    "s3.counter"
   ]
  },
  {
   "cell_type": "code",
   "execution_count": 22,
   "id": "189edbcf",
   "metadata": {},
   "outputs": [
    {
     "name": "stdout",
     "output_type": "stream",
     "text": [
      "1\n",
      "2\n",
      "3\n"
     ]
    }
   ],
   "source": [
    "class Student():\n",
    "    counter = 0\n",
    "    def __init__(self, sname): # constructor\n",
    "        #self.attribute = value\n",
    "        self.name = sname # attribute\n",
    "        self.father_name = None\n",
    "        Student.counter += 1\n",
    "        \n",
    "    def login(self, user,password):\n",
    "        pass\n",
    "        \n",
    "s1 = Student(\"Qasim\")\n",
    "print(s1.counter)\n",
    "s2 = Student(\"Asif\")\n",
    "print(s1.counter)\n",
    "s3 = Student(\"Hamza\")\n",
    "print(s1.counter)"
   ]
  },
  {
   "cell_type": "code",
   "execution_count": 21,
   "id": "ee988fd6",
   "metadata": {},
   "outputs": [
    {
     "data": {
      "text/plain": [
       "3"
      ]
     },
     "execution_count": 21,
     "metadata": {},
     "output_type": "execute_result"
    }
   ],
   "source": [
    "Student.counter"
   ]
  },
  {
   "cell_type": "code",
   "execution_count": null,
   "id": "babbf39a",
   "metadata": {},
   "outputs": [],
   "source": []
  }
 ],
 "metadata": {
  "kernelspec": {
   "display_name": "Python 3 (ipykernel)",
   "language": "python",
   "name": "python3"
  },
  "language_info": {
   "codemirror_mode": {
    "name": "ipython",
    "version": 3
   },
   "file_extension": ".py",
   "mimetype": "text/x-python",
   "name": "python",
   "nbconvert_exporter": "python",
   "pygments_lexer": "ipython3",
   "version": "3.9.13"
  }
 },
 "nbformat": 4,
 "nbformat_minor": 5
}
