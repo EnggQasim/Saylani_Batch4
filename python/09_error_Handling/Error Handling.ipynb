{
 "cells": [
  {
   "cell_type": "markdown",
   "id": "cb173381",
   "metadata": {},
   "source": [
    "# Error Handling\n",
    "* Logical Error\n",
    "    * soluation Testing\n",
    "    * munal check line by line\n",
    "* Development Time Error\n",
    "    * syntax\n",
    "    * expression error\n",
    "    * IDE provide intellisence\n",
    "* Run Time Error\n",
    "    * when your application runing on production envornment\n",
    "    * exception handling\n",
    "        * except\n",
    "        * try\n",
    "        * else\n",
    "        * finally"
   ]
  },
  {
   "cell_type": "code",
   "execution_count": 1,
   "id": "aafa4e13",
   "metadata": {},
   "outputs": [
    {
     "name": "stdout",
     "output_type": "stream",
     "text": [
      "line1\n",
      "line2\n",
      "0.6666666666666666\n",
      "line4\n",
      "line5\n"
     ]
    }
   ],
   "source": [
    "print(\"line1\")\n",
    "print(\"line2\")\n",
    "\n",
    "print(2 / 3)\n",
    "\n",
    "print(\"line3\")\n",
    "print(\"line4\")"
   ]
  },
  {
   "cell_type": "code",
   "execution_count": 2,
   "id": "aa9ae0d8",
   "metadata": {},
   "outputs": [
    {
     "name": "stdout",
     "output_type": "stream",
     "text": [
      "line1\n",
      "line2\n"
     ]
    },
    {
     "ename": "ZeroDivisionError",
     "evalue": "division by zero",
     "output_type": "error",
     "traceback": [
      "\u001b[1;31m---------------------------------------------------------------------------\u001b[0m",
      "\u001b[1;31mZeroDivisionError\u001b[0m                         Traceback (most recent call last)",
      "\u001b[1;32m~\\AppData\\Local\\Temp\\ipykernel_8864\\1272630893.py\u001b[0m in \u001b[0;36m<module>\u001b[1;34m\u001b[0m\n\u001b[0;32m      2\u001b[0m \u001b[0mprint\u001b[0m\u001b[1;33m(\u001b[0m\u001b[1;34m\"line2\"\u001b[0m\u001b[1;33m)\u001b[0m\u001b[1;33m\u001b[0m\u001b[1;33m\u001b[0m\u001b[0m\n\u001b[0;32m      3\u001b[0m \u001b[1;33m\u001b[0m\u001b[0m\n\u001b[1;32m----> 4\u001b[1;33m \u001b[0mprint\u001b[0m\u001b[1;33m(\u001b[0m\u001b[1;36m2\u001b[0m \u001b[1;33m/\u001b[0m \u001b[1;36m0\u001b[0m\u001b[1;33m)\u001b[0m\u001b[1;33m\u001b[0m\u001b[1;33m\u001b[0m\u001b[0m\n\u001b[0m\u001b[0;32m      5\u001b[0m \u001b[1;33m\u001b[0m\u001b[0m\n\u001b[0;32m      6\u001b[0m \u001b[0mprint\u001b[0m\u001b[1;33m(\u001b[0m\u001b[1;34m\"line3\"\u001b[0m\u001b[1;33m)\u001b[0m\u001b[1;33m\u001b[0m\u001b[1;33m\u001b[0m\u001b[0m\n",
      "\u001b[1;31mZeroDivisionError\u001b[0m: division by zero"
     ]
    }
   ],
   "source": [
    "print(\"line1\")\n",
    "print(\"line2\")\n",
    "\n",
    "print(2 / 0)\n",
    "\n",
    "print(\"line3\")\n",
    "print(\"line4\")"
   ]
  },
  {
   "cell_type": "code",
   "execution_count": 3,
   "id": "5db690b8",
   "metadata": {},
   "outputs": [
    {
     "name": "stdout",
     "output_type": "stream",
     "text": [
      "line1\n",
      "line2\n"
     ]
    },
    {
     "ename": "IndexError",
     "evalue": "list index out of range",
     "output_type": "error",
     "traceback": [
      "\u001b[1;31m---------------------------------------------------------------------------\u001b[0m",
      "\u001b[1;31mIndexError\u001b[0m                                Traceback (most recent call last)",
      "\u001b[1;32m~\\AppData\\Local\\Temp\\ipykernel_8864\\210679777.py\u001b[0m in \u001b[0;36m<module>\u001b[1;34m\u001b[0m\n\u001b[0;32m      3\u001b[0m \u001b[1;33m\u001b[0m\u001b[0m\n\u001b[0;32m      4\u001b[0m \u001b[0ml\u001b[0m \u001b[1;33m=\u001b[0m \u001b[1;33m[\u001b[0m\u001b[1;36m1\u001b[0m\u001b[1;33m,\u001b[0m\u001b[1;36m2\u001b[0m\u001b[1;33m,\u001b[0m\u001b[1;36m3\u001b[0m\u001b[1;33m]\u001b[0m\u001b[1;33m\u001b[0m\u001b[1;33m\u001b[0m\u001b[0m\n\u001b[1;32m----> 5\u001b[1;33m \u001b[0mprint\u001b[0m\u001b[1;33m(\u001b[0m\u001b[0ml\u001b[0m\u001b[1;33m[\u001b[0m\u001b[1;36m7\u001b[0m\u001b[1;33m]\u001b[0m\u001b[1;33m)\u001b[0m\u001b[1;31m# print index 7 value\u001b[0m\u001b[1;33m\u001b[0m\u001b[1;33m\u001b[0m\u001b[0m\n\u001b[0m\u001b[0;32m      6\u001b[0m \u001b[1;33m\u001b[0m\u001b[0m\n\u001b[0;32m      7\u001b[0m \u001b[0mprint\u001b[0m\u001b[1;33m(\u001b[0m\u001b[1;34m\"line3\"\u001b[0m\u001b[1;33m)\u001b[0m\u001b[1;33m\u001b[0m\u001b[1;33m\u001b[0m\u001b[0m\n",
      "\u001b[1;31mIndexError\u001b[0m: list index out of range"
     ]
    }
   ],
   "source": [
    "print(\"line1\")\n",
    "print(\"line2\")\n",
    "\n",
    "l = [1,2,3]\n",
    "print(l[7])# print index 7 value\n",
    "\n",
    "print(\"line3\")\n",
    "print(\"line4\")"
   ]
  },
  {
   "cell_type": "code",
   "execution_count": 4,
   "id": "35a65bcc",
   "metadata": {},
   "outputs": [
    {
     "name": "stdout",
     "output_type": "stream",
     "text": [
      "line1\n",
      "line2\n"
     ]
    },
    {
     "ename": "KeyError",
     "evalue": "'education'",
     "output_type": "error",
     "traceback": [
      "\u001b[1;31m---------------------------------------------------------------------------\u001b[0m",
      "\u001b[1;31mKeyError\u001b[0m                                  Traceback (most recent call last)",
      "\u001b[1;32m~\\AppData\\Local\\Temp\\ipykernel_8864\\1474507748.py\u001b[0m in \u001b[0;36m<module>\u001b[1;34m\u001b[0m\n\u001b[0;32m      4\u001b[0m \u001b[0md\u001b[0m \u001b[1;33m=\u001b[0m \u001b[1;33m{\u001b[0m\u001b[1;34m\"id\"\u001b[0m\u001b[1;33m:\u001b[0m\u001b[1;36m1\u001b[0m\u001b[1;33m,\u001b[0m \u001b[1;34m\"name\"\u001b[0m\u001b[1;33m:\u001b[0m\u001b[1;34m\"Qasim\"\u001b[0m\u001b[1;33m}\u001b[0m\u001b[1;33m\u001b[0m\u001b[1;33m\u001b[0m\u001b[0m\n\u001b[0;32m      5\u001b[0m \u001b[1;33m\u001b[0m\u001b[0m\n\u001b[1;32m----> 6\u001b[1;33m \u001b[0mprint\u001b[0m\u001b[1;33m(\u001b[0m\u001b[0md\u001b[0m\u001b[1;33m[\u001b[0m\u001b[1;34m'education'\u001b[0m\u001b[1;33m]\u001b[0m\u001b[1;33m)\u001b[0m\u001b[1;31m# get education key from dictionary\u001b[0m\u001b[1;33m\u001b[0m\u001b[1;33m\u001b[0m\u001b[0m\n\u001b[0m\u001b[0;32m      7\u001b[0m \u001b[1;33m\u001b[0m\u001b[0m\n\u001b[0;32m      8\u001b[0m \u001b[0mprint\u001b[0m\u001b[1;33m(\u001b[0m\u001b[1;34m\"line3\"\u001b[0m\u001b[1;33m)\u001b[0m\u001b[1;33m\u001b[0m\u001b[1;33m\u001b[0m\u001b[0m\n",
      "\u001b[1;31mKeyError\u001b[0m: 'education'"
     ]
    }
   ],
   "source": [
    "print(\"line1\")\n",
    "print(\"line2\")\n",
    "\n",
    "d = {\"id\":1, \"name\":\"Qasim\"}\n",
    "\n",
    "print(d['education'])# get education key from dictionary\n",
    "\n",
    "print(\"line3\")\n",
    "print(\"line4\")"
   ]
  },
  {
   "cell_type": "code",
   "execution_count": 5,
   "id": "99985725",
   "metadata": {},
   "outputs": [
    {
     "name": "stdout",
     "output_type": "stream",
     "text": [
      "line1\n",
      "line2\n"
     ]
    },
    {
     "ename": "FileNotFoundError",
     "evalue": "[Errno 2] No such file or directory: './abc.txt'",
     "output_type": "error",
     "traceback": [
      "\u001b[1;31m---------------------------------------------------------------------------\u001b[0m",
      "\u001b[1;31mFileNotFoundError\u001b[0m                         Traceback (most recent call last)",
      "\u001b[1;32m~\\AppData\\Local\\Temp\\ipykernel_8864\\2151203003.py\u001b[0m in \u001b[0;36m<module>\u001b[1;34m\u001b[0m\n\u001b[0;32m      2\u001b[0m \u001b[0mprint\u001b[0m\u001b[1;33m(\u001b[0m\u001b[1;34m\"line2\"\u001b[0m\u001b[1;33m)\u001b[0m\u001b[1;33m\u001b[0m\u001b[1;33m\u001b[0m\u001b[0m\n\u001b[0;32m      3\u001b[0m \u001b[1;31m#            file\u001b[0m\u001b[1;33m\u001b[0m\u001b[1;33m\u001b[0m\u001b[0m\n\u001b[1;32m----> 4\u001b[1;33m \u001b[1;32mwith\u001b[0m \u001b[0mopen\u001b[0m\u001b[1;33m(\u001b[0m\u001b[1;34m\"./abc.txt\"\u001b[0m\u001b[1;33m)\u001b[0m \u001b[1;32mas\u001b[0m \u001b[0mf\u001b[0m\u001b[1;33m:\u001b[0m\u001b[1;33m\u001b[0m\u001b[1;33m\u001b[0m\u001b[0m\n\u001b[0m\u001b[0;32m      5\u001b[0m     \u001b[0mprint\u001b[0m\u001b[1;33m(\u001b[0m\u001b[0mf\u001b[0m\u001b[1;33m.\u001b[0m\u001b[0mread\u001b[0m\u001b[1;33m(\u001b[0m\u001b[1;33m)\u001b[0m\u001b[1;33m)\u001b[0m\u001b[1;33m\u001b[0m\u001b[1;33m\u001b[0m\u001b[0m\n\u001b[0;32m      6\u001b[0m \u001b[1;33m\u001b[0m\u001b[0m\n",
      "\u001b[1;31mFileNotFoundError\u001b[0m: [Errno 2] No such file or directory: './abc.txt'"
     ]
    }
   ],
   "source": [
    "print(\"line1\")\n",
    "print(\"line2\")\n",
    "#            file\n",
    "with open(\"./abc.txt\") as f:\n",
    "    print(f.read())\n",
    "\n",
    "print(\"line3\")\n",
    "print(\"line4\")"
   ]
  },
  {
   "cell_type": "code",
   "execution_count": 6,
   "id": "0dc4274c",
   "metadata": {},
   "outputs": [
    {
     "name": "stdout",
     "output_type": "stream",
     "text": [
      "line1\n",
      "line2\n"
     ]
    },
    {
     "ename": "TypeError",
     "evalue": "'tuple' object does not support item assignment",
     "output_type": "error",
     "traceback": [
      "\u001b[1;31m---------------------------------------------------------------------------\u001b[0m",
      "\u001b[1;31mTypeError\u001b[0m                                 Traceback (most recent call last)",
      "\u001b[1;32m~\\AppData\\Local\\Temp\\ipykernel_8864\\1394577146.py\u001b[0m in \u001b[0;36m<module>\u001b[1;34m\u001b[0m\n\u001b[0;32m      3\u001b[0m \u001b[1;33m\u001b[0m\u001b[0m\n\u001b[0;32m      4\u001b[0m \u001b[0ml\u001b[0m \u001b[1;33m=\u001b[0m \u001b[1;33m(\u001b[0m\u001b[1;36m1\u001b[0m\u001b[1;33m,\u001b[0m\u001b[1;36m2\u001b[0m\u001b[1;33m,\u001b[0m\u001b[1;36m3\u001b[0m\u001b[1;33m)\u001b[0m\u001b[1;33m\u001b[0m\u001b[1;33m\u001b[0m\u001b[0m\n\u001b[1;32m----> 5\u001b[1;33m \u001b[0ml\u001b[0m\u001b[1;33m[\u001b[0m\u001b[1;36m0\u001b[0m\u001b[1;33m]\u001b[0m \u001b[1;33m=\u001b[0m \u001b[1;36m7\u001b[0m\u001b[1;33m\u001b[0m\u001b[1;33m\u001b[0m\u001b[0m\n\u001b[0m\u001b[0;32m      6\u001b[0m \u001b[0mprint\u001b[0m\u001b[1;33m(\u001b[0m\u001b[0ml\u001b[0m\u001b[1;33m)\u001b[0m\u001b[1;33m\u001b[0m\u001b[1;33m\u001b[0m\u001b[0m\n\u001b[0;32m      7\u001b[0m \u001b[0mprint\u001b[0m\u001b[1;33m(\u001b[0m\u001b[1;34m\"line3\"\u001b[0m\u001b[1;33m)\u001b[0m\u001b[1;33m\u001b[0m\u001b[1;33m\u001b[0m\u001b[0m\n",
      "\u001b[1;31mTypeError\u001b[0m: 'tuple' object does not support item assignment"
     ]
    }
   ],
   "source": [
    "print(\"line1\")\n",
    "print(\"line2\")\n",
    "\n",
    "l = (1,2,3)\n",
    "l[0] = 7\n",
    "print(l)\n",
    "print(\"line3\")\n",
    "print(\"line4\")"
   ]
  },
  {
   "cell_type": "code",
   "execution_count": 7,
   "id": "19880a6b",
   "metadata": {},
   "outputs": [
    {
     "name": "stdout",
     "output_type": "stream",
     "text": [
      "line1\n",
      "line2\n"
     ]
    },
    {
     "ename": "TypeError",
     "evalue": "unsupported operand type(s) for +: 'int' and 'str'",
     "output_type": "error",
     "traceback": [
      "\u001b[1;31m---------------------------------------------------------------------------\u001b[0m",
      "\u001b[1;31mTypeError\u001b[0m                                 Traceback (most recent call last)",
      "\u001b[1;32m~\\AppData\\Local\\Temp\\ipykernel_8864\\720153998.py\u001b[0m in \u001b[0;36m<module>\u001b[1;34m\u001b[0m\n\u001b[0;32m      2\u001b[0m \u001b[0mprint\u001b[0m\u001b[1;33m(\u001b[0m\u001b[1;34m\"line2\"\u001b[0m\u001b[1;33m)\u001b[0m\u001b[1;33m\u001b[0m\u001b[1;33m\u001b[0m\u001b[0m\n\u001b[0;32m      3\u001b[0m \u001b[1;33m\u001b[0m\u001b[0m\n\u001b[1;32m----> 4\u001b[1;33m \u001b[0mprint\u001b[0m\u001b[1;33m(\u001b[0m\u001b[1;36m2\u001b[0m \u001b[1;33m+\u001b[0m \u001b[1;34m\"Pakistan\"\u001b[0m\u001b[1;33m)\u001b[0m\u001b[1;33m\u001b[0m\u001b[1;33m\u001b[0m\u001b[0m\n\u001b[0m\u001b[0;32m      5\u001b[0m \u001b[1;33m\u001b[0m\u001b[0m\n\u001b[0;32m      6\u001b[0m \u001b[0mprint\u001b[0m\u001b[1;33m(\u001b[0m\u001b[1;34m\"line3\"\u001b[0m\u001b[1;33m)\u001b[0m\u001b[1;33m\u001b[0m\u001b[1;33m\u001b[0m\u001b[0m\n",
      "\u001b[1;31mTypeError\u001b[0m: unsupported operand type(s) for +: 'int' and 'str'"
     ]
    }
   ],
   "source": [
    "print(\"line1\")\n",
    "print(\"line2\")\n",
    "\n",
    "print(2 + \"Pakistan\")\n",
    "\n",
    "print(\"line3\")\n",
    "print(\"line4\")"
   ]
  },
  {
   "cell_type": "code",
   "execution_count": 8,
   "id": "48805a68",
   "metadata": {},
   "outputs": [
    {
     "name": "stdout",
     "output_type": "stream",
     "text": [
      "line1\n",
      "line2\n",
      "7\n",
      "line3\n",
      "line4\n"
     ]
    }
   ],
   "source": [
    "print(\"line1\")\n",
    "print(\"line2\")\n",
    "\n",
    "a = 7.2\n",
    "print(int(a))\n",
    "print(\"line3\")\n",
    "print(\"line4\")"
   ]
  },
  {
   "cell_type": "code",
   "execution_count": 9,
   "id": "029ec439",
   "metadata": {},
   "outputs": [
    {
     "name": "stdout",
     "output_type": "stream",
     "text": [
      "line1\n",
      "line2\n"
     ]
    },
    {
     "ename": "ValueError",
     "evalue": "invalid literal for int() with base 10: '7.2'",
     "output_type": "error",
     "traceback": [
      "\u001b[1;31m---------------------------------------------------------------------------\u001b[0m",
      "\u001b[1;31mValueError\u001b[0m                                Traceback (most recent call last)",
      "\u001b[1;32m~\\AppData\\Local\\Temp\\ipykernel_8864\\3753105587.py\u001b[0m in \u001b[0;36m<module>\u001b[1;34m\u001b[0m\n\u001b[0;32m      3\u001b[0m \u001b[1;33m\u001b[0m\u001b[0m\n\u001b[0;32m      4\u001b[0m \u001b[0ma\u001b[0m \u001b[1;33m=\u001b[0m \u001b[1;34m\"7.2\"\u001b[0m\u001b[1;33m\u001b[0m\u001b[1;33m\u001b[0m\u001b[0m\n\u001b[1;32m----> 5\u001b[1;33m \u001b[0mprint\u001b[0m\u001b[1;33m(\u001b[0m\u001b[0mint\u001b[0m\u001b[1;33m(\u001b[0m\u001b[0ma\u001b[0m\u001b[1;33m)\u001b[0m\u001b[1;33m)\u001b[0m\u001b[1;33m\u001b[0m\u001b[1;33m\u001b[0m\u001b[0m\n\u001b[0m\u001b[0;32m      6\u001b[0m \u001b[0mprint\u001b[0m\u001b[1;33m(\u001b[0m\u001b[1;34m\"line3\"\u001b[0m\u001b[1;33m)\u001b[0m\u001b[1;33m\u001b[0m\u001b[1;33m\u001b[0m\u001b[0m\n\u001b[0;32m      7\u001b[0m \u001b[0mprint\u001b[0m\u001b[1;33m(\u001b[0m\u001b[1;34m\"line4\"\u001b[0m\u001b[1;33m)\u001b[0m\u001b[1;33m\u001b[0m\u001b[1;33m\u001b[0m\u001b[0m\n",
      "\u001b[1;31mValueError\u001b[0m: invalid literal for int() with base 10: '7.2'"
     ]
    }
   ],
   "source": [
    "print(\"line1\")\n",
    "print(\"line2\")\n",
    "\n",
    "a = \"7.2\"\n",
    "print(int(a))\n",
    "print(\"line3\")\n",
    "print(\"line4\")"
   ]
  },
  {
   "cell_type": "code",
   "execution_count": 10,
   "id": "3c24e713",
   "metadata": {},
   "outputs": [
    {
     "name": "stdout",
     "output_type": "stream",
     "text": [
      "line1\n",
      "line2\n",
      "7\n",
      "line3\n",
      "line4\n"
     ]
    }
   ],
   "source": [
    "print(\"line1\")\n",
    "print(\"line2\")\n",
    "\n",
    "a = \"7\"\n",
    "print(int(a))\n",
    "print(\"line3\")\n",
    "print(\"line4\")"
   ]
  },
  {
   "cell_type": "markdown",
   "id": "67785cc7",
   "metadata": {},
   "source": [
    "# Now Handle run time error using\n",
    "* try\n",
    "    * if you think any line where error can be generate you should write in this block\n",
    "* except\n",
    "    * you can define perticular **error class** here\n",
    "    * what action you have to performe after occuring the error you can write here"
   ]
  },
  {
   "cell_type": "code",
   "execution_count": 13,
   "id": "35577e4b",
   "metadata": {},
   "outputs": [
    {
     "name": "stdout",
     "output_type": "stream",
     "text": [
      "line1\n",
      "line2\n",
      "0.4\n",
      "line3\n",
      "line4\n"
     ]
    }
   ],
   "source": [
    "print(\"line1\")\n",
    "print(\"line2\")\n",
    "\n",
    "try:\n",
    "    print(2 / 5)\n",
    "except (ZeroDivisionError):\n",
    "    print(\"You can't divid any value with Zero!\")\n",
    "    \n",
    "\n",
    "print(\"line3\")\n",
    "print(\"line4\")"
   ]
  },
  {
   "cell_type": "code",
   "execution_count": 14,
   "id": "a2ccede2",
   "metadata": {},
   "outputs": [
    {
     "name": "stdout",
     "output_type": "stream",
     "text": [
      "line1\n",
      "line2\n",
      "You can't divid any value with Zero!\n",
      "line3\n",
      "line4\n"
     ]
    }
   ],
   "source": [
    "print(\"line1\")\n",
    "print(\"line2\")\n",
    "\n",
    "try:\n",
    "    print(2 / 0)\n",
    "except (ZeroDivisionError):\n",
    "    print(\"You can't divid any value with Zero!\")\n",
    "    \n",
    "\n",
    "print(\"line3\")\n",
    "print(\"line4\")"
   ]
  },
  {
   "cell_type": "code",
   "execution_count": 19,
   "id": "414b53a6",
   "metadata": {},
   "outputs": [
    {
     "name": "stdout",
     "output_type": "stream",
     "text": [
      "line1\n",
      "line2\n",
      "Index not availabe in list\n",
      "line3\n",
      "line4\n"
     ]
    }
   ],
   "source": [
    "print(\"line1\")\n",
    "print(\"line2\")\n",
    "\n",
    "l = [1,2,3,4]\n",
    "\n",
    "try:\n",
    "    print(l[7])# index 7\n",
    "except (IndexError):\n",
    "    print(\"Index not availabe in list\")\n",
    "    \n",
    "\n",
    "print(\"line3\")\n",
    "print(\"line4\")"
   ]
  },
  {
   "cell_type": "code",
   "execution_count": 26,
   "id": "18ea8ead",
   "metadata": {},
   "outputs": [
    {
     "name": "stdout",
     "output_type": "stream",
     "text": [
      "line1\n",
      "line2\n",
      "0.4\n",
      "Something is wrong!\n",
      "line3\n",
      "line4\n"
     ]
    }
   ],
   "source": [
    "print(\"line1\")\n",
    "print(\"line2\")\n",
    "\n",
    "l = [1,2,3,4]\n",
    "\n",
    "try:\n",
    "    print(2 / 5) # zero \n",
    "    print(l[7])# index 7\n",
    "    open('abc.txt') # file not found\n",
    "except (ZeroDivisionError,IndexError,FileNotFoundError):\n",
    "    print(\"Something is wrong!\")\n",
    "    \n",
    "\n",
    "print(\"line3\")\n",
    "print(\"line4\")"
   ]
  },
  {
   "cell_type": "code",
   "execution_count": 27,
   "id": "e875676e",
   "metadata": {},
   "outputs": [
    {
     "name": "stdout",
     "output_type": "stream",
     "text": [
      "line1\n",
      "line2\n",
      "0.4\n",
      "Index not found!\n",
      "File Not found in giving path!\n",
      "line3\n",
      "line4\n"
     ]
    }
   ],
   "source": [
    "print(\"line1\")\n",
    "print(\"line2\")\n",
    "\n",
    "l = [1,2,3,4]\n",
    "\n",
    "try:\n",
    "    print(2 / 5) # zero \n",
    "except (ZeroDivisionError):\n",
    "    print(\"You can't divide any value with zero\")\n",
    "    \n",
    "    \n",
    "try: \n",
    "    print(l[7])# index 7\n",
    "    open('abc.txt') # file not found\n",
    "except (IndexError):\n",
    "    print(\"Index not found!\")\n",
    "    \n",
    "    \n",
    "try:\n",
    "    open('abc.txt') # file not found\n",
    "except (FileNotFoundError):\n",
    "    print(\"File Not found in giving path!\")\n",
    "    \n",
    "\n",
    "print(\"line3\")\n",
    "print(\"line4\")"
   ]
  },
  {
   "cell_type": "code",
   "execution_count": 29,
   "id": "1c54f0ec",
   "metadata": {},
   "outputs": [
    {
     "name": "stdout",
     "output_type": "stream",
     "text": [
      "line1\n",
      "line2\n",
      "0.4\n",
      "3\n",
      "Something is wrong!\n",
      "line3\n",
      "line4\n"
     ]
    }
   ],
   "source": [
    "print(\"line1\")\n",
    "print(\"line2\")\n",
    "\n",
    "l = [1,2,3,4]\n",
    "\n",
    "try:\n",
    "    print(2 / 5) # zero \n",
    "    print(l[2])# index 7\n",
    "    open('abc.txt') # file not found\n",
    "except:\n",
    "    print(\"Something is wrong!\")\n",
    "    \n",
    "\n",
    "print(\"line3\")\n",
    "print(\"line4\")"
   ]
  },
  {
   "cell_type": "markdown",
   "id": "3b7d0bc9",
   "metadata": {},
   "source": [
    "# Handle dynamic error class error with dynamic message"
   ]
  },
  {
   "cell_type": "code",
   "execution_count": 32,
   "id": "2485317d",
   "metadata": {},
   "outputs": [
    {
     "name": "stdout",
     "output_type": "stream",
     "text": [
      "line1\n",
      "line2\n",
      "0.2857142857142857\n",
      "Something is wrong! list index out of range\n",
      "line3\n",
      "line4\n"
     ]
    }
   ],
   "source": [
    "print(\"line1\")\n",
    "print(\"line2\")\n",
    "\n",
    "l = [1,2,3,4]\n",
    "\n",
    "try:\n",
    "    print(2 / 7) # zero \n",
    "    print(l[20])# index 7\n",
    "    open('abc.txt') # file not found\n",
    "except Exception as e:\n",
    "    print(\"Something is wrong!\",e)\n",
    "    \n",
    "\n",
    "print(\"line3\")\n",
    "print(\"line4\")"
   ]
  },
  {
   "cell_type": "code",
   "execution_count": 33,
   "id": "d2e8b0df",
   "metadata": {},
   "outputs": [
    {
     "name": "stdout",
     "output_type": "stream",
     "text": [
      "\n",
      "a = 7\n",
      "b = 3\n",
      "print(a + b)\n",
      "\n"
     ]
    }
   ],
   "source": [
    "code = \"\"\"\n",
    "a = 7\n",
    "b = 3\n",
    "print(a + b)\n",
    "\"\"\"\n",
    "\n",
    "print(code)"
   ]
  },
  {
   "cell_type": "code",
   "execution_count": 34,
   "id": "79694efe",
   "metadata": {},
   "outputs": [
    {
     "name": "stdout",
     "output_type": "stream",
     "text": [
      "10\n"
     ]
    }
   ],
   "source": [
    "code = \"\"\"\n",
    "a = 7\n",
    "b = 3\n",
    "print(a + b)\n",
    "\"\"\"\n",
    "\n",
    "exec(code)"
   ]
  },
  {
   "cell_type": "code",
   "execution_count": 35,
   "id": "df75d274",
   "metadata": {},
   "outputs": [
    {
     "data": {
      "text/plain": [
       "7"
      ]
     },
     "execution_count": 35,
     "metadata": {},
     "output_type": "execute_result"
    }
   ],
   "source": [
    "a"
   ]
  },
  {
   "cell_type": "code",
   "execution_count": 36,
   "id": "ac158525",
   "metadata": {},
   "outputs": [
    {
     "data": {
      "text/plain": [
       "3"
      ]
     },
     "execution_count": 36,
     "metadata": {},
     "output_type": "execute_result"
    }
   ],
   "source": [
    "b"
   ]
  },
  {
   "cell_type": "code",
   "execution_count": 39,
   "id": "16bade43",
   "metadata": {},
   "outputs": [
    {
     "name": "stdout",
     "output_type": "stream",
     "text": [
      "10\n",
      "some thing is wrong!\n",
      "Pakistan zinda bad!\n"
     ]
    }
   ],
   "source": [
    "code = \"\"\"\n",
    "a = 7\n",
    "b = 3\n",
    "print(a + b)\n",
    "try:\n",
    "    print(2 / 0)\n",
    "except:\n",
    "    print(\"some thing is wrong!\")\n",
    "\"\"\"\n",
    "try:\n",
    "    exec(code)\n",
    "except Exception as s:\n",
    "    print(s)\n",
    "    \n",
    "print('Pakistan zinda bad!')"
   ]
  },
  {
   "cell_type": "markdown",
   "id": "3b6adb50",
   "metadata": {},
   "source": [
    "# Else with try except"
   ]
  },
  {
   "cell_type": "code",
   "execution_count": 43,
   "id": "d567db0c",
   "metadata": {},
   "outputs": [
    {
     "name": "stdout",
     "output_type": "stream",
     "text": [
      "line1\n",
      "line2\n",
      "0.4\n",
      "Wow you are good programmer!\n",
      "Last line!\n"
     ]
    }
   ],
   "source": [
    "print(\"line1\")\n",
    "print(\"line2\")\n",
    "\n",
    "try:\n",
    "    print(2/5)\n",
    "except Exception as e:\n",
    "    print(e)\n",
    "else:\n",
    "    print(\"Wow you are good programmer!\")\n",
    "    \n",
    "    \n",
    "print(\"Last line!\")"
   ]
  },
  {
   "cell_type": "markdown",
   "id": "e60ba056",
   "metadata": {},
   "source": [
    "# finally block with try except"
   ]
  },
  {
   "cell_type": "code",
   "execution_count": 45,
   "id": "777a117b",
   "metadata": {},
   "outputs": [
    {
     "name": "stdout",
     "output_type": "stream",
     "text": [
      "line1\n",
      "line2\n",
      "division by zero\n",
      "Hr hal me chaly ga!\n",
      "Last line!\n"
     ]
    }
   ],
   "source": [
    "print(\"line1\")\n",
    "print(\"line2\")\n",
    "\n",
    "try:\n",
    "    print(2/0)\n",
    "except Exception as e:\n",
    "    print(e)\n",
    "else:\n",
    "    print(\"Wow you are good programmer!\")\n",
    "finally:\n",
    "    print(\"Hr hal me chaly ga!\")\n",
    "    \n",
    "    \n",
    "print(\"Last line!\")"
   ]
  },
  {
   "cell_type": "markdown",
   "id": "ee99dbc0",
   "metadata": {},
   "source": [
    "# Create our own Exception"
   ]
  },
  {
   "cell_type": "code",
   "execution_count": 51,
   "id": "99fd6374",
   "metadata": {},
   "outputs": [
    {
     "name": "stdout",
     "output_type": "stream",
     "text": [
      "1 Qasim 30\n"
     ]
    }
   ],
   "source": [
    "class Student():\n",
    "    def __init__(self,sid,name,age):\n",
    "        if age>60 or age < 18:\n",
    "            raise Exception(\"Student age must be 18-60\")\n",
    "        self.studentid = sid # attribute\n",
    "        self.name = name\n",
    "        self.age = age\n",
    "        \n",
    "s1 = Student(1,\"Qasim\",30)\n",
    "print(s1.studentid, s1.name, s1.age)"
   ]
  },
  {
   "cell_type": "code",
   "execution_count": 52,
   "id": "839d5c84",
   "metadata": {},
   "outputs": [
    {
     "ename": "Exception",
     "evalue": "Student age must be 18-60",
     "output_type": "error",
     "traceback": [
      "\u001b[1;31m---------------------------------------------------------------------------\u001b[0m",
      "\u001b[1;31mException\u001b[0m                                 Traceback (most recent call last)",
      "\u001b[1;32m~\\AppData\\Local\\Temp\\ipykernel_8864\\4010229048.py\u001b[0m in \u001b[0;36m<module>\u001b[1;34m\u001b[0m\n\u001b[1;32m----> 1\u001b[1;33m \u001b[0ms1\u001b[0m \u001b[1;33m=\u001b[0m \u001b[0mStudent\u001b[0m\u001b[1;33m(\u001b[0m\u001b[1;36m1\u001b[0m\u001b[1;33m,\u001b[0m\u001b[1;34m\"Qasim\"\u001b[0m\u001b[1;33m,\u001b[0m\u001b[1;36m15\u001b[0m\u001b[1;33m)\u001b[0m\u001b[1;33m\u001b[0m\u001b[1;33m\u001b[0m\u001b[0m\n\u001b[0m\u001b[0;32m      2\u001b[0m \u001b[0mprint\u001b[0m\u001b[1;33m(\u001b[0m\u001b[0ms1\u001b[0m\u001b[1;33m.\u001b[0m\u001b[0mstudentid\u001b[0m\u001b[1;33m,\u001b[0m \u001b[0ms1\u001b[0m\u001b[1;33m.\u001b[0m\u001b[0mname\u001b[0m\u001b[1;33m,\u001b[0m \u001b[0ms1\u001b[0m\u001b[1;33m.\u001b[0m\u001b[0mage\u001b[0m\u001b[1;33m)\u001b[0m\u001b[1;33m\u001b[0m\u001b[1;33m\u001b[0m\u001b[0m\n",
      "\u001b[1;32m~\\AppData\\Local\\Temp\\ipykernel_8864\\333843457.py\u001b[0m in \u001b[0;36m__init__\u001b[1;34m(self, sid, name, age)\u001b[0m\n\u001b[0;32m      2\u001b[0m     \u001b[1;32mdef\u001b[0m \u001b[0m__init__\u001b[0m\u001b[1;33m(\u001b[0m\u001b[0mself\u001b[0m\u001b[1;33m,\u001b[0m\u001b[0msid\u001b[0m\u001b[1;33m,\u001b[0m\u001b[0mname\u001b[0m\u001b[1;33m,\u001b[0m\u001b[0mage\u001b[0m\u001b[1;33m)\u001b[0m\u001b[1;33m:\u001b[0m\u001b[1;33m\u001b[0m\u001b[1;33m\u001b[0m\u001b[0m\n\u001b[0;32m      3\u001b[0m         \u001b[1;32mif\u001b[0m \u001b[0mage\u001b[0m\u001b[1;33m>\u001b[0m\u001b[1;36m60\u001b[0m \u001b[1;32mor\u001b[0m \u001b[0mage\u001b[0m \u001b[1;33m<\u001b[0m \u001b[1;36m18\u001b[0m\u001b[1;33m:\u001b[0m\u001b[1;33m\u001b[0m\u001b[1;33m\u001b[0m\u001b[0m\n\u001b[1;32m----> 4\u001b[1;33m             \u001b[1;32mraise\u001b[0m \u001b[0mException\u001b[0m\u001b[1;33m(\u001b[0m\u001b[1;34m\"Student age must be 18-60\"\u001b[0m\u001b[1;33m)\u001b[0m\u001b[1;33m\u001b[0m\u001b[1;33m\u001b[0m\u001b[0m\n\u001b[0m\u001b[0;32m      5\u001b[0m         \u001b[0mself\u001b[0m\u001b[1;33m.\u001b[0m\u001b[0mstudentid\u001b[0m \u001b[1;33m=\u001b[0m \u001b[0msid\u001b[0m \u001b[1;31m# attribute\u001b[0m\u001b[1;33m\u001b[0m\u001b[1;33m\u001b[0m\u001b[0m\n\u001b[0;32m      6\u001b[0m         \u001b[0mself\u001b[0m\u001b[1;33m.\u001b[0m\u001b[0mname\u001b[0m \u001b[1;33m=\u001b[0m \u001b[0mname\u001b[0m\u001b[1;33m\u001b[0m\u001b[1;33m\u001b[0m\u001b[0m\n",
      "\u001b[1;31mException\u001b[0m: Student age must be 18-60"
     ]
    }
   ],
   "source": [
    "        \n",
    "s1 = Student(1,\"Qasim\",15)\n",
    "print(s1.studentid, s1.name, s1.age)"
   ]
  },
  {
   "cell_type": "code",
   "execution_count": 54,
   "id": "96776fed",
   "metadata": {},
   "outputs": [
    {
     "ename": "Exception",
     "evalue": "Student age must be 18-60",
     "output_type": "error",
     "traceback": [
      "\u001b[1;31m---------------------------------------------------------------------------\u001b[0m",
      "\u001b[1;31mException\u001b[0m                                 Traceback (most recent call last)",
      "\u001b[1;32m~\\AppData\\Local\\Temp\\ipykernel_8864\\1944624001.py\u001b[0m in \u001b[0;36m<module>\u001b[1;34m\u001b[0m\n\u001b[0;32m      2\u001b[0m     \u001b[1;32mpass\u001b[0m\u001b[1;33m\u001b[0m\u001b[1;33m\u001b[0m\u001b[0m\n\u001b[0;32m      3\u001b[0m \u001b[1;33m\u001b[0m\u001b[0m\n\u001b[1;32m----> 4\u001b[1;33m \u001b[0ms2\u001b[0m \u001b[1;33m=\u001b[0m \u001b[0mStudent\u001b[0m\u001b[1;33m(\u001b[0m\u001b[1;36m20\u001b[0m\u001b[1;33m,\u001b[0m\u001b[1;34m\"Ali\"\u001b[0m\u001b[1;33m,\u001b[0m\u001b[1;36m78\u001b[0m\u001b[1;33m)\u001b[0m\u001b[1;33m\u001b[0m\u001b[1;33m\u001b[0m\u001b[0m\n\u001b[0m",
      "\u001b[1;32m~\\AppData\\Local\\Temp\\ipykernel_8864\\333843457.py\u001b[0m in \u001b[0;36m__init__\u001b[1;34m(self, sid, name, age)\u001b[0m\n\u001b[0;32m      2\u001b[0m     \u001b[1;32mdef\u001b[0m \u001b[0m__init__\u001b[0m\u001b[1;33m(\u001b[0m\u001b[0mself\u001b[0m\u001b[1;33m,\u001b[0m\u001b[0msid\u001b[0m\u001b[1;33m,\u001b[0m\u001b[0mname\u001b[0m\u001b[1;33m,\u001b[0m\u001b[0mage\u001b[0m\u001b[1;33m)\u001b[0m\u001b[1;33m:\u001b[0m\u001b[1;33m\u001b[0m\u001b[1;33m\u001b[0m\u001b[0m\n\u001b[0;32m      3\u001b[0m         \u001b[1;32mif\u001b[0m \u001b[0mage\u001b[0m\u001b[1;33m>\u001b[0m\u001b[1;36m60\u001b[0m \u001b[1;32mor\u001b[0m \u001b[0mage\u001b[0m \u001b[1;33m<\u001b[0m \u001b[1;36m18\u001b[0m\u001b[1;33m:\u001b[0m\u001b[1;33m\u001b[0m\u001b[1;33m\u001b[0m\u001b[0m\n\u001b[1;32m----> 4\u001b[1;33m             \u001b[1;32mraise\u001b[0m \u001b[0mException\u001b[0m\u001b[1;33m(\u001b[0m\u001b[1;34m\"Student age must be 18-60\"\u001b[0m\u001b[1;33m)\u001b[0m\u001b[1;33m\u001b[0m\u001b[1;33m\u001b[0m\u001b[0m\n\u001b[0m\u001b[0;32m      5\u001b[0m         \u001b[0mself\u001b[0m\u001b[1;33m.\u001b[0m\u001b[0mstudentid\u001b[0m \u001b[1;33m=\u001b[0m \u001b[0msid\u001b[0m \u001b[1;31m# attribute\u001b[0m\u001b[1;33m\u001b[0m\u001b[1;33m\u001b[0m\u001b[0m\n\u001b[0;32m      6\u001b[0m         \u001b[0mself\u001b[0m\u001b[1;33m.\u001b[0m\u001b[0mname\u001b[0m \u001b[1;33m=\u001b[0m \u001b[0mname\u001b[0m\u001b[1;33m\u001b[0m\u001b[1;33m\u001b[0m\u001b[0m\n",
      "\u001b[1;31mException\u001b[0m: Student age must be 18-60"
     ]
    }
   ],
   "source": [
    "class StudentAgeError(Exception):\n",
    "    pass\n",
    "\n",
    "s2 = Student(20,\"Ali\",78)"
   ]
  },
  {
   "cell_type": "markdown",
   "id": "860a8096",
   "metadata": {},
   "source": [
    "# complete code"
   ]
  },
  {
   "cell_type": "code",
   "execution_count": 55,
   "id": "0b7d799b",
   "metadata": {},
   "outputs": [
    {
     "ename": "StudentAgeError",
     "evalue": "Student age must be 18-60",
     "output_type": "error",
     "traceback": [
      "\u001b[1;31m---------------------------------------------------------------------------\u001b[0m",
      "\u001b[1;31mStudentAgeError\u001b[0m                           Traceback (most recent call last)",
      "\u001b[1;32m~\\AppData\\Local\\Temp\\ipykernel_8864\\4066206144.py\u001b[0m in \u001b[0;36m<module>\u001b[1;34m\u001b[0m\n\u001b[0;32m     10\u001b[0m     \u001b[1;32mpass\u001b[0m\u001b[1;33m\u001b[0m\u001b[1;33m\u001b[0m\u001b[0m\n\u001b[0;32m     11\u001b[0m \u001b[1;33m\u001b[0m\u001b[0m\n\u001b[1;32m---> 12\u001b[1;33m \u001b[0ms1\u001b[0m \u001b[1;33m=\u001b[0m \u001b[0mStudent\u001b[0m\u001b[1;33m(\u001b[0m\u001b[1;36m1\u001b[0m\u001b[1;33m,\u001b[0m\u001b[1;34m\"Qasim\"\u001b[0m\u001b[1;33m,\u001b[0m\u001b[1;36m12\u001b[0m\u001b[1;33m)\u001b[0m\u001b[1;33m\u001b[0m\u001b[1;33m\u001b[0m\u001b[0m\n\u001b[0m\u001b[0;32m     13\u001b[0m \u001b[0mprint\u001b[0m\u001b[1;33m(\u001b[0m\u001b[0ms1\u001b[0m\u001b[1;33m.\u001b[0m\u001b[0mstudentid\u001b[0m\u001b[1;33m,\u001b[0m \u001b[0ms1\u001b[0m\u001b[1;33m.\u001b[0m\u001b[0mname\u001b[0m\u001b[1;33m,\u001b[0m \u001b[0ms1\u001b[0m\u001b[1;33m.\u001b[0m\u001b[0mage\u001b[0m\u001b[1;33m)\u001b[0m\u001b[1;33m\u001b[0m\u001b[1;33m\u001b[0m\u001b[0m\n",
      "\u001b[1;32m~\\AppData\\Local\\Temp\\ipykernel_8864\\4066206144.py\u001b[0m in \u001b[0;36m__init__\u001b[1;34m(self, sid, name, age)\u001b[0m\n\u001b[0;32m      2\u001b[0m     \u001b[1;32mdef\u001b[0m \u001b[0m__init__\u001b[0m\u001b[1;33m(\u001b[0m\u001b[0mself\u001b[0m\u001b[1;33m,\u001b[0m\u001b[0msid\u001b[0m\u001b[1;33m,\u001b[0m\u001b[0mname\u001b[0m\u001b[1;33m,\u001b[0m\u001b[0mage\u001b[0m\u001b[1;33m)\u001b[0m\u001b[1;33m:\u001b[0m\u001b[1;33m\u001b[0m\u001b[1;33m\u001b[0m\u001b[0m\n\u001b[0;32m      3\u001b[0m         \u001b[1;32mif\u001b[0m \u001b[0mage\u001b[0m\u001b[1;33m>\u001b[0m\u001b[1;36m60\u001b[0m \u001b[1;32mor\u001b[0m \u001b[0mage\u001b[0m \u001b[1;33m<\u001b[0m \u001b[1;36m18\u001b[0m\u001b[1;33m:\u001b[0m\u001b[1;33m\u001b[0m\u001b[1;33m\u001b[0m\u001b[0m\n\u001b[1;32m----> 4\u001b[1;33m             \u001b[1;32mraise\u001b[0m \u001b[0mStudentAgeError\u001b[0m\u001b[1;33m(\u001b[0m\u001b[1;34m\"Student age must be 18-60\"\u001b[0m\u001b[1;33m)\u001b[0m\u001b[1;33m\u001b[0m\u001b[1;33m\u001b[0m\u001b[0m\n\u001b[0m\u001b[0;32m      5\u001b[0m         \u001b[0mself\u001b[0m\u001b[1;33m.\u001b[0m\u001b[0mstudentid\u001b[0m \u001b[1;33m=\u001b[0m \u001b[0msid\u001b[0m \u001b[1;31m# attribute\u001b[0m\u001b[1;33m\u001b[0m\u001b[1;33m\u001b[0m\u001b[0m\n\u001b[0;32m      6\u001b[0m         \u001b[0mself\u001b[0m\u001b[1;33m.\u001b[0m\u001b[0mname\u001b[0m \u001b[1;33m=\u001b[0m \u001b[0mname\u001b[0m\u001b[1;33m\u001b[0m\u001b[1;33m\u001b[0m\u001b[0m\n",
      "\u001b[1;31mStudentAgeError\u001b[0m: Student age must be 18-60"
     ]
    }
   ],
   "source": [
    "class Student():\n",
    "    def __init__(self,sid,name,age):\n",
    "        if age>60 or age < 18:\n",
    "            raise StudentAgeError(\"Student age must be 18-60\")\n",
    "        self.studentid = sid # attribute\n",
    "        self.name = name\n",
    "        self.age = age\n",
    "        \n",
    "class StudentAgeError(Exception):\n",
    "    pass\n",
    "        \n",
    "s1 = Student(1,\"Qasim\",12)\n",
    "print(s1.studentid, s1.name, s1.age)"
   ]
  },
  {
   "cell_type": "code",
   "execution_count": 56,
   "id": "724c98f6",
   "metadata": {},
   "outputs": [
    {
     "name": "stdout",
     "output_type": "stream",
     "text": [
      "Error\n"
     ]
    }
   ],
   "source": [
    "try:\n",
    "    s1 = Student(1,\"Qasim\",12)\n",
    "except (StudentAgeError):\n",
    "    print(\"Error\")"
   ]
  },
  {
   "cell_type": "code",
   "execution_count": 57,
   "id": "ce6e0441",
   "metadata": {},
   "outputs": [
    {
     "name": "stdout",
     "output_type": "stream",
     "text": [
      "Error Student age must be 18-60\n"
     ]
    }
   ],
   "source": [
    "try:\n",
    "    s1 = Student(1,\"Qasim\",12)\n",
    "except Exception as e:\n",
    "    print(\"Error\",e)"
   ]
  },
  {
   "cell_type": "markdown",
   "id": "097d8390",
   "metadata": {},
   "source": [
    "# Assignment\n",
    "Create student class where we can create instance if student education must be intermediate or above"
   ]
  },
  {
   "cell_type": "code",
   "execution_count": null,
   "id": "6c2c522b",
   "metadata": {},
   "outputs": [],
   "source": []
  }
 ],
 "metadata": {
  "kernelspec": {
   "display_name": "Python 3 (ipykernel)",
   "language": "python",
   "name": "python3"
  },
  "language_info": {
   "codemirror_mode": {
    "name": "ipython",
    "version": 3
   },
   "file_extension": ".py",
   "mimetype": "text/x-python",
   "name": "python",
   "nbconvert_exporter": "python",
   "pygments_lexer": "ipython3",
   "version": "3.9.13"
  }
 },
 "nbformat": 4,
 "nbformat_minor": 5
}
