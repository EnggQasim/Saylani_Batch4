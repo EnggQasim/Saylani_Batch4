{
 "cells": [
  {
   "cell_type": "markdown",
   "id": "503732be",
   "metadata": {},
   "source": [
    "# functions\n",
    "* pre-define function/user-define function\n",
    "```\n",
    "sets of statments and expression are called function\n",
    "decresed the repeation of code\n",
    "```\n",
    "    * Return function\n",
    "    * Non-Return function\n",
    "    * defualt funtion\n",
    "    * required arguments function\n",
    "    * required/optional arguments function\n",
    "    * lambda function\n",
    "    * recursive function\n",
    "    * generator function\n",
    "   \n",
    "* function components\n",
    "    * function declarilation/function signature\n",
    "        * `def function_name(arg1_variable,arg2_variable,...):`\n",
    "    * function body\n",
    "    * function call\n",
    "        * `function_name(arg1_value,arg2_value,..)`\n",
    "        * `function_name()`\n"
   ]
  },
  {
   "cell_type": "code",
   "execution_count": 1,
   "id": "547521bb",
   "metadata": {},
   "outputs": [
    {
     "name": "stdout",
     "output_type": "stream",
     "text": [
      "We love our country\n",
      "My country name is Pakistan\n",
      "Pakistan zinda bad\n"
     ]
    }
   ],
   "source": [
    "print(\"We love our country\")# statement1\n",
    "print(\"My country name is Pakistan\") # statment2\n",
    "print(\"Pakistan zinda bad\")# statment3"
   ]
  },
  {
   "cell_type": "code",
   "execution_count": 2,
   "id": "7ac91b34",
   "metadata": {},
   "outputs": [
    {
     "name": "stdout",
     "output_type": "stream",
     "text": [
      "We love our country\n",
      "My country name is Pakistan\n",
      "Pakistan zinda bad\n"
     ]
    }
   ],
   "source": [
    "print(\"We love our country\")# statement1\n",
    "print(\"My country name is Pakistan\") # statment2\n",
    "print(\"Pakistan zinda bad\")# statment3"
   ]
  },
  {
   "cell_type": "markdown",
   "id": "6490e8cf",
   "metadata": {},
   "source": [
    "# defualt function\n",
    "* not required any argument when it will call"
   ]
  },
  {
   "cell_type": "code",
   "execution_count": 4,
   "id": "539c2e97",
   "metadata": {},
   "outputs": [],
   "source": [
    "def country_message(): # dec/sig\n",
    "    #function body start\n",
    "    print(\"We love our country\")# statement1\n",
    "    print(\"My country name is Pakistan\") # statment2\n",
    "    print(\"Pakistan zinda bad\")# statment3 function body end\n",
    "    "
   ]
  },
  {
   "cell_type": "code",
   "execution_count": 6,
   "id": "07474d91",
   "metadata": {},
   "outputs": [
    {
     "name": "stdout",
     "output_type": "stream",
     "text": [
      "We love our country\n",
      "My country name is Pakistan\n",
      "Pakistan zinda bad\n",
      "We love our country\n",
      "My country name is Pakistan\n",
      "Pakistan zinda bad\n",
      "We love our country\n",
      "My country name is Pakistan\n",
      "Pakistan zinda bad\n"
     ]
    }
   ],
   "source": [
    "country_message()# function calling\n",
    "country_message()\n",
    "country_message()"
   ]
  },
  {
   "cell_type": "code",
   "execution_count": 7,
   "id": "7a6517f4",
   "metadata": {},
   "outputs": [
    {
     "name": "stdout",
     "output_type": "stream",
     "text": [
      "We love our country\n",
      "My country name is America\n",
      "America zinda bad\n",
      "We love our country\n",
      "My country name is America\n",
      "America zinda bad\n"
     ]
    }
   ],
   "source": [
    "def country_message(): # dec/sig\n",
    "    #function body start\n",
    "    print(\"We love our country\")# statement1\n",
    "    print(\"My country name is America\") # statment2\n",
    "    print(\"America zinda bad\")# statment3 function body end\n",
    "\n",
    "country_message()\n",
    "country_message()"
   ]
  },
  {
   "cell_type": "markdown",
   "id": "572a4b2f",
   "metadata": {},
   "source": [
    "# create required parameter function"
   ]
  },
  {
   "cell_type": "code",
   "execution_count": 8,
   "id": "073978f3",
   "metadata": {},
   "outputs": [],
   "source": [
    "def any_country(country_name):\n",
    "    print(\"We love our country\")\n",
    "    print(f\"My country name is {country_name}\")\n",
    "    print(f\"{country_name} zinda bad!\")"
   ]
  },
  {
   "cell_type": "code",
   "execution_count": 9,
   "id": "ae13f8d3",
   "metadata": {},
   "outputs": [
    {
     "name": "stdout",
     "output_type": "stream",
     "text": [
      "We love our country\n",
      "My country name is Pakistan\n",
      "Pakistan zinda bad!\n"
     ]
    }
   ],
   "source": [
    "any_country(\"Pakistan\")"
   ]
  },
  {
   "cell_type": "code",
   "execution_count": 10,
   "id": "d6f25348",
   "metadata": {},
   "outputs": [
    {
     "name": "stdout",
     "output_type": "stream",
     "text": [
      "We love our country\n",
      "My country name is China\n",
      "China zinda bad!\n"
     ]
    }
   ],
   "source": [
    "any_country(\"China\")"
   ]
  },
  {
   "cell_type": "code",
   "execution_count": 11,
   "id": "918fd47a",
   "metadata": {},
   "outputs": [
    {
     "name": "stdout",
     "output_type": "stream",
     "text": [
      "We love our country\n",
      "My country name is USA\n",
      "USA zinda bad!\n"
     ]
    }
   ],
   "source": [
    "any_country(\"USA\")"
   ]
  },
  {
   "cell_type": "markdown",
   "id": "81f8affc",
   "metadata": {},
   "source": [
    "# Return and Non-Return Function"
   ]
  },
  {
   "cell_type": "markdown",
   "id": "7c62f782",
   "metadata": {},
   "source": [
    "#### Non-Return Function"
   ]
  },
  {
   "cell_type": "code",
   "execution_count": 17,
   "id": "a31edf0a",
   "metadata": {},
   "outputs": [
    {
     "name": "stdout",
     "output_type": "stream",
     "text": [
      "We love our country\n",
      "My country name is Pakistan\n",
      "Pakistan zinda bad!\n",
      "Value of variable a = None\n"
     ]
    }
   ],
   "source": [
    "def any_country(country_name):\n",
    "    print(\"We love our country\")\n",
    "    print(f\"My country name is {country_name}\")\n",
    "    print(f\"{country_name} zinda bad!\")\n",
    "    \n",
    "a = any_country(\"Pakistan\")\n",
    "print(\"Value of variable a =\",a)"
   ]
  },
  {
   "cell_type": "markdown",
   "id": "35e4e457",
   "metadata": {},
   "source": [
    "#### Return Function"
   ]
  },
  {
   "cell_type": "code",
   "execution_count": 19,
   "id": "c493737e",
   "metadata": {},
   "outputs": [],
   "source": [
    "def any_country(country_name):\n",
    "    result = f\"\"\"\n",
    "    We Love our country\n",
    "    My country name is {country_name}\n",
    "    {country_name} Zinda Bad!\n",
    "    \"\"\"\n",
    "    return result\n",
    "    \n",
    "\n",
    "a = any_country(\"Pakistan\")\n",
    "any_country(\"Japan\")\n",
    "b = any_country(\"America\")\n",
    "c = any_country(\"China\")"
   ]
  },
  {
   "cell_type": "code",
   "execution_count": 20,
   "id": "525ba4e5",
   "metadata": {},
   "outputs": [
    {
     "name": "stdout",
     "output_type": "stream",
     "text": [
      "\n",
      "    We Love our country\n",
      "    My country name is Pakistan\n",
      "    Pakistan Zinda Bad!\n",
      "    \n",
      "\n",
      "    We Love our country\n",
      "    My country name is China\n",
      "    China Zinda Bad!\n",
      "    \n",
      "\n",
      "    We Love our country\n",
      "    My country name is America\n",
      "    America Zinda Bad!\n",
      "    \n"
     ]
    }
   ],
   "source": [
    "print(a)\n",
    "print(c)\n",
    "print(b)"
   ]
  },
  {
   "cell_type": "code",
   "execution_count": 21,
   "id": "a53f05fb",
   "metadata": {},
   "outputs": [
    {
     "data": {
      "text/plain": [
       "'\\n    We Love our country\\n    My country name is Japan\\n    Japan Zinda Bad!\\n    '"
      ]
     },
     "execution_count": 21,
     "metadata": {},
     "output_type": "execute_result"
    }
   ],
   "source": [
    "a = any_country(\"Pakistan\")\n",
    "b = any_country(\"America\")\n",
    "c = any_country(\"China\")\n",
    "any_country(\"Japan\")"
   ]
  },
  {
   "cell_type": "code",
   "execution_count": 22,
   "id": "624aa530",
   "metadata": {},
   "outputs": [
    {
     "name": "stdout",
     "output_type": "stream",
     "text": [
      "\n",
      "    We Love our country\n",
      "    My country name is Japan\n",
      "    Japan Zinda Bad!\n",
      "    \n"
     ]
    }
   ],
   "source": [
    "print(any_country(\"Japan\"))"
   ]
  },
  {
   "cell_type": "code",
   "execution_count": 23,
   "id": "be1f8e48",
   "metadata": {},
   "outputs": [
    {
     "name": "stdout",
     "output_type": "stream",
     "text": [
      "79\n"
     ]
    }
   ],
   "source": [
    "print(len(any_country(\"Japan\")))"
   ]
  },
  {
   "cell_type": "markdown",
   "id": "050b22b9",
   "metadata": {},
   "source": [
    "# card"
   ]
  },
  {
   "cell_type": "code",
   "execution_count": 28,
   "id": "d22b7055",
   "metadata": {},
   "outputs": [
    {
     "name": "stdout",
     "output_type": "stream",
     "text": [
      "Saylani Student Card\n",
      "Student ID:\t\t 1\n",
      "Student Name: \t Muhammad Qasim \n",
      "Class Timing: \t 3pm to 6pm\n",
      "Batch:\t\t AIDS-4\n",
      "\n"
     ]
    }
   ],
   "source": [
    "def student_card(roll_no, name, timing,batch):\n",
    "    card = f\"\"\"Saylani Student Card\n",
    "Student ID:\\t\\t {roll_no}\n",
    "Student Name: \\t {name} \n",
    "Class Timing: \\t {timing}\n",
    "Batch:\\t\\t {batch}\n",
    "\"\"\"\n",
    "    return card\n",
    "\n",
    "print(student_card(1,\"Muhammad Qasim\",'3pm to 6pm', 'AIDS-4'))"
   ]
  },
  {
   "cell_type": "code",
   "execution_count": 29,
   "id": "c0cd7f4c",
   "metadata": {},
   "outputs": [],
   "source": [
    "data = [[1,'Muhammad Qasim','3 to 6',\"AIDS-4\"],\n",
    "       [2,\"Hamza\",'7 to 10',\"Web/App 9\"],\n",
    "       [3,\"Asif Khan\",'10 to 12', \"web/App 9\"]]"
   ]
  },
  {
   "cell_type": "code",
   "execution_count": 35,
   "id": "a313ac4c",
   "metadata": {},
   "outputs": [
    {
     "name": "stdout",
     "output_type": "stream",
     "text": [
      "Saylani Student Card\n",
      "Student ID:\t\t 1\n",
      "Student Name: \t Muhammad Qasim \n",
      "Class Timing: \t 3 to 6\n",
      "Batch:\t\t AIDS-4\n",
      "\n",
      "Saylani Student Card\n",
      "Student ID:\t\t 2\n",
      "Student Name: \t Hamza \n",
      "Class Timing: \t 7 to 10\n",
      "Batch:\t\t Web/App 9\n",
      "\n",
      "Saylani Student Card\n",
      "Student ID:\t\t 3\n",
      "Student Name: \t Asif Khan \n",
      "Class Timing: \t 10 to 12\n",
      "Batch:\t\t web/App 9\n",
      "\n"
     ]
    }
   ],
   "source": [
    "for row in data:\n",
    "#     print(row)\n",
    "    print(student_card(row[0],row[1],row[2],row[3]))\n",
    "#     break"
   ]
  },
  {
   "cell_type": "code",
   "execution_count": 36,
   "id": "935a4bc2",
   "metadata": {},
   "outputs": [
    {
     "name": "stdout",
     "output_type": "stream",
     "text": [
      "Saylani Student Card\n",
      "Student ID:\t\t 1\n",
      "Student Name: \t Muhammad Qasim \n",
      "Class Timing: \t 3 to 6\n",
      "Batch:\t\t AIDS-4\n",
      "\n",
      "Saylani Student Card\n",
      "Student ID:\t\t 2\n",
      "Student Name: \t Hamza \n",
      "Class Timing: \t 7 to 10\n",
      "Batch:\t\t Web/App 9\n",
      "\n",
      "Saylani Student Card\n",
      "Student ID:\t\t 3\n",
      "Student Name: \t Asif Khan \n",
      "Class Timing: \t 10 to 12\n",
      "Batch:\t\t web/App 9\n",
      "\n"
     ]
    }
   ],
   "source": [
    "for row in data:\n",
    "#     print(student_card(row[0],row[1],row[2],row[3]))\n",
    "    print(student_card(*row))"
   ]
  },
  {
   "cell_type": "markdown",
   "id": "3f71efa3",
   "metadata": {},
   "source": [
    "# Optional parameter/defual parameters value function\n",
    "* define argument value in function declaring time\n",
    "* `def add_two_numbers(num1=0, num2=0):`"
   ]
  },
  {
   "cell_type": "code",
   "execution_count": 37,
   "id": "5378d714",
   "metadata": {},
   "outputs": [],
   "source": [
    "def add_two_numbers(num1, num2):\n",
    "    return num1 + num2"
   ]
  },
  {
   "cell_type": "code",
   "execution_count": 38,
   "id": "073d29e4",
   "metadata": {},
   "outputs": [
    {
     "data": {
      "text/plain": [
       "12"
      ]
     },
     "execution_count": 38,
     "metadata": {},
     "output_type": "execute_result"
    }
   ],
   "source": [
    "add_two_numbers(7,5)"
   ]
  },
  {
   "cell_type": "code",
   "execution_count": 39,
   "id": "2f6a6a4d",
   "metadata": {},
   "outputs": [
    {
     "ename": "TypeError",
     "evalue": "add_two_numbers() missing 1 required positional argument: 'num2'",
     "output_type": "error",
     "traceback": [
      "\u001b[1;31m---------------------------------------------------------------------------\u001b[0m",
      "\u001b[1;31mTypeError\u001b[0m                                 Traceback (most recent call last)",
      "\u001b[1;32m~\\AppData\\Local\\Temp\\ipykernel_6980\\1677139088.py\u001b[0m in \u001b[0;36m<module>\u001b[1;34m\u001b[0m\n\u001b[1;32m----> 1\u001b[1;33m \u001b[0madd_two_numbers\u001b[0m\u001b[1;33m(\u001b[0m\u001b[1;36m7\u001b[0m\u001b[1;33m)\u001b[0m\u001b[1;33m\u001b[0m\u001b[1;33m\u001b[0m\u001b[0m\n\u001b[0m",
      "\u001b[1;31mTypeError\u001b[0m: add_two_numbers() missing 1 required positional argument: 'num2'"
     ]
    }
   ],
   "source": [
    "add_two_numbers(7)"
   ]
  },
  {
   "cell_type": "code",
   "execution_count": 40,
   "id": "96481fe1",
   "metadata": {},
   "outputs": [
    {
     "ename": "SyntaxError",
     "evalue": "invalid syntax (2757793348.py, line 1)",
     "output_type": "error",
     "traceback": [
      "\u001b[1;36m  File \u001b[1;32m\"C:\\Users\\saylani\\AppData\\Local\\Temp\\ipykernel_6980\\2757793348.py\"\u001b[1;36m, line \u001b[1;32m1\u001b[0m\n\u001b[1;33m    add_two_numbers(,9)\u001b[0m\n\u001b[1;37m                    ^\u001b[0m\n\u001b[1;31mSyntaxError\u001b[0m\u001b[1;31m:\u001b[0m invalid syntax\n"
     ]
    }
   ],
   "source": [
    "add_two_numbers(,9)"
   ]
  },
  {
   "cell_type": "code",
   "execution_count": 41,
   "id": "12008af5",
   "metadata": {},
   "outputs": [
    {
     "ename": "TypeError",
     "evalue": "add_two_numbers() missing 2 required positional arguments: 'num1' and 'num2'",
     "output_type": "error",
     "traceback": [
      "\u001b[1;31m---------------------------------------------------------------------------\u001b[0m",
      "\u001b[1;31mTypeError\u001b[0m                                 Traceback (most recent call last)",
      "\u001b[1;32m~\\AppData\\Local\\Temp\\ipykernel_6980\\3771738019.py\u001b[0m in \u001b[0;36m<module>\u001b[1;34m\u001b[0m\n\u001b[1;32m----> 1\u001b[1;33m \u001b[0madd_two_numbers\u001b[0m\u001b[1;33m(\u001b[0m\u001b[1;33m)\u001b[0m\u001b[1;33m\u001b[0m\u001b[1;33m\u001b[0m\u001b[0m\n\u001b[0m",
      "\u001b[1;31mTypeError\u001b[0m: add_two_numbers() missing 2 required positional arguments: 'num1' and 'num2'"
     ]
    }
   ],
   "source": [
    "add_two_numbers()"
   ]
  },
  {
   "cell_type": "code",
   "execution_count": 43,
   "id": "ee3a85ba",
   "metadata": {},
   "outputs": [
    {
     "name": "stdout",
     "output_type": "stream",
     "text": [
      "0\n",
      "6\n",
      "16\n"
     ]
    }
   ],
   "source": [
    "def add_two_numbers(num1=0, num2=0):\n",
    "    return num1 + num2\n",
    "\n",
    "print(add_two_numbers())\n",
    "print(add_two_numbers(6))\n",
    "print(add_two_numbers(7,9))"
   ]
  },
  {
   "cell_type": "markdown",
   "id": "445580a4",
   "metadata": {},
   "source": [
    "# pass postional parameters/argument during calling"
   ]
  },
  {
   "cell_type": "code",
   "execution_count": 44,
   "id": "4298f50d",
   "metadata": {},
   "outputs": [
    {
     "name": "stdout",
     "output_type": "stream",
     "text": [
      "0\n",
      "6\n",
      "16\n"
     ]
    }
   ],
   "source": [
    "def add_two_numbers(num1=0, num2=0):\n",
    "    return num1 + num2\n",
    "\n",
    "print(add_two_numbers())\n",
    "print(add_two_numbers(6))\n",
    "print(add_two_numbers(7,9))"
   ]
  },
  {
   "cell_type": "markdown",
   "id": "ae59b0f2",
   "metadata": {},
   "source": [
    "# key/word parameters/argument during calling"
   ]
  },
  {
   "cell_type": "code",
   "execution_count": 45,
   "id": "40d550dc",
   "metadata": {},
   "outputs": [
    {
     "name": "stdout",
     "output_type": "stream",
     "text": [
      "28\n",
      "22\n",
      "7\n"
     ]
    }
   ],
   "source": [
    "def add_two_numbers(num1=0, num2=0):\n",
    "    return num1 + num2\n",
    "\n",
    "print(add_two_numbers(num1=8,num2=20)) # passing value with key/words arguments\n",
    "print(add_two_numbers(num2=20,num1=2))\n",
    "print(add_two_numbers(num2=7))"
   ]
  },
  {
   "cell_type": "code",
   "execution_count": 46,
   "id": "eea28118",
   "metadata": {},
   "outputs": [
    {
     "ename": "TypeError",
     "evalue": "add_two_numbers() takes from 0 to 2 positional arguments but 3 were given",
     "output_type": "error",
     "traceback": [
      "\u001b[1;31m---------------------------------------------------------------------------\u001b[0m",
      "\u001b[1;31mTypeError\u001b[0m                                 Traceback (most recent call last)",
      "\u001b[1;32m~\\AppData\\Local\\Temp\\ipykernel_6980\\1088672345.py\u001b[0m in \u001b[0;36m<module>\u001b[1;34m\u001b[0m\n\u001b[1;32m----> 1\u001b[1;33m \u001b[0madd_two_numbers\u001b[0m\u001b[1;33m(\u001b[0m\u001b[1;36m7\u001b[0m\u001b[1;33m,\u001b[0m\u001b[1;36m9\u001b[0m\u001b[1;33m,\u001b[0m\u001b[1;36m8\u001b[0m\u001b[1;33m)\u001b[0m\u001b[1;33m\u001b[0m\u001b[1;33m\u001b[0m\u001b[0m\n\u001b[0m",
      "\u001b[1;31mTypeError\u001b[0m: add_two_numbers() takes from 0 to 2 positional arguments but 3 were given"
     ]
    }
   ],
   "source": [
    "add_two_numbers(7,9,8)"
   ]
  },
  {
   "cell_type": "markdown",
   "id": "28fdbca0",
   "metadata": {},
   "source": [
    "# Create unlimited positional arguments for calling\n",
    "* add ***** before any parameter during decrlaring time\n",
    "* `def my_sum(num1,*value):`"
   ]
  },
  {
   "cell_type": "code",
   "execution_count": 48,
   "id": "c83b53e7",
   "metadata": {},
   "outputs": [
    {
     "data": {
      "text/plain": [
       "16"
      ]
     },
     "execution_count": 48,
     "metadata": {},
     "output_type": "execute_result"
    }
   ],
   "source": [
    "def my_sum(num1,num2):\n",
    "    print(num1,num2)\n",
    "    return num1 + num2\n",
    "\n",
    "my_sum(7,9)"
   ]
  },
  {
   "cell_type": "code",
   "execution_count": 50,
   "id": "a70d9e79",
   "metadata": {},
   "outputs": [
    {
     "name": "stdout",
     "output_type": "stream",
     "text": [
      "7 (9,)\n",
      "<class 'int'> <class 'tuple'>\n"
     ]
    }
   ],
   "source": [
    "def my_sum(num1,*value):\n",
    "    print(num1,value)\n",
    "    print(type(num1), type(value))\n",
    "   \n",
    "\n",
    "my_sum(7,9)"
   ]
  },
  {
   "cell_type": "code",
   "execution_count": 53,
   "id": "53ef445f",
   "metadata": {},
   "outputs": [
    {
     "name": "stdout",
     "output_type": "stream",
     "text": [
      "7 (9, 1, 3, 5)\n",
      "<class 'int'> <class 'tuple'>\n"
     ]
    },
    {
     "data": {
      "text/plain": [
       "25"
      ]
     },
     "execution_count": 53,
     "metadata": {},
     "output_type": "execute_result"
    }
   ],
   "source": [
    "def my_sum(num1,*value):\n",
    "    print(num1,value)\n",
    "    print(type(num1), type(value))\n",
    "    result = num1\n",
    "    for n in value:\n",
    "        result += n\n",
    "    return result\n",
    "   \n",
    "\n",
    "my_sum(7,9,1,3,5)"
   ]
  },
  {
   "cell_type": "markdown",
   "id": "1f79ca4c",
   "metadata": {},
   "source": [
    "# Create unlimited key/word arguments for calling\n",
    "* add <b>**</b> before any parameter during decrlaring time\n",
    "* `def my_sum(num1,**value):`"
   ]
  },
  {
   "cell_type": "code",
   "execution_count": 54,
   "id": "9a5d7246",
   "metadata": {},
   "outputs": [
    {
     "name": "stdout",
     "output_type": "stream",
     "text": [
      "{'num1': 7, 'tea': 2, 'milk': '1 KG'}\n",
      "<class 'dict'>\n"
     ]
    }
   ],
   "source": [
    "def abc(**values):\n",
    "    print(values)\n",
    "    print(type(values))\n",
    "    \n",
    "abc(num1=7, tea=2, milk='1 KG')"
   ]
  },
  {
   "cell_type": "markdown",
   "id": "b785d8a0",
   "metadata": {},
   "source": [
    "# Create function with required argument, optional, ulimited positional, ulimited key/word argument"
   ]
  },
  {
   "cell_type": "code",
   "execution_count": 58,
   "id": "b1a7682b",
   "metadata": {},
   "outputs": [
    {
     "name": "stdout",
     "output_type": "stream",
     "text": [
      "Required positioanl Argument num1 =  200 <class 'int'>\n",
      "Positional defual parameter value argument num2 =  7 <class 'int'>\n",
      "postional ulimited arguments value1 =  () <class 'tuple'>\n",
      "key/word ulimited arguments dict1 =  {} <class 'dict'>\n"
     ]
    }
   ],
   "source": [
    "def my_custome_function(num1,num2=7, *value1, **dict1):\n",
    "    print(\"Required positioanl Argument num1 = \", num1, type(num1))\n",
    "    print(\"Positional defual parameter value argument num2 = \", num2, type(num2))\n",
    "    print(\"postional ulimited arguments value1 = \", value1, type(value1))\n",
    "    print(\"key/word ulimited arguments dict1 = \", dict1, type(dict1))\n",
    "my_custome_function(200)"
   ]
  },
  {
   "cell_type": "code",
   "execution_count": 62,
   "id": "7010260d",
   "metadata": {},
   "outputs": [
    {
     "name": "stdout",
     "output_type": "stream",
     "text": [
      "Required positioanl Argument num1 =  200 <class 'int'>\n",
      "Positional defual parameter value argument num2 =  100 <class 'int'>\n",
      "postional ulimited arguments value1 =  ('a', 'b', 'c') <class 'tuple'>\n",
      "key/word ulimited arguments dict1 =  {'tea': 7, 'milk': '1 KG'} <class 'dict'>\n"
     ]
    }
   ],
   "source": [
    "my_custome_function(200,100,'a','b','c',tea=7,milk='1 KG')"
   ]
  },
  {
   "cell_type": "code",
   "execution_count": 68,
   "id": "95795ccd",
   "metadata": {},
   "outputs": [
    {
     "name": "stdout",
     "output_type": "stream",
     "text": [
      "Required positioanl Argument num1 =  200 <class 'int'>\n",
      "Positional defual parameter value argument num2 =  0 <class 'int'>\n",
      "postional ulimited arguments value1 =  ('a', 'b', 'c') <class 'tuple'>\n",
      "key/word ulimited arguments dict1 =  {'tea': 7, 'milk': '1 KG'} <class 'dict'>\n"
     ]
    }
   ],
   "source": [
    "my_custome_function(200,0,'a','b','c',tea=7,milk='1 KG')"
   ]
  },
  {
   "cell_type": "code",
   "execution_count": 69,
   "id": "0f6efac7",
   "metadata": {},
   "outputs": [
    {
     "name": "stdout",
     "output_type": "stream",
     "text": [
      "Student Roll no: 1\n",
      "Student Name: Muhammad Qasim\n",
      "Skills:\n",
      "\t python\n",
      "\t java\n",
      "\t typescript\n",
      "\t solidity\n"
     ]
    }
   ],
   "source": [
    "def std_card(roll_no, name, *skills):\n",
    "    print(\"Student Roll no:\", roll_no)\n",
    "    print(\"Student Name:\", name)\n",
    "    print(\"Skills:\")\n",
    "    for s in skills:\n",
    "        print(\"\\t\",s)\n",
    "\n",
    "std_card(1,\"Muhammad Qasim\", \"python\",'java','typescript','solidity')"
   ]
  },
  {
   "cell_type": "code",
   "execution_count": 70,
   "id": "cd8ead14",
   "metadata": {},
   "outputs": [
    {
     "name": "stdout",
     "output_type": "stream",
     "text": [
      "Student Roll no: 2\n",
      "Student Name: hamza\n",
      "Skills:\n",
      "\t HTML\n",
      "\t CSS\n",
      "\t JavaScript\n"
     ]
    }
   ],
   "source": [
    "std_card(2,\"hamza\",\"HTML\",\"CSS\",\"JavaScript\")"
   ]
  },
  {
   "cell_type": "code",
   "execution_count": 71,
   "id": "aa1428b1",
   "metadata": {},
   "outputs": [
    {
     "name": "stdout",
     "output_type": "stream",
     "text": [
      "Student Roll no: 2\n",
      "Student Name: hamza\n",
      "Skills:\n",
      "\t HTML\n",
      "\t CSS\n",
      "\t JavaScript\n",
      "\t 2000\n"
     ]
    }
   ],
   "source": [
    "std_card(2,\"hamza\",\"HTML\",\"CSS\",\"JavaScript\",2000)"
   ]
  },
  {
   "cell_type": "code",
   "execution_count": 78,
   "id": "64272925",
   "metadata": {},
   "outputs": [
    {
     "data": {
      "text/plain": [
       "14"
      ]
     },
     "execution_count": 78,
     "metadata": {},
     "output_type": "execute_result"
    }
   ],
   "source": [
    "def add_two_num(num1:int , num2:int) -> int:\n",
    "    return num1 + num2\n",
    "\n",
    "add_two_num(7,7)"
   ]
  },
  {
   "cell_type": "code",
   "execution_count": 79,
   "id": "06fd35c0",
   "metadata": {},
   "outputs": [
    {
     "data": {
      "text/plain": [
       "'77'"
      ]
     },
     "execution_count": 79,
     "metadata": {},
     "output_type": "execute_result"
    }
   ],
   "source": [
    "add_two_num('7','7')"
   ]
  },
  {
   "cell_type": "markdown",
   "id": "848fc5b0",
   "metadata": {},
   "source": [
    "# Lambda function"
   ]
  },
  {
   "cell_type": "code",
   "execution_count": 80,
   "id": "054c575a",
   "metadata": {},
   "outputs": [],
   "source": [
    "def add_two_num(num1,num2):\n",
    "    return num1 + num2"
   ]
  },
  {
   "cell_type": "code",
   "execution_count": 82,
   "id": "9b764886",
   "metadata": {},
   "outputs": [
    {
     "data": {
      "text/plain": [
       "16"
      ]
     },
     "execution_count": 82,
     "metadata": {},
     "output_type": "execute_result"
    }
   ],
   "source": [
    "a = lambda num1,num2: num1 + num2\n",
    "a(7,9)"
   ]
  },
  {
   "cell_type": "code",
   "execution_count": 86,
   "id": "493460e7",
   "metadata": {},
   "outputs": [
    {
     "data": {
      "text/plain": [
       "[[1, 'a', 'Z'], [2, 'b', 'Y'], [3, 'c', 'X']]"
      ]
     },
     "execution_count": 86,
     "metadata": {},
     "output_type": "execute_result"
    }
   ],
   "source": [
    "l = [[1,'a','Z'],\n",
    "    [2,'b','Y'],\n",
    "    [3,'c',\"X\"]]\n",
    "l"
   ]
  },
  {
   "cell_type": "code",
   "execution_count": 94,
   "id": "5aa3e25f",
   "metadata": {},
   "outputs": [
    {
     "data": {
      "text/plain": [
       "[[3, 'c', 'X'], [2, 'b', 'Y'], [1, 'a', 'Z']]"
      ]
     },
     "execution_count": 94,
     "metadata": {},
     "output_type": "execute_result"
    }
   ],
   "source": [
    "sorted(l, key=lambda x:x[2])"
   ]
  },
  {
   "cell_type": "markdown",
   "id": "4a2a9835",
   "metadata": {},
   "source": [
    "# Generator Function"
   ]
  },
  {
   "cell_type": "code",
   "execution_count": 95,
   "id": "ad64ac3b",
   "metadata": {},
   "outputs": [
    {
     "name": "stdout",
     "output_type": "stream",
     "text": [
      "<generator object my_range at 0x000002767BEAB270>\n"
     ]
    }
   ],
   "source": [
    "def my_range(start,end):\n",
    "    for i in range(start,end+1):\n",
    "        yield i\n",
    "        \n",
    "        \n",
    "a = my_range(1,10)\n",
    "print(a)"
   ]
  },
  {
   "cell_type": "code",
   "execution_count": 101,
   "id": "352811bc",
   "metadata": {},
   "outputs": [
    {
     "name": "stdout",
     "output_type": "stream",
     "text": [
      "1\n",
      "2\n",
      "3\n",
      "4\n",
      "5\n",
      "6\n",
      "7\n",
      "8\n",
      "9\n",
      "10\n"
     ]
    }
   ],
   "source": [
    "a = my_range(1,10)\n",
    "print(next(a))\n",
    "print(next(a))\n",
    "print(next(a))\n",
    "print(next(a))\n",
    "print(next(a))\n",
    "print(next(a))\n",
    "print(next(a))\n",
    "print(next(a))\n",
    "print(next(a))\n",
    "print(next(a))\n"
   ]
  },
  {
   "cell_type": "code",
   "execution_count": 103,
   "id": "b5e90d8e",
   "metadata": {},
   "outputs": [],
   "source": [
    "a = my_range(1,10)"
   ]
  },
  {
   "cell_type": "code",
   "execution_count": 109,
   "id": "165faf21",
   "metadata": {},
   "outputs": [
    {
     "name": "stdout",
     "output_type": "stream",
     "text": [
      "6\n"
     ]
    }
   ],
   "source": [
    "print(next(a))"
   ]
  },
  {
   "cell_type": "code",
   "execution_count": 102,
   "id": "d75adeaa",
   "metadata": {},
   "outputs": [
    {
     "data": {
      "text/plain": [
       "[1, 2, 3, 4, 5, 6, 7, 8, 9, 10]"
      ]
     },
     "execution_count": 102,
     "metadata": {},
     "output_type": "execute_result"
    }
   ],
   "source": [
    "a = my_range(1,10)\n",
    "list(a)"
   ]
  },
  {
   "cell_type": "markdown",
   "id": "9a00d126",
   "metadata": {},
   "source": [
    "# Recursive Function"
   ]
  },
  {
   "cell_type": "code",
   "execution_count": 1,
   "id": "740a0a24",
   "metadata": {},
   "outputs": [
    {
     "name": "stdout",
     "output_type": "stream",
     "text": [
      "A\n"
     ]
    }
   ],
   "source": [
    "def abc():\n",
    "    return \"A\"# return on first occurance return keyword\n",
    "    print(\"Pakistan\")\n",
    "    return \"B\"\n",
    "\n",
    "print(abc())"
   ]
  },
  {
   "cell_type": "code",
   "execution_count": 6,
   "id": "08f0f327",
   "metadata": {},
   "outputs": [
    {
     "name": "stdout",
     "output_type": "stream",
     "text": [
      "5\n",
      "4\n",
      "3\n",
      "2\n",
      "1\n",
      "0\n"
     ]
    },
    {
     "data": {
      "text/plain": [
       "0"
      ]
     },
     "execution_count": 6,
     "metadata": {},
     "output_type": "execute_result"
    }
   ],
   "source": [
    "def count_down(x):\n",
    "    print(x)\n",
    "    if x == 0:\n",
    "        return 0\n",
    "    return count_down(x - 1)\n",
    "    \n",
    "count_down(5)"
   ]
  },
  {
   "cell_type": "code",
   "execution_count": 7,
   "id": "d3841c3e",
   "metadata": {},
   "outputs": [
    {
     "name": "stdout",
     "output_type": "stream",
     "text": [
      "5\n",
      "4\n",
      "3\n",
      "2\n",
      "1\n",
      "0\n"
     ]
    }
   ],
   "source": [
    "def countdown(n):\n",
    "    print(n)\n",
    "    if n == 0:\n",
    "        return             # Terminate recursio\n",
    "    else:\n",
    "        countdown(n - 1) \n",
    "countdown(5)"
   ]
  },
  {
   "cell_type": "code",
   "execution_count": 8,
   "id": "88447b22",
   "metadata": {},
   "outputs": [
    {
     "ename": "TypeError",
     "evalue": "can only concatenate list (not \"int\") to list",
     "output_type": "error",
     "traceback": [
      "\u001b[1;31m---------------------------------------------------------------------------\u001b[0m",
      "\u001b[1;31mTypeError\u001b[0m                                 Traceback (most recent call last)",
      "\u001b[1;32m~\\AppData\\Local\\Temp\\ipykernel_6256\\3102952712.py\u001b[0m in \u001b[0;36m<module>\u001b[1;34m\u001b[0m\n\u001b[0;32m      1\u001b[0m \u001b[0ml\u001b[0m \u001b[1;33m=\u001b[0m \u001b[1;33m[\u001b[0m\u001b[1;36m1\u001b[0m\u001b[1;33m,\u001b[0m\u001b[1;36m2\u001b[0m\u001b[1;33m,\u001b[0m\u001b[1;36m3\u001b[0m\u001b[1;33m,\u001b[0m\u001b[1;36m4\u001b[0m\u001b[1;33m,\u001b[0m\u001b[1;36m5\u001b[0m\u001b[1;33m]\u001b[0m\u001b[1;33m\u001b[0m\u001b[1;33m\u001b[0m\u001b[0m\n\u001b[0;32m      2\u001b[0m \u001b[1;33m\u001b[0m\u001b[0m\n\u001b[1;32m----> 3\u001b[1;33m \u001b[0ml\u001b[0m \u001b[1;33m+\u001b[0m \u001b[1;36m2\u001b[0m\u001b[1;33m\u001b[0m\u001b[1;33m\u001b[0m\u001b[0m\n\u001b[0m",
      "\u001b[1;31mTypeError\u001b[0m: can only concatenate list (not \"int\") to list"
     ]
    }
   ],
   "source": [
    "l = [1,2,3,4,5]\n",
    "\n",
    "l + 2\n"
   ]
  },
  {
   "cell_type": "code",
   "execution_count": 9,
   "id": "e7b241f1",
   "metadata": {},
   "outputs": [
    {
     "data": {
      "text/plain": [
       "<map at 0x238b2774df0>"
      ]
     },
     "execution_count": 9,
     "metadata": {},
     "output_type": "execute_result"
    }
   ],
   "source": [
    "l = [1,2,3,4,5]\n",
    "\n",
    "def abc(x):\n",
    "    return x + 2 * 3\n",
    "map(abc, l)"
   ]
  },
  {
   "cell_type": "code",
   "execution_count": 10,
   "id": "58b86b93",
   "metadata": {},
   "outputs": [
    {
     "data": {
      "text/plain": [
       "[7, 8, 9, 10, 11]"
      ]
     },
     "execution_count": 10,
     "metadata": {},
     "output_type": "execute_result"
    }
   ],
   "source": [
    "l = [1,2,3,4,5]\n",
    "\n",
    "def abc(x):\n",
    "    return x + 2 * 3\n",
    "list(map(abc, l))"
   ]
  },
  {
   "cell_type": "code",
   "execution_count": 13,
   "id": "48db0428",
   "metadata": {},
   "outputs": [
    {
     "data": {
      "text/plain": [
       "[7, 8, 9, 10, 11]"
      ]
     },
     "execution_count": 13,
     "metadata": {},
     "output_type": "execute_result"
    }
   ],
   "source": [
    "l = [1,2,3,4,5]\n",
    "\n",
    "list(map(lambda x:x+2*3, l))"
   ]
  },
  {
   "cell_type": "code",
   "execution_count": 15,
   "id": "2e0b9e96",
   "metadata": {},
   "outputs": [
    {
     "data": {
      "text/plain": [
       "[2, 4]"
      ]
     },
     "execution_count": 15,
     "metadata": {},
     "output_type": "execute_result"
    }
   ],
   "source": [
    "l = [1,2,3,4,5]\n",
    "list(filter(lambda x:x%2==0, l))"
   ]
  },
  {
   "cell_type": "code",
   "execution_count": 16,
   "id": "b0ade981",
   "metadata": {},
   "outputs": [
    {
     "name": "stdout",
     "output_type": "stream",
     "text": [
      "Object `reduce` not found.\n"
     ]
    }
   ],
   "source": [
    "red"
   ]
  },
  {
   "cell_type": "markdown",
   "id": "39d7a1b4",
   "metadata": {},
   "source": [
    "<img src=\"https://qissba.com/wp-content/uploads/2022/07/Precedance-Order-of-Operators.jpg\">"
   ]
  },
  {
   "cell_type": "code",
   "execution_count": 12,
   "id": "a0863b2b",
   "metadata": {},
   "outputs": [
    {
     "name": "stdout",
     "output_type": "stream",
     "text": [
      "54\n",
      "44\n"
     ]
    }
   ],
   "source": [
    "print(2*3 * (7+2)) # PEMDAS/BODMAS\n",
    "print(2*3 * 7+2)"
   ]
  },
  {
   "cell_type": "code",
   "execution_count": null,
   "id": "2fb828bc",
   "metadata": {},
   "outputs": [],
   "source": [
    "# 2*3 * (7+2)\n",
    "# 2*3 * 9\n",
    "# 6 * 9\n",
    "# 54"
   ]
  },
  {
   "cell_type": "markdown",
   "id": "b242a6bf",
   "metadata": {},
   "source": [
    "# Assignment\n",
    "sort dictionary based on their values."
   ]
  },
  {
   "cell_type": "code",
   "execution_count": null,
   "id": "9de87e3c",
   "metadata": {},
   "outputs": [],
   "source": []
  }
 ],
 "metadata": {
  "kernelspec": {
   "display_name": "Python 3 (ipykernel)",
   "language": "python",
   "name": "python3"
  },
  "language_info": {
   "codemirror_mode": {
    "name": "ipython",
    "version": 3
   },
   "file_extension": ".py",
   "mimetype": "text/x-python",
   "name": "python",
   "nbconvert_exporter": "python",
   "pygments_lexer": "ipython3",
   "version": "3.9.13"
  }
 },
 "nbformat": 4,
 "nbformat_minor": 5
}
