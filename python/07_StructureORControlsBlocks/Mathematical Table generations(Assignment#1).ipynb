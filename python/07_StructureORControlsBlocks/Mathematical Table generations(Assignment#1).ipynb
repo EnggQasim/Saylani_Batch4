{
 "cells": [
  {
   "cell_type": "markdown",
   "id": "f9f95aa1",
   "metadata": {},
   "source": [
    "# Name : Dhanish Gopal\n",
    "# Saylani Batch-4 (A.I and Data Science Student)\n",
    "# ID : 118222"
   ]
  },
  {
   "cell_type": "code",
   "execution_count": 4,
   "id": "f7a8ce09",
   "metadata": {},
   "outputs": [
    {
     "name": "stdout",
     "output_type": "stream",
     "text": [
      "Enter your number: 2\n",
      "Enter your next number: 7\n",
      "2 X 1 = 2    3 X 1 = 3    4 X 1 = 4    5 X 1 = 5    6 X 1 = 6    7 X 1 = 7    \n",
      "2 X 2 = 4    3 X 2 = 6    4 X 2 = 8    5 X 2 = 10    6 X 2 = 12    7 X 2 = 14    \n",
      "2 X 3 = 6    3 X 3 = 9    4 X 3 = 12    5 X 3 = 15    6 X 3 = 18    7 X 3 = 21    \n",
      "2 X 4 = 8    3 X 4 = 12    4 X 4 = 16    5 X 4 = 20    6 X 4 = 24    7 X 4 = 28    \n",
      "2 X 5 = 10    3 X 5 = 15    4 X 5 = 20    5 X 5 = 25    6 X 5 = 30    7 X 5 = 35    \n",
      "2 X 6 = 12    3 X 6 = 18    4 X 6 = 24    5 X 6 = 30    6 X 6 = 36    7 X 6 = 42    \n"
     ]
    }
   ],
   "source": [
    "user_1 = int(input(\"Enter your number: \"))\n",
    "user_2 = int(input(\"Enter your next number: \"))\n",
    "\n",
    "for i in range(1,user_2):\n",
    "    for j in range(user_1, user_2+1):\n",
    "        print(f\"{j} X {i} = {i*j}\", end='    ')\n",
    "    print() "
   ]
  },
  {
   "cell_type": "code",
   "execution_count": null,
   "id": "8c6be081",
   "metadata": {},
   "outputs": [],
   "source": []
  }
 ],
 "metadata": {
  "kernelspec": {
   "display_name": "Python 3 (ipykernel)",
   "language": "python",
   "name": "python3"
  },
  "language_info": {
   "codemirror_mode": {
    "name": "ipython",
    "version": 3
   },
   "file_extension": ".py",
   "mimetype": "text/x-python",
   "name": "python",
   "nbconvert_exporter": "python",
   "pygments_lexer": "ipython3",
   "version": "3.9.13"
  }
 },
 "nbformat": 4,
 "nbformat_minor": 5
}
