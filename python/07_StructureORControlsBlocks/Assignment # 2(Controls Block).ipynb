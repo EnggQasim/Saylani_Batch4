{
 "cells": [
  {
   "cell_type": "markdown",
   "id": "06027c6e",
   "metadata": {},
   "source": [
    "# create list of dictionary with (name,id,user,password,email,phone)"
   ]
  },
  {
   "cell_type": "code",
   "execution_count": 22,
   "id": "805a51e0",
   "metadata": {},
   "outputs": [
    {
     "name": "stdout",
     "output_type": "stream",
     "text": [
      "Please select your options. i.e 'u for user name', 'e for email address' and 'p for phone number'\n",
      "\n",
      "Enter your options(u or e or p): p\n",
      "Enter Your Phone Number: 034502971999\n",
      "Enter your Password: abc890\n",
      "Invalid User Name or Password\n"
     ]
    }
   ],
   "source": [
    "info = [{'name': 'Dhanish Maheshwary', 'id': 118222, 'user' : 'Dhanish', 'password': 'abc123', 'email': 'dhanish.mahi@gmail.com', 'phone_num': '03130297199'},\n",
    "        {'name': 'Muhammad Qasim', 'id': 118111, 'user' : 'Qasim', 'password': 'abc12345', 'email': 'm.qasim@gmail.com', 'phone_num': '03137788391'},\n",
    "        {'name': 'Waheed Ahmed', 'id': 118999, 'user' : 'Waheed', 'password': 'abc890', 'email': 'waheed.a@gmail.com', 'phone_num': '03450297199'}]\n",
    "\n",
    "print(\"Please select your options. i.e 'u for user name', 'e for email address' and 'p for phone number'\\n\")\n",
    "\n",
    "options = input(\"Enter your options(u or e or p): \")\n",
    "\n",
    "if options.lower() == 'u':\n",
    "    user_name = (input(\"Enter your User Name: \").capitalize())\n",
    "    pswrd = input(\"Enter your Password: \")\n",
    "    for u in info:\n",
    "        if u['user'] == user_name and u['password'] == pswrd:\n",
    "            print(\"\\nYour given credentials are correct. Refer below Details for reference\\n\\n\", u)\n",
    "            break\n",
    "            \n",
    "    else:\n",
    "        print(\"Invalid User Name or Password\")\n",
    "            \n",
    "elif options.lower() == 'e':\n",
    "    email_address = input(\"Enter Your Email Address: \")\n",
    "    pswrd = input(\"Enter your Password: \")\n",
    "    for em in info:\n",
    "        if em['email'] == email_address and em['password'] == pswrd:\n",
    "            print(\"\\nYour given credentials are correct. Refer below Details for reference\\n\\n\", em)\n",
    "            break\n",
    "            \n",
    "    else:\n",
    "        print(\"Invalid Email Address or Password\")\n",
    "        \n",
    "        \n",
    "elif options.lower() == 'p':\n",
    "    phone = input(\"Enter Your Phone Number: \")\n",
    "    pswrd = input(\"Enter your Password: \")\n",
    "    for p in info:\n",
    "        if p['phone_num'] == phone and p['password'] == pswrd:\n",
    "            print(\"\\nYour given credentials are correct. Refer below Details for reference\\n\\n\", p)\n",
    "            break\n",
    "            \n",
    "    else:\n",
    "        print(\"Invalid User Name or Password\")\n",
    "    \n",
    "else:\n",
    "    print(\"Your options are incorrect\")"
   ]
  },
  {
   "cell_type": "code",
   "execution_count": null,
   "id": "066664e0",
   "metadata": {},
   "outputs": [],
   "source": []
  }
 ],
 "metadata": {
  "kernelspec": {
   "display_name": "Python 3 (ipykernel)",
   "language": "python",
   "name": "python3"
  },
  "language_info": {
   "codemirror_mode": {
    "name": "ipython",
    "version": 3
   },
   "file_extension": ".py",
   "mimetype": "text/x-python",
   "name": "python",
   "nbconvert_exporter": "python",
   "pygments_lexer": "ipython3",
   "version": "3.9.13"
  }
 },
 "nbformat": 4,
 "nbformat_minor": 5
}
