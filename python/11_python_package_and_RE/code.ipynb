{
 "cells": [
  {
   "cell_type": "code",
   "execution_count": 1,
   "id": "8535cfea",
   "metadata": {},
   "outputs": [],
   "source": [
    "from mypackage import functions"
   ]
  },
  {
   "cell_type": "code",
   "execution_count": 2,
   "id": "b2801519",
   "metadata": {},
   "outputs": [
    {
     "data": {
      "text/plain": [
       "['__builtins__',\n",
       " '__cached__',\n",
       " '__doc__',\n",
       " '__file__',\n",
       " '__loader__',\n",
       " '__name__',\n",
       " '__package__',\n",
       " '__spec__',\n",
       " 'average',\n",
       " 'power',\n",
       " 'subtraction',\n",
       " 'sum']"
      ]
     },
     "execution_count": 2,
     "metadata": {},
     "output_type": "execute_result"
    }
   ],
   "source": [
    "dir(functions)"
   ]
  },
  {
   "cell_type": "code",
   "execution_count": 5,
   "id": "8f2cac67",
   "metadata": {},
   "outputs": [
    {
     "data": {
      "text/plain": [
       "16"
      ]
     },
     "execution_count": 5,
     "metadata": {},
     "output_type": "execute_result"
    }
   ],
   "source": [
    "functions.sum(7,9)"
   ]
  },
  {
   "cell_type": "code",
   "execution_count": 7,
   "id": "ac1cb89c",
   "metadata": {},
   "outputs": [
    {
     "data": {
      "text/plain": [
       "7.5"
      ]
     },
     "execution_count": 7,
     "metadata": {},
     "output_type": "execute_result"
    }
   ],
   "source": [
    "functions.average(7,8)"
   ]
  },
  {
   "cell_type": "code",
   "execution_count": 8,
   "id": "063d4f18",
   "metadata": {},
   "outputs": [
    {
     "data": {
      "text/plain": [
       "5"
      ]
     },
     "execution_count": 8,
     "metadata": {},
     "output_type": "execute_result"
    }
   ],
   "source": [
    "functions.subtraction(7,2)"
   ]
  },
  {
   "cell_type": "code",
   "execution_count": 9,
   "id": "46c3982d",
   "metadata": {},
   "outputs": [
    {
     "data": {
      "text/plain": [
       "8"
      ]
     },
     "execution_count": 9,
     "metadata": {},
     "output_type": "execute_result"
    }
   ],
   "source": [
    "functions.power(2,3)"
   ]
  },
  {
   "cell_type": "code",
   "execution_count": 3,
   "id": "7970f519",
   "metadata": {},
   "outputs": [
    {
     "ename": "TypeError",
     "evalue": "'int' object is not iterable",
     "output_type": "error",
     "traceback": [
      "\u001b[1;31m---------------------------------------------------------------------------\u001b[0m",
      "\u001b[1;31mTypeError\u001b[0m                                 Traceback (most recent call last)",
      "\u001b[1;32m~\\AppData\\Local\\Temp\\ipykernel_6440\\2769053672.py\u001b[0m in \u001b[0;36m<module>\u001b[1;34m\u001b[0m\n\u001b[1;32m----> 1\u001b[1;33m \u001b[0msum\u001b[0m\u001b[1;33m(\u001b[0m\u001b[1;36m7\u001b[0m\u001b[1;33m,\u001b[0m\u001b[1;36m9\u001b[0m\u001b[1;33m)\u001b[0m\u001b[1;33m\u001b[0m\u001b[1;33m\u001b[0m\u001b[0m\n\u001b[0m",
      "\u001b[1;31mTypeError\u001b[0m: 'int' object is not iterable"
     ]
    }
   ],
   "source": [
    "sum(7,9)"
   ]
  },
  {
   "cell_type": "code",
   "execution_count": 4,
   "id": "d1769687",
   "metadata": {},
   "outputs": [
    {
     "ename": "NameError",
     "evalue": "name 'subtraction' is not defined",
     "output_type": "error",
     "traceback": [
      "\u001b[1;31m---------------------------------------------------------------------------\u001b[0m",
      "\u001b[1;31mNameError\u001b[0m                                 Traceback (most recent call last)",
      "\u001b[1;32m~\\AppData\\Local\\Temp\\ipykernel_6440\\1418695816.py\u001b[0m in \u001b[0;36m<module>\u001b[1;34m\u001b[0m\n\u001b[1;32m----> 1\u001b[1;33m \u001b[0msubtraction\u001b[0m\u001b[1;33m(\u001b[0m\u001b[1;36m7\u001b[0m\u001b[1;33m,\u001b[0m\u001b[1;36m2\u001b[0m\u001b[1;33m)\u001b[0m\u001b[1;33m\u001b[0m\u001b[1;33m\u001b[0m\u001b[0m\n\u001b[0m",
      "\u001b[1;31mNameError\u001b[0m: name 'subtraction' is not defined"
     ]
    }
   ],
   "source": [
    "subtraction(7,2)"
   ]
  },
  {
   "cell_type": "markdown",
   "id": "5a6e41e9",
   "metadata": {},
   "source": [
    "# Import only one or two function from package module"
   ]
  },
  {
   "cell_type": "code",
   "execution_count": 1,
   "id": "caa8ad45",
   "metadata": {},
   "outputs": [],
   "source": [
    "from mypackage.functions import subtraction"
   ]
  },
  {
   "cell_type": "code",
   "execution_count": 2,
   "id": "3239486e",
   "metadata": {},
   "outputs": [
    {
     "data": {
      "text/plain": [
       "5"
      ]
     },
     "execution_count": 2,
     "metadata": {},
     "output_type": "execute_result"
    }
   ],
   "source": [
    "subtraction(7,2)"
   ]
  },
  {
   "cell_type": "markdown",
   "id": "e5e8ac09",
   "metadata": {},
   "source": [
    "Import package model functions with package, we don't need modules name for importing any custome function"
   ]
  },
  {
   "cell_type": "code",
   "execution_count": 1,
   "id": "b8b71862",
   "metadata": {},
   "outputs": [],
   "source": [
    "from mypackage import SayHello, subtraction, average"
   ]
  },
  {
   "cell_type": "code",
   "execution_count": 2,
   "id": "3a700bc9",
   "metadata": {
    "scrolled": true
   },
   "outputs": [
    {
     "name": "stdout",
     "output_type": "stream",
     "text": [
      "Hello  Muhammad Qasim Welcome in Saylani Head office!\n"
     ]
    }
   ],
   "source": [
    "SayHello(\"Muhammad Qasim\")"
   ]
  },
  {
   "cell_type": "code",
   "execution_count": 3,
   "id": "bb2e4c38",
   "metadata": {},
   "outputs": [
    {
     "data": {
      "text/plain": [
       "5"
      ]
     },
     "execution_count": 3,
     "metadata": {},
     "output_type": "execute_result"
    }
   ],
   "source": [
    "subtraction(7,2)"
   ]
  },
  {
   "cell_type": "code",
   "execution_count": 4,
   "id": "a3e18ccd",
   "metadata": {},
   "outputs": [
    {
     "ename": "ImportError",
     "evalue": "cannot import name 'power' from 'mypackage' (C:\\Users\\saylani\\Desktop\\Saylani_Batch4-main\\Saylani_Batch4-main\\python\\11_python_package_and_RE\\mypackage\\__init__.py)",
     "output_type": "error",
     "traceback": [
      "\u001b[1;31m---------------------------------------------------------------------------\u001b[0m",
      "\u001b[1;31mImportError\u001b[0m                               Traceback (most recent call last)",
      "\u001b[1;32m~\\AppData\\Local\\Temp\\ipykernel_472\\547325220.py\u001b[0m in \u001b[0;36m<module>\u001b[1;34m\u001b[0m\n\u001b[1;32m----> 1\u001b[1;33m \u001b[1;32mfrom\u001b[0m \u001b[0mmypackage\u001b[0m \u001b[1;32mimport\u001b[0m \u001b[0mpower\u001b[0m\u001b[1;33m\u001b[0m\u001b[1;33m\u001b[0m\u001b[0m\n\u001b[0m",
      "\u001b[1;31mImportError\u001b[0m: cannot import name 'power' from 'mypackage' (C:\\Users\\saylani\\Desktop\\Saylani_Batch4-main\\Saylani_Batch4-main\\python\\11_python_package_and_RE\\mypackage\\__init__.py)"
     ]
    }
   ],
   "source": [
    "from mypackage import power"
   ]
  },
  {
   "cell_type": "markdown",
   "id": "3f2cf220",
   "metadata": {},
   "source": [
    "# Now Install package globally in your computer"
   ]
  },
  {
   "cell_type": "code",
   "execution_count": 5,
   "id": "9c2f34d3",
   "metadata": {},
   "outputs": [
    {
     "name": "stdout",
     "output_type": "stream",
     "text": [
      "Defaulting to user installation because normal site-packages is not writeable\n",
      "Collecting mypackage\n",
      "  Downloading Mypackage-0.1.tar.gz (1.5 kB)\n",
      "  Preparing metadata (setup.py): started\n",
      "  Preparing metadata (setup.py): finished with status 'done'\n",
      "Collecting cmd2\n",
      "  Downloading cmd2-2.4.3-py3-none-any.whl (147 kB)\n",
      "     -------------------------------------- 147.2/147.2 kB 1.5 MB/s eta 0:00:00\n",
      "Requirement already satisfied: wcwidth>=0.1.7 in c:\\programdata\\anaconda3\\lib\\site-packages (from cmd2->mypackage) (0.2.5)\n",
      "Requirement already satisfied: attrs>=16.3.0 in c:\\programdata\\anaconda3\\lib\\site-packages (from cmd2->mypackage) (21.4.0)\n",
      "Collecting pyperclip>=1.6\n",
      "  Downloading pyperclip-1.8.2.tar.gz (20 kB)\n",
      "  Preparing metadata (setup.py): started\n",
      "  Preparing metadata (setup.py): finished with status 'done'\n",
      "Collecting pyreadline3\n",
      "  Downloading pyreadline3-3.4.1-py3-none-any.whl (95 kB)\n",
      "     ---------------------------------------- 95.2/95.2 kB 1.8 MB/s eta 0:00:00\n",
      "Building wheels for collected packages: mypackage, pyperclip\n",
      "  Building wheel for mypackage (setup.py): started\n",
      "  Building wheel for mypackage (setup.py): finished with status 'done'\n",
      "  Created wheel for mypackage: filename=Mypackage-0.1-py3-none-any.whl size=1789 sha256=de875fcb4dac7a651417975996e85e2a008a1e41e91eb9c0cd45a1ee40721df1\n",
      "  Stored in directory: c:\\users\\saylani\\appdata\\local\\pip\\cache\\wheels\\f1\\e9\\16\\9e4bba63c38199e3b4de7638168209b5fc1f15a49b6f345400\n",
      "  Building wheel for pyperclip (setup.py): started\n",
      "  Building wheel for pyperclip (setup.py): finished with status 'done'\n",
      "  Created wheel for pyperclip: filename=pyperclip-1.8.2-py3-none-any.whl size=11123 sha256=6eb930d55503441099c1868554245e9445c013bd0e89bcce9e06fa0f599a034d\n",
      "  Stored in directory: c:\\users\\saylani\\appdata\\local\\pip\\cache\\wheels\\0c\\09\\9e\\49e21a6840ef7955b06d47394afef0058f0378c0914e48b8b8\n",
      "Successfully built mypackage pyperclip\n",
      "Installing collected packages: pyreadline3, pyperclip, cmd2, mypackage\n",
      "Successfully installed cmd2-2.4.3 mypackage-0.1 pyperclip-1.8.2 pyreadline3-3.4.1\n"
     ]
    }
   ],
   "source": [
    "!pip install mypackage"
   ]
  },
  {
   "cell_type": "code",
   "execution_count": 1,
   "id": "aa58400a",
   "metadata": {},
   "outputs": [],
   "source": [
    "from mypackage import SayHello, subtraction, average"
   ]
  },
  {
   "cell_type": "code",
   "execution_count": null,
   "id": "fec71f16",
   "metadata": {},
   "outputs": [],
   "source": []
  }
 ],
 "metadata": {
  "kernelspec": {
   "display_name": "Python 3 (ipykernel)",
   "language": "python",
   "name": "python3"
  },
  "language_info": {
   "codemirror_mode": {
    "name": "ipython",
    "version": 3
   },
   "file_extension": ".py",
   "mimetype": "text/x-python",
   "name": "python",
   "nbconvert_exporter": "python",
   "pygments_lexer": "ipython3",
   "version": "3.9.13"
  }
 },
 "nbformat": 4,
 "nbformat_minor": 5
}
