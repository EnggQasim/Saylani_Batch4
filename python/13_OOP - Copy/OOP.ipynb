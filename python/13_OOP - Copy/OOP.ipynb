{
 "cells": [
  {
   "cell_type": "markdown",
   "id": "20745e75",
   "metadata": {},
   "source": [
    "# OOP"
   ]
  },
  {
   "cell_type": "markdown",
   "id": "31cea404",
   "metadata": {},
   "source": [
    "### Class"
   ]
  },
  {
   "cell_type": "markdown",
   "id": "b5f95e93",
   "metadata": {},
   "source": [
    "### Structure programming\n",
    "* see problems"
   ]
  },
  {
   "cell_type": "code",
   "execution_count": 2,
   "id": "22ca15da",
   "metadata": {},
   "outputs": [],
   "source": [
    "s1_name = \"Qasim\"\n",
    "s2_name = \"Asif\"\n",
    "s3_name = \"Hamza\"\n",
    "\n",
    "def s1_login(): pass\n",
    "def s2_login(): pass\n",
    "def s3_login(): pass"
   ]
  },
  {
   "cell_type": "markdown",
   "id": "610fd44b",
   "metadata": {},
   "source": [
    "## OOPs\n"
   ]
  },
  {
   "cell_type": "code",
   "execution_count": 5,
   "id": "73bf8af8",
   "metadata": {},
   "outputs": [],
   "source": [
    "class Student():\n",
    "    def __init__(self, sname): # constructor\n",
    "        #self.attribute = value\n",
    "        self.name = sname # attribute\n",
    "        self.father_name = None\n",
    "        \n",
    "    def login(self, user,password):\n",
    "        pass\n",
    "        \n",
    "s1 = Student(\"Qasim\") # obj1   \n",
    "s2 = Student(\"Asif\")\n",
    "s3 = Student(\"Hamza\")# obj3"
   ]
  },
  {
   "cell_type": "code",
   "execution_count": null,
   "id": "e5f9b6f4",
   "metadata": {},
   "outputs": [],
   "source": []
  },
  {
   "cell_type": "code",
   "execution_count": 6,
   "id": "1ed513df",
   "metadata": {},
   "outputs": [
    {
     "name": "stdout",
     "output_type": "stream",
     "text": [
      "Qasim\n",
      "Asif\n",
      "Hamza\n"
     ]
    }
   ],
   "source": [
    "print(s1.name)\n",
    "print(s2.name)\n",
    "print(s3.name)"
   ]
  },
  {
   "cell_type": "code",
   "execution_count": 7,
   "id": "6ac498e9",
   "metadata": {},
   "outputs": [
    {
     "name": "stdout",
     "output_type": "stream",
     "text": [
      "None\n",
      "Muhammad Aslam\n"
     ]
    }
   ],
   "source": [
    "print(s1.father_name)\n",
    "s1.father_name = \"Muhammad Aslam\"\n",
    "print(s1.father_name)"
   ]
  },
  {
   "cell_type": "code",
   "execution_count": 8,
   "id": "53436614",
   "metadata": {},
   "outputs": [
    {
     "name": "stdout",
     "output_type": "stream",
     "text": [
      "Muhammad Qasim\n",
      "Muhammad Aslam\n"
     ]
    }
   ],
   "source": [
    "s1.name = \"Muhammad Qasim\"\n",
    "\n",
    "print(s1.name)\n",
    "print(s1.father_name)"
   ]
  },
  {
   "cell_type": "code",
   "execution_count": 9,
   "id": "7457f075",
   "metadata": {},
   "outputs": [
    {
     "name": "stdout",
     "output_type": "stream",
     "text": [
      "Muhammad Qasim\n",
      "Muhammad Aslam\n",
      "0315-2968211\n"
     ]
    }
   ],
   "source": [
    "s1.contact = \"0315-2968211\"\n",
    "\n",
    "print(s1.name)\n",
    "print(s1.father_name)\n",
    "print(s1.contact)"
   ]
  },
  {
   "cell_type": "code",
   "execution_count": 10,
   "id": "7edfd382",
   "metadata": {},
   "outputs": [
    {
     "name": "stdout",
     "output_type": "stream",
     "text": [
      "None\n",
      "None\n"
     ]
    }
   ],
   "source": [
    "print(s2.father_name)\n",
    "print(s3.father_name)"
   ]
  },
  {
   "cell_type": "code",
   "execution_count": 11,
   "id": "7436262c",
   "metadata": {},
   "outputs": [
    {
     "ename": "AttributeError",
     "evalue": "'Student' object has no attribute 'contact'",
     "output_type": "error",
     "traceback": [
      "\u001b[1;31m---------------------------------------------------------------------------\u001b[0m",
      "\u001b[1;31mAttributeError\u001b[0m                            Traceback (most recent call last)",
      "\u001b[1;32m~\\AppData\\Local\\Temp\\ipykernel_8312\\3087984141.py\u001b[0m in \u001b[0;36m<module>\u001b[1;34m\u001b[0m\n\u001b[1;32m----> 1\u001b[1;33m \u001b[0ms2\u001b[0m\u001b[1;33m.\u001b[0m\u001b[0mcontact\u001b[0m\u001b[1;33m\u001b[0m\u001b[1;33m\u001b[0m\u001b[0m\n\u001b[0m",
      "\u001b[1;31mAttributeError\u001b[0m: 'Student' object has no attribute 'contact'"
     ]
    }
   ],
   "source": [
    "s2.contact"
   ]
  },
  {
   "cell_type": "code",
   "execution_count": null,
   "id": "78883dde",
   "metadata": {},
   "outputs": [],
   "source": []
  },
  {
   "cell_type": "code",
   "execution_count": null,
   "id": "291027a2",
   "metadata": {},
   "outputs": [],
   "source": []
  },
  {
   "cell_type": "code",
   "execution_count": 9,
   "id": "38dd8bcc",
   "metadata": {},
   "outputs": [],
   "source": [
    "s1.login('a','b')"
   ]
  },
  {
   "cell_type": "markdown",
   "id": "39b04684",
   "metadata": {},
   "source": [
    "### class Variable"
   ]
  },
  {
   "cell_type": "code",
   "execution_count": 15,
   "id": "7ff1772e",
   "metadata": {},
   "outputs": [],
   "source": [
    "class Student():\n",
    "    counter = 100\n",
    "    def __init__(self, sname): # constructor\n",
    "        #self.attribute = value\n",
    "        self.name = sname # attribute\n",
    "        self.father_name = None\n",
    "        \n",
    "    def login(self, user,password):\n",
    "        pass\n",
    "        \n",
    "s1 = Student(\"Qasim\")   \n",
    "s2 = Student(\"Asif\")\n",
    "s3 = Student(\"Hamza\")"
   ]
  },
  {
   "cell_type": "code",
   "execution_count": 16,
   "id": "7bc43d53",
   "metadata": {},
   "outputs": [
    {
     "data": {
      "text/plain": [
       "100"
      ]
     },
     "execution_count": 16,
     "metadata": {},
     "output_type": "execute_result"
    }
   ],
   "source": [
    "Student.counter"
   ]
  },
  {
   "cell_type": "code",
   "execution_count": 17,
   "id": "75a293a8",
   "metadata": {},
   "outputs": [
    {
     "data": {
      "text/plain": [
       "100"
      ]
     },
     "execution_count": 17,
     "metadata": {},
     "output_type": "execute_result"
    }
   ],
   "source": [
    "s1.counter"
   ]
  },
  {
   "cell_type": "code",
   "execution_count": 18,
   "id": "f40eca3f",
   "metadata": {},
   "outputs": [
    {
     "data": {
      "text/plain": [
       "100"
      ]
     },
     "execution_count": 18,
     "metadata": {},
     "output_type": "execute_result"
    }
   ],
   "source": [
    "s2.counter"
   ]
  },
  {
   "cell_type": "code",
   "execution_count": 19,
   "id": "2336e44d",
   "metadata": {},
   "outputs": [
    {
     "data": {
      "text/plain": [
       "100"
      ]
     },
     "execution_count": 19,
     "metadata": {},
     "output_type": "execute_result"
    }
   ],
   "source": [
    "s3.counter"
   ]
  },
  {
   "cell_type": "code",
   "execution_count": 22,
   "id": "189edbcf",
   "metadata": {},
   "outputs": [
    {
     "name": "stdout",
     "output_type": "stream",
     "text": [
      "1\n",
      "2\n",
      "3\n"
     ]
    }
   ],
   "source": [
    "class Student():\n",
    "    counter = 0\n",
    "    def __init__(self, sname): # constructor\n",
    "        #self.attribute = value\n",
    "        self.name = sname # attribute\n",
    "        self.father_name = None\n",
    "        Student.counter += 1\n",
    "        \n",
    "    def login(self, user,password):\n",
    "        pass\n",
    "        \n",
    "s1 = Student(\"Qasim\")\n",
    "print(s1.counter)\n",
    "s2 = Student(\"Asif\")\n",
    "print(s1.counter)\n",
    "s3 = Student(\"Hamza\")\n",
    "print(s1.counter)"
   ]
  },
  {
   "cell_type": "code",
   "execution_count": 21,
   "id": "ee988fd6",
   "metadata": {},
   "outputs": [
    {
     "data": {
      "text/plain": [
       "3"
      ]
     },
     "execution_count": 21,
     "metadata": {},
     "output_type": "execute_result"
    }
   ],
   "source": [
    "Student.counter"
   ]
  },
  {
   "cell_type": "markdown",
   "id": "fe7bfeee",
   "metadata": {},
   "source": [
    "# Inheritance"
   ]
  },
  {
   "cell_type": "code",
   "execution_count": 12,
   "id": "6576115e",
   "metadata": {},
   "outputs": [],
   "source": [
    "class Parents():\n",
    "    def __init__(this, name, fname):\n",
    "        this.name = name\n",
    "        this.father_name = fname\n",
    "    \n",
    "    def speak(this,words):\n",
    "        return words\n",
    "    \n",
    "    def look(this,object1):\n",
    "        return f\"{this.name} is looking {object1}\"\n",
    "    \n"
   ]
  },
  {
   "cell_type": "code",
   "execution_count": 13,
   "id": "cefb591b",
   "metadata": {},
   "outputs": [],
   "source": [
    "class Child(Parents):\n",
    "    pass"
   ]
  },
  {
   "cell_type": "code",
   "execution_count": 15,
   "id": "2674e079",
   "metadata": {},
   "outputs": [
    {
     "name": "stdout",
     "output_type": "stream",
     "text": [
      "Muhammad Qasim\n",
      "Muhammad Aslam\n",
      "Pakistan zinda bad\n",
      "Muhammad Qasim is looking Saylani Class View\n"
     ]
    }
   ],
   "source": [
    "p1 = Parents(\"Muhammad Qasim\",\"Muhammad Aslam\")\n",
    "print(p1.name)\n",
    "print(p1.father_name)\n",
    "print(p1.speak(\"Pakistan zinda bad\"))\n",
    "print(p1.look(\"Saylani Class View\"))"
   ]
  },
  {
   "cell_type": "code",
   "execution_count": 18,
   "id": "a906d118",
   "metadata": {},
   "outputs": [
    {
     "name": "stdout",
     "output_type": "stream",
     "text": [
      "Muhammad Hamza\n",
      "Muhammad Aslam\n",
      "Pakistan zinda bad\n",
      "Muhammad Hamza is looking Saylani Class View\n"
     ]
    }
   ],
   "source": [
    "c1 = Child(\"Muhammad Hamza\",\"Muhammad Aslam\")\n",
    "print(c1.name)\n",
    "print(c1.father_name)\n",
    "print(c1.speak(\"Pakistan zinda bad\"))\n",
    "print(c1.look(\"Saylani Class View\"))"
   ]
  },
  {
   "cell_type": "code",
   "execution_count": 19,
   "id": "993a2c5e",
   "metadata": {},
   "outputs": [
    {
     "name": "stdout",
     "output_type": "stream",
     "text": [
      "Muhammad Qasim is looking Car\n",
      "Muhammad Hamza is looking Sky\n"
     ]
    }
   ],
   "source": [
    "print(p1.look(\"Car\"))\n",
    "print(c1.look(\"Sky\"))"
   ]
  },
  {
   "cell_type": "code",
   "execution_count": 17,
   "id": "31d14408",
   "metadata": {},
   "outputs": [
    {
     "data": {
      "text/plain": [
       "['__class__',\n",
       " '__delattr__',\n",
       " '__dict__',\n",
       " '__dir__',\n",
       " '__doc__',\n",
       " '__eq__',\n",
       " '__format__',\n",
       " '__ge__',\n",
       " '__getattribute__',\n",
       " '__gt__',\n",
       " '__hash__',\n",
       " '__init__',\n",
       " '__init_subclass__',\n",
       " '__le__',\n",
       " '__lt__',\n",
       " '__module__',\n",
       " '__ne__',\n",
       " '__new__',\n",
       " '__reduce__',\n",
       " '__reduce_ex__',\n",
       " '__repr__',\n",
       " '__setattr__',\n",
       " '__sizeof__',\n",
       " '__str__',\n",
       " '__subclasshook__',\n",
       " '__weakref__',\n",
       " 'father_name',\n",
       " 'look',\n",
       " 'name',\n",
       " 'speak']"
      ]
     },
     "execution_count": 17,
     "metadata": {},
     "output_type": "execute_result"
    }
   ],
   "source": [
    "dir(c1)"
   ]
  },
  {
   "cell_type": "code",
   "execution_count": 20,
   "id": "7eb9fb96",
   "metadata": {},
   "outputs": [],
   "source": [
    "class Parents():\n",
    "    def __init__(this, name, fname):\n",
    "        this.name = name\n",
    "        this.father_name = fname\n",
    "    \n",
    "    def speak(this,words):\n",
    "        return words\n",
    "    \n",
    "    def look(this,object1):\n",
    "        return f\"{this.name} is looking {object1}\"\n",
    "    \n",
    "\n",
    "class Child(Parents):\n",
    "    def reading(this,context):\n",
    "        return f\"{this.name} is reading {context}!\"\n",
    "    \n"
   ]
  },
  {
   "cell_type": "code",
   "execution_count": 21,
   "id": "03f999a1",
   "metadata": {},
   "outputs": [],
   "source": [
    "p1 = Parents(\"Muhammad Qasim\",\"Muhammad Aslam\")\n",
    "c1 = Child(\"Muhammad Hamza\",\"Muhammad Aslam\")"
   ]
  },
  {
   "cell_type": "code",
   "execution_count": 23,
   "id": "ef6d3064",
   "metadata": {},
   "outputs": [
    {
     "data": {
      "text/plain": [
       "['look', 'name', 'speak']"
      ]
     },
     "execution_count": 23,
     "metadata": {},
     "output_type": "execute_result"
    }
   ],
   "source": [
    "[i for i in dir(p1) if \"_\" not in i]"
   ]
  },
  {
   "cell_type": "code",
   "execution_count": 24,
   "id": "457f0144",
   "metadata": {},
   "outputs": [
    {
     "data": {
      "text/plain": [
       "['look', 'name', 'reading', 'speak']"
      ]
     },
     "execution_count": 24,
     "metadata": {},
     "output_type": "execute_result"
    }
   ],
   "source": [
    "[i for i in dir(c1) if \"_\" not in i]"
   ]
  },
  {
   "cell_type": "code",
   "execution_count": 25,
   "id": "d9809159",
   "metadata": {},
   "outputs": [
    {
     "ename": "AttributeError",
     "evalue": "'Parents' object has no attribute 'reading'",
     "output_type": "error",
     "traceback": [
      "\u001b[1;31m---------------------------------------------------------------------------\u001b[0m",
      "\u001b[1;31mAttributeError\u001b[0m                            Traceback (most recent call last)",
      "\u001b[1;32m~\\AppData\\Local\\Temp\\ipykernel_8312\\3389594210.py\u001b[0m in \u001b[0;36m<module>\u001b[1;34m\u001b[0m\n\u001b[1;32m----> 1\u001b[1;33m \u001b[0mp1\u001b[0m\u001b[1;33m.\u001b[0m\u001b[0mreading\u001b[0m\u001b[1;33m(\u001b[0m\u001b[1;34m\"AI\"\u001b[0m\u001b[1;33m)\u001b[0m\u001b[1;33m\u001b[0m\u001b[1;33m\u001b[0m\u001b[0m\n\u001b[0m",
      "\u001b[1;31mAttributeError\u001b[0m: 'Parents' object has no attribute 'reading'"
     ]
    }
   ],
   "source": [
    "p1.reading(\"AI\")"
   ]
  },
  {
   "cell_type": "code",
   "execution_count": 26,
   "id": "8d8e0a9f",
   "metadata": {},
   "outputs": [
    {
     "data": {
      "text/plain": [
       "'Muhammad Hamza is reading AI!'"
      ]
     },
     "execution_count": 26,
     "metadata": {},
     "output_type": "execute_result"
    }
   ],
   "source": [
    "c1.reading(\"AI\")"
   ]
  },
  {
   "cell_type": "code",
   "execution_count": 27,
   "id": "88998130",
   "metadata": {},
   "outputs": [],
   "source": [
    "class Parents():\n",
    "    def __init__(this, name, fname):\n",
    "        this.name = name\n",
    "        this.father_name = fname\n",
    "    \n",
    "    def speak(this,words):\n",
    "        return words\n",
    "    \n",
    "    def look(this,object1):\n",
    "        return f\"{this.name} is looking {object1}\"\n",
    "    \n",
    "\n",
    "class Child(Parents):\n",
    "    def __init__(this,name,fname,age):\n",
    "        super().__init__(name,fname) # calling parent constructor function\n",
    "        this.age = age    \n",
    "    \n",
    "    \n",
    "    def reading(this,context):\n",
    "        return f\"{this.name} is reading {context}!\"\n",
    "    \n"
   ]
  },
  {
   "cell_type": "code",
   "execution_count": 28,
   "id": "67638ba3",
   "metadata": {},
   "outputs": [],
   "source": [
    "p1 = Parents(\"Muhammad Qasim\",\"Muhammad Aslam\")"
   ]
  },
  {
   "cell_type": "code",
   "execution_count": 29,
   "id": "3f0a7110",
   "metadata": {},
   "outputs": [],
   "source": [
    "c1 = Child(\"Muhammad Hamza\",\"Muhammad Aslam\", 19)"
   ]
  },
  {
   "cell_type": "code",
   "execution_count": 31,
   "id": "2aeabab2",
   "metadata": {},
   "outputs": [
    {
     "data": {
      "text/plain": [
       "['look', 'name', 'speak']"
      ]
     },
     "execution_count": 31,
     "metadata": {},
     "output_type": "execute_result"
    }
   ],
   "source": [
    "[i for i in dir(p1) if \"_\" not in i]"
   ]
  },
  {
   "cell_type": "code",
   "execution_count": 32,
   "id": "2ad02e4d",
   "metadata": {},
   "outputs": [
    {
     "data": {
      "text/plain": [
       "['age', 'look', 'name', 'reading', 'speak']"
      ]
     },
     "execution_count": 32,
     "metadata": {},
     "output_type": "execute_result"
    }
   ],
   "source": [
    "[i for i in dir(c1) if \"_\" not in i]"
   ]
  },
  {
   "cell_type": "markdown",
   "id": "b6593d45",
   "metadata": {},
   "source": [
    "# polymorphism\n",
    "* Overloading\n",
    "    * same function call within a class with different arguments/types\n",
    "* over-riding\n",
    "    * same function call in child a class with different arguments/types\n"
   ]
  },
  {
   "cell_type": "raw",
   "id": "0e4da352",
   "metadata": {},
   "source": [
    "\n",
    "class Parent():\n",
    "    def __init__(self):\n",
    "        pass\n",
    "    \n",
    "    #old way or we use this methond in java and .net\n",
    "    def add_two_num(num1 int, num2 int): return num1 + num2\n",
    "    def add_two_num(num1 float, num2 float): return num1 + num2\n",
    "    def add_two_num(num1 int, num2 float): return num1 + num2\n",
    "    def add_two_num(num1 float, num2 int): return num1 + num2"
   ]
  },
  {
   "cell_type": "code",
   "execution_count": 35,
   "id": "4ae0f501",
   "metadata": {},
   "outputs": [
    {
     "name": "stdout",
     "output_type": "stream",
     "text": [
      "2\n",
      "4.699999999999999\n",
      "22.7\n",
      "40.7\n"
     ]
    }
   ],
   "source": [
    "class Parent():\n",
    "    def __init__(self):\n",
    "        pass\n",
    "    # overloading\n",
    "    def add_two_nums(self,num1,num2): return num1 + num2\n",
    "    \n",
    "p1 = Parent()\n",
    "p1.add_two_nums(20,20.7)\n",
    "print(p1.add_two_nums(1,1))\n",
    "print(p1.add_two_nums(2.3,2.4))\n",
    "print(p1.add_two_nums(20,2.7))\n",
    "print(p1.add_two_nums(20.7,20))"
   ]
  },
  {
   "cell_type": "markdown",
   "id": "0eb3d3e3",
   "metadata": {},
   "source": [
    "# Over riding"
   ]
  },
  {
   "cell_type": "code",
   "execution_count": 36,
   "id": "2969cc28",
   "metadata": {},
   "outputs": [],
   "source": [
    "class Parents():\n",
    "    def __init__(self):\n",
    "        pass\n",
    "    \n",
    "    def speak(self,language=\"Urdu\"): # same name in parent\n",
    "        return f\"I can speak {language}\"\n",
    "    \n"
   ]
  },
  {
   "cell_type": "code",
   "execution_count": 46,
   "id": "edcca81b",
   "metadata": {},
   "outputs": [],
   "source": [
    "class Child(Parents):\n",
    "    def speak(self,language=\"English\"):# same name in child = Over-riding\n",
    "        return f\"I can speak {language}\"\n",
    "    \n",
    "    def my_parent_speak(self):\n",
    "        return super().speak()\n",
    "        "
   ]
  },
  {
   "cell_type": "code",
   "execution_count": 47,
   "id": "8a0cd988",
   "metadata": {},
   "outputs": [
    {
     "name": "stdout",
     "output_type": "stream",
     "text": [
      "I can speak Urdu\n"
     ]
    }
   ],
   "source": [
    "p1 = Parents()\n",
    "print(p1.speak())"
   ]
  },
  {
   "cell_type": "code",
   "execution_count": 48,
   "id": "45dc2a04",
   "metadata": {},
   "outputs": [
    {
     "name": "stdout",
     "output_type": "stream",
     "text": [
      "I can speak English\n"
     ]
    }
   ],
   "source": [
    "c1  = Child()\n",
    "print(c1.speak())"
   ]
  },
  {
   "cell_type": "code",
   "execution_count": 49,
   "id": "58563613",
   "metadata": {},
   "outputs": [
    {
     "data": {
      "text/plain": [
       "'I can speak Urdu'"
      ]
     },
     "execution_count": 49,
     "metadata": {},
     "output_type": "execute_result"
    }
   ],
   "source": [
    "c1.my_parent_speak()"
   ]
  },
  {
   "cell_type": "markdown",
   "id": "60121789",
   "metadata": {},
   "source": [
    "# encapsulation"
   ]
  },
  {
   "cell_type": "markdown",
   "id": "18904bdf",
   "metadata": {},
   "source": [
    "* make some methods/attribute to private\n",
    "    * **__** add double underscor before any method/attribute\n",
    "    * if we make any attribute private \n",
    "        * we can access with in class or in child class\n",
    "* we can access/call or change these methods/attributes\n",
    "    * with seter and geter functions/methods"
   ]
  },
  {
   "cell_type": "code",
   "execution_count": 65,
   "id": "99676639",
   "metadata": {},
   "outputs": [],
   "source": [
    "class Parents():\n",
    "    def __init__(this, sid,name, fname):\n",
    "        this.__sid = sid # private\n",
    "        this.name = name # public\n",
    "        this.father_name = fname # public\n",
    "    \n",
    "    def speak(this,words):\n",
    "        return words\n",
    "    \n",
    "    def look(this,object1):\n",
    "        #                   call in class\n",
    "        return f\"Student id {this.__sid} and Name {this.name} is looking {object1}\"\n",
    "    \n",
    "    def update_sid(this,new_id): # seter function\n",
    "        this.__sid = new_id\n",
    "        \n",
    "    def display_sid(this):\n",
    "        return this.__sid\n",
    "\n"
   ]
  },
  {
   "cell_type": "code",
   "execution_count": 66,
   "id": "6ed751b6",
   "metadata": {},
   "outputs": [],
   "source": [
    "p1 = Parents(1,\"Muhammad Qasim\",\"Muhmmad Aslam\")"
   ]
  },
  {
   "cell_type": "code",
   "execution_count": 67,
   "id": "abeb056f",
   "metadata": {},
   "outputs": [
    {
     "name": "stdout",
     "output_type": "stream",
     "text": [
      "Muhammad Qasim Muhmmad Aslam\n"
     ]
    }
   ],
   "source": [
    "print(p1.name, p1.father_name)"
   ]
  },
  {
   "cell_type": "code",
   "execution_count": 68,
   "id": "ade737a5",
   "metadata": {},
   "outputs": [
    {
     "ename": "AttributeError",
     "evalue": "'Parents' object has no attribute 'sid'",
     "output_type": "error",
     "traceback": [
      "\u001b[1;31m---------------------------------------------------------------------------\u001b[0m",
      "\u001b[1;31mAttributeError\u001b[0m                            Traceback (most recent call last)",
      "\u001b[1;32m~\\AppData\\Local\\Temp\\ipykernel_8312\\1571095891.py\u001b[0m in \u001b[0;36m<module>\u001b[1;34m\u001b[0m\n\u001b[1;32m----> 1\u001b[1;33m \u001b[0mp1\u001b[0m\u001b[1;33m.\u001b[0m\u001b[0msid\u001b[0m\u001b[1;33m\u001b[0m\u001b[1;33m\u001b[0m\u001b[0m\n\u001b[0m",
      "\u001b[1;31mAttributeError\u001b[0m: 'Parents' object has no attribute 'sid'"
     ]
    }
   ],
   "source": [
    "p1.sid"
   ]
  },
  {
   "cell_type": "code",
   "execution_count": 69,
   "id": "3c2aa847",
   "metadata": {},
   "outputs": [
    {
     "ename": "AttributeError",
     "evalue": "'Parents' object has no attribute '__sid'",
     "output_type": "error",
     "traceback": [
      "\u001b[1;31m---------------------------------------------------------------------------\u001b[0m",
      "\u001b[1;31mAttributeError\u001b[0m                            Traceback (most recent call last)",
      "\u001b[1;32m~\\AppData\\Local\\Temp\\ipykernel_8312\\4217908874.py\u001b[0m in \u001b[0;36m<module>\u001b[1;34m\u001b[0m\n\u001b[1;32m----> 1\u001b[1;33m \u001b[0mp1\u001b[0m\u001b[1;33m.\u001b[0m\u001b[0m__sid\u001b[0m\u001b[1;33m\u001b[0m\u001b[1;33m\u001b[0m\u001b[0m\n\u001b[0m",
      "\u001b[1;31mAttributeError\u001b[0m: 'Parents' object has no attribute '__sid'"
     ]
    }
   ],
   "source": [
    "p1.__sid"
   ]
  },
  {
   "cell_type": "code",
   "execution_count": 70,
   "id": "5b70a4d4",
   "metadata": {},
   "outputs": [
    {
     "data": {
      "text/plain": [
       "'Student id 1 and Name Muhammad Qasim is looking Car'"
      ]
     },
     "execution_count": 70,
     "metadata": {},
     "output_type": "execute_result"
    }
   ],
   "source": [
    "p1.look(\"Car\")"
   ]
  },
  {
   "cell_type": "code",
   "execution_count": 73,
   "id": "5302a6fb",
   "metadata": {},
   "outputs": [
    {
     "data": {
      "text/plain": [
       "1"
      ]
     },
     "execution_count": 73,
     "metadata": {},
     "output_type": "execute_result"
    }
   ],
   "source": [
    "p1._Parents__sid"
   ]
  },
  {
   "cell_type": "code",
   "execution_count": 72,
   "id": "21a3350a",
   "metadata": {},
   "outputs": [],
   "source": [
    "p1.__sid = 7"
   ]
  },
  {
   "cell_type": "code",
   "execution_count": 74,
   "id": "bd164b33",
   "metadata": {},
   "outputs": [
    {
     "data": {
      "text/plain": [
       "1"
      ]
     },
     "execution_count": 74,
     "metadata": {},
     "output_type": "execute_result"
    }
   ],
   "source": [
    "p1.display_sid()"
   ]
  },
  {
   "cell_type": "code",
   "execution_count": 75,
   "id": "8847a770",
   "metadata": {},
   "outputs": [],
   "source": [
    "p1.update_sid(7)"
   ]
  },
  {
   "cell_type": "code",
   "execution_count": 76,
   "id": "977c7e2e",
   "metadata": {},
   "outputs": [
    {
     "data": {
      "text/plain": [
       "7"
      ]
     },
     "execution_count": 76,
     "metadata": {},
     "output_type": "execute_result"
    }
   ],
   "source": [
    "p1.display_sid()"
   ]
  },
  {
   "cell_type": "markdown",
   "id": "57d7df1d",
   "metadata": {},
   "source": [
    "# Abstraction"
   ]
  },
  {
   "cell_type": "code",
   "execution_count": 81,
   "id": "ab4ff33b",
   "metadata": {},
   "outputs": [],
   "source": [
    "from abc import ABC, abstractmethod\n",
    "\n",
    "class Human(ABC): # Abstract class\n",
    "    \n",
    "    @abstractmethod\n",
    "    def __init__(self): #apply decorator on constructor method\n",
    "        self.name = None\n",
    "        self.fname = None\n",
    "        self.age = None\n",
    "        self.language = None\n",
    "        \n",
    "    def look(self,obj):\n",
    "        return f\"I'm looking {obj}\"\n",
    "    \n",
    "    \n",
    "class Male(Human):\n",
    "    def __init__(self):\n",
    "        self.name = None\n",
    "        self.fname = None\n",
    "        self.age = None\n",
    "        self.language = None \n",
    "    "
   ]
  },
  {
   "cell_type": "code",
   "execution_count": 82,
   "id": "316e72f7",
   "metadata": {},
   "outputs": [
    {
     "ename": "TypeError",
     "evalue": "Can't instantiate abstract class Human with abstract method __init__",
     "output_type": "error",
     "traceback": [
      "\u001b[1;31m---------------------------------------------------------------------------\u001b[0m",
      "\u001b[1;31mTypeError\u001b[0m                                 Traceback (most recent call last)",
      "\u001b[1;32m~\\AppData\\Local\\Temp\\ipykernel_8312\\3350162719.py\u001b[0m in \u001b[0;36m<module>\u001b[1;34m\u001b[0m\n\u001b[1;32m----> 1\u001b[1;33m \u001b[0mh1\u001b[0m \u001b[1;33m=\u001b[0m \u001b[0mHuman\u001b[0m\u001b[1;33m(\u001b[0m\u001b[1;33m)\u001b[0m\u001b[1;33m\u001b[0m\u001b[1;33m\u001b[0m\u001b[0m\n\u001b[0m",
      "\u001b[1;31mTypeError\u001b[0m: Can't instantiate abstract class Human with abstract method __init__"
     ]
    }
   ],
   "source": [
    "h1 = Human()"
   ]
  },
  {
   "cell_type": "code",
   "execution_count": 83,
   "id": "db3ff059",
   "metadata": {},
   "outputs": [
    {
     "data": {
      "text/plain": [
       "\"I'm looking car\""
      ]
     },
     "execution_count": 83,
     "metadata": {},
     "output_type": "execute_result"
    }
   ],
   "source": [
    "m1 = Male()\n",
    "m1.look('car')"
   ]
  },
  {
   "cell_type": "code",
   "execution_count": null,
   "id": "50e8b6fd",
   "metadata": {},
   "outputs": [],
   "source": []
  }
 ],
 "metadata": {
  "kernelspec": {
   "display_name": "Python 3 (ipykernel)",
   "language": "python",
   "name": "python3"
  },
  "language_info": {
   "codemirror_mode": {
    "name": "ipython",
    "version": 3
   },
   "file_extension": ".py",
   "mimetype": "text/x-python",
   "name": "python",
   "nbconvert_exporter": "python",
   "pygments_lexer": "ipython3",
   "version": "3.9.13"
  }
 },
 "nbformat": 4,
 "nbformat_minor": 5
}
