{
 "cells": [
  {
   "cell_type": "code",
   "execution_count": 1,
   "id": "8fa0a53c",
   "metadata": {},
   "outputs": [],
   "source": [
    "import pandas as pd\n",
    "import numpy as np\n",
    "import matplotlib.pyplot as plt"
   ]
  },
  {
   "cell_type": "code",
   "execution_count": 2,
   "id": "123ed72d",
   "metadata": {},
   "outputs": [
    {
     "data": {
      "text/plain": [
       "list"
      ]
     },
     "metadata": {},
     "output_type": "display_data"
    },
    {
     "data": {
      "text/plain": [
       "['a', 'b', 'c']"
      ]
     },
     "metadata": {},
     "output_type": "display_data"
    }
   ],
   "source": [
    "l = ['a','b','c']\n",
    "display(type(l))\n",
    "display(l)\n"
   ]
  },
  {
   "cell_type": "code",
   "execution_count": 3,
   "id": "cbd6a1c7",
   "metadata": {},
   "outputs": [
    {
     "data": {
      "text/plain": [
       "numpy.ndarray"
      ]
     },
     "metadata": {},
     "output_type": "display_data"
    },
    {
     "data": {
      "text/plain": [
       "array(['a', 'b', 'c'], dtype='<U1')"
      ]
     },
     "metadata": {},
     "output_type": "display_data"
    }
   ],
   "source": [
    "l = np.array(['a','b','c'])\n",
    "display(type(l))\n",
    "display(l)"
   ]
  },
  {
   "cell_type": "markdown",
   "id": "fb209b6b",
   "metadata": {},
   "source": [
    "# Series Data type in pandas"
   ]
  },
  {
   "cell_type": "code",
   "execution_count": 4,
   "id": "66cd4bf9",
   "metadata": {},
   "outputs": [
    {
     "data": {
      "text/plain": [
       "pandas.core.series.Series"
      ]
     },
     "metadata": {},
     "output_type": "display_data"
    },
    {
     "data": {
      "text/plain": [
       "0    a\n",
       "1    b\n",
       "2    c\n",
       "dtype: object"
      ]
     },
     "metadata": {},
     "output_type": "display_data"
    }
   ],
   "source": [
    "l = pd.Series(['a','b','c'])\n",
    "display(type(l))\n",
    "display(l)"
   ]
  },
  {
   "cell_type": "code",
   "execution_count": 5,
   "id": "8984301e",
   "metadata": {},
   "outputs": [
    {
     "data": {
      "text/plain": [
       "list"
      ]
     },
     "metadata": {},
     "output_type": "display_data"
    },
    {
     "data": {
      "text/plain": [
       "[[1, 2, 3], [4, 5, 6], [7, 8, 9]]"
      ]
     },
     "metadata": {},
     "output_type": "display_data"
    }
   ],
   "source": [
    "l = [[1,2,3],\n",
    "    [4,5,6],\n",
    "    [7,8,9]]\n",
    "\n",
    "display(type(l))\n",
    "display(l)"
   ]
  },
  {
   "cell_type": "code",
   "execution_count": 6,
   "id": "3011dff8",
   "metadata": {},
   "outputs": [
    {
     "data": {
      "text/plain": [
       "numpy.ndarray"
      ]
     },
     "metadata": {},
     "output_type": "display_data"
    },
    {
     "data": {
      "text/plain": [
       "array([[1, 2, 3],\n",
       "       [4, 5, 6],\n",
       "       [7, 8, 9]])"
      ]
     },
     "metadata": {},
     "output_type": "display_data"
    }
   ],
   "source": [
    "l = np.array([[1,2,3],\n",
    "    [4,5,6],\n",
    "    [7,8,9]])\n",
    "\n",
    "display(type(l))\n",
    "display(l)"
   ]
  },
  {
   "cell_type": "code",
   "execution_count": 7,
   "id": "4cff7b56",
   "metadata": {},
   "outputs": [
    {
     "data": {
      "text/plain": [
       "pandas.core.frame.DataFrame"
      ]
     },
     "metadata": {},
     "output_type": "display_data"
    },
    {
     "data": {
      "text/html": [
       "<div>\n",
       "<style scoped>\n",
       "    .dataframe tbody tr th:only-of-type {\n",
       "        vertical-align: middle;\n",
       "    }\n",
       "\n",
       "    .dataframe tbody tr th {\n",
       "        vertical-align: top;\n",
       "    }\n",
       "\n",
       "    .dataframe thead th {\n",
       "        text-align: right;\n",
       "    }\n",
       "</style>\n",
       "<table border=\"1\" class=\"dataframe\">\n",
       "  <thead>\n",
       "    <tr style=\"text-align: right;\">\n",
       "      <th></th>\n",
       "      <th>0</th>\n",
       "      <th>1</th>\n",
       "      <th>2</th>\n",
       "    </tr>\n",
       "  </thead>\n",
       "  <tbody>\n",
       "    <tr>\n",
       "      <th>0</th>\n",
       "      <td>1</td>\n",
       "      <td>2</td>\n",
       "      <td>3</td>\n",
       "    </tr>\n",
       "    <tr>\n",
       "      <th>1</th>\n",
       "      <td>4</td>\n",
       "      <td>5</td>\n",
       "      <td>6</td>\n",
       "    </tr>\n",
       "    <tr>\n",
       "      <th>2</th>\n",
       "      <td>7</td>\n",
       "      <td>8</td>\n",
       "      <td>9</td>\n",
       "    </tr>\n",
       "  </tbody>\n",
       "</table>\n",
       "</div>"
      ],
      "text/plain": [
       "   0  1  2\n",
       "0  1  2  3\n",
       "1  4  5  6\n",
       "2  7  8  9"
      ]
     },
     "metadata": {},
     "output_type": "display_data"
    }
   ],
   "source": [
    "l = pd.DataFrame([[1,2,3],\n",
    "                  [4,5,6],\n",
    "                  [7,8,9]])\n",
    "\n",
    "display(type(l))\n",
    "display(l)"
   ]
  },
  {
   "cell_type": "markdown",
   "id": "ebaedd9e",
   "metadata": {},
   "source": [
    "# How we can create Series in pandas?\n",
    "* list\n",
    "* tuple\n",
    "* dictionary\n",
    "* 1-D array\n",
    "* list for index and list for values\n"
   ]
  },
  {
   "cell_type": "code",
   "execution_count": 8,
   "id": "be2b410b",
   "metadata": {},
   "outputs": [
    {
     "data": {
      "text/plain": [
       "list"
      ]
     },
     "metadata": {},
     "output_type": "display_data"
    },
    {
     "data": {
      "text/plain": [
       "['A',\n",
       " 'B',\n",
       " 'C',\n",
       " 'D',\n",
       " 'E',\n",
       " 'F',\n",
       " 'G',\n",
       " 'H',\n",
       " 'I',\n",
       " 'J',\n",
       " 'K',\n",
       " 'L',\n",
       " 'M',\n",
       " 'N',\n",
       " 'O',\n",
       " 'P',\n",
       " 'Q',\n",
       " 'R',\n",
       " 'S',\n",
       " 'T',\n",
       " 'U',\n",
       " 'V',\n",
       " 'W',\n",
       " 'X',\n",
       " 'Y',\n",
       " 'Z']"
      ]
     },
     "metadata": {},
     "output_type": "display_data"
    },
    {
     "data": {
      "text/plain": [
       "pandas.core.series.Series"
      ]
     },
     "metadata": {},
     "output_type": "display_data"
    },
    {
     "data": {
      "text/plain": [
       "0     A\n",
       "1     B\n",
       "2     C\n",
       "3     D\n",
       "4     E\n",
       "5     F\n",
       "6     G\n",
       "7     H\n",
       "8     I\n",
       "9     J\n",
       "10    K\n",
       "11    L\n",
       "12    M\n",
       "13    N\n",
       "14    O\n",
       "15    P\n",
       "16    Q\n",
       "17    R\n",
       "18    S\n",
       "19    T\n",
       "20    U\n",
       "21    V\n",
       "22    W\n",
       "23    X\n",
       "24    Y\n",
       "25    Z\n",
       "dtype: object"
      ]
     },
     "metadata": {},
     "output_type": "display_data"
    }
   ],
   "source": [
    "l = list('ABCDEFGHIJKLMNOPQRSTUVWXYZ')\n",
    "display(type(l))\n",
    "display(l)\n",
    "\n",
    "\n",
    "l = pd.Series(l)\n",
    "display(type(l))\n",
    "display(l)\n"
   ]
  },
  {
   "cell_type": "code",
   "execution_count": 9,
   "id": "89565109",
   "metadata": {},
   "outputs": [
    {
     "data": {
      "text/plain": [
       "tuple"
      ]
     },
     "metadata": {},
     "output_type": "display_data"
    },
    {
     "data": {
      "text/plain": [
       "('A',\n",
       " 'B',\n",
       " 'C',\n",
       " 'D',\n",
       " 'E',\n",
       " 'F',\n",
       " 'G',\n",
       " 'H',\n",
       " 'I',\n",
       " 'J',\n",
       " 'K',\n",
       " 'L',\n",
       " 'M',\n",
       " 'N',\n",
       " 'O',\n",
       " 'P',\n",
       " 'Q',\n",
       " 'R',\n",
       " 'S',\n",
       " 'T',\n",
       " 'U',\n",
       " 'V',\n",
       " 'W',\n",
       " 'X',\n",
       " 'Y',\n",
       " 'Z')"
      ]
     },
     "metadata": {},
     "output_type": "display_data"
    },
    {
     "data": {
      "text/plain": [
       "pandas.core.series.Series"
      ]
     },
     "metadata": {},
     "output_type": "display_data"
    },
    {
     "data": {
      "text/plain": [
       "0     A\n",
       "1     B\n",
       "2     C\n",
       "3     D\n",
       "4     E\n",
       "5     F\n",
       "6     G\n",
       "7     H\n",
       "8     I\n",
       "9     J\n",
       "10    K\n",
       "11    L\n",
       "12    M\n",
       "13    N\n",
       "14    O\n",
       "15    P\n",
       "16    Q\n",
       "17    R\n",
       "18    S\n",
       "19    T\n",
       "20    U\n",
       "21    V\n",
       "22    W\n",
       "23    X\n",
       "24    Y\n",
       "25    Z\n",
       "dtype: object"
      ]
     },
     "metadata": {},
     "output_type": "display_data"
    }
   ],
   "source": [
    "l = tuple('ABCDEFGHIJKLMNOPQRSTUVWXYZ')\n",
    "display(type(l))\n",
    "display(l)\n",
    "\n",
    "\n",
    "l = pd.Series(l)\n",
    "display(type(l))\n",
    "display(l)\n"
   ]
  },
  {
   "cell_type": "code",
   "execution_count": 12,
   "id": "ef251020",
   "metadata": {},
   "outputs": [
    {
     "data": {
      "text/plain": [
       "set"
      ]
     },
     "metadata": {},
     "output_type": "display_data"
    },
    {
     "data": {
      "text/plain": [
       "{'A',\n",
       " 'B',\n",
       " 'C',\n",
       " 'D',\n",
       " 'E',\n",
       " 'F',\n",
       " 'G',\n",
       " 'H',\n",
       " 'I',\n",
       " 'J',\n",
       " 'K',\n",
       " 'L',\n",
       " 'M',\n",
       " 'N',\n",
       " 'O',\n",
       " 'P',\n",
       " 'Q',\n",
       " 'R',\n",
       " 'S',\n",
       " 'T',\n",
       " 'U',\n",
       " 'V',\n",
       " 'W',\n",
       " 'X',\n",
       " 'Y',\n",
       " 'Z'}"
      ]
     },
     "metadata": {},
     "output_type": "display_data"
    },
    {
     "ename": "TypeError",
     "evalue": "'set' type is unordered",
     "output_type": "error",
     "traceback": [
      "\u001b[1;31m---------------------------------------------------------------------------\u001b[0m",
      "\u001b[1;31mTypeError\u001b[0m                                 Traceback (most recent call last)",
      "\u001b[1;32m~\\AppData\\Local\\Temp\\ipykernel_17548\\1522453444.py\u001b[0m in \u001b[0;36m<module>\u001b[1;34m\u001b[0m\n\u001b[0;32m      4\u001b[0m \u001b[1;33m\u001b[0m\u001b[0m\n\u001b[0;32m      5\u001b[0m \u001b[1;33m\u001b[0m\u001b[0m\n\u001b[1;32m----> 6\u001b[1;33m \u001b[0ml\u001b[0m \u001b[1;33m=\u001b[0m \u001b[0mpd\u001b[0m\u001b[1;33m.\u001b[0m\u001b[0mSeries\u001b[0m\u001b[1;33m(\u001b[0m\u001b[0ml\u001b[0m\u001b[1;33m)\u001b[0m\u001b[1;33m\u001b[0m\u001b[1;33m\u001b[0m\u001b[0m\n\u001b[0m\u001b[0;32m      7\u001b[0m \u001b[0mdisplay\u001b[0m\u001b[1;33m(\u001b[0m\u001b[0mtype\u001b[0m\u001b[1;33m(\u001b[0m\u001b[0ml\u001b[0m\u001b[1;33m)\u001b[0m\u001b[1;33m)\u001b[0m\u001b[1;33m\u001b[0m\u001b[1;33m\u001b[0m\u001b[0m\n\u001b[0;32m      8\u001b[0m \u001b[0mdisplay\u001b[0m\u001b[1;33m(\u001b[0m\u001b[0ml\u001b[0m\u001b[1;33m)\u001b[0m\u001b[1;33m\u001b[0m\u001b[1;33m\u001b[0m\u001b[0m\n",
      "\u001b[1;32mC:\\ProgramData\\Anaconda3\\lib\\site-packages\\pandas\\core\\series.py\u001b[0m in \u001b[0;36m__init__\u001b[1;34m(self, data, index, dtype, name, copy, fastpath)\u001b[0m\n\u001b[0;32m    449\u001b[0m                     \u001b[0mdata\u001b[0m \u001b[1;33m=\u001b[0m \u001b[0mdata\u001b[0m\u001b[1;33m.\u001b[0m\u001b[0mcopy\u001b[0m\u001b[1;33m(\u001b[0m\u001b[1;33m)\u001b[0m\u001b[1;33m\u001b[0m\u001b[1;33m\u001b[0m\u001b[0m\n\u001b[0;32m    450\u001b[0m             \u001b[1;32melse\u001b[0m\u001b[1;33m:\u001b[0m\u001b[1;33m\u001b[0m\u001b[1;33m\u001b[0m\u001b[0m\n\u001b[1;32m--> 451\u001b[1;33m                 \u001b[0mdata\u001b[0m \u001b[1;33m=\u001b[0m \u001b[0msanitize_array\u001b[0m\u001b[1;33m(\u001b[0m\u001b[0mdata\u001b[0m\u001b[1;33m,\u001b[0m \u001b[0mindex\u001b[0m\u001b[1;33m,\u001b[0m \u001b[0mdtype\u001b[0m\u001b[1;33m,\u001b[0m \u001b[0mcopy\u001b[0m\u001b[1;33m)\u001b[0m\u001b[1;33m\u001b[0m\u001b[1;33m\u001b[0m\u001b[0m\n\u001b[0m\u001b[0;32m    452\u001b[0m \u001b[1;33m\u001b[0m\u001b[0m\n\u001b[0;32m    453\u001b[0m                 \u001b[0mmanager\u001b[0m \u001b[1;33m=\u001b[0m \u001b[0mget_option\u001b[0m\u001b[1;33m(\u001b[0m\u001b[1;34m\"mode.data_manager\"\u001b[0m\u001b[1;33m)\u001b[0m\u001b[1;33m\u001b[0m\u001b[1;33m\u001b[0m\u001b[0m\n",
      "\u001b[1;32mC:\\ProgramData\\Anaconda3\\lib\\site-packages\\pandas\\core\\construction.py\u001b[0m in \u001b[0;36msanitize_array\u001b[1;34m(data, index, dtype, copy, raise_cast_failure, allow_2d)\u001b[0m\n\u001b[0;32m    582\u001b[0m         \u001b[1;32mif\u001b[0m \u001b[0misinstance\u001b[0m\u001b[1;33m(\u001b[0m\u001b[0mdata\u001b[0m\u001b[1;33m,\u001b[0m \u001b[1;33m(\u001b[0m\u001b[0mset\u001b[0m\u001b[1;33m,\u001b[0m \u001b[0mfrozenset\u001b[0m\u001b[1;33m)\u001b[0m\u001b[1;33m)\u001b[0m\u001b[1;33m:\u001b[0m\u001b[1;33m\u001b[0m\u001b[1;33m\u001b[0m\u001b[0m\n\u001b[0;32m    583\u001b[0m             \u001b[1;31m# Raise only for unordered sets, e.g., not for dict_keys\u001b[0m\u001b[1;33m\u001b[0m\u001b[1;33m\u001b[0m\u001b[0m\n\u001b[1;32m--> 584\u001b[1;33m             \u001b[1;32mraise\u001b[0m \u001b[0mTypeError\u001b[0m\u001b[1;33m(\u001b[0m\u001b[1;34mf\"'{type(data).__name__}' type is unordered\"\u001b[0m\u001b[1;33m)\u001b[0m\u001b[1;33m\u001b[0m\u001b[1;33m\u001b[0m\u001b[0m\n\u001b[0m\u001b[0;32m    585\u001b[0m \u001b[1;33m\u001b[0m\u001b[0m\n\u001b[0;32m    586\u001b[0m         \u001b[1;31m# materialize e.g. generators, convert e.g. tuples, abc.ValueView\u001b[0m\u001b[1;33m\u001b[0m\u001b[1;33m\u001b[0m\u001b[0m\n",
      "\u001b[1;31mTypeError\u001b[0m: 'set' type is unordered"
     ]
    }
   ],
   "source": [
    "l = set('ABCDEFGHIJKLMNOPQRSTUVWXYZ')\n",
    "display(type(l))\n",
    "display(l)\n",
    "\n",
    "\n",
    "l = pd.Series(l)\n",
    "display(type(l))\n",
    "display(l)\n"
   ]
  },
  {
   "cell_type": "code",
   "execution_count": 13,
   "id": "32b8ea62",
   "metadata": {},
   "outputs": [
    {
     "data": {
      "text/plain": [
       "dict"
      ]
     },
     "metadata": {},
     "output_type": "display_data"
    },
    {
     "data": {
      "text/plain": [
       "{'A': 'Pakistan', 'B': 'China', 'C': 'America'}"
      ]
     },
     "metadata": {},
     "output_type": "display_data"
    },
    {
     "data": {
      "text/plain": [
       "pandas.core.series.Series"
      ]
     },
     "metadata": {},
     "output_type": "display_data"
    },
    {
     "data": {
      "text/plain": [
       "A    Pakistan\n",
       "B       China\n",
       "C     America\n",
       "dtype: object"
      ]
     },
     "metadata": {},
     "output_type": "display_data"
    }
   ],
   "source": [
    "l = {\n",
    "    \"A\":\"Pakistan\",\n",
    "    \"B\":\"China\",\n",
    "    \"C\":\"America\"\n",
    "}\n",
    "\n",
    "display(type(l))\n",
    "display(l)\n",
    "\n",
    "\n",
    "l = pd.Series(l)\n",
    "display(type(l))\n",
    "display(l)\n"
   ]
  },
  {
   "cell_type": "code",
   "execution_count": 14,
   "id": "42c06c18",
   "metadata": {},
   "outputs": [
    {
     "data": {
      "text/plain": [
       "A    100\n",
       "B    200\n",
       "C    300\n",
       "dtype: int64"
      ]
     },
     "metadata": {},
     "output_type": "display_data"
    },
    {
     "data": {
      "text/plain": [
       "A    100\n",
       "B    200\n",
       "C    300\n",
       "dtype: int64"
      ]
     },
     "metadata": {},
     "output_type": "display_data"
    }
   ],
   "source": [
    "i = [\"A\",\"B\",\"C\"]\n",
    "v = [100,200,300]\n",
    "\n",
    "l = pd.Series(v,i)\n",
    "display(l)\n",
    "l = pd.Series(data=v, index=i)\n",
    "display(l)"
   ]
  },
  {
   "cell_type": "code",
   "execution_count": 15,
   "id": "8ca98975",
   "metadata": {},
   "outputs": [
    {
     "data": {
      "text/plain": [
       "array([54, 43, 65,  3, 67,  7, 25, 79, 75, 58])"
      ]
     },
     "metadata": {},
     "output_type": "display_data"
    },
    {
     "data": {
      "text/plain": [
       "0    54\n",
       "1    43\n",
       "2    65\n",
       "3     3\n",
       "4    67\n",
       "5     7\n",
       "6    25\n",
       "7    79\n",
       "8    75\n",
       "9    58\n",
       "dtype: int32"
      ]
     },
     "execution_count": 15,
     "metadata": {},
     "output_type": "execute_result"
    }
   ],
   "source": [
    "n = np.random.randint(1,100, 10)\n",
    "display(n)\n",
    "\n",
    "pd.Series(n)"
   ]
  },
  {
   "cell_type": "code",
   "execution_count": 16,
   "id": "b70f3241",
   "metadata": {},
   "outputs": [
    {
     "data": {
      "text/plain": [
       "pandas.core.series.Series"
      ]
     },
     "metadata": {},
     "output_type": "display_data"
    },
    {
     "data": {
      "text/plain": [
       "0    100\n",
       "1    200\n",
       "2    300\n",
       "Name: abcd, dtype: int64"
      ]
     },
     "metadata": {},
     "output_type": "display_data"
    }
   ],
   "source": [
    "l = [100,200,300]\n",
    "\n",
    "\n",
    "l = pd.Series(l, name='abcd')\n",
    "display(type(l))\n",
    "display(l)\n"
   ]
  },
  {
   "cell_type": "code",
   "execution_count": 17,
   "id": "65135ee0",
   "metadata": {},
   "outputs": [
    {
     "data": {
      "text/plain": [
       "pandas.core.series.Series"
      ]
     },
     "metadata": {},
     "output_type": "display_data"
    },
    {
     "data": {
      "text/plain": [
       "0    100\n",
       "1    200\n",
       "2    300\n",
       "Name: abcd, dtype: int32"
      ]
     },
     "metadata": {},
     "output_type": "display_data"
    }
   ],
   "source": [
    "l = [100,200,300]\n",
    "\n",
    "\n",
    "l = pd.Series(l, name='abcd', dtype=np.int32)\n",
    "display(type(l))\n",
    "display(l)\n"
   ]
  },
  {
   "cell_type": "markdown",
   "id": "bea20287",
   "metadata": {},
   "source": [
    "# How can we create dataframe in pandas?\n",
    "* matrics\n",
    "    * list of list\n",
    "    * tupl of tuple\n",
    "* dictionary\n",
    "* 2-D array\n",
    "* dataframe attributes\n",
    "    * dtype\n",
    "    * shape\n",
    "    "
   ]
  },
  {
   "cell_type": "code",
   "execution_count": 18,
   "id": "5ad11e5e",
   "metadata": {},
   "outputs": [
    {
     "data": {
      "text/html": [
       "<div>\n",
       "<style scoped>\n",
       "    .dataframe tbody tr th:only-of-type {\n",
       "        vertical-align: middle;\n",
       "    }\n",
       "\n",
       "    .dataframe tbody tr th {\n",
       "        vertical-align: top;\n",
       "    }\n",
       "\n",
       "    .dataframe thead th {\n",
       "        text-align: right;\n",
       "    }\n",
       "</style>\n",
       "<table border=\"1\" class=\"dataframe\">\n",
       "  <thead>\n",
       "    <tr style=\"text-align: right;\">\n",
       "      <th></th>\n",
       "      <th>0</th>\n",
       "      <th>1</th>\n",
       "      <th>2</th>\n",
       "    </tr>\n",
       "  </thead>\n",
       "  <tbody>\n",
       "    <tr>\n",
       "      <th>0</th>\n",
       "      <td>1</td>\n",
       "      <td>2</td>\n",
       "      <td>3</td>\n",
       "    </tr>\n",
       "    <tr>\n",
       "      <th>1</th>\n",
       "      <td>4</td>\n",
       "      <td>5</td>\n",
       "      <td>6</td>\n",
       "    </tr>\n",
       "    <tr>\n",
       "      <th>2</th>\n",
       "      <td>7</td>\n",
       "      <td>8</td>\n",
       "      <td>9</td>\n",
       "    </tr>\n",
       "  </tbody>\n",
       "</table>\n",
       "</div>"
      ],
      "text/plain": [
       "   0  1  2\n",
       "0  1  2  3\n",
       "1  4  5  6\n",
       "2  7  8  9"
      ]
     },
     "execution_count": 18,
     "metadata": {},
     "output_type": "execute_result"
    }
   ],
   "source": [
    "l = [[1,2,3],\n",
    "    [4,5,6],\n",
    "    [7,8,9]]\n",
    "\n",
    "df = pd.DataFrame(l)\n",
    "df"
   ]
  },
  {
   "cell_type": "code",
   "execution_count": 19,
   "id": "5a59d0e3",
   "metadata": {},
   "outputs": [
    {
     "data": {
      "text/html": [
       "<div>\n",
       "<style scoped>\n",
       "    .dataframe tbody tr th:only-of-type {\n",
       "        vertical-align: middle;\n",
       "    }\n",
       "\n",
       "    .dataframe tbody tr th {\n",
       "        vertical-align: top;\n",
       "    }\n",
       "\n",
       "    .dataframe thead th {\n",
       "        text-align: right;\n",
       "    }\n",
       "</style>\n",
       "<table border=\"1\" class=\"dataframe\">\n",
       "  <thead>\n",
       "    <tr style=\"text-align: right;\">\n",
       "      <th></th>\n",
       "      <th>0</th>\n",
       "      <th>1</th>\n",
       "      <th>2</th>\n",
       "    </tr>\n",
       "  </thead>\n",
       "  <tbody>\n",
       "    <tr>\n",
       "      <th>0</th>\n",
       "      <td>1</td>\n",
       "      <td>2</td>\n",
       "      <td>3</td>\n",
       "    </tr>\n",
       "    <tr>\n",
       "      <th>1</th>\n",
       "      <td>4</td>\n",
       "      <td>5</td>\n",
       "      <td>6</td>\n",
       "    </tr>\n",
       "    <tr>\n",
       "      <th>2</th>\n",
       "      <td>7</td>\n",
       "      <td>8</td>\n",
       "      <td>9</td>\n",
       "    </tr>\n",
       "  </tbody>\n",
       "</table>\n",
       "</div>"
      ],
      "text/plain": [
       "   0  1  2\n",
       "0  1  2  3\n",
       "1  4  5  6\n",
       "2  7  8  9"
      ]
     },
     "execution_count": 19,
     "metadata": {},
     "output_type": "execute_result"
    }
   ],
   "source": [
    "l = ((1,2,3),\n",
    "    (4,5,6),\n",
    "    (7,8,9))\n",
    "\n",
    "df = pd.DataFrame(l)\n",
    "df"
   ]
  },
  {
   "cell_type": "code",
   "execution_count": 20,
   "id": "c4d606b0",
   "metadata": {},
   "outputs": [
    {
     "data": {
      "text/html": [
       "<div>\n",
       "<style scoped>\n",
       "    .dataframe tbody tr th:only-of-type {\n",
       "        vertical-align: middle;\n",
       "    }\n",
       "\n",
       "    .dataframe tbody tr th {\n",
       "        vertical-align: top;\n",
       "    }\n",
       "\n",
       "    .dataframe thead th {\n",
       "        text-align: right;\n",
       "    }\n",
       "</style>\n",
       "<table border=\"1\" class=\"dataframe\">\n",
       "  <thead>\n",
       "    <tr style=\"text-align: right;\">\n",
       "      <th></th>\n",
       "      <th>0</th>\n",
       "      <th>1</th>\n",
       "      <th>2</th>\n",
       "    </tr>\n",
       "  </thead>\n",
       "  <tbody>\n",
       "    <tr>\n",
       "      <th>0</th>\n",
       "      <td>1</td>\n",
       "      <td>2</td>\n",
       "      <td>3</td>\n",
       "    </tr>\n",
       "    <tr>\n",
       "      <th>1</th>\n",
       "      <td>4</td>\n",
       "      <td>5</td>\n",
       "      <td>6</td>\n",
       "    </tr>\n",
       "    <tr>\n",
       "      <th>2</th>\n",
       "      <td>7</td>\n",
       "      <td>8</td>\n",
       "      <td>9</td>\n",
       "    </tr>\n",
       "  </tbody>\n",
       "</table>\n",
       "</div>"
      ],
      "text/plain": [
       "   0  1  2\n",
       "0  1  2  3\n",
       "1  4  5  6\n",
       "2  7  8  9"
      ]
     },
     "execution_count": 20,
     "metadata": {},
     "output_type": "execute_result"
    }
   ],
   "source": [
    "l = [[1,2,3],\n",
    "    [4,5,6],\n",
    "    [7,8,9]]\n",
    "\n",
    "n = np.array(l)\n",
    "\n",
    "df = pd.DataFrame(n)\n",
    "df"
   ]
  },
  {
   "cell_type": "code",
   "execution_count": 21,
   "id": "8977be6a",
   "metadata": {},
   "outputs": [
    {
     "data": {
      "text/html": [
       "<div>\n",
       "<style scoped>\n",
       "    .dataframe tbody tr th:only-of-type {\n",
       "        vertical-align: middle;\n",
       "    }\n",
       "\n",
       "    .dataframe tbody tr th {\n",
       "        vertical-align: top;\n",
       "    }\n",
       "\n",
       "    .dataframe thead th {\n",
       "        text-align: right;\n",
       "    }\n",
       "</style>\n",
       "<table border=\"1\" class=\"dataframe\">\n",
       "  <thead>\n",
       "    <tr style=\"text-align: right;\">\n",
       "      <th></th>\n",
       "      <th>id</th>\n",
       "      <th>name</th>\n",
       "      <th>cnic</th>\n",
       "    </tr>\n",
       "  </thead>\n",
       "  <tbody>\n",
       "    <tr>\n",
       "      <th>0</th>\n",
       "      <td>1</td>\n",
       "      <td>2</td>\n",
       "      <td>3</td>\n",
       "    </tr>\n",
       "    <tr>\n",
       "      <th>1</th>\n",
       "      <td>4</td>\n",
       "      <td>5</td>\n",
       "      <td>6</td>\n",
       "    </tr>\n",
       "    <tr>\n",
       "      <th>2</th>\n",
       "      <td>7</td>\n",
       "      <td>8</td>\n",
       "      <td>9</td>\n",
       "    </tr>\n",
       "  </tbody>\n",
       "</table>\n",
       "</div>"
      ],
      "text/plain": [
       "   id  name  cnic\n",
       "0   1     2     3\n",
       "1   4     5     6\n",
       "2   7     8     9"
      ]
     },
     "execution_count": 21,
     "metadata": {},
     "output_type": "execute_result"
    }
   ],
   "source": [
    "l = [[1,2,3],\n",
    "    [4,5,6],\n",
    "    [7,8,9]]\n",
    "\n",
    "n = np.array(l)\n",
    "\n",
    "df = pd.DataFrame(n, columns=[\"id\",'name','cnic'])\n",
    "df"
   ]
  },
  {
   "cell_type": "code",
   "execution_count": 22,
   "id": "70a706d5",
   "metadata": {},
   "outputs": [
    {
     "data": {
      "text/html": [
       "<div>\n",
       "<style scoped>\n",
       "    .dataframe tbody tr th:only-of-type {\n",
       "        vertical-align: middle;\n",
       "    }\n",
       "\n",
       "    .dataframe tbody tr th {\n",
       "        vertical-align: top;\n",
       "    }\n",
       "\n",
       "    .dataframe thead th {\n",
       "        text-align: right;\n",
       "    }\n",
       "</style>\n",
       "<table border=\"1\" class=\"dataframe\">\n",
       "  <thead>\n",
       "    <tr style=\"text-align: right;\">\n",
       "      <th></th>\n",
       "      <th>id</th>\n",
       "      <th>name</th>\n",
       "      <th>cnic</th>\n",
       "    </tr>\n",
       "  </thead>\n",
       "  <tbody>\n",
       "    <tr>\n",
       "      <th>a</th>\n",
       "      <td>1</td>\n",
       "      <td>2</td>\n",
       "      <td>3</td>\n",
       "    </tr>\n",
       "    <tr>\n",
       "      <th>b</th>\n",
       "      <td>4</td>\n",
       "      <td>5</td>\n",
       "      <td>6</td>\n",
       "    </tr>\n",
       "    <tr>\n",
       "      <th>c</th>\n",
       "      <td>7</td>\n",
       "      <td>8</td>\n",
       "      <td>9</td>\n",
       "    </tr>\n",
       "  </tbody>\n",
       "</table>\n",
       "</div>"
      ],
      "text/plain": [
       "   id  name  cnic\n",
       "a   1     2     3\n",
       "b   4     5     6\n",
       "c   7     8     9"
      ]
     },
     "execution_count": 22,
     "metadata": {},
     "output_type": "execute_result"
    }
   ],
   "source": [
    "l = [[1,2,3],\n",
    "    [4,5,6],\n",
    "    [7,8,9]]\n",
    "\n",
    "n = np.array(l)\n",
    "\n",
    "df = pd.DataFrame(n, \n",
    "                  columns=[\"id\",'name','cnic'],\n",
    "                 index=['a','b','c'])\n",
    "df"
   ]
  },
  {
   "cell_type": "markdown",
   "id": "c3a8005f",
   "metadata": {},
   "source": [
    "# dataframe components\n",
    "* column index\n",
    "* row index\n",
    "* values"
   ]
  },
  {
   "cell_type": "code",
   "execution_count": 23,
   "id": "f29ef5e9",
   "metadata": {},
   "outputs": [
    {
     "data": {
      "text/html": [
       "<div>\n",
       "<style scoped>\n",
       "    .dataframe tbody tr th:only-of-type {\n",
       "        vertical-align: middle;\n",
       "    }\n",
       "\n",
       "    .dataframe tbody tr th {\n",
       "        vertical-align: top;\n",
       "    }\n",
       "\n",
       "    .dataframe thead th {\n",
       "        text-align: right;\n",
       "    }\n",
       "</style>\n",
       "<table border=\"1\" class=\"dataframe\">\n",
       "  <thead>\n",
       "    <tr style=\"text-align: right;\">\n",
       "      <th></th>\n",
       "      <th>id</th>\n",
       "      <th>name</th>\n",
       "      <th>cnic</th>\n",
       "    </tr>\n",
       "  </thead>\n",
       "  <tbody>\n",
       "    <tr>\n",
       "      <th>a</th>\n",
       "      <td>1</td>\n",
       "      <td>2</td>\n",
       "      <td>3</td>\n",
       "    </tr>\n",
       "    <tr>\n",
       "      <th>b</th>\n",
       "      <td>4</td>\n",
       "      <td>5</td>\n",
       "      <td>6</td>\n",
       "    </tr>\n",
       "    <tr>\n",
       "      <th>c</th>\n",
       "      <td>7</td>\n",
       "      <td>8</td>\n",
       "      <td>9</td>\n",
       "    </tr>\n",
       "  </tbody>\n",
       "</table>\n",
       "</div>"
      ],
      "text/plain": [
       "   id  name  cnic\n",
       "a   1     2     3\n",
       "b   4     5     6\n",
       "c   7     8     9"
      ]
     },
     "metadata": {},
     "output_type": "display_data"
    },
    {
     "data": {
      "text/plain": [
       "Index(['id', 'name', 'cnic'], dtype='object')"
      ]
     },
     "metadata": {},
     "output_type": "display_data"
    },
    {
     "data": {
      "text/plain": [
       "Index(['a', 'b', 'c'], dtype='object')"
      ]
     },
     "metadata": {},
     "output_type": "display_data"
    },
    {
     "data": {
      "text/plain": [
       "array([[1, 2, 3],\n",
       "       [4, 5, 6],\n",
       "       [7, 8, 9]])"
      ]
     },
     "metadata": {},
     "output_type": "display_data"
    }
   ],
   "source": [
    "display(df)\n",
    "\n",
    "display(df.columns)\n",
    "display(df.index)\n",
    "display(df.values)"
   ]
  },
  {
   "cell_type": "markdown",
   "id": "e9c0e1b7",
   "metadata": {},
   "source": [
    "# dated: 6-Jun-2023"
   ]
  },
  {
   "cell_type": "code",
   "execution_count": 27,
   "id": "a32ff08c",
   "metadata": {},
   "outputs": [
    {
     "data": {
      "text/html": [
       "<div>\n",
       "<style scoped>\n",
       "    .dataframe tbody tr th:only-of-type {\n",
       "        vertical-align: middle;\n",
       "    }\n",
       "\n",
       "    .dataframe tbody tr th {\n",
       "        vertical-align: top;\n",
       "    }\n",
       "\n",
       "    .dataframe thead tr th {\n",
       "        text-align: left;\n",
       "    }\n",
       "</style>\n",
       "<table border=\"1\" class=\"dataframe\">\n",
       "  <thead>\n",
       "    <tr>\n",
       "      <th></th>\n",
       "      <th colspan=\"2\" halign=\"left\">AI</th>\n",
       "      <th colspan=\"2\" halign=\"left\">Web</th>\n",
       "    </tr>\n",
       "    <tr>\n",
       "      <th></th>\n",
       "      <th>id</th>\n",
       "      <th>name</th>\n",
       "      <th>id</th>\n",
       "      <th>name</th>\n",
       "    </tr>\n",
       "  </thead>\n",
       "  <tbody>\n",
       "    <tr>\n",
       "      <th>0</th>\n",
       "      <td>89</td>\n",
       "      <td>70</td>\n",
       "      <td>89</td>\n",
       "      <td>25</td>\n",
       "    </tr>\n",
       "    <tr>\n",
       "      <th>1</th>\n",
       "      <td>46</td>\n",
       "      <td>84</td>\n",
       "      <td>8</td>\n",
       "      <td>68</td>\n",
       "    </tr>\n",
       "    <tr>\n",
       "      <th>2</th>\n",
       "      <td>50</td>\n",
       "      <td>10</td>\n",
       "      <td>66</td>\n",
       "      <td>9</td>\n",
       "    </tr>\n",
       "    <tr>\n",
       "      <th>3</th>\n",
       "      <td>55</td>\n",
       "      <td>91</td>\n",
       "      <td>85</td>\n",
       "      <td>97</td>\n",
       "    </tr>\n",
       "    <tr>\n",
       "      <th>4</th>\n",
       "      <td>37</td>\n",
       "      <td>69</td>\n",
       "      <td>39</td>\n",
       "      <td>87</td>\n",
       "    </tr>\n",
       "  </tbody>\n",
       "</table>\n",
       "</div>"
      ],
      "text/plain": [
       "   AI      Web     \n",
       "   id name  id name\n",
       "0  89   70  89   25\n",
       "1  46   84   8   68\n",
       "2  50   10  66    9\n",
       "3  55   91  85   97\n",
       "4  37   69  39   87"
      ]
     },
     "execution_count": 27,
     "metadata": {},
     "output_type": "execute_result"
    }
   ],
   "source": [
    "cols = [[\"AI\",\"AI\",\"Web\",\"Web\"],\n",
    "       [\"id\",'name','id','name']]\n",
    "\n",
    "data = np.random.randint(1,100,size=(5,4))\n",
    "\n",
    "df = pd.DataFrame(data,columns=cols)\n",
    "df"
   ]
  },
  {
   "cell_type": "markdown",
   "id": "7f446ff4",
   "metadata": {},
   "source": [
    "# multi rows index"
   ]
  },
  {
   "cell_type": "code",
   "execution_count": 31,
   "id": "c6066533",
   "metadata": {},
   "outputs": [
    {
     "data": {
      "text/html": [
       "<div>\n",
       "<style scoped>\n",
       "    .dataframe tbody tr th:only-of-type {\n",
       "        vertical-align: middle;\n",
       "    }\n",
       "\n",
       "    .dataframe tbody tr th {\n",
       "        vertical-align: top;\n",
       "    }\n",
       "\n",
       "    .dataframe thead th {\n",
       "        text-align: right;\n",
       "    }\n",
       "</style>\n",
       "<table border=\"1\" class=\"dataframe\">\n",
       "  <thead>\n",
       "    <tr style=\"text-align: right;\">\n",
       "      <th></th>\n",
       "      <th></th>\n",
       "      <th>No of Students</th>\n",
       "    </tr>\n",
       "  </thead>\n",
       "  <tbody>\n",
       "    <tr>\n",
       "      <th rowspan=\"2\" valign=\"top\">Sind</th>\n",
       "      <th>Karachi</th>\n",
       "      <td>200</td>\n",
       "    </tr>\n",
       "    <tr>\n",
       "      <th>Hyderabad</th>\n",
       "      <td>300</td>\n",
       "    </tr>\n",
       "    <tr>\n",
       "      <th rowspan=\"2\" valign=\"top\">Punjab</th>\n",
       "      <th>Lahore</th>\n",
       "      <td>150</td>\n",
       "    </tr>\n",
       "    <tr>\n",
       "      <th>Faislabad</th>\n",
       "      <td>175</td>\n",
       "    </tr>\n",
       "  </tbody>\n",
       "</table>\n",
       "</div>"
      ],
      "text/plain": [
       "                  No of Students\n",
       "Sind   Karachi               200\n",
       "       Hyderabad             300\n",
       "Punjab Lahore                150\n",
       "       Faislabad             175"
      ]
     },
     "execution_count": 31,
     "metadata": {},
     "output_type": "execute_result"
    }
   ],
   "source": [
    "rows_index = [[\"Sind\",'Sind',\"Punjab\",\"Punjab\"],\n",
    "             [\"Karachi\",'Hyderabad','Lahore',\"Faislabad\"]]\n",
    "\n",
    "data = [200,300,150,175]\n",
    "\n",
    "df = pd.DataFrame(data, \n",
    "                  columns=[\"No of Students\"],\n",
    "                 index=rows_index)\n",
    "df"
   ]
  },
  {
   "cell_type": "code",
   "execution_count": 33,
   "id": "a7542ebf",
   "metadata": {},
   "outputs": [
    {
     "data": {
      "text/plain": [
       "Sind    Karachi      200\n",
       "        Hyderabad    300\n",
       "Punjab  Lahore       150\n",
       "        Faislabad    175\n",
       "dtype: int64"
      ]
     },
     "execution_count": 33,
     "metadata": {},
     "output_type": "execute_result"
    }
   ],
   "source": [
    "rows_index = [[\"Sind\",'Sind',\"Punjab\",\"Punjab\"],\n",
    "             [\"Karachi\",'Hyderabad','Lahore',\"Faislabad\"]]\n",
    "\n",
    "data = [200,300,150,175]\n",
    "\n",
    "df = pd.Series(data,\n",
    "                 index=rows_index)\n",
    "df"
   ]
  },
  {
   "cell_type": "markdown",
   "id": "74f9792b",
   "metadata": {},
   "source": [
    "# 01 Filtering data from dataframe\n",
    "* columns and values\n",
    "    * single value\n",
    "    * multiples values\n",
    "* boolean slicing\n",
    "* slicing\n",
    "    * loc\n",
    "    * iloc\n",
    "\n",
    "Note: must be verify data type of any column before apply any filter operation    "
   ]
  },
  {
   "cell_type": "code",
   "execution_count": 71,
   "id": "1feacee2",
   "metadata": {},
   "outputs": [
    {
     "name": "stdout",
     "output_type": "stream",
     "text": [
      "Amee\n"
     ]
    },
    {
     "data": {
      "text/plain": [
       "['Upgphbkm', 'Jbov', 'Xndqtujsw']"
      ]
     },
     "execution_count": 71,
     "metadata": {},
     "output_type": "execute_result"
    }
   ],
   "source": [
    "def name_generator(max_len):\n",
    "    r = np.random.randint(3,max_len,1)[0]\n",
    "    fc = chr(np.random.randint(65,90,1)[0])\n",
    "    remaing_letters = np.random.randint(97,122,r)\n",
    "    remaing_letters = list(map(chr, remaing_letters))\n",
    "    return fc+\"\".join(remaing_letters)\n",
    "\n",
    "print(name_generator(5))\n",
    "\n",
    "list(map(name_generator,np.random.randint(4,20,3)))\n"
   ]
  },
  {
   "cell_type": "code",
   "execution_count": 116,
   "id": "fca748d5",
   "metadata": {},
   "outputs": [
    {
     "data": {
      "text/plain": [
       "Timestamp('2011-02-06 00:00:00')"
      ]
     },
     "execution_count": 116,
     "metadata": {},
     "output_type": "execute_result"
    }
   ],
   "source": [
    "def dob_generator(start, end):\n",
    "    year = np.random.randint(start,end,1)[0]\n",
    "    month = np.random.randint(1,12,1)[0]\n",
    "    day = np.random.randint(1,28,1)[0]\n",
    "    \n",
    "    \n",
    "    return pd.to_datetime(f'{year}/{month}/{day}')\n",
    "\n",
    "dob_generator(1970,2017)"
   ]
  },
  {
   "cell_type": "code",
   "execution_count": 123,
   "id": "6d5a643b",
   "metadata": {},
   "outputs": [],
   "source": [
    "# [dob_generator(1969,i) for i in np.random.randint(1970,2017,100)]"
   ]
  },
  {
   "cell_type": "code",
   "execution_count": 132,
   "id": "efea4036",
   "metadata": {},
   "outputs": [
    {
     "data": {
      "text/html": [
       "<div>\n",
       "<style scoped>\n",
       "    .dataframe tbody tr th:only-of-type {\n",
       "        vertical-align: middle;\n",
       "    }\n",
       "\n",
       "    .dataframe tbody tr th {\n",
       "        vertical-align: top;\n",
       "    }\n",
       "\n",
       "    .dataframe thead th {\n",
       "        text-align: right;\n",
       "    }\n",
       "</style>\n",
       "<table border=\"1\" class=\"dataframe\">\n",
       "  <thead>\n",
       "    <tr style=\"text-align: right;\">\n",
       "      <th></th>\n",
       "      <th>roll_no</th>\n",
       "      <th>Name</th>\n",
       "      <th>Father Name</th>\n",
       "      <th>Course</th>\n",
       "      <th>Fee</th>\n",
       "      <th>dob</th>\n",
       "      <th>s1</th>\n",
       "      <th>s2</th>\n",
       "      <th>s3</th>\n",
       "      <th>s4</th>\n",
       "      <th>s5</th>\n",
       "    </tr>\n",
       "  </thead>\n",
       "  <tbody>\n",
       "    <tr>\n",
       "      <th>0</th>\n",
       "      <td>1</td>\n",
       "      <td>Hiylida</td>\n",
       "      <td>Bxolo</td>\n",
       "      <td>Chatbot</td>\n",
       "      <td>1000</td>\n",
       "      <td>1970-03-09</td>\n",
       "      <td>38</td>\n",
       "      <td>36</td>\n",
       "      <td>91</td>\n",
       "      <td>46</td>\n",
       "      <td>78</td>\n",
       "    </tr>\n",
       "    <tr>\n",
       "      <th>1</th>\n",
       "      <td>2</td>\n",
       "      <td>Evkataxmok</td>\n",
       "      <td>Dmke</td>\n",
       "      <td>Graphic</td>\n",
       "      <td>1500</td>\n",
       "      <td>1972-06-11</td>\n",
       "      <td>93</td>\n",
       "      <td>29</td>\n",
       "      <td>1</td>\n",
       "      <td>81</td>\n",
       "      <td>35</td>\n",
       "    </tr>\n",
       "    <tr>\n",
       "      <th>2</th>\n",
       "      <td>3</td>\n",
       "      <td>Srcpjlvdyw</td>\n",
       "      <td>Crjtbubj</td>\n",
       "      <td>Chatbot</td>\n",
       "      <td>2000</td>\n",
       "      <td>1983-04-27</td>\n",
       "      <td>70</td>\n",
       "      <td>64</td>\n",
       "      <td>8</td>\n",
       "      <td>45</td>\n",
       "      <td>54</td>\n",
       "    </tr>\n",
       "    <tr>\n",
       "      <th>3</th>\n",
       "      <td>4</td>\n",
       "      <td>Qhxw</td>\n",
       "      <td>Ebwyn</td>\n",
       "      <td>Chatbot</td>\n",
       "      <td>1500</td>\n",
       "      <td>1997-10-13</td>\n",
       "      <td>98</td>\n",
       "      <td>33</td>\n",
       "      <td>22</td>\n",
       "      <td>48</td>\n",
       "      <td>95</td>\n",
       "    </tr>\n",
       "    <tr>\n",
       "      <th>4</th>\n",
       "      <td>5</td>\n",
       "      <td>Yqru</td>\n",
       "      <td>Tkcqbfvlhf</td>\n",
       "      <td>Video</td>\n",
       "      <td>1000</td>\n",
       "      <td>1990-04-27</td>\n",
       "      <td>53</td>\n",
       "      <td>47</td>\n",
       "      <td>59</td>\n",
       "      <td>61</td>\n",
       "      <td>77</td>\n",
       "    </tr>\n",
       "    <tr>\n",
       "      <th>...</th>\n",
       "      <td>...</td>\n",
       "      <td>...</td>\n",
       "      <td>...</td>\n",
       "      <td>...</td>\n",
       "      <td>...</td>\n",
       "      <td>...</td>\n",
       "      <td>...</td>\n",
       "      <td>...</td>\n",
       "      <td>...</td>\n",
       "      <td>...</td>\n",
       "      <td>...</td>\n",
       "    </tr>\n",
       "    <tr>\n",
       "      <th>9995</th>\n",
       "      <td>9996</td>\n",
       "      <td>Hmnhivq</td>\n",
       "      <td>Omico</td>\n",
       "      <td>Graphic</td>\n",
       "      <td>1500</td>\n",
       "      <td>1970-08-18</td>\n",
       "      <td>1</td>\n",
       "      <td>96</td>\n",
       "      <td>46</td>\n",
       "      <td>19</td>\n",
       "      <td>18</td>\n",
       "    </tr>\n",
       "    <tr>\n",
       "      <th>9996</th>\n",
       "      <td>9997</td>\n",
       "      <td>Wibebo</td>\n",
       "      <td>Aaafyjxbr</td>\n",
       "      <td>Video</td>\n",
       "      <td>2000</td>\n",
       "      <td>1983-08-22</td>\n",
       "      <td>64</td>\n",
       "      <td>85</td>\n",
       "      <td>16</td>\n",
       "      <td>8</td>\n",
       "      <td>9</td>\n",
       "    </tr>\n",
       "    <tr>\n",
       "      <th>9997</th>\n",
       "      <td>9998</td>\n",
       "      <td>Rdmdy</td>\n",
       "      <td>Fmtop</td>\n",
       "      <td>Graphic</td>\n",
       "      <td>1000</td>\n",
       "      <td>1970-04-03</td>\n",
       "      <td>79</td>\n",
       "      <td>77</td>\n",
       "      <td>93</td>\n",
       "      <td>1</td>\n",
       "      <td>25</td>\n",
       "    </tr>\n",
       "    <tr>\n",
       "      <th>9998</th>\n",
       "      <td>9999</td>\n",
       "      <td>Thicutou</td>\n",
       "      <td>Vxxfp</td>\n",
       "      <td>AI</td>\n",
       "      <td>1500</td>\n",
       "      <td>1969-03-25</td>\n",
       "      <td>18</td>\n",
       "      <td>41</td>\n",
       "      <td>34</td>\n",
       "      <td>24</td>\n",
       "      <td>12</td>\n",
       "    </tr>\n",
       "    <tr>\n",
       "      <th>9999</th>\n",
       "      <td>10000</td>\n",
       "      <td>Phorraovxvndvvn</td>\n",
       "      <td>Hgekbvecpalkk</td>\n",
       "      <td>Chatbot</td>\n",
       "      <td>1000</td>\n",
       "      <td>1970-09-04</td>\n",
       "      <td>62</td>\n",
       "      <td>73</td>\n",
       "      <td>66</td>\n",
       "      <td>12</td>\n",
       "      <td>71</td>\n",
       "    </tr>\n",
       "  </tbody>\n",
       "</table>\n",
       "<p>10000 rows × 11 columns</p>\n",
       "</div>"
      ],
      "text/plain": [
       "      roll_no             Name    Father Name   Course   Fee        dob  s1  \\\n",
       "0           1          Hiylida          Bxolo  Chatbot  1000 1970-03-09  38   \n",
       "1           2       Evkataxmok           Dmke  Graphic  1500 1972-06-11  93   \n",
       "2           3       Srcpjlvdyw       Crjtbubj  Chatbot  2000 1983-04-27  70   \n",
       "3           4             Qhxw          Ebwyn  Chatbot  1500 1997-10-13  98   \n",
       "4           5             Yqru     Tkcqbfvlhf    Video  1000 1990-04-27  53   \n",
       "...       ...              ...            ...      ...   ...        ...  ..   \n",
       "9995     9996          Hmnhivq          Omico  Graphic  1500 1970-08-18   1   \n",
       "9996     9997           Wibebo      Aaafyjxbr    Video  2000 1983-08-22  64   \n",
       "9997     9998            Rdmdy          Fmtop  Graphic  1000 1970-04-03  79   \n",
       "9998     9999         Thicutou          Vxxfp       AI  1500 1969-03-25  18   \n",
       "9999    10000  Phorraovxvndvvn  Hgekbvecpalkk  Chatbot  1000 1970-09-04  62   \n",
       "\n",
       "      s2  s3  s4  s5  \n",
       "0     36  91  46  78  \n",
       "1     29   1  81  35  \n",
       "2     64   8  45  54  \n",
       "3     33  22  48  95  \n",
       "4     47  59  61  77  \n",
       "...   ..  ..  ..  ..  \n",
       "9995  96  46  19  18  \n",
       "9996  85  16   8   9  \n",
       "9997  77  93   1  25  \n",
       "9998  41  34  24  12  \n",
       "9999  73  66  12  71  \n",
       "\n",
       "[10000 rows x 11 columns]"
      ]
     },
     "execution_count": 132,
     "metadata": {},
     "output_type": "execute_result"
    }
   ],
   "source": [
    "samples = 10000\n",
    "\n",
    "df = pd.DataFrame({\n",
    "    \"roll_no\":np.arange(1, samples+1),\n",
    "    \"Name\": list(map(name_generator,np.random.randint(4,20,samples))),\n",
    "    \"Father Name\": list(map(name_generator,np.random.randint(4,20,samples))),\n",
    "    \"Course\": np.random.choice([\"AI\",\"Web\",\"Chatbot\",\"Graphic\",\"Video\"], samples),\n",
    "     \"Fee\": np.random.choice([1000,1500,2000], samples),\n",
    "    \"dob\": [dob_generator(1969,i) for i in np.random.randint(1970,2017,samples)]\n",
    "})\n",
    "\n",
    "df1 = pd.DataFrame(np.random.randint(1,100,size=(samples,5)),\n",
    "                  columns=[\"s1\",'s2','s3','s4','s5'])\n",
    "df1\n",
    "\n",
    "\n",
    "\n",
    "df = pd.concat([df,df1], axis=1)\n",
    "\n",
    "df"
   ]
  },
  {
   "cell_type": "markdown",
   "id": "9447c43e",
   "metadata": {},
   "source": [
    "# EDA"
   ]
  },
  {
   "cell_type": "markdown",
   "id": "a94bb614",
   "metadata": {},
   "source": [
    "* info()\n",
    "* describe()"
   ]
  },
  {
   "cell_type": "code",
   "execution_count": 137,
   "id": "c993eb52",
   "metadata": {},
   "outputs": [
    {
     "data": {
      "text/html": [
       "<div>\n",
       "<style scoped>\n",
       "    .dataframe tbody tr th:only-of-type {\n",
       "        vertical-align: middle;\n",
       "    }\n",
       "\n",
       "    .dataframe tbody tr th {\n",
       "        vertical-align: top;\n",
       "    }\n",
       "\n",
       "    .dataframe thead th {\n",
       "        text-align: right;\n",
       "    }\n",
       "</style>\n",
       "<table border=\"1\" class=\"dataframe\">\n",
       "  <thead>\n",
       "    <tr style=\"text-align: right;\">\n",
       "      <th></th>\n",
       "      <th>roll_no</th>\n",
       "      <th>Name</th>\n",
       "      <th>Father Name</th>\n",
       "      <th>Course</th>\n",
       "      <th>Fee</th>\n",
       "      <th>dob</th>\n",
       "      <th>s1</th>\n",
       "      <th>s2</th>\n",
       "      <th>s3</th>\n",
       "      <th>s4</th>\n",
       "      <th>s5</th>\n",
       "    </tr>\n",
       "  </thead>\n",
       "  <tbody>\n",
       "    <tr>\n",
       "      <th>0</th>\n",
       "      <td>1</td>\n",
       "      <td>Hiylida</td>\n",
       "      <td>Bxolo</td>\n",
       "      <td>Chatbot</td>\n",
       "      <td>1000</td>\n",
       "      <td>1970-03-09</td>\n",
       "      <td>38</td>\n",
       "      <td>36</td>\n",
       "      <td>91</td>\n",
       "      <td>46</td>\n",
       "      <td>78</td>\n",
       "    </tr>\n",
       "    <tr>\n",
       "      <th>1</th>\n",
       "      <td>2</td>\n",
       "      <td>Evkataxmok</td>\n",
       "      <td>Dmke</td>\n",
       "      <td>Graphic</td>\n",
       "      <td>1500</td>\n",
       "      <td>1972-06-11</td>\n",
       "      <td>93</td>\n",
       "      <td>29</td>\n",
       "      <td>1</td>\n",
       "      <td>81</td>\n",
       "      <td>35</td>\n",
       "    </tr>\n",
       "    <tr>\n",
       "      <th>2</th>\n",
       "      <td>3</td>\n",
       "      <td>Srcpjlvdyw</td>\n",
       "      <td>Crjtbubj</td>\n",
       "      <td>Chatbot</td>\n",
       "      <td>2000</td>\n",
       "      <td>1983-04-27</td>\n",
       "      <td>70</td>\n",
       "      <td>64</td>\n",
       "      <td>8</td>\n",
       "      <td>45</td>\n",
       "      <td>54</td>\n",
       "    </tr>\n",
       "    <tr>\n",
       "      <th>3</th>\n",
       "      <td>4</td>\n",
       "      <td>Qhxw</td>\n",
       "      <td>Ebwyn</td>\n",
       "      <td>Chatbot</td>\n",
       "      <td>1500</td>\n",
       "      <td>1997-10-13</td>\n",
       "      <td>98</td>\n",
       "      <td>33</td>\n",
       "      <td>22</td>\n",
       "      <td>48</td>\n",
       "      <td>95</td>\n",
       "    </tr>\n",
       "    <tr>\n",
       "      <th>4</th>\n",
       "      <td>5</td>\n",
       "      <td>Yqru</td>\n",
       "      <td>Tkcqbfvlhf</td>\n",
       "      <td>Video</td>\n",
       "      <td>1000</td>\n",
       "      <td>1990-04-27</td>\n",
       "      <td>53</td>\n",
       "      <td>47</td>\n",
       "      <td>59</td>\n",
       "      <td>61</td>\n",
       "      <td>77</td>\n",
       "    </tr>\n",
       "  </tbody>\n",
       "</table>\n",
       "</div>"
      ],
      "text/plain": [
       "   roll_no        Name Father Name   Course   Fee        dob  s1  s2  s3  s4  \\\n",
       "0        1     Hiylida       Bxolo  Chatbot  1000 1970-03-09  38  36  91  46   \n",
       "1        2  Evkataxmok        Dmke  Graphic  1500 1972-06-11  93  29   1  81   \n",
       "2        3  Srcpjlvdyw    Crjtbubj  Chatbot  2000 1983-04-27  70  64   8  45   \n",
       "3        4        Qhxw       Ebwyn  Chatbot  1500 1997-10-13  98  33  22  48   \n",
       "4        5        Yqru  Tkcqbfvlhf    Video  1000 1990-04-27  53  47  59  61   \n",
       "\n",
       "   s5  \n",
       "0  78  \n",
       "1  35  \n",
       "2  54  \n",
       "3  95  \n",
       "4  77  "
      ]
     },
     "execution_count": 137,
     "metadata": {},
     "output_type": "execute_result"
    }
   ],
   "source": [
    "df.head()# 1-60"
   ]
  },
  {
   "cell_type": "code",
   "execution_count": 139,
   "id": "4dbf2595",
   "metadata": {},
   "outputs": [
    {
     "data": {
      "text/html": [
       "<div>\n",
       "<style scoped>\n",
       "    .dataframe tbody tr th:only-of-type {\n",
       "        vertical-align: middle;\n",
       "    }\n",
       "\n",
       "    .dataframe tbody tr th {\n",
       "        vertical-align: top;\n",
       "    }\n",
       "\n",
       "    .dataframe thead th {\n",
       "        text-align: right;\n",
       "    }\n",
       "</style>\n",
       "<table border=\"1\" class=\"dataframe\">\n",
       "  <thead>\n",
       "    <tr style=\"text-align: right;\">\n",
       "      <th></th>\n",
       "      <th>roll_no</th>\n",
       "      <th>Name</th>\n",
       "      <th>Father Name</th>\n",
       "      <th>Course</th>\n",
       "      <th>Fee</th>\n",
       "      <th>dob</th>\n",
       "      <th>s1</th>\n",
       "      <th>s2</th>\n",
       "      <th>s3</th>\n",
       "      <th>s4</th>\n",
       "      <th>s5</th>\n",
       "    </tr>\n",
       "  </thead>\n",
       "  <tbody>\n",
       "    <tr>\n",
       "      <th>9995</th>\n",
       "      <td>9996</td>\n",
       "      <td>Hmnhivq</td>\n",
       "      <td>Omico</td>\n",
       "      <td>Graphic</td>\n",
       "      <td>1500</td>\n",
       "      <td>1970-08-18</td>\n",
       "      <td>1</td>\n",
       "      <td>96</td>\n",
       "      <td>46</td>\n",
       "      <td>19</td>\n",
       "      <td>18</td>\n",
       "    </tr>\n",
       "    <tr>\n",
       "      <th>9996</th>\n",
       "      <td>9997</td>\n",
       "      <td>Wibebo</td>\n",
       "      <td>Aaafyjxbr</td>\n",
       "      <td>Video</td>\n",
       "      <td>2000</td>\n",
       "      <td>1983-08-22</td>\n",
       "      <td>64</td>\n",
       "      <td>85</td>\n",
       "      <td>16</td>\n",
       "      <td>8</td>\n",
       "      <td>9</td>\n",
       "    </tr>\n",
       "    <tr>\n",
       "      <th>9997</th>\n",
       "      <td>9998</td>\n",
       "      <td>Rdmdy</td>\n",
       "      <td>Fmtop</td>\n",
       "      <td>Graphic</td>\n",
       "      <td>1000</td>\n",
       "      <td>1970-04-03</td>\n",
       "      <td>79</td>\n",
       "      <td>77</td>\n",
       "      <td>93</td>\n",
       "      <td>1</td>\n",
       "      <td>25</td>\n",
       "    </tr>\n",
       "    <tr>\n",
       "      <th>9998</th>\n",
       "      <td>9999</td>\n",
       "      <td>Thicutou</td>\n",
       "      <td>Vxxfp</td>\n",
       "      <td>AI</td>\n",
       "      <td>1500</td>\n",
       "      <td>1969-03-25</td>\n",
       "      <td>18</td>\n",
       "      <td>41</td>\n",
       "      <td>34</td>\n",
       "      <td>24</td>\n",
       "      <td>12</td>\n",
       "    </tr>\n",
       "    <tr>\n",
       "      <th>9999</th>\n",
       "      <td>10000</td>\n",
       "      <td>Phorraovxvndvvn</td>\n",
       "      <td>Hgekbvecpalkk</td>\n",
       "      <td>Chatbot</td>\n",
       "      <td>1000</td>\n",
       "      <td>1970-09-04</td>\n",
       "      <td>62</td>\n",
       "      <td>73</td>\n",
       "      <td>66</td>\n",
       "      <td>12</td>\n",
       "      <td>71</td>\n",
       "    </tr>\n",
       "  </tbody>\n",
       "</table>\n",
       "</div>"
      ],
      "text/plain": [
       "      roll_no             Name    Father Name   Course   Fee        dob  s1  \\\n",
       "9995     9996          Hmnhivq          Omico  Graphic  1500 1970-08-18   1   \n",
       "9996     9997           Wibebo      Aaafyjxbr    Video  2000 1983-08-22  64   \n",
       "9997     9998            Rdmdy          Fmtop  Graphic  1000 1970-04-03  79   \n",
       "9998     9999         Thicutou          Vxxfp       AI  1500 1969-03-25  18   \n",
       "9999    10000  Phorraovxvndvvn  Hgekbvecpalkk  Chatbot  1000 1970-09-04  62   \n",
       "\n",
       "      s2  s3  s4  s5  \n",
       "9995  96  46  19  18  \n",
       "9996  85  16   8   9  \n",
       "9997  77  93   1  25  \n",
       "9998  41  34  24  12  \n",
       "9999  73  66  12  71  "
      ]
     },
     "execution_count": 139,
     "metadata": {},
     "output_type": "execute_result"
    }
   ],
   "source": [
    "df.tail()# 1-60"
   ]
  },
  {
   "cell_type": "code",
   "execution_count": 141,
   "id": "615a6a25",
   "metadata": {},
   "outputs": [
    {
     "data": {
      "text/html": [
       "<div>\n",
       "<style scoped>\n",
       "    .dataframe tbody tr th:only-of-type {\n",
       "        vertical-align: middle;\n",
       "    }\n",
       "\n",
       "    .dataframe tbody tr th {\n",
       "        vertical-align: top;\n",
       "    }\n",
       "\n",
       "    .dataframe thead th {\n",
       "        text-align: right;\n",
       "    }\n",
       "</style>\n",
       "<table border=\"1\" class=\"dataframe\">\n",
       "  <thead>\n",
       "    <tr style=\"text-align: right;\">\n",
       "      <th></th>\n",
       "      <th>roll_no</th>\n",
       "      <th>Name</th>\n",
       "      <th>Father Name</th>\n",
       "      <th>Course</th>\n",
       "      <th>Fee</th>\n",
       "      <th>dob</th>\n",
       "      <th>s1</th>\n",
       "      <th>s2</th>\n",
       "      <th>s3</th>\n",
       "      <th>s4</th>\n",
       "      <th>s5</th>\n",
       "    </tr>\n",
       "  </thead>\n",
       "  <tbody>\n",
       "    <tr>\n",
       "      <th>3989</th>\n",
       "      <td>3990</td>\n",
       "      <td>Nclnel</td>\n",
       "      <td>Hfuhv</td>\n",
       "      <td>Graphic</td>\n",
       "      <td>1000</td>\n",
       "      <td>1969-02-21</td>\n",
       "      <td>51</td>\n",
       "      <td>98</td>\n",
       "      <td>44</td>\n",
       "      <td>29</td>\n",
       "      <td>35</td>\n",
       "    </tr>\n",
       "    <tr>\n",
       "      <th>7437</th>\n",
       "      <td>7438</td>\n",
       "      <td>Iljga</td>\n",
       "      <td>Fiputnelepvsfc</td>\n",
       "      <td>Web</td>\n",
       "      <td>1000</td>\n",
       "      <td>1985-11-24</td>\n",
       "      <td>42</td>\n",
       "      <td>53</td>\n",
       "      <td>99</td>\n",
       "      <td>39</td>\n",
       "      <td>36</td>\n",
       "    </tr>\n",
       "    <tr>\n",
       "      <th>3977</th>\n",
       "      <td>3978</td>\n",
       "      <td>Mbnp</td>\n",
       "      <td>Nqueluq</td>\n",
       "      <td>Video</td>\n",
       "      <td>1000</td>\n",
       "      <td>2009-03-22</td>\n",
       "      <td>52</td>\n",
       "      <td>17</td>\n",
       "      <td>6</td>\n",
       "      <td>27</td>\n",
       "      <td>50</td>\n",
       "    </tr>\n",
       "    <tr>\n",
       "      <th>2587</th>\n",
       "      <td>2588</td>\n",
       "      <td>Njnb</td>\n",
       "      <td>Dgem</td>\n",
       "      <td>Video</td>\n",
       "      <td>1000</td>\n",
       "      <td>1971-05-26</td>\n",
       "      <td>12</td>\n",
       "      <td>80</td>\n",
       "      <td>62</td>\n",
       "      <td>87</td>\n",
       "      <td>72</td>\n",
       "    </tr>\n",
       "    <tr>\n",
       "      <th>826</th>\n",
       "      <td>827</td>\n",
       "      <td>Wytvvuuhmq</td>\n",
       "      <td>Rver</td>\n",
       "      <td>AI</td>\n",
       "      <td>2000</td>\n",
       "      <td>2006-10-08</td>\n",
       "      <td>4</td>\n",
       "      <td>80</td>\n",
       "      <td>42</td>\n",
       "      <td>48</td>\n",
       "      <td>67</td>\n",
       "    </tr>\n",
       "  </tbody>\n",
       "</table>\n",
       "</div>"
      ],
      "text/plain": [
       "      roll_no        Name     Father Name   Course   Fee        dob  s1  s2  \\\n",
       "3989     3990      Nclnel           Hfuhv  Graphic  1000 1969-02-21  51  98   \n",
       "7437     7438       Iljga  Fiputnelepvsfc      Web  1000 1985-11-24  42  53   \n",
       "3977     3978        Mbnp         Nqueluq    Video  1000 2009-03-22  52  17   \n",
       "2587     2588        Njnb            Dgem    Video  1000 1971-05-26  12  80   \n",
       "826       827  Wytvvuuhmq            Rver       AI  2000 2006-10-08   4  80   \n",
       "\n",
       "      s3  s4  s5  \n",
       "3989  44  29  35  \n",
       "7437  99  39  36  \n",
       "3977   6  27  50  \n",
       "2587  62  87  72  \n",
       "826   42  48  67  "
      ]
     },
     "execution_count": 141,
     "metadata": {},
     "output_type": "execute_result"
    }
   ],
   "source": [
    "df.sample(5)# random samples"
   ]
  },
  {
   "cell_type": "code",
   "execution_count": 142,
   "id": "15ecd15d",
   "metadata": {},
   "outputs": [
    {
     "name": "stdout",
     "output_type": "stream",
     "text": [
      "<class 'pandas.core.frame.DataFrame'>\n",
      "RangeIndex: 10000 entries, 0 to 9999\n",
      "Data columns (total 11 columns):\n",
      " #   Column       Non-Null Count  Dtype         \n",
      "---  ------       --------------  -----         \n",
      " 0   roll_no      10000 non-null  int32         \n",
      " 1   Name         10000 non-null  object        \n",
      " 2   Father Name  10000 non-null  object        \n",
      " 3   Course       10000 non-null  object        \n",
      " 4   Fee          10000 non-null  int32         \n",
      " 5   dob          10000 non-null  datetime64[ns]\n",
      " 6   s1           10000 non-null  int32         \n",
      " 7   s2           10000 non-null  int32         \n",
      " 8   s3           10000 non-null  int32         \n",
      " 9   s4           10000 non-null  int32         \n",
      " 10  s5           10000 non-null  int32         \n",
      "dtypes: datetime64[ns](1), int32(7), object(3)\n",
      "memory usage: 586.1+ KB\n"
     ]
    }
   ],
   "source": [
    "df.info()"
   ]
  },
  {
   "cell_type": "code",
   "execution_count": 143,
   "id": "0cbec2fd",
   "metadata": {},
   "outputs": [
    {
     "data": {
      "text/html": [
       "<div>\n",
       "<style scoped>\n",
       "    .dataframe tbody tr th:only-of-type {\n",
       "        vertical-align: middle;\n",
       "    }\n",
       "\n",
       "    .dataframe tbody tr th {\n",
       "        vertical-align: top;\n",
       "    }\n",
       "\n",
       "    .dataframe thead th {\n",
       "        text-align: right;\n",
       "    }\n",
       "</style>\n",
       "<table border=\"1\" class=\"dataframe\">\n",
       "  <thead>\n",
       "    <tr style=\"text-align: right;\">\n",
       "      <th></th>\n",
       "      <th>roll_no</th>\n",
       "      <th>Fee</th>\n",
       "      <th>s1</th>\n",
       "      <th>s2</th>\n",
       "      <th>s3</th>\n",
       "      <th>s4</th>\n",
       "      <th>s5</th>\n",
       "    </tr>\n",
       "  </thead>\n",
       "  <tbody>\n",
       "    <tr>\n",
       "      <th>count</th>\n",
       "      <td>10000.00000</td>\n",
       "      <td>10000.000000</td>\n",
       "      <td>10000.000000</td>\n",
       "      <td>10000.000000</td>\n",
       "      <td>10000.00000</td>\n",
       "      <td>10000.000000</td>\n",
       "      <td>10000.000000</td>\n",
       "    </tr>\n",
       "    <tr>\n",
       "      <th>mean</th>\n",
       "      <td>5000.50000</td>\n",
       "      <td>1502.950000</td>\n",
       "      <td>50.664400</td>\n",
       "      <td>50.105600</td>\n",
       "      <td>49.90090</td>\n",
       "      <td>49.803100</td>\n",
       "      <td>50.043500</td>\n",
       "    </tr>\n",
       "    <tr>\n",
       "      <th>std</th>\n",
       "      <td>2886.89568</td>\n",
       "      <td>410.710562</td>\n",
       "      <td>28.566988</td>\n",
       "      <td>28.663029</td>\n",
       "      <td>28.62428</td>\n",
       "      <td>28.339531</td>\n",
       "      <td>28.873881</td>\n",
       "    </tr>\n",
       "    <tr>\n",
       "      <th>min</th>\n",
       "      <td>1.00000</td>\n",
       "      <td>1000.000000</td>\n",
       "      <td>1.000000</td>\n",
       "      <td>1.000000</td>\n",
       "      <td>1.00000</td>\n",
       "      <td>1.000000</td>\n",
       "      <td>1.000000</td>\n",
       "    </tr>\n",
       "    <tr>\n",
       "      <th>25%</th>\n",
       "      <td>2500.75000</td>\n",
       "      <td>1000.000000</td>\n",
       "      <td>26.000000</td>\n",
       "      <td>25.000000</td>\n",
       "      <td>25.00000</td>\n",
       "      <td>25.000000</td>\n",
       "      <td>25.000000</td>\n",
       "    </tr>\n",
       "    <tr>\n",
       "      <th>50%</th>\n",
       "      <td>5000.50000</td>\n",
       "      <td>1500.000000</td>\n",
       "      <td>51.000000</td>\n",
       "      <td>50.000000</td>\n",
       "      <td>50.00000</td>\n",
       "      <td>50.000000</td>\n",
       "      <td>50.000000</td>\n",
       "    </tr>\n",
       "    <tr>\n",
       "      <th>75%</th>\n",
       "      <td>7500.25000</td>\n",
       "      <td>2000.000000</td>\n",
       "      <td>75.250000</td>\n",
       "      <td>75.000000</td>\n",
       "      <td>75.00000</td>\n",
       "      <td>74.000000</td>\n",
       "      <td>75.000000</td>\n",
       "    </tr>\n",
       "    <tr>\n",
       "      <th>max</th>\n",
       "      <td>10000.00000</td>\n",
       "      <td>2000.000000</td>\n",
       "      <td>99.000000</td>\n",
       "      <td>99.000000</td>\n",
       "      <td>99.00000</td>\n",
       "      <td>99.000000</td>\n",
       "      <td>99.000000</td>\n",
       "    </tr>\n",
       "  </tbody>\n",
       "</table>\n",
       "</div>"
      ],
      "text/plain": [
       "           roll_no           Fee            s1            s2           s3  \\\n",
       "count  10000.00000  10000.000000  10000.000000  10000.000000  10000.00000   \n",
       "mean    5000.50000   1502.950000     50.664400     50.105600     49.90090   \n",
       "std     2886.89568    410.710562     28.566988     28.663029     28.62428   \n",
       "min        1.00000   1000.000000      1.000000      1.000000      1.00000   \n",
       "25%     2500.75000   1000.000000     26.000000     25.000000     25.00000   \n",
       "50%     5000.50000   1500.000000     51.000000     50.000000     50.00000   \n",
       "75%     7500.25000   2000.000000     75.250000     75.000000     75.00000   \n",
       "max    10000.00000   2000.000000     99.000000     99.000000     99.00000   \n",
       "\n",
       "                 s4            s5  \n",
       "count  10000.000000  10000.000000  \n",
       "mean      49.803100     50.043500  \n",
       "std       28.339531     28.873881  \n",
       "min        1.000000      1.000000  \n",
       "25%       25.000000     25.000000  \n",
       "50%       50.000000     50.000000  \n",
       "75%       74.000000     75.000000  \n",
       "max       99.000000     99.000000  "
      ]
     },
     "execution_count": 143,
     "metadata": {},
     "output_type": "execute_result"
    }
   ],
   "source": [
    "df.describe()"
   ]
  },
  {
   "cell_type": "markdown",
   "id": "209d9407",
   "metadata": {},
   "source": [
    "# Mean/Average"
   ]
  },
  {
   "cell_type": "code",
   "execution_count": 145,
   "id": "9eeeefc5",
   "metadata": {},
   "outputs": [
    {
     "data": {
      "text/plain": [
       "array([100,  80,  70,  40, 150,  50,  30])"
      ]
     },
     "execution_count": 145,
     "metadata": {},
     "output_type": "execute_result"
    }
   ],
   "source": [
    "a = np.array([100,80,70,40,150,50,30])\n",
    "a"
   ]
  },
  {
   "cell_type": "code",
   "execution_count": 146,
   "id": "44eaa567",
   "metadata": {},
   "outputs": [
    {
     "name": "stdout",
     "output_type": "stream",
     "text": [
      "74.28571428571429\n"
     ]
    }
   ],
   "source": [
    "print(a.sum()/len(a))"
   ]
  },
  {
   "cell_type": "code",
   "execution_count": 147,
   "id": "bc46d245",
   "metadata": {},
   "outputs": [
    {
     "name": "stdout",
     "output_type": "stream",
     "text": [
      "184.28571428571428\n"
     ]
    }
   ],
   "source": [
    "a = np.array([100,80,70,40,150,50,800])\n",
    "print(a.sum()/len(a))\n"
   ]
  },
  {
   "cell_type": "markdown",
   "id": "7a47108c",
   "metadata": {},
   "source": [
    "# Median"
   ]
  },
  {
   "cell_type": "code",
   "execution_count": 150,
   "id": "f7cf1843",
   "metadata": {},
   "outputs": [
    {
     "data": {
      "text/plain": [
       "array([100,  80,  70,  40, 150,  50, 800])"
      ]
     },
     "metadata": {},
     "output_type": "display_data"
    },
    {
     "data": {
      "text/plain": [
       "[40, 50, 70, 80, 100, 150, 800]"
      ]
     },
     "metadata": {},
     "output_type": "display_data"
    },
    {
     "name": "stdout",
     "output_type": "stream",
     "text": [
      "80 is your median or center tendancy \n"
     ]
    }
   ],
   "source": [
    "# step sort\n",
    "display(a)\n",
    "b = sorted(a)\n",
    "display(b)\n",
    "# if count is odd number then middle number will be \"Median\"\n",
    "print(\"80 is your median or center tendancy \")\n"
   ]
  },
  {
   "cell_type": "code",
   "execution_count": 151,
   "id": "6d649f26",
   "metadata": {},
   "outputs": [
    {
     "data": {
      "text/plain": [
       "array([100,  80,  70,  40, 150,  50, 200, 800])"
      ]
     },
     "metadata": {},
     "output_type": "display_data"
    },
    {
     "data": {
      "text/plain": [
       "[40, 50, 70, 80, 100, 150, 200, 800]"
      ]
     },
     "metadata": {},
     "output_type": "display_data"
    },
    {
     "name": "stdout",
     "output_type": "stream",
     "text": [
      "80 is your median or center tendancy \n"
     ]
    }
   ],
   "source": [
    "a = np.array([100,80,70,40,150,50,200,800])\n",
    "\n",
    "# step sort\n",
    "display(a)\n",
    "b = sorted(a)\n",
    "display(b)\n",
    "# if count is odd number then middle number will be \"Median\"\n",
    "print(\" 80, 100 = 80+100/2 = 90 is your median or center tendancy \")\n"
   ]
  },
  {
   "cell_type": "code",
   "execution_count": 152,
   "id": "0bed6bbb",
   "metadata": {},
   "outputs": [
    {
     "data": {
      "text/plain": [
       "array([100,  80,  70,  40, 150,  50,  70, 800])"
      ]
     },
     "metadata": {},
     "output_type": "display_data"
    },
    {
     "data": {
      "text/plain": [
       "[40, 50, 70, 70, 80, 100, 150, 800]"
      ]
     },
     "metadata": {},
     "output_type": "display_data"
    },
    {
     "name": "stdout",
     "output_type": "stream",
     "text": [
      " 70 is mode number \n"
     ]
    }
   ],
   "source": [
    "a = np.array([100,80,70,40,150,50,70,800])\n",
    "\n",
    "# step sort\n",
    "display(a)\n",
    "b = sorted(a)\n",
    "display(b)\n",
    "# if count is odd number then middle number will be \"Median\"\n",
    "print(\" 70 is mode number \")\n"
   ]
  },
  {
   "cell_type": "code",
   "execution_count": 158,
   "id": "3a321cab",
   "metadata": {},
   "outputs": [
    {
     "data": {
      "text/plain": [
       "array([100,  80,  70,  40, 150,  50,  70, 800])"
      ]
     },
     "metadata": {},
     "output_type": "display_data"
    },
    {
     "data": {
      "text/plain": [
       "170.0"
      ]
     },
     "metadata": {},
     "output_type": "display_data"
    },
    {
     "data": {
      "text/plain": [
       "75.0"
      ]
     },
     "metadata": {},
     "output_type": "display_data"
    }
   ],
   "source": [
    "display(a)\n",
    "display(a.mean())# average\n",
    "display(np.median(a))#\n"
   ]
  },
  {
   "cell_type": "code",
   "execution_count": 160,
   "id": "f3a40cee",
   "metadata": {},
   "outputs": [
    {
     "name": "stderr",
     "output_type": "stream",
     "text": [
      "C:\\Users\\saylani\\AppData\\Local\\Temp\\ipykernel_17548\\1113305435.py:3: FutureWarning: Unlike other reduction functions (e.g. `skew`, `kurtosis`), the default behavior of `mode` typically preserves the axis it acts along. In SciPy 1.11.0, this behavior will change: the default value of `keepdims` will become False, the `axis` over which the statistic is taken will be eliminated, and the value None will no longer be accepted. Set `keepdims` to True or False to avoid this warning.\n",
      "  stats.mode(a)\n"
     ]
    },
    {
     "data": {
      "text/plain": [
       "ModeResult(mode=array([70]), count=array([2]))"
      ]
     },
     "execution_count": 160,
     "metadata": {},
     "output_type": "execute_result"
    }
   ],
   "source": [
    "from scipy import stats\n",
    "\n",
    "stats.mode(a)"
   ]
  },
  {
   "cell_type": "code",
   "execution_count": null,
   "id": "d601910e",
   "metadata": {},
   "outputs": [],
   "source": []
  }
 ],
 "metadata": {
  "kernelspec": {
   "display_name": "Python 3 (ipykernel)",
   "language": "python",
   "name": "python3"
  },
  "language_info": {
   "codemirror_mode": {
    "name": "ipython",
    "version": 3
   },
   "file_extension": ".py",
   "mimetype": "text/x-python",
   "name": "python",
   "nbconvert_exporter": "python",
   "pygments_lexer": "ipython3",
   "version": "3.9.13"
  }
 },
 "nbformat": 4,
 "nbformat_minor": 5
}
