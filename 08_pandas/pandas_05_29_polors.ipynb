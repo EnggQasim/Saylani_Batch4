{
 "cells": [
  {
   "cell_type": "markdown",
   "id": "d6960242",
   "metadata": {},
   "source": [
    "<img src='data:image/png;base64,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'>"
   ]
  },
  {
   "cell_type": "code",
   "execution_count": 1,
   "id": "54adb123",
   "metadata": {},
   "outputs": [
    {
     "ename": "ModuleNotFoundError",
     "evalue": "No module named 'polars'",
     "output_type": "error",
     "traceback": [
      "\u001b[1;31m---------------------------------------------------------------------------\u001b[0m",
      "\u001b[1;31mModuleNotFoundError\u001b[0m                       Traceback (most recent call last)",
      "\u001b[1;32m~\\AppData\\Local\\Temp\\ipykernel_17612\\2556531675.py\u001b[0m in \u001b[0;36m<module>\u001b[1;34m\u001b[0m\n\u001b[1;32m----> 1\u001b[1;33m \u001b[1;32mimport\u001b[0m \u001b[0mpolars\u001b[0m \u001b[1;32mas\u001b[0m \u001b[0mpl\u001b[0m\u001b[1;33m\u001b[0m\u001b[1;33m\u001b[0m\u001b[0m\n\u001b[0m",
      "\u001b[1;31mModuleNotFoundError\u001b[0m: No module named 'polars'"
     ]
    }
   ],
   "source": [
    "import polars as pl\n"
   ]
  },
  {
   "cell_type": "code",
   "execution_count": 2,
   "id": "218f12b3",
   "metadata": {},
   "outputs": [
    {
     "name": "stdout",
     "output_type": "stream",
     "text": [
      "Defaulting to user installation because normal site-packages is not writeable\n",
      "Collecting polars\n",
      "  Downloading polars-0.18.3-cp37-abi3-win_amd64.whl (19.3 MB)\n",
      "     ---------------------------------------- 19.3/19.3 MB 1.4 MB/s eta 0:00:00\n",
      "Installing collected packages: polars\n",
      "Successfully installed polars-0.18.3\n"
     ]
    }
   ],
   "source": [
    "!pip install polars"
   ]
  },
  {
   "cell_type": "code",
   "execution_count": 4,
   "id": "6b49e5ea",
   "metadata": {},
   "outputs": [
    {
     "name": "stdout",
     "output_type": "stream",
     "text": [
      "<class 'pandas.core.frame.DataFrame'>\n",
      "RangeIndex: 150 entries, 0 to 149\n",
      "Data columns (total 5 columns):\n",
      " #   Column        Non-Null Count  Dtype  \n",
      "---  ------        --------------  -----  \n",
      " 0   sepal_length  150 non-null    float64\n",
      " 1   sepal_width   150 non-null    float64\n",
      " 2   petal_length  150 non-null    float64\n",
      " 3   petal_width   150 non-null    float64\n",
      " 4   species       150 non-null    object \n",
      "dtypes: float64(4), object(1)\n",
      "memory usage: 6.0+ KB\n"
     ]
    }
   ],
   "source": [
    "import seaborn as sns\n",
    "import pandas as pd\n",
    "\n",
    "df = sns.load_dataset(\"iris\")\n",
    "df.info()"
   ]
  },
  {
   "cell_type": "code",
   "execution_count": 6,
   "id": "abce3346",
   "metadata": {},
   "outputs": [],
   "source": [
    "df.to_csv(\"iris.csv\", index=False)"
   ]
  },
  {
   "cell_type": "code",
   "execution_count": 20,
   "id": "b2226488",
   "metadata": {},
   "outputs": [
    {
     "name": "stdout",
     "output_type": "stream",
     "text": [
      "Wall time: 1.47 ms\n"
     ]
    }
   ],
   "source": [
    "%%time\n",
    "import polars as pl\n",
    "\n",
    "q = (\n",
    "    pl.scan_csv(\"iris.csv\").\n",
    "    filter(pl.col(\"sepal_length\") > 5)\n",
    "    .groupby(\"species\")\n",
    "    .agg(pl.all().sum())\n",
    ")\n",
    "\n",
    "df1 = q.collect()\n"
   ]
  },
  {
   "cell_type": "code",
   "execution_count": 11,
   "id": "3632730c",
   "metadata": {},
   "outputs": [
    {
     "data": {
      "text/html": [
       "<div><style>\n",
       ".dataframe > thead > tr > th,\n",
       ".dataframe > tbody > tr > td {\n",
       "  text-align: right;\n",
       "}\n",
       "</style>\n",
       "<small>shape: (3, 5)</small><table border=\"1\" class=\"dataframe\"><thead><tr><th>species</th><th>sepal_length</th><th>sepal_width</th><th>petal_length</th><th>petal_width</th></tr><tr><td>str</td><td>f64</td><td>f64</td><td>f64</td><td>f64</td></tr></thead><tbody><tr><td>&quot;setosa&quot;</td><td>116.9</td><td>81.7</td><td>33.2</td><td>6.1</td></tr><tr><td>&quot;versicolor&quot;</td><td>281.9</td><td>131.8</td><td>202.9</td><td>63.3</td></tr><tr><td>&quot;virginica&quot;</td><td>324.5</td><td>146.2</td><td>273.1</td><td>99.6</td></tr></tbody></table></div>"
      ],
      "text/plain": [
       "shape: (3, 5)\n",
       "┌────────────┬──────────────┬─────────────┬──────────────┬─────────────┐\n",
       "│ species    ┆ sepal_length ┆ sepal_width ┆ petal_length ┆ petal_width │\n",
       "│ ---        ┆ ---          ┆ ---         ┆ ---          ┆ ---         │\n",
       "│ str        ┆ f64          ┆ f64         ┆ f64          ┆ f64         │\n",
       "╞════════════╪══════════════╪═════════════╪══════════════╪═════════════╡\n",
       "│ setosa     ┆ 116.9        ┆ 81.7        ┆ 33.2         ┆ 6.1         │\n",
       "│ versicolor ┆ 281.9        ┆ 131.8       ┆ 202.9        ┆ 63.3        │\n",
       "│ virginica  ┆ 324.5        ┆ 146.2       ┆ 273.1        ┆ 99.6        │\n",
       "└────────────┴──────────────┴─────────────┴──────────────┴─────────────┘"
      ]
     },
     "execution_count": 11,
     "metadata": {},
     "output_type": "execute_result"
    }
   ],
   "source": [
    "df1"
   ]
  },
  {
   "cell_type": "code",
   "execution_count": 14,
   "id": "9dfe2225",
   "metadata": {},
   "outputs": [
    {
     "name": "stdout",
     "output_type": "stream",
     "text": [
      "Wall time: 7.41 ms\n"
     ]
    },
    {
     "data": {
      "text/html": [
       "<div>\n",
       "<style scoped>\n",
       "    .dataframe tbody tr th:only-of-type {\n",
       "        vertical-align: middle;\n",
       "    }\n",
       "\n",
       "    .dataframe tbody tr th {\n",
       "        vertical-align: top;\n",
       "    }\n",
       "\n",
       "    .dataframe thead tr th {\n",
       "        text-align: left;\n",
       "    }\n",
       "\n",
       "    .dataframe thead tr:last-of-type th {\n",
       "        text-align: right;\n",
       "    }\n",
       "</style>\n",
       "<table border=\"1\" class=\"dataframe\">\n",
       "  <thead>\n",
       "    <tr>\n",
       "      <th></th>\n",
       "      <th>sepal_length</th>\n",
       "      <th>sepal_width</th>\n",
       "      <th>petal_length</th>\n",
       "      <th>petal_width</th>\n",
       "    </tr>\n",
       "    <tr>\n",
       "      <th></th>\n",
       "      <th>sum</th>\n",
       "      <th>sum</th>\n",
       "      <th>sum</th>\n",
       "      <th>sum</th>\n",
       "    </tr>\n",
       "    <tr>\n",
       "      <th>species</th>\n",
       "      <th></th>\n",
       "      <th></th>\n",
       "      <th></th>\n",
       "      <th></th>\n",
       "    </tr>\n",
       "  </thead>\n",
       "  <tbody>\n",
       "    <tr>\n",
       "      <th>setosa</th>\n",
       "      <td>116.9</td>\n",
       "      <td>81.7</td>\n",
       "      <td>33.2</td>\n",
       "      <td>6.1</td>\n",
       "    </tr>\n",
       "    <tr>\n",
       "      <th>versicolor</th>\n",
       "      <td>281.9</td>\n",
       "      <td>131.8</td>\n",
       "      <td>202.9</td>\n",
       "      <td>63.3</td>\n",
       "    </tr>\n",
       "    <tr>\n",
       "      <th>virginica</th>\n",
       "      <td>324.5</td>\n",
       "      <td>146.2</td>\n",
       "      <td>273.1</td>\n",
       "      <td>99.6</td>\n",
       "    </tr>\n",
       "  </tbody>\n",
       "</table>\n",
       "</div>"
      ],
      "text/plain": [
       "           sepal_length sepal_width petal_length petal_width\n",
       "                    sum         sum          sum         sum\n",
       "species                                                     \n",
       "setosa            116.9        81.7         33.2         6.1\n",
       "versicolor        281.9       131.8        202.9        63.3\n",
       "virginica         324.5       146.2        273.1        99.6"
      ]
     },
     "execution_count": 14,
     "metadata": {},
     "output_type": "execute_result"
    }
   ],
   "source": [
    "%%time\n",
    "df = pd.read_csv(\"iris.csv\")\n",
    "df = df[df.sepal_length > 5]\n",
    "df.groupby('species').agg(['sum'])\n"
   ]
  },
  {
   "cell_type": "code",
   "execution_count": 22,
   "id": "5e962308",
   "metadata": {},
   "outputs": [
    {
     "data": {
      "text/html": [
       "<div>\n",
       "<style scoped>\n",
       "    .dataframe tbody tr th:only-of-type {\n",
       "        vertical-align: middle;\n",
       "    }\n",
       "\n",
       "    .dataframe tbody tr th {\n",
       "        vertical-align: top;\n",
       "    }\n",
       "\n",
       "    .dataframe thead th {\n",
       "        text-align: right;\n",
       "    }\n",
       "</style>\n",
       "<table border=\"1\" class=\"dataframe\">\n",
       "  <thead>\n",
       "    <tr style=\"text-align: right;\">\n",
       "      <th></th>\n",
       "      <th>s1</th>\n",
       "      <th>s2</th>\n",
       "      <th>s3</th>\n",
       "      <th>s4</th>\n",
       "      <th>s5</th>\n",
       "    </tr>\n",
       "  </thead>\n",
       "  <tbody>\n",
       "    <tr>\n",
       "      <th>0</th>\n",
       "      <td>93</td>\n",
       "      <td>71</td>\n",
       "      <td>43</td>\n",
       "      <td>11</td>\n",
       "      <td>84</td>\n",
       "    </tr>\n",
       "    <tr>\n",
       "      <th>1</th>\n",
       "      <td>19</td>\n",
       "      <td>58</td>\n",
       "      <td>15</td>\n",
       "      <td>72</td>\n",
       "      <td>66</td>\n",
       "    </tr>\n",
       "    <tr>\n",
       "      <th>2</th>\n",
       "      <td>18</td>\n",
       "      <td>70</td>\n",
       "      <td>68</td>\n",
       "      <td>71</td>\n",
       "      <td>56</td>\n",
       "    </tr>\n",
       "    <tr>\n",
       "      <th>3</th>\n",
       "      <td>96</td>\n",
       "      <td>15</td>\n",
       "      <td>29</td>\n",
       "      <td>43</td>\n",
       "      <td>25</td>\n",
       "    </tr>\n",
       "    <tr>\n",
       "      <th>4</th>\n",
       "      <td>19</td>\n",
       "      <td>39</td>\n",
       "      <td>97</td>\n",
       "      <td>20</td>\n",
       "      <td>89</td>\n",
       "    </tr>\n",
       "  </tbody>\n",
       "</table>\n",
       "</div>"
      ],
      "text/plain": [
       "   s1  s2  s3  s4  s5\n",
       "0  93  71  43  11  84\n",
       "1  19  58  15  72  66\n",
       "2  18  70  68  71  56\n",
       "3  96  15  29  43  25\n",
       "4  19  39  97  20  89"
      ]
     },
     "execution_count": 22,
     "metadata": {},
     "output_type": "execute_result"
    }
   ],
   "source": [
    "import numpy as np\n",
    "df = pd.DataFrame(np.random.randint(1,100,(100,5)), columns=[\"s1\",\"s2\",'s3','s4','s5'])\n",
    "df.head()"
   ]
  },
  {
   "cell_type": "code",
   "execution_count": 23,
   "id": "032eef27",
   "metadata": {},
   "outputs": [],
   "source": [
    "df.to_csv(\"subjects_data.csv\", index=False)"
   ]
  },
  {
   "cell_type": "markdown",
   "id": "446b499c",
   "metadata": {},
   "source": [
    "# Name: Wajeeh Ul Hasan"
   ]
  },
  {
   "cell_type": "code",
   "execution_count": 25,
   "id": "8e9161d1",
   "metadata": {},
   "outputs": [
    {
     "name": "stdout",
     "output_type": "stream",
     "text": [
      "shape: (100, 6)\n",
      "┌─────┬─────┬─────┬─────┬─────┬────────────────┐\n",
      "│ s1  ┆ s2  ┆ s3  ┆ s4  ┆ s5  ┆ sum_of_columns │\n",
      "│ --- ┆ --- ┆ --- ┆ --- ┆ --- ┆ ---            │\n",
      "│ i64 ┆ i64 ┆ i64 ┆ i64 ┆ i64 ┆ i64            │\n",
      "╞═════╪═════╪═════╪═════╪═════╪════════════════╡\n",
      "│ 93  ┆ 71  ┆ 43  ┆ 11  ┆ 84  ┆ 302            │\n",
      "│ 19  ┆ 58  ┆ 15  ┆ 72  ┆ 66  ┆ 230            │\n",
      "│ 18  ┆ 70  ┆ 68  ┆ 71  ┆ 56  ┆ 283            │\n",
      "│ 96  ┆ 15  ┆ 29  ┆ 43  ┆ 25  ┆ 208            │\n",
      "│ …   ┆ …   ┆ …   ┆ …   ┆ …   ┆ …              │\n",
      "│ 5   ┆ 37  ┆ 60  ┆ 40  ┆ 15  ┆ 157            │\n",
      "│ 85  ┆ 50  ┆ 56  ┆ 42  ┆ 86  ┆ 319            │\n",
      "│ 66  ┆ 71  ┆ 44  ┆ 26  ┆ 45  ┆ 252            │\n",
      "│ 92  ┆ 26  ┆ 62  ┆ 11  ┆ 35  ┆ 226            │\n",
      "└─────┴─────┴─────┴─────┴─────┴────────────────┘\n"
     ]
    }
   ],
   "source": [
    "q = pl.scan_csv(\"subjects_data.csv\")\n",
    "df = q.lazy().select(\n",
    "      pl.col('s1'),\n",
    "    pl.col('s2'),\n",
    "    pl.col('s3'),\n",
    "    pl.col('s4'),\n",
    "    pl.col('s5'),\n",
    "    (pl.col('s1')+pl.col('s2')+pl.col('s3')+pl.col('s4')+pl.col('s5')).alias('sum_of_columns')\n",
    ").collect()\n",
    "print(df)"
   ]
  },
  {
   "cell_type": "code",
   "execution_count": 32,
   "id": "ea9bc953",
   "metadata": {},
   "outputs": [
    {
     "name": "stdout",
     "output_type": "stream",
     "text": [
      "shape: (100, 7)\n",
      "┌─────┬─────┬─────┬─────┬─────┬──────────┬───────┐\n",
      "│ s1  ┆ s2  ┆ s3  ┆ s4  ┆ s5  ┆ obtained ┆ s1per │\n",
      "│ --- ┆ --- ┆ --- ┆ --- ┆ --- ┆ ---      ┆ ---   │\n",
      "│ i64 ┆ i64 ┆ i64 ┆ i64 ┆ i64 ┆ i64      ┆ f64   │\n",
      "╞═════╪═════╪═════╪═════╪═════╪══════════╪═══════╡\n",
      "│ 93  ┆ 71  ┆ 43  ┆ 11  ┆ 84  ┆ 302      ┆ 93.0  │\n",
      "│ 19  ┆ 58  ┆ 15  ┆ 72  ┆ 66  ┆ 230      ┆ 19.0  │\n",
      "│ 18  ┆ 70  ┆ 68  ┆ 71  ┆ 56  ┆ 283      ┆ 18.0  │\n",
      "│ 96  ┆ 15  ┆ 29  ┆ 43  ┆ 25  ┆ 208      ┆ 96.0  │\n",
      "│ …   ┆ …   ┆ …   ┆ …   ┆ …   ┆ …        ┆ …     │\n",
      "│ 5   ┆ 37  ┆ 60  ┆ 40  ┆ 15  ┆ 157      ┆ 5.0   │\n",
      "│ 85  ┆ 50  ┆ 56  ┆ 42  ┆ 86  ┆ 319      ┆ 85.0  │\n",
      "│ 66  ┆ 71  ┆ 44  ┆ 26  ┆ 45  ┆ 252      ┆ 66.0  │\n",
      "│ 92  ┆ 26  ┆ 62  ┆ 11  ┆ 35  ┆ 226      ┆ 92.0  │\n",
      "└─────┴─────┴─────┴─────┴─────┴──────────┴───────┘\n"
     ]
    }
   ],
   "source": [
    "q = pl.scan_csv(\"subjects_data.csv\")\n",
    "df = q.lazy().select(\n",
    "      pl.col('s1'),\n",
    "    pl.col('s2'),\n",
    "    pl.col('s3'),\n",
    "    pl.col('s4'),\n",
    "    pl.col('s5'),\n",
    "    (pl.col('s1')+pl.col('s2')+pl.col('s3')+pl.col('s4')+pl.col('s5')).alias('obtained'),\n",
    "    (pl.col('s1')/100*100).alias('s1per')\n",
    "\n",
    ").collect()\n",
    "print(df)"
   ]
  },
  {
   "cell_type": "code",
   "execution_count": 36,
   "id": "37c20d26",
   "metadata": {},
   "outputs": [
    {
     "name": "stdout",
     "output_type": "stream",
     "text": [
      "Wall time: 602 µs\n"
     ]
    },
    {
     "data": {
      "text/html": [
       "<div><style>\n",
       ".dataframe > thead > tr > th,\n",
       ".dataframe > tbody > tr > td {\n",
       "  text-align: right;\n",
       "}\n",
       "</style>\n",
       "<small>shape: (100, 5)</small><table border=\"1\" class=\"dataframe\"><thead><tr><th>s1</th><th>s2</th><th>s3</th><th>s4</th><th>s5</th></tr><tr><td>i64</td><td>i64</td><td>i64</td><td>i64</td><td>i64</td></tr></thead><tbody><tr><td>93</td><td>71</td><td>43</td><td>11</td><td>84</td></tr><tr><td>19</td><td>58</td><td>15</td><td>72</td><td>66</td></tr><tr><td>18</td><td>70</td><td>68</td><td>71</td><td>56</td></tr><tr><td>96</td><td>15</td><td>29</td><td>43</td><td>25</td></tr><tr><td>19</td><td>39</td><td>97</td><td>20</td><td>89</td></tr><tr><td>48</td><td>46</td><td>7</td><td>78</td><td>77</td></tr><tr><td>70</td><td>1</td><td>39</td><td>97</td><td>51</td></tr><tr><td>35</td><td>60</td><td>28</td><td>25</td><td>7</td></tr><tr><td>34</td><td>59</td><td>86</td><td>48</td><td>79</td></tr><tr><td>80</td><td>41</td><td>46</td><td>80</td><td>21</td></tr><tr><td>56</td><td>86</td><td>43</td><td>58</td><td>60</td></tr><tr><td>75</td><td>83</td><td>95</td><td>55</td><td>83</td></tr><tr><td>&hellip;</td><td>&hellip;</td><td>&hellip;</td><td>&hellip;</td><td>&hellip;</td></tr><tr><td>71</td><td>92</td><td>13</td><td>49</td><td>47</td></tr><tr><td>30</td><td>44</td><td>80</td><td>61</td><td>21</td></tr><tr><td>32</td><td>84</td><td>73</td><td>68</td><td>54</td></tr><tr><td>27</td><td>45</td><td>95</td><td>35</td><td>96</td></tr><tr><td>11</td><td>95</td><td>49</td><td>42</td><td>81</td></tr><tr><td>52</td><td>10</td><td>14</td><td>51</td><td>86</td></tr><tr><td>67</td><td>85</td><td>52</td><td>31</td><td>17</td></tr><tr><td>55</td><td>16</td><td>46</td><td>87</td><td>55</td></tr><tr><td>5</td><td>37</td><td>60</td><td>40</td><td>15</td></tr><tr><td>85</td><td>50</td><td>56</td><td>42</td><td>86</td></tr><tr><td>66</td><td>71</td><td>44</td><td>26</td><td>45</td></tr><tr><td>92</td><td>26</td><td>62</td><td>11</td><td>35</td></tr></tbody></table></div>"
      ],
      "text/plain": [
       "shape: (100, 5)\n",
       "┌─────┬─────┬─────┬─────┬─────┐\n",
       "│ s1  ┆ s2  ┆ s3  ┆ s4  ┆ s5  │\n",
       "│ --- ┆ --- ┆ --- ┆ --- ┆ --- │\n",
       "│ i64 ┆ i64 ┆ i64 ┆ i64 ┆ i64 │\n",
       "╞═════╪═════╪═════╪═════╪═════╡\n",
       "│ 93  ┆ 71  ┆ 43  ┆ 11  ┆ 84  │\n",
       "│ 19  ┆ 58  ┆ 15  ┆ 72  ┆ 66  │\n",
       "│ 18  ┆ 70  ┆ 68  ┆ 71  ┆ 56  │\n",
       "│ 96  ┆ 15  ┆ 29  ┆ 43  ┆ 25  │\n",
       "│ …   ┆ …   ┆ …   ┆ …   ┆ …   │\n",
       "│ 5   ┆ 37  ┆ 60  ┆ 40  ┆ 15  │\n",
       "│ 85  ┆ 50  ┆ 56  ┆ 42  ┆ 86  │\n",
       "│ 66  ┆ 71  ┆ 44  ┆ 26  ┆ 45  │\n",
       "│ 92  ┆ 26  ┆ 62  ┆ 11  ┆ 35  │\n",
       "└─────┴─────┴─────┴─────┴─────┘"
      ]
     },
     "execution_count": 36,
     "metadata": {},
     "output_type": "execute_result"
    }
   ],
   "source": [
    "%%time\n",
    "import polars as pl\n",
    "\n",
    "q = (\n",
    "    pl.scan_csv(\"./subjects_data.csv\")\n",
    ")\n",
    "\n",
    "df = q.collect()\n",
    "df"
   ]
  },
  {
   "cell_type": "code",
   "execution_count": 40,
   "id": "b546045b",
   "metadata": {},
   "outputs": [
    {
     "ename": "ColumnNotFoundError",
     "evalue": "obtained_marks\n\nError originated just after this operation:\nDF [\"s1\", \"s2\", \"s3\", \"s4\"]; PROJECT */5 COLUMNS; SELECTION: \"None\"",
     "output_type": "error",
     "traceback": [
      "\u001b[1;31m---------------------------------------------------------------------------\u001b[0m",
      "\u001b[1;31mColumnNotFoundError\u001b[0m                       Traceback (most recent call last)",
      "\u001b[1;32m~\\AppData\\Local\\Temp\\ipykernel_17612\\2555134870.py\u001b[0m in \u001b[0;36m<module>\u001b[1;34m\u001b[0m\n\u001b[0;32m      3\u001b[0m \u001b[1;33m\u001b[0m\u001b[0m\n\u001b[0;32m      4\u001b[0m \u001b[1;31m# Calculate the obtained marks\u001b[0m\u001b[1;33m\u001b[0m\u001b[1;33m\u001b[0m\u001b[0m\n\u001b[1;32m----> 5\u001b[1;33m df = df.with_columns(\n\u001b[0m\u001b[0;32m      6\u001b[0m     \u001b[0mpl\u001b[0m\u001b[1;33m.\u001b[0m\u001b[0mcol\u001b[0m\u001b[1;33m(\u001b[0m\u001b[1;34m\"obtained_marks\"\u001b[0m\u001b[1;33m)\u001b[0m\u001b[1;33m,\u001b[0m\u001b[1;33m\u001b[0m\u001b[1;33m\u001b[0m\u001b[0m\n\u001b[0;32m      7\u001b[0m     \u001b[0mpl\u001b[0m\u001b[1;33m.\u001b[0m\u001b[0mcol\u001b[0m\u001b[1;33m(\u001b[0m\u001b[1;34m\"s1\"\u001b[0m\u001b[1;33m)\u001b[0m \u001b[1;33m+\u001b[0m \u001b[0mpl\u001b[0m\u001b[1;33m.\u001b[0m\u001b[0mcol\u001b[0m\u001b[1;33m(\u001b[0m\u001b[1;34m\"s2\"\u001b[0m\u001b[1;33m)\u001b[0m \u001b[1;33m+\u001b[0m \u001b[0mpl\u001b[0m\u001b[1;33m.\u001b[0m\u001b[0mcol\u001b[0m\u001b[1;33m(\u001b[0m\u001b[1;34m\"s3\"\u001b[0m\u001b[1;33m)\u001b[0m \u001b[1;33m+\u001b[0m \u001b[0mpl\u001b[0m\u001b[1;33m.\u001b[0m\u001b[0mcol\u001b[0m\u001b[1;33m(\u001b[0m\u001b[1;34m\"s4\"\u001b[0m\u001b[1;33m)\u001b[0m \u001b[1;33m+\u001b[0m \u001b[0mpl\u001b[0m\u001b[1;33m.\u001b[0m\u001b[0mcol\u001b[0m\u001b[1;33m(\u001b[0m\u001b[1;34m\"s5\"\u001b[0m\u001b[1;33m)\u001b[0m\u001b[1;33m\u001b[0m\u001b[1;33m\u001b[0m\u001b[0m\n",
      "\u001b[1;32m~\\AppData\\Roaming\\Python\\Python39\\site-packages\\polars\\dataframe\\frame.py\u001b[0m in \u001b[0;36mwith_columns\u001b[1;34m(self, *exprs, **named_exprs)\u001b[0m\n\u001b[0;32m   7309\u001b[0m         \"\"\"\n\u001b[0;32m   7310\u001b[0m         return (\n\u001b[1;32m-> 7311\u001b[1;33m             \u001b[0mself\u001b[0m\u001b[1;33m.\u001b[0m\u001b[0mlazy\u001b[0m\u001b[1;33m(\u001b[0m\u001b[1;33m)\u001b[0m\u001b[1;33m\u001b[0m\u001b[1;33m\u001b[0m\u001b[0m\n\u001b[0m\u001b[0;32m   7312\u001b[0m             \u001b[1;33m.\u001b[0m\u001b[0mwith_columns\u001b[0m\u001b[1;33m(\u001b[0m\u001b[1;33m*\u001b[0m\u001b[0mexprs\u001b[0m\u001b[1;33m,\u001b[0m \u001b[1;33m**\u001b[0m\u001b[0mnamed_exprs\u001b[0m\u001b[1;33m)\u001b[0m\u001b[1;33m\u001b[0m\u001b[1;33m\u001b[0m\u001b[0m\n\u001b[0;32m   7313\u001b[0m             \u001b[1;33m.\u001b[0m\u001b[0mcollect\u001b[0m\u001b[1;33m(\u001b[0m\u001b[0mno_optimization\u001b[0m\u001b[1;33m=\u001b[0m\u001b[1;32mTrue\u001b[0m\u001b[1;33m)\u001b[0m\u001b[1;33m\u001b[0m\u001b[1;33m\u001b[0m\u001b[0m\n",
      "\u001b[1;32m~\\AppData\\Roaming\\Python\\Python39\\site-packages\\polars\\lazyframe\\frame.py\u001b[0m in \u001b[0;36mcollect\u001b[1;34m(self, type_coercion, predicate_pushdown, projection_pushdown, simplify_expression, no_optimization, slice_pushdown, common_subplan_elimination, streaming)\u001b[0m\n\u001b[0;32m   1502\u001b[0m             \u001b[0mstreaming\u001b[0m\u001b[1;33m,\u001b[0m\u001b[1;33m\u001b[0m\u001b[1;33m\u001b[0m\u001b[0m\n\u001b[0;32m   1503\u001b[0m         )\n\u001b[1;32m-> 1504\u001b[1;33m         \u001b[1;32mreturn\u001b[0m \u001b[0mwrap_df\u001b[0m\u001b[1;33m(\u001b[0m\u001b[0mldf\u001b[0m\u001b[1;33m.\u001b[0m\u001b[0mcollect\u001b[0m\u001b[1;33m(\u001b[0m\u001b[1;33m)\u001b[0m\u001b[1;33m)\u001b[0m\u001b[1;33m\u001b[0m\u001b[1;33m\u001b[0m\u001b[0m\n\u001b[0m\u001b[0;32m   1505\u001b[0m \u001b[1;33m\u001b[0m\u001b[0m\n\u001b[0;32m   1506\u001b[0m     def sink_parquet(\n",
      "\u001b[1;31mColumnNotFoundError\u001b[0m: obtained_marks\n\nError originated just after this operation:\nDF [\"s1\", \"s2\", \"s3\", \"s4\"]; PROJECT */5 COLUMNS; SELECTION: \"None\""
     ]
    }
   ],
   "source": [
    "import polars as pl\n",
    "\n",
    "\n",
    "# Calculate the obtained marks\n",
    "df = df.with_columns(\n",
    "    pl.col(\"obtained_marks\"),\n",
    "    pl.col(\"s1\") + pl.col(\"s2\") + pl.col(\"s3\") + pl.col(\"s4\") + pl.col(\"s5\")\n",
    ")\n",
    "\n",
    "\n",
    "# Print the final DataFrame\n",
    "print(df)\n"
   ]
  },
  {
   "cell_type": "code",
   "execution_count": null,
   "id": "7a692faa",
   "metadata": {},
   "outputs": [],
   "source": []
  }
 ],
 "metadata": {
  "kernelspec": {
   "display_name": "Python 3 (ipykernel)",
   "language": "python",
   "name": "python3"
  },
  "language_info": {
   "codemirror_mode": {
    "name": "ipython",
    "version": 3
   },
   "file_extension": ".py",
   "mimetype": "text/x-python",
   "name": "python",
   "nbconvert_exporter": "python",
   "pygments_lexer": "ipython3",
   "version": "3.9.13"
  }
 },
 "nbformat": 4,
 "nbformat_minor": 5
}
