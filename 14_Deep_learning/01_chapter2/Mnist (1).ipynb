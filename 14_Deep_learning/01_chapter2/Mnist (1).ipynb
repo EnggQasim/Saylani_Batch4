{
  "cells": [
    {
      "cell_type": "markdown",
      "metadata": {
        "id": "UYoyrPO452vP"
      },
      "source": [
        "# Listing 2.1 Loading the MNIST dataset in Keras\n",
        "https://www.tensorflow.org/api_docs/python/tf/keras/datasets\n",
        "\n",
        "* `windows+r -> .keras`"
      ]
    },
    {
      "cell_type": "code",
      "execution_count": 1,
      "metadata": {
        "colab": {
          "base_uri": "https://localhost:8080/"
        },
        "id": "VSQt27_Y52vR",
        "outputId": "5a6d265b-1cf5-49b5-c084-1633cb47ffc2"
      },
      "outputs": [
        {
          "output_type": "stream",
          "name": "stdout",
          "text": [
            "Downloading data from https://storage.googleapis.com/tensorflow/tf-keras-datasets/mnist.npz\n",
            "11490434/11490434 [==============================] - 0s 0us/step\n"
          ]
        }
      ],
      "source": [
        "from tensorflow.keras.datasets import mnist\n",
        "\n",
        "(train_images, train_labels), (test_images, test_labels) = mnist.load_data()"
      ]
    },
    {
      "cell_type": "code",
      "execution_count": 2,
      "metadata": {
        "colab": {
          "base_uri": "https://localhost:8080/"
        },
        "id": "O9bJWRcp52vS",
        "outputId": "8edac4a6-1860-4ebd-c6a0-01b94fbea5ce"
      },
      "outputs": [
        {
          "output_type": "stream",
          "name": "stdout",
          "text": [
            "60000\n",
            "60000\n"
          ]
        }
      ],
      "source": [
        "print(len(train_images))\n",
        "print(len(train_labels))"
      ]
    },
    {
      "cell_type": "code",
      "execution_count": 3,
      "metadata": {
        "colab": {
          "base_uri": "https://localhost:8080/"
        },
        "id": "xHgdqLvi52vS",
        "outputId": "716e75da-56a0-42eb-af7c-d4566b8a4bf8"
      },
      "outputs": [
        {
          "output_type": "stream",
          "name": "stdout",
          "text": [
            "10000\n",
            "10000\n"
          ]
        }
      ],
      "source": [
        "print(len(test_images))\n",
        "print(len(test_labels))"
      ]
    },
    {
      "cell_type": "code",
      "execution_count": 4,
      "metadata": {
        "colab": {
          "base_uri": "https://localhost:8080/"
        },
        "id": "5PW-E9sn52vT",
        "outputId": "e2b730e7-413b-4fe7-8591-bb945c4b954c"
      },
      "outputs": [
        {
          "output_type": "stream",
          "name": "stdout",
          "text": [
            "(10000, 28, 28)\n"
          ]
        },
        {
          "output_type": "execute_result",
          "data": {
            "text/plain": [
              "(60000, 28, 28)"
            ]
          },
          "metadata": {},
          "execution_count": 4
        }
      ],
      "source": [
        "print(test_images.shape)\n",
        "train_images.shape"
      ]
    },
    {
      "cell_type": "code",
      "execution_count": 6,
      "metadata": {
        "colab": {
          "base_uri": "https://localhost:8080/",
          "height": 448
        },
        "id": "HmVFVghx52vT",
        "outputId": "6b8202fd-c4f9-4c45-8096-4106a2b1691c"
      },
      "outputs": [
        {
          "output_type": "stream",
          "name": "stdout",
          "text": [
            "Class Label: 5\n"
          ]
        },
        {
          "output_type": "display_data",
          "data": {
            "text/plain": [
              "<Figure size 640x480 with 1 Axes>"
            ],
            "image/png": "[encoded data removed]"
          },
          "metadata": {}
        }
      ],
      "source": [
        "import matplotlib.pyplot as plt\n",
        "\n",
        "index = 0\n",
        "\n",
        "digit = train_images[index]\n",
        "print(\"Class Label:\",train_labels[index])\n",
        "#digit.shape\n",
        "\n",
        "plt.imshow(digit, cmap=plt.cm.binary)\n",
        "plt.show()"
      ]
    },
    {
      "cell_type": "code",
      "source": [
        "digit.shape"
      ],
      "metadata": {
        "colab": {
          "base_uri": "https://localhost:8080/"
        },
        "id": "0eXIIxEs9Ebu",
        "outputId": "57686bed-a444-49dd-a5b7-2f8c02aa926c"
      },
      "execution_count": 12,
      "outputs": [
        {
          "output_type": "execute_result",
          "data": {
            "text/plain": [
              "(28, 28)"
            ]
          },
          "metadata": {},
          "execution_count": 12
        }
      ]
    },
    {
      "cell_type": "code",
      "execution_count": 9,
      "metadata": {
        "colab": {
          "base_uri": "https://localhost:8080/",
          "height": 448
        },
        "id": "w799zcwQ52vT",
        "outputId": "8b358f73-7023-4021-9f02-afa14c2e1936"
      },
      "outputs": [
        {
          "output_type": "stream",
          "name": "stdout",
          "text": [
            "Class Label: 7\n"
          ]
        },
        {
          "output_type": "display_data",
          "data": {
            "text/plain": [
              "<Figure size 640x480 with 1 Axes>"
            ],
            "image/png": "[encoded data removed]"
          },
          "metadata": {}
        }
      ],
      "source": [
        "digit = test_images[0]\n",
        "print(\"Class Label:\",test_labels[0])\n",
        "#digit.shape\n",
        "\n",
        "plt.imshow(digit, cmap=plt.cm.binary)\n",
        "plt.show()"
      ]
    },
    {
      "cell_type": "code",
      "execution_count": 10,
      "metadata": {
        "colab": {
          "base_uri": "https://localhost:8080/"
        },
        "id": "pZMchchh52vT",
        "outputId": "f85e8738-3bcf-4190-a9cc-c1421f9c510f"
      },
      "outputs": [
        {
          "output_type": "stream",
          "name": "stdout",
          "text": [
            "[5 0 4 ... 5 6 8]\n",
            "60000\n",
            "[0 1 2 3 4 5 6 7 8 9]\n"
          ]
        }
      ],
      "source": [
        "import numpy as np\n",
        "print(train_labels)\n",
        "print(len(train_labels))\n",
        "print(np.unique(train_labels))"
      ]
    },
    {
      "cell_type": "code",
      "execution_count": 11,
      "metadata": {
        "colab": {
          "base_uri": "https://localhost:8080/"
        },
        "id": "gOUEgYg352vT",
        "outputId": "6fa00fd5-8177-430d-9177-ce896ade91cd"
      },
      "outputs": [
        {
          "output_type": "stream",
          "name": "stdout",
          "text": [
            "[7 2 1 ... 4 5 6]\n",
            "10000\n",
            "[0 1 2 3 4 5 6 7 8 9]\n"
          ]
        }
      ],
      "source": [
        "import numpy as np\n",
        "print(test_labels)\n",
        "print(len(test_labels))\n",
        "print(np.unique(test_labels))"
      ]
    },
    {
      "cell_type": "code",
      "execution_count": 15,
      "metadata": {
        "colab": {
          "base_uri": "https://localhost:8080/"
        },
        "id": "h5j1ekoN52vT",
        "outputId": "f824858d-e06a-4b3e-847f-94c70a9d8535"
      },
      "outputs": [
        {
          "output_type": "stream",
          "name": "stdout",
          "text": [
            "1\n"
          ]
        },
        {
          "output_type": "execute_result",
          "data": {
            "text/plain": [
              "(6,)"
            ]
          },
          "metadata": {},
          "execution_count": 15
        }
      ],
      "source": [
        "a = np.array([1,2,2,3,3,6])\n",
        "print(a.ndim)\n",
        "a.shape"
      ]
    },
    {
      "cell_type": "code",
      "execution_count": 16,
      "metadata": {
        "colab": {
          "base_uri": "https://localhost:8080/"
        },
        "id": "zNch-y6C52vU",
        "outputId": "38d82f57-b634-4e77-9a88-3e89916aaddd"
      },
      "outputs": [
        {
          "output_type": "stream",
          "name": "stdout",
          "text": [
            "(28, 28)\n",
            "(784,)\n"
          ]
        }
      ],
      "source": [
        "b = np.random.randint(0,255 ,size=(28,28))\n",
        "print(b.shape)\n",
        "b1 = b.ravel()\n",
        "print(b1.shape)\n",
        "\n",
        "# input_shape=(28*28, )\n",
        "# input_shape=(784,)"
      ]
    },
    {
      "cell_type": "markdown",
      "metadata": {
        "id": "6cUZtjur52vU"
      },
      "source": [
        "# Listing 2.2 The network architecture\n",
        "* Model\n",
        "    * Sequential\n",
        "        * we will use from chapter1 to chapter6\n",
        "        <img src='data:image/jpeg;base64,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'>\n",
        "    * Functional API\n",
        "        * we can arrange layer connection by ourself\n",
        "        \n",
        "* Layer\n",
        "    * here we can use different types of layers\n",
        "    * Dense\n",
        "    <img src='data:image/jpeg;base64,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'>\n",
        "    * Conv2D\n",
        "    * Conv1d\n",
        "    * RNN\n",
        "    * CNN\n",
        "    * GRU"
      ]
    },
    {
      "cell_type": "code",
      "execution_count": 18,
      "metadata": {
        "id": "QrNeznXr52vV"
      },
      "outputs": [],
      "source": [
        "from tensorflow.keras import models\n",
        "from tensorflow.keras import layers\n",
        "\n",
        "network = models.Sequential()\n",
        "network.add(layers.Dense(512, activation='relu', input_shape=(28*28,)))\n",
        "network.add(layers.Dense(10, activation='softmax'))\n",
        "\n",
        "# network.add(layers.Dense(output,activation_function,input_shape))\n",
        "# network.add(layers.Dense(512,activation='relu',input_shape=(784,)))\n",
        "\n",
        "# set your last layer activation function with page 114\n",
        "#Multiclass, single-label classification, softmax,categorical_crossentropy\n",
        "#number output = always equal to your unique classes count\n",
        "\n",
        "# output should be set with 2 power increment\n",
        "# [2, 4, 8, 16, 32, 64, 128, 256, 512, 1024, 2048, 4096, 8192, 16384]\n",
        "\n"
      ]
    },
    {
      "cell_type": "raw",
      "metadata": {
        "id": "4qR0KqHR52vW"
      },
      "source": [
        "[2**i for i in range(1,15)]"
      ]
    },
    {
      "cell_type": "raw",
      "metadata": {
        "id": "oKUiLTsi52vW"
      },
      "source": [
        "28*28\n",
        "\n",
        "(28*28, )\n",
        "(784,)\n",
        "\n",
        "[[1,2,3],\n",
        "[4,6,5],\n",
        "[7,8,9]]\n",
        "\n",
        "[1,2,3,4,6,5,7,8,9]"
      ]
    },
    {
      "cell_type": "markdown",
      "metadata": {
        "id": "notNtZtA52vW"
      },
      "source": [
        "# Listing 2.3 The compilation step"
      ]
    },
    {
      "cell_type": "code",
      "execution_count": 19,
      "metadata": {
        "id": "b_Jco0tk52vW"
      },
      "outputs": [],
      "source": [
        "network.compile(optimizer='rmsprop',\n",
        "                loss='categorical_crossentropy',\n",
        "                metrics=['accuracy'])\n",
        "\n",
        "#optimizer = rmsprop\n",
        "#activation function for hidden layers except last layer = \"RELU\"\n",
        "#metrics = ['f1','precesion','accuracy']\n",
        "#loss function = you see from page 114"
      ]
    },
    {
      "cell_type": "code",
      "execution_count": 20,
      "metadata": {
        "colab": {
          "base_uri": "https://localhost:8080/"
        },
        "id": "w5Aliagq52vW",
        "outputId": "4ba02207-425d-457a-b3a4-1867177fb8c0"
      },
      "outputs": [
        {
          "output_type": "execute_result",
          "data": {
            "text/plain": [
              "(60000, 28, 28)"
            ]
          },
          "metadata": {},
          "execution_count": 20
        }
      ],
      "source": [
        "train_images.shape"
      ]
    },
    {
      "cell_type": "code",
      "execution_count": 26,
      "metadata": {
        "colab": {
          "base_uri": "https://localhost:8080/"
        },
        "id": "j7ZNp_k252vW",
        "outputId": "6454082e-e7a7-4eef-dfa0-27e2894939e9"
      },
      "outputs": [
        {
          "output_type": "execute_result",
          "data": {
            "text/plain": [
              "0.00392156862745098"
            ]
          },
          "metadata": {},
          "execution_count": 26
        }
      ],
      "source": [
        "1/255"
      ]
    },
    {
      "cell_type": "markdown",
      "metadata": {
        "id": "ZOHuPosp52vW"
      },
      "source": [
        "# Listing 2.4 Preparing the image data"
      ]
    },
    {
      "cell_type": "code",
      "execution_count": 27,
      "metadata": {
        "id": "Z81m8VWr52vW"
      },
      "outputs": [],
      "source": [
        "train_images = train_images.reshape((60000, 28*28))\n",
        "train_images = train_images.astype('float32') / 255 #Normalization\n",
        "\n",
        "\n",
        "test_images = test_images.reshape((10000, 28 * 28))\n",
        "test_images = test_images.astype('float32') / 255 #Normalization"
      ]
    },
    {
      "cell_type": "code",
      "execution_count": 29,
      "metadata": {
        "colab": {
          "base_uri": "https://localhost:8080/"
        },
        "id": "EM8_CJ8F52vW",
        "outputId": "7d748d1c-2dde-418b-ad0f-97758713f1c4"
      },
      "outputs": [
        {
          "output_type": "stream",
          "name": "stdout",
          "text": [
            "(60000, 784)\n",
            "(10000, 784)\n"
          ]
        }
      ],
      "source": [
        "print(train_images.shape)\n",
        "print(test_images.shape)"
      ]
    },
    {
      "cell_type": "code",
      "execution_count": 30,
      "metadata": {
        "colab": {
          "base_uri": "https://localhost:8080/",
          "height": 84
        },
        "id": "GOZjpLuM52vW",
        "outputId": "c6a064a8-3f97-4e6b-967f-df065e670e0d"
      },
      "outputs": [
        {
          "output_type": "stream",
          "name": "stdout",
          "text": [
            "Class Label: 5\n"
          ]
        },
        {
          "output_type": "display_data",
          "data": {
            "text/plain": [
              "<Figure size 640x480 with 1 Axes>"
            ],
            "image/png": "[encoded data removed]"
          },
          "metadata": {}
        }
      ],
      "source": [
        "digit = train_images[0]\n",
        "print(\"Class Label:\",train_labels[0])\n",
        "#digit.shape\n",
        "\n",
        "plt.imshow([digit])\n",
        "plt.show()"
      ]
    },
    {
      "cell_type": "markdown",
      "metadata": {
        "id": "qeRUHWwI52vX"
      },
      "source": [
        "# Listing 2.5 Preparing the labels"
      ]
    },
    {
      "cell_type": "code",
      "execution_count": 31,
      "metadata": {
        "colab": {
          "base_uri": "https://localhost:8080/"
        },
        "id": "o2RgS4Po52vX",
        "outputId": "60eff30b-d70e-4ffa-b5a7-1ca58b89416e"
      },
      "outputs": [
        {
          "output_type": "execute_result",
          "data": {
            "text/plain": [
              "5"
            ]
          },
          "metadata": {},
          "execution_count": 31
        }
      ],
      "source": [
        "train_labels[0]"
      ]
    },
    {
      "cell_type": "markdown",
      "metadata": {
        "id": "1wCqhVr_52vX"
      },
      "source": [
        "# One-Hot-Encoding"
      ]
    },
    {
      "cell_type": "code",
      "execution_count": 32,
      "metadata": {
        "id": "WzI6nVaO52vX"
      },
      "outputs": [],
      "source": [
        "from tensorflow.keras.utils import to_categorical\n",
        "\n",
        "train_labels = to_categorical(train_labels)\n",
        "test_labels = to_categorical(test_labels)"
      ]
    },
    {
      "cell_type": "code",
      "execution_count": 34,
      "metadata": {
        "colab": {
          "base_uri": "https://localhost:8080/"
        },
        "id": "RxtrIcLz52vX",
        "outputId": "4f5cae8d-81b0-41c5-ffea-e6689303362b"
      },
      "outputs": [
        {
          "output_type": "execute_result",
          "data": {
            "text/plain": [
              "array([0., 0., 0., 0., 0., 1., 0., 0., 0., 0.], dtype=float32)"
            ]
          },
          "metadata": {},
          "execution_count": 34
        }
      ],
      "source": [
        "train_labels[0]"
      ]
    },
    {
      "cell_type": "markdown",
      "metadata": {
        "id": "T-E2QzEB52vX"
      },
      "source": [
        "## Now Train your Model"
      ]
    },
    {
      "cell_type": "markdown",
      "source": [],
      "metadata": {
        "id": "4ZQdcpYXMhMk"
      }
    },
    {
      "cell_type": "code",
      "execution_count": 35,
      "metadata": {
        "colab": {
          "base_uri": "https://localhost:8080/"
        },
        "id": "jGp89cLL52vX",
        "outputId": "ea8d20b7-6f98-4da1-e2dc-59c52280b196"
      },
      "outputs": [
        {
          "output_type": "stream",
          "name": "stdout",
          "text": [
            "Epoch 1/5\n",
            "469/469 [==============================] - 7s 3ms/step - loss: 0.2621 - accuracy: 0.9247\n",
            "Epoch 2/5\n",
            "469/469 [==============================] - 2s 3ms/step - loss: 0.1070 - accuracy: 0.9690\n",
            "Epoch 3/5\n",
            "469/469 [==============================] - 2s 3ms/step - loss: 0.0707 - accuracy: 0.9793\n",
            "Epoch 4/5\n",
            "469/469 [==============================] - 2s 3ms/step - loss: 0.0509 - accuracy: 0.9848\n",
            "Epoch 5/5\n",
            "469/469 [==============================] - 2s 4ms/step - loss: 0.0374 - accuracy: 0.9889\n"
          ]
        },
        {
          "output_type": "execute_result",
          "data": {
            "text/plain": [
              "<keras.callbacks.History at 0x781183608340>"
            ]
          },
          "metadata": {},
          "execution_count": 35
        }
      ],
      "source": [
        "network.fit(train_images, train_labels, epochs=5, batch_size=128)"
      ]
    },
    {
      "cell_type": "markdown",
      "metadata": {
        "id": "3Ur1Xus752vX"
      },
      "source": [
        "# Now check result on test dataset"
      ]
    },
    {
      "cell_type": "code",
      "execution_count": 36,
      "metadata": {
        "colab": {
          "base_uri": "https://localhost:8080/"
        },
        "id": "vF6oeW7z52vX",
        "outputId": "61fcdc93-108a-4dab-d284-49e5f6bc2a1b"
      },
      "outputs": [
        {
          "output_type": "stream",
          "name": "stdout",
          "text": [
            "313/313 [==============================] - 1s 3ms/step - loss: 0.0770 - accuracy: 0.9756\n",
            "test_acc: 0.975600004196167\n"
          ]
        }
      ],
      "source": [
        "test_loss, test_acc = network.evaluate(test_images, test_labels)\n",
        "print('test_acc:', test_acc)"
      ]
    },
    {
      "cell_type": "code",
      "execution_count": 37,
      "metadata": {
        "colab": {
          "base_uri": "https://localhost:8080/"
        },
        "id": "MPdIGetM52vX",
        "outputId": "daba1655-1a4d-4698-ac11-353282a99136"
      },
      "outputs": [
        {
          "output_type": "stream",
          "name": "stdout",
          "text": [
            "313/313 [==============================] - 1s 2ms/step\n"
          ]
        }
      ],
      "source": [
        "p = network.predict(test_images)"
      ]
    },
    {
      "cell_type": "code",
      "source": [
        "p[0]"
      ],
      "metadata": {
        "colab": {
          "base_uri": "https://localhost:8080/"
        },
        "id": "2AGLeo7QNbBN",
        "outputId": "9e46d7e4-0c43-41a3-a826-d793f2a06baa"
      },
      "execution_count": 38,
      "outputs": [
        {
          "output_type": "execute_result",
          "data": {
            "text/plain": [
              "array([8.38931726e-07, 3.76245646e-10, 7.06008586e-06, 5.76271326e-04,\n",
              "       7.07742935e-12, 6.22184928e-07, 3.36145304e-12, 9.99403238e-01,\n",
              "       1.04462657e-07, 1.19347105e-05], dtype=float32)"
            ]
          },
          "metadata": {},
          "execution_count": 38
        }
      ]
    },
    {
      "cell_type": "code",
      "source": [
        "import numpy as np\n",
        "np.argmax(p[0])"
      ],
      "metadata": {
        "colab": {
          "base_uri": "https://localhost:8080/"
        },
        "id": "x8ohVgPWNgPe",
        "outputId": "0ee9caf2-40b2-426d-8f4c-0d7426dae3f1"
      },
      "execution_count": 39,
      "outputs": [
        {
          "output_type": "execute_result",
          "data": {
            "text/plain": [
              "7"
            ]
          },
          "metadata": {},
          "execution_count": 39
        }
      ]
    },
    {
      "cell_type": "code",
      "source": [],
      "metadata": {
        "id": "3aHYB9yiNc_A"
      },
      "execution_count": null,
      "outputs": []
    }
  ],
  "metadata": {
    "kernelspec": {
      "display_name": "Python 3",
      "name": "python3"
    },
    "language_info": {
      "codemirror_mode": {
        "name": "ipython",
        "version": 3
      },
      "file_extension": ".py",
      "mimetype": "text/x-python",
      "name": "python",
      "nbconvert_exporter": "python",
      "pygments_lexer": "ipython3",
      "version": "3.7.15"
    },
    "colab": {
      "provenance": [],
      "gpuType": "T4"
    },
    "accelerator": "GPU"
  },
  "nbformat": 4,
  "nbformat_minor": 0
}