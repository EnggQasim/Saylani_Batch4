{
 "cells": [
  {
   "cell_type": "markdown",
   "id": "2d5b2d2a",
   "metadata": {},
   "source": [
    "# pip install pyautogui"
   ]
  },
  {
   "cell_type": "code",
   "execution_count": 1,
   "id": "e7a6ec52",
   "metadata": {},
   "outputs": [
    {
     "data": {
      "text/plain": [
       "Size(width=1920, height=1080)"
      ]
     },
     "execution_count": 1,
     "metadata": {},
     "output_type": "execute_result"
    }
   ],
   "source": [
    "import pyautogui\n",
    "\n",
    "pyautogui.size()"
   ]
  },
  {
   "cell_type": "code",
   "execution_count": 2,
   "id": "b6cfb351",
   "metadata": {},
   "outputs": [
    {
     "name": "stdout",
     "output_type": "stream",
     "text": [
      "1920 1080\n"
     ]
    }
   ],
   "source": [
    "x, y = pyautogui.size()\n",
    "print(x,y)"
   ]
  },
  {
   "cell_type": "code",
   "execution_count": 47,
   "id": "236b26bb",
   "metadata": {},
   "outputs": [
    {
     "data": {
      "text/plain": [
       "Point(x=317, y=741)"
      ]
     },
     "execution_count": 47,
     "metadata": {},
     "output_type": "execute_result"
    }
   ],
   "source": [
    "pyautogui.position()"
   ]
  },
  {
   "cell_type": "code",
   "execution_count": 43,
   "id": "05d4a63c",
   "metadata": {},
   "outputs": [],
   "source": [
    "pyautogui.click(779,1053, 2)\n",
    "pyautogui.write('chrome',interval=0.2)\n",
    "pyautogui.press('enter')\n",
    "pyautogui.click(438,62, 2)\n",
    "pyautogui.write('Pakistan zindabad')\n",
    "pyautogui.press('enter')"
   ]
  },
  {
   "cell_type": "code",
   "execution_count": 54,
   "id": "e72da14f",
   "metadata": {},
   "outputs": [],
   "source": [
    "pyautogui.click(317,741, 2)\n",
    "with pyautogui.hold('shift'):  # Press the Shift key down and hold it.\n",
    "        pyautogui.press(['left', 'left', 'left', 'left'])"
   ]
  },
  {
   "cell_type": "code",
   "execution_count": 56,
   "id": "16e38507",
   "metadata": {},
   "outputs": [],
   "source": [
    "pyautogui.hotkey('ctrl', 'a')"
   ]
  },
  {
   "cell_type": "code",
   "execution_count": null,
   "id": "ede677d9",
   "metadata": {},
   "outputs": [],
   "source": []
  },
  {
   "cell_type": "code",
   "execution_count": null,
   "id": "aa44c858",
   "metadata": {},
   "outputs": [],
   "source": []
  },
  {
   "cell_type": "code",
   "execution_count": 31,
   "id": "ba682da3",
   "metadata": {},
   "outputs": [
    {
     "ename": "TypeError",
     "evalue": "cannot unpack non-iterable NoneType object",
     "output_type": "error",
     "traceback": [
      "\u001b[1;31m---------------------------------------------------------------------------\u001b[0m",
      "\u001b[1;31mTypeError\u001b[0m                                 Traceback (most recent call last)",
      "\u001b[1;32m~\\AppData\\Local\\Temp\\ipykernel_17328\\2164144679.py\u001b[0m in \u001b[0;36m<module>\u001b[1;34m\u001b[0m\n\u001b[0;32m      1\u001b[0m \u001b[0mpyautogui\u001b[0m\u001b[1;33m.\u001b[0m\u001b[0mclick\u001b[0m\u001b[1;33m(\u001b[0m\u001b[1;36m1446\u001b[0m\u001b[1;33m,\u001b[0m \u001b[1;36m35\u001b[0m\u001b[1;33m,\u001b[0m \u001b[1;36m2\u001b[0m\u001b[1;33m)\u001b[0m\u001b[1;33m\u001b[0m\u001b[1;33m\u001b[0m\u001b[0m\n\u001b[0;32m      2\u001b[0m \u001b[0mpyautogui\u001b[0m\u001b[1;33m.\u001b[0m\u001b[0mclick\u001b[0m\u001b[1;33m(\u001b[0m\u001b[1;36m754\u001b[0m\u001b[1;33m,\u001b[0m \u001b[1;36m415\u001b[0m\u001b[1;33m,\u001b[0m \u001b[1;36m2\u001b[0m\u001b[1;33m)\u001b[0m\u001b[1;33m\u001b[0m\u001b[1;33m\u001b[0m\u001b[0m\n\u001b[1;32m----> 3\u001b[1;33m \u001b[0mpyautogui\u001b[0m\u001b[1;33m.\u001b[0m\u001b[0mclick\u001b[0m\u001b[1;33m(\u001b[0m\u001b[1;34m\"abcd.png\"\u001b[0m\u001b[1;33m)\u001b[0m\u001b[1;33m\u001b[0m\u001b[1;33m\u001b[0m\u001b[0m\n\u001b[0m",
      "\u001b[1;32m~\\AppData\\Roaming\\Python\\Python39\\site-packages\\pyautogui\\__init__.py\u001b[0m in \u001b[0;36mwrapper\u001b[1;34m(*args, **kwargs)\u001b[0m\n\u001b[0;32m    596\u001b[0m     \u001b[1;32mdef\u001b[0m \u001b[0mwrapper\u001b[0m\u001b[1;33m(\u001b[0m\u001b[1;33m*\u001b[0m\u001b[0margs\u001b[0m\u001b[1;33m,\u001b[0m \u001b[1;33m**\u001b[0m\u001b[0mkwargs\u001b[0m\u001b[1;33m)\u001b[0m\u001b[1;33m:\u001b[0m\u001b[1;33m\u001b[0m\u001b[1;33m\u001b[0m\u001b[0m\n\u001b[0;32m    597\u001b[0m         \u001b[0mfailSafeCheck\u001b[0m\u001b[1;33m(\u001b[0m\u001b[1;33m)\u001b[0m\u001b[1;33m\u001b[0m\u001b[1;33m\u001b[0m\u001b[0m\n\u001b[1;32m--> 598\u001b[1;33m         \u001b[0mreturnVal\u001b[0m \u001b[1;33m=\u001b[0m \u001b[0mwrappedFunction\u001b[0m\u001b[1;33m(\u001b[0m\u001b[1;33m*\u001b[0m\u001b[0margs\u001b[0m\u001b[1;33m,\u001b[0m \u001b[1;33m**\u001b[0m\u001b[0mkwargs\u001b[0m\u001b[1;33m)\u001b[0m\u001b[1;33m\u001b[0m\u001b[1;33m\u001b[0m\u001b[0m\n\u001b[0m\u001b[0;32m    599\u001b[0m         \u001b[0m_handlePause\u001b[0m\u001b[1;33m(\u001b[0m\u001b[0mkwargs\u001b[0m\u001b[1;33m.\u001b[0m\u001b[0mget\u001b[0m\u001b[1;33m(\u001b[0m\u001b[1;34m\"_pause\"\u001b[0m\u001b[1;33m,\u001b[0m \u001b[1;32mTrue\u001b[0m\u001b[1;33m)\u001b[0m\u001b[1;33m)\u001b[0m\u001b[1;33m\u001b[0m\u001b[1;33m\u001b[0m\u001b[0m\n\u001b[0;32m    600\u001b[0m         \u001b[1;32mreturn\u001b[0m \u001b[0mreturnVal\u001b[0m\u001b[1;33m\u001b[0m\u001b[1;33m\u001b[0m\u001b[0m\n",
      "\u001b[1;32m~\\AppData\\Roaming\\Python\\Python39\\site-packages\\pyautogui\\__init__.py\u001b[0m in \u001b[0;36mclick\u001b[1;34m(x, y, clicks, interval, button, duration, tween, logScreenshot, _pause)\u001b[0m\n\u001b[0;32m    978\u001b[0m     \u001b[1;31m# TODO: I'm leaving buttons 4, 5, 6, and 7 undocumented for now. I need to understand how they work.\u001b[0m\u001b[1;33m\u001b[0m\u001b[1;33m\u001b[0m\u001b[0m\n\u001b[0;32m    979\u001b[0m     \u001b[0mbutton\u001b[0m \u001b[1;33m=\u001b[0m \u001b[0m_normalizeButton\u001b[0m\u001b[1;33m(\u001b[0m\u001b[0mbutton\u001b[0m\u001b[1;33m)\u001b[0m\u001b[1;33m\u001b[0m\u001b[1;33m\u001b[0m\u001b[0m\n\u001b[1;32m--> 980\u001b[1;33m     \u001b[0mx\u001b[0m\u001b[1;33m,\u001b[0m \u001b[0my\u001b[0m \u001b[1;33m=\u001b[0m \u001b[0m_normalizeXYArgs\u001b[0m\u001b[1;33m(\u001b[0m\u001b[0mx\u001b[0m\u001b[1;33m,\u001b[0m \u001b[0my\u001b[0m\u001b[1;33m)\u001b[0m\u001b[1;33m\u001b[0m\u001b[1;33m\u001b[0m\u001b[0m\n\u001b[0m\u001b[0;32m    981\u001b[0m \u001b[1;33m\u001b[0m\u001b[0m\n\u001b[0;32m    982\u001b[0m     \u001b[1;31m# Move the mouse cursor to the x, y coordinate:\u001b[0m\u001b[1;33m\u001b[0m\u001b[1;33m\u001b[0m\u001b[0m\n",
      "\u001b[1;31mTypeError\u001b[0m: cannot unpack non-iterable NoneType object"
     ]
    }
   ],
   "source": [
    "pyautogui.click(1446, 35, 2)\n",
    "pyautogui.click(754, 415, 2)\n",
    "pyautogui.click(\"abcd.png\")"
   ]
  },
  {
   "cell_type": "code",
   "execution_count": null,
   "id": "66cd93d6",
   "metadata": {},
   "outputs": [],
   "source": []
  },
  {
   "cell_type": "code",
   "execution_count": null,
   "id": "55818e17",
   "metadata": {},
   "outputs": [],
   "source": []
  },
  {
   "cell_type": "code",
   "execution_count": 9,
   "id": "128198ae",
   "metadata": {},
   "outputs": [],
   "source": [
    "pyautogui.moveTo(684,1043)"
   ]
  },
  {
   "cell_type": "code",
   "execution_count": 23,
   "id": "41bf0fc7",
   "metadata": {},
   "outputs": [],
   "source": [
    "pyautogui.moveTo(684,1043,2)# window button\n",
    "pyautogui.click()\n",
    "pyautogui.moveTo(1762,22,2)# minimize button\n",
    "pyautogui.click(interval=2)\n",
    "pyautogui.click(1133,1058)# chrome browswer\n",
    "pyautogui.click(955,24)# next tab\n",
    "pyautogui.click(974,299, clicks=3)# paragraph text selection\n",
    "\n",
    "\n",
    "\n"
   ]
  },
  {
   "cell_type": "code",
   "execution_count": 66,
   "id": "1f6a73f9",
   "metadata": {},
   "outputs": [],
   "source": [
    "for i in range(2):\n",
    "    pyautogui.moveTo(684,1043,0.2)# window button\n",
    "    pyautogui.click()\n",
    "    pyautogui.moveTo(1762,22,0.2)# minimize button\n",
    "    pyautogui.click(interval=0.2)\n",
    "    pyautogui.click(1133,1058)# chrome browswer\n",
    "    pyautogui.click(955,24)# next tab\n",
    "    pyautogui.click(974,299, clicks=3)# paragraph text selection\n",
    "\n",
    "\n",
    "\n"
   ]
  },
  {
   "cell_type": "code",
   "execution_count": null,
   "id": "f0bed50f",
   "metadata": {},
   "outputs": [],
   "source": [
    "pyautogui.hotkey('ctrl','a')"
   ]
  },
  {
   "cell_type": "code",
   "execution_count": 59,
   "id": "7927da63",
   "metadata": {},
   "outputs": [
    {
     "data": {
      "text/plain": [
       "'OK'"
      ]
     },
     "execution_count": 59,
     "metadata": {},
     "output_type": "execute_result"
    }
   ],
   "source": [
    "pyautogui.alert('pakistan zinda bad')"
   ]
  },
  {
   "cell_type": "code",
   "execution_count": 2,
   "id": "6d8d329f",
   "metadata": {},
   "outputs": [],
   "source": [
    "import pyautogui\n",
    "pyautogui.hotkey('alt','tab')\n",
    "pyautogui.press('enter')\n",
    "pyautogui.click()\n",
    "\n",
    "distance = 200\n",
    "while distance > 0:\n",
    "    pyautogui.drag(distance, 0, duration=0.5)   # move right\n",
    "    distance -= 5\n",
    "    pyautogui.drag(0, distance, duration=0.5)   # move down\n",
    "    pyautogui.drag(-distance, 0, duration=0.5)  # move left\n",
    "    distance -= 5\n",
    "    pyautogui.drag(0, -distance, duration=0.5)  # move up\n"
   ]
  },
  {
   "cell_type": "code",
   "execution_count": 64,
   "id": "b61cb532",
   "metadata": {},
   "outputs": [
    {
     "data": {
      "text/plain": [
       "Point(x=476, y=552)"
      ]
     },
     "execution_count": 64,
     "metadata": {},
     "output_type": "execute_result"
    }
   ],
   "source": [
    "pyautogui.position()"
   ]
  },
  {
   "cell_type": "code",
   "execution_count": null,
   "id": "b5ecb290",
   "metadata": {},
   "outputs": [],
   "source": [
    "import pyautogui\n",
    "pyautogui.hotkey('alt','tab')\n",
    "pyautogui.press('enter')\n",
    "pyautogui.click()\n",
    "\n",
    "distance = 200\n",
    "while distance > 0:\n",
    "    pyautogui.drag(distance, 0)   # move right\n",
    "    distance -= 5\n",
    "    pyautogui.drag(0, distance)   # move down\n",
    "    pyautogui.drag(-distance, 0)  # move left\n",
    "    distance -= 5\n",
    "    pyautogui.drag(0, -distance)  # move up\n"
   ]
  },
  {
   "cell_type": "code",
   "execution_count": 1,
   "id": "813ab03d",
   "metadata": {},
   "outputs": [],
   "source": [
    "import pyautogui\n"
   ]
  },
  {
   "cell_type": "code",
   "execution_count": 3,
   "id": "84d0e3dc",
   "metadata": {},
   "outputs": [
    {
     "data": {
      "text/plain": [
       "Point(x=409, y=553)"
      ]
     },
     "execution_count": 3,
     "metadata": {},
     "output_type": "execute_result"
    }
   ],
   "source": [
    "pyautogui.position()"
   ]
  },
  {
   "cell_type": "code",
   "execution_count": 19,
   "id": "8bd28a1b",
   "metadata": {},
   "outputs": [],
   "source": [
    "pyautogui.scroll(20,x=409,y=553)"
   ]
  },
  {
   "cell_type": "code",
   "execution_count": null,
   "id": "5152a5f0",
   "metadata": {},
   "outputs": [],
   "source": [
    "Assignment\n",
    "1 Saylani FAcebook/Youtube All videos like\n",
    "2 IT Expert by sirqasim\n"
   ]
  }
 ],
 "metadata": {
  "kernelspec": {
   "display_name": "Python 3 (ipykernel)",
   "language": "python",
   "name": "python3"
  },
  "language_info": {
   "codemirror_mode": {
    "name": "ipython",
    "version": 3
   },
   "file_extension": ".py",
   "mimetype": "text/x-python",
   "name": "python",
   "nbconvert_exporter": "python",
   "pygments_lexer": "ipython3",
   "version": "3.9.13"
  }
 },
 "nbformat": 4,
 "nbformat_minor": 5
}
