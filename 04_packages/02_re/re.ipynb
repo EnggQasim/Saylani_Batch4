{
 "cells": [
  {
   "cell_type": "code",
   "execution_count": 1,
   "id": "4a3e338d",
   "metadata": {},
   "outputs": [],
   "source": [
    "import re"
   ]
  },
  {
   "cell_type": "code",
   "execution_count": 2,
   "id": "b532336a",
   "metadata": {},
   "outputs": [
    {
     "data": {
      "text/plain": [
       "['a', 'a', 'a', 'a']"
      ]
     },
     "execution_count": 2,
     "metadata": {},
     "output_type": "execute_result"
    }
   ],
   "source": [
    "text = \"\"\"\n",
    "pakistan zinda bad!\n",
    "\"\"\"\n",
    "\n",
    "re.findall('a', text)"
   ]
  },
  {
   "cell_type": "code",
   "execution_count": 5,
   "id": "3a966110",
   "metadata": {},
   "outputs": [
    {
     "name": "stdout",
     "output_type": "stream",
     "text": [
      "['ak']\n",
      "['ak', 'ad']\n"
     ]
    }
   ],
   "source": [
    "print(re.findall('ak', text))\n",
    "#                 c1 c2\n",
    "print(re.findall('a[kdjm]', text))"
   ]
  },
  {
   "cell_type": "code",
   "execution_count": 19,
   "id": "c25e077a",
   "metadata": {},
   "outputs": [
    {
     "name": "stdout",
     "output_type": "stream",
     "text": [
      "['aylan', 'ainin']\n",
      "['akistan', 'ajk1U5n', 'aylan', 'ainin']\n",
      "['aki', 'ani', 'aUi']\n",
      "['ivin', 'inin']\n",
      "['n z']\n",
      "['akistan zinda bad!', 'arachi', 'ajk1U5n hello', 'aylani Mass IT Training', 'aaaaaUiHHHHH', 'abcd   a']\n"
     ]
    }
   ],
   "source": [
    "text = \"\"\"\n",
    "pakistan zinda bad!\n",
    "i'm living in karachi\n",
    "ajk1U5n hello\n",
    "Saylani Mass IT Training\n",
    "hello world aaaaaUiHHHHH\n",
    "abcd   a\n",
    "i\n",
    "\"\"\"\n",
    "\n",
    "print(re.findall('a.{3}n',text))\n",
    "print(re.findall('a.{1,5}n',text))\n",
    "print(re.findall('a.i',text))\n",
    "print(re.findall('i..n',text))\n",
    "print(re.findall('n.z',text))\n",
    "print(re.findall('a.+',text))\n",
    "print(re.findall('a.*',text))"
   ]
  },
  {
   "cell_type": "code",
   "execution_count": 36,
   "id": "40d65bf9",
   "metadata": {},
   "outputs": [
    {
     "name": "stdout",
     "output_type": "stream",
     "text": [
      "['ai19284', 'ai12345', 'ai73295', 'ai0488888888894']\n",
      "['ai19284', 'ai12345', 'ai73295', 'ai0488888888894', 'ai']\n",
      "['ai19284', 'ai12345', 'ai73295', 'ai0488888888894']\n",
      "['ai19284', 'ai12345', 'ai73295', 'ai0488888888894', 'ai']\n"
     ]
    }
   ],
   "source": [
    "text = \"\"\"\n",
    "pakistan zinda bad!\n",
    "ai19284 aadss\n",
    "ai12345 ddd\n",
    "ai73295 dddd\n",
    "ai0488888888894\n",
    "aiTJKL\n",
    "\"\"\"\n",
    "# print(re.findall('ai[0123456789]{2,5}',text))\n",
    "# print(re.findall('ai[0123456789]',text))\n",
    "print(re.findall('ai[0123456789]+',text))\n",
    "print(re.findall('ai[0123456789]*',text))\n",
    "\n",
    "\n",
    "print(re.findall('ai[0-9]+',text))\n",
    "print(re.findall('ai[0-9]*',text))"
   ]
  },
  {
   "cell_type": "code",
   "execution_count": 58,
   "id": "7709ef58",
   "metadata": {},
   "outputs": [
    {
     "name": "stdout",
     "output_type": "stream",
     "text": [
      "['aaaaa', 'abc', 'abac', 'abc', 'cba', 'bac', 'bca']\n"
     ]
    }
   ],
   "source": [
    "text = \"\"\"\n",
    "pakistan zinda bad!\n",
    "i'm living in karachi\n",
    "ajk1U5n hello\n",
    "Saylani Mass IT Training\n",
    "hello world aaaaaUiHHHHH\n",
    "abcd   a\n",
    "ai0001\n",
    "abac\n",
    "abc\n",
    "cba\n",
    "bac\n",
    "bca\n",
    "i\n",
    "\"\"\"\n",
    "\n",
    "print(re.findall('[acb]{3,5}',text))"
   ]
  },
  {
   "cell_type": "code",
   "execution_count": 59,
   "id": "fa120fbd",
   "metadata": {},
   "outputs": [
    {
     "name": "stdout",
     "output_type": "stream",
     "text": [
      "['pakistan', 'zinda', 'bad', 'i', 'm', 'living', 'in', 'karachi', 'ajk', 'n', 'hello', 'aylani', 'ass', 'raining', 'hello', 'world', 'aaaaa', 'i', 'abcd', 'a', 'ai', 'abac', 'abc', 'cba', 'bac', 'bca', 'i']\n",
      "['U', 'S', 'M', 'IT', 'T', 'U', 'HHHHH']\n"
     ]
    }
   ],
   "source": [
    "print(re.findall('[a-z]+',text))\n",
    "print(re.findall('[A-Z]+',text))"
   ]
  },
  {
   "cell_type": "code",
   "execution_count": 57,
   "id": "7109996b",
   "metadata": {},
   "outputs": [
    {
     "name": "stdout",
     "output_type": "stream",
     "text": [
      "['pakistan', 'zinda', 'bad', 'i', 'm', 'living', 'in', 'karachi', 'ajk', 'U', 'n', 'hello', 'Saylani', 'Mass', 'IT', 'Training', 'hello', 'world', 'aaaaaUiHHHHH', 'abcd', 'a', 'abac', 'abc', 'cba', 'bac', 'bca', 'i']\n"
     ]
    }
   ],
   "source": [
    "print(re.findall('[A-z]+',text))"
   ]
  },
  {
   "cell_type": "code",
   "execution_count": 60,
   "id": "9b8b5258",
   "metadata": {},
   "outputs": [
    {
     "ename": "error",
     "evalue": "bad character range a-Z at position 1",
     "output_type": "error",
     "traceback": [
      "\u001b[1;31m---------------------------------------------------------------------------\u001b[0m",
      "\u001b[1;31merror\u001b[0m                                     Traceback (most recent call last)",
      "\u001b[1;32m~\\AppData\\Local\\Temp\\ipykernel_6776\\3073941771.py\u001b[0m in \u001b[0;36m<module>\u001b[1;34m\u001b[0m\n\u001b[1;32m----> 1\u001b[1;33m \u001b[0mprint\u001b[0m\u001b[1;33m(\u001b[0m\u001b[0mre\u001b[0m\u001b[1;33m.\u001b[0m\u001b[0mfindall\u001b[0m\u001b[1;33m(\u001b[0m\u001b[1;34m'[a-Z]+'\u001b[0m\u001b[1;33m,\u001b[0m\u001b[0mtext\u001b[0m\u001b[1;33m)\u001b[0m\u001b[1;33m)\u001b[0m\u001b[1;33m\u001b[0m\u001b[1;33m\u001b[0m\u001b[0m\n\u001b[0m",
      "\u001b[1;32mC:\\ProgramData\\Anaconda3\\lib\\re.py\u001b[0m in \u001b[0;36mfindall\u001b[1;34m(pattern, string, flags)\u001b[0m\n\u001b[0;32m    239\u001b[0m \u001b[1;33m\u001b[0m\u001b[0m\n\u001b[0;32m    240\u001b[0m     Empty matches are included in the result.\"\"\"\n\u001b[1;32m--> 241\u001b[1;33m     \u001b[1;32mreturn\u001b[0m \u001b[0m_compile\u001b[0m\u001b[1;33m(\u001b[0m\u001b[0mpattern\u001b[0m\u001b[1;33m,\u001b[0m \u001b[0mflags\u001b[0m\u001b[1;33m)\u001b[0m\u001b[1;33m.\u001b[0m\u001b[0mfindall\u001b[0m\u001b[1;33m(\u001b[0m\u001b[0mstring\u001b[0m\u001b[1;33m)\u001b[0m\u001b[1;33m\u001b[0m\u001b[1;33m\u001b[0m\u001b[0m\n\u001b[0m\u001b[0;32m    242\u001b[0m \u001b[1;33m\u001b[0m\u001b[0m\n\u001b[0;32m    243\u001b[0m \u001b[1;32mdef\u001b[0m \u001b[0mfinditer\u001b[0m\u001b[1;33m(\u001b[0m\u001b[0mpattern\u001b[0m\u001b[1;33m,\u001b[0m \u001b[0mstring\u001b[0m\u001b[1;33m,\u001b[0m \u001b[0mflags\u001b[0m\u001b[1;33m=\u001b[0m\u001b[1;36m0\u001b[0m\u001b[1;33m)\u001b[0m\u001b[1;33m:\u001b[0m\u001b[1;33m\u001b[0m\u001b[1;33m\u001b[0m\u001b[0m\n",
      "\u001b[1;32mC:\\ProgramData\\Anaconda3\\lib\\re.py\u001b[0m in \u001b[0;36m_compile\u001b[1;34m(pattern, flags)\u001b[0m\n\u001b[0;32m    302\u001b[0m     \u001b[1;32mif\u001b[0m \u001b[1;32mnot\u001b[0m \u001b[0msre_compile\u001b[0m\u001b[1;33m.\u001b[0m\u001b[0misstring\u001b[0m\u001b[1;33m(\u001b[0m\u001b[0mpattern\u001b[0m\u001b[1;33m)\u001b[0m\u001b[1;33m:\u001b[0m\u001b[1;33m\u001b[0m\u001b[1;33m\u001b[0m\u001b[0m\n\u001b[0;32m    303\u001b[0m         \u001b[1;32mraise\u001b[0m \u001b[0mTypeError\u001b[0m\u001b[1;33m(\u001b[0m\u001b[1;34m\"first argument must be string or compiled pattern\"\u001b[0m\u001b[1;33m)\u001b[0m\u001b[1;33m\u001b[0m\u001b[1;33m\u001b[0m\u001b[0m\n\u001b[1;32m--> 304\u001b[1;33m     \u001b[0mp\u001b[0m \u001b[1;33m=\u001b[0m \u001b[0msre_compile\u001b[0m\u001b[1;33m.\u001b[0m\u001b[0mcompile\u001b[0m\u001b[1;33m(\u001b[0m\u001b[0mpattern\u001b[0m\u001b[1;33m,\u001b[0m \u001b[0mflags\u001b[0m\u001b[1;33m)\u001b[0m\u001b[1;33m\u001b[0m\u001b[1;33m\u001b[0m\u001b[0m\n\u001b[0m\u001b[0;32m    305\u001b[0m     \u001b[1;32mif\u001b[0m \u001b[1;32mnot\u001b[0m \u001b[1;33m(\u001b[0m\u001b[0mflags\u001b[0m \u001b[1;33m&\u001b[0m \u001b[0mDEBUG\u001b[0m\u001b[1;33m)\u001b[0m\u001b[1;33m:\u001b[0m\u001b[1;33m\u001b[0m\u001b[1;33m\u001b[0m\u001b[0m\n\u001b[0;32m    306\u001b[0m         \u001b[1;32mif\u001b[0m \u001b[0mlen\u001b[0m\u001b[1;33m(\u001b[0m\u001b[0m_cache\u001b[0m\u001b[1;33m)\u001b[0m \u001b[1;33m>=\u001b[0m \u001b[0m_MAXCACHE\u001b[0m\u001b[1;33m:\u001b[0m\u001b[1;33m\u001b[0m\u001b[1;33m\u001b[0m\u001b[0m\n",
      "\u001b[1;32mC:\\ProgramData\\Anaconda3\\lib\\sre_compile.py\u001b[0m in \u001b[0;36mcompile\u001b[1;34m(p, flags)\u001b[0m\n\u001b[0;32m    786\u001b[0m     \u001b[1;32mif\u001b[0m \u001b[0misstring\u001b[0m\u001b[1;33m(\u001b[0m\u001b[0mp\u001b[0m\u001b[1;33m)\u001b[0m\u001b[1;33m:\u001b[0m\u001b[1;33m\u001b[0m\u001b[1;33m\u001b[0m\u001b[0m\n\u001b[0;32m    787\u001b[0m         \u001b[0mpattern\u001b[0m \u001b[1;33m=\u001b[0m \u001b[0mp\u001b[0m\u001b[1;33m\u001b[0m\u001b[1;33m\u001b[0m\u001b[0m\n\u001b[1;32m--> 788\u001b[1;33m         \u001b[0mp\u001b[0m \u001b[1;33m=\u001b[0m \u001b[0msre_parse\u001b[0m\u001b[1;33m.\u001b[0m\u001b[0mparse\u001b[0m\u001b[1;33m(\u001b[0m\u001b[0mp\u001b[0m\u001b[1;33m,\u001b[0m \u001b[0mflags\u001b[0m\u001b[1;33m)\u001b[0m\u001b[1;33m\u001b[0m\u001b[1;33m\u001b[0m\u001b[0m\n\u001b[0m\u001b[0;32m    789\u001b[0m     \u001b[1;32melse\u001b[0m\u001b[1;33m:\u001b[0m\u001b[1;33m\u001b[0m\u001b[1;33m\u001b[0m\u001b[0m\n\u001b[0;32m    790\u001b[0m         \u001b[0mpattern\u001b[0m \u001b[1;33m=\u001b[0m \u001b[1;32mNone\u001b[0m\u001b[1;33m\u001b[0m\u001b[1;33m\u001b[0m\u001b[0m\n",
      "\u001b[1;32mC:\\ProgramData\\Anaconda3\\lib\\sre_parse.py\u001b[0m in \u001b[0;36mparse\u001b[1;34m(str, flags, state)\u001b[0m\n\u001b[0;32m    953\u001b[0m \u001b[1;33m\u001b[0m\u001b[0m\n\u001b[0;32m    954\u001b[0m     \u001b[1;32mtry\u001b[0m\u001b[1;33m:\u001b[0m\u001b[1;33m\u001b[0m\u001b[1;33m\u001b[0m\u001b[0m\n\u001b[1;32m--> 955\u001b[1;33m         \u001b[0mp\u001b[0m \u001b[1;33m=\u001b[0m \u001b[0m_parse_sub\u001b[0m\u001b[1;33m(\u001b[0m\u001b[0msource\u001b[0m\u001b[1;33m,\u001b[0m \u001b[0mstate\u001b[0m\u001b[1;33m,\u001b[0m \u001b[0mflags\u001b[0m \u001b[1;33m&\u001b[0m \u001b[0mSRE_FLAG_VERBOSE\u001b[0m\u001b[1;33m,\u001b[0m \u001b[1;36m0\u001b[0m\u001b[1;33m)\u001b[0m\u001b[1;33m\u001b[0m\u001b[1;33m\u001b[0m\u001b[0m\n\u001b[0m\u001b[0;32m    956\u001b[0m     \u001b[1;32mexcept\u001b[0m \u001b[0mVerbose\u001b[0m\u001b[1;33m:\u001b[0m\u001b[1;33m\u001b[0m\u001b[1;33m\u001b[0m\u001b[0m\n\u001b[0;32m    957\u001b[0m         \u001b[1;31m# the VERBOSE flag was switched on inside the pattern.  to be\u001b[0m\u001b[1;33m\u001b[0m\u001b[1;33m\u001b[0m\u001b[0m\n",
      "\u001b[1;32mC:\\ProgramData\\Anaconda3\\lib\\sre_parse.py\u001b[0m in \u001b[0;36m_parse_sub\u001b[1;34m(source, state, verbose, nested)\u001b[0m\n\u001b[0;32m    442\u001b[0m     \u001b[0mstart\u001b[0m \u001b[1;33m=\u001b[0m \u001b[0msource\u001b[0m\u001b[1;33m.\u001b[0m\u001b[0mtell\u001b[0m\u001b[1;33m(\u001b[0m\u001b[1;33m)\u001b[0m\u001b[1;33m\u001b[0m\u001b[1;33m\u001b[0m\u001b[0m\n\u001b[0;32m    443\u001b[0m     \u001b[1;32mwhile\u001b[0m \u001b[1;32mTrue\u001b[0m\u001b[1;33m:\u001b[0m\u001b[1;33m\u001b[0m\u001b[1;33m\u001b[0m\u001b[0m\n\u001b[1;32m--> 444\u001b[1;33m         itemsappend(_parse(source, state, verbose, nested + 1,\n\u001b[0m\u001b[0;32m    445\u001b[0m                            not nested and not items))\n\u001b[0;32m    446\u001b[0m         \u001b[1;32mif\u001b[0m \u001b[1;32mnot\u001b[0m \u001b[0msourcematch\u001b[0m\u001b[1;33m(\u001b[0m\u001b[1;34m\"|\"\u001b[0m\u001b[1;33m)\u001b[0m\u001b[1;33m:\u001b[0m\u001b[1;33m\u001b[0m\u001b[1;33m\u001b[0m\u001b[0m\n",
      "\u001b[1;32mC:\\ProgramData\\Anaconda3\\lib\\sre_parse.py\u001b[0m in \u001b[0;36m_parse\u001b[1;34m(source, state, verbose, nested, first)\u001b[0m\n\u001b[0;32m    597\u001b[0m                     \u001b[1;32mif\u001b[0m \u001b[0mhi\u001b[0m \u001b[1;33m<\u001b[0m \u001b[0mlo\u001b[0m\u001b[1;33m:\u001b[0m\u001b[1;33m\u001b[0m\u001b[1;33m\u001b[0m\u001b[0m\n\u001b[0;32m    598\u001b[0m                         \u001b[0mmsg\u001b[0m \u001b[1;33m=\u001b[0m \u001b[1;34m\"bad character range %s-%s\"\u001b[0m \u001b[1;33m%\u001b[0m \u001b[1;33m(\u001b[0m\u001b[0mthis\u001b[0m\u001b[1;33m,\u001b[0m \u001b[0mthat\u001b[0m\u001b[1;33m)\u001b[0m\u001b[1;33m\u001b[0m\u001b[1;33m\u001b[0m\u001b[0m\n\u001b[1;32m--> 599\u001b[1;33m                         \u001b[1;32mraise\u001b[0m \u001b[0msource\u001b[0m\u001b[1;33m.\u001b[0m\u001b[0merror\u001b[0m\u001b[1;33m(\u001b[0m\u001b[0mmsg\u001b[0m\u001b[1;33m,\u001b[0m \u001b[0mlen\u001b[0m\u001b[1;33m(\u001b[0m\u001b[0mthis\u001b[0m\u001b[1;33m)\u001b[0m \u001b[1;33m+\u001b[0m \u001b[1;36m1\u001b[0m \u001b[1;33m+\u001b[0m \u001b[0mlen\u001b[0m\u001b[1;33m(\u001b[0m\u001b[0mthat\u001b[0m\u001b[1;33m)\u001b[0m\u001b[1;33m)\u001b[0m\u001b[1;33m\u001b[0m\u001b[1;33m\u001b[0m\u001b[0m\n\u001b[0m\u001b[0;32m    600\u001b[0m                     \u001b[0msetappend\u001b[0m\u001b[1;33m(\u001b[0m\u001b[1;33m(\u001b[0m\u001b[0mRANGE\u001b[0m\u001b[1;33m,\u001b[0m \u001b[1;33m(\u001b[0m\u001b[0mlo\u001b[0m\u001b[1;33m,\u001b[0m \u001b[0mhi\u001b[0m\u001b[1;33m)\u001b[0m\u001b[1;33m)\u001b[0m\u001b[1;33m)\u001b[0m\u001b[1;33m\u001b[0m\u001b[1;33m\u001b[0m\u001b[0m\n\u001b[0;32m    601\u001b[0m                 \u001b[1;32melse\u001b[0m\u001b[1;33m:\u001b[0m\u001b[1;33m\u001b[0m\u001b[1;33m\u001b[0m\u001b[0m\n",
      "\u001b[1;31merror\u001b[0m: bad character range a-Z at position 1"
     ]
    }
   ],
   "source": [
    "print(re.findall('[a-Z]+',text))"
   ]
  },
  {
   "cell_type": "code",
   "execution_count": 65,
   "id": "4e8976a6",
   "metadata": {},
   "outputs": [
    {
     "data": {
      "text/plain": [
       "['0315-2968211', '03102222222', '0311-1234567', '0092315-1234567']"
      ]
     },
     "execution_count": 65,
     "metadata": {},
     "output_type": "execute_result"
    }
   ],
   "source": [
    "text = \"\"\"\n",
    "0315-2968211\n",
    "03102222222\n",
    "0311-1234567\n",
    "0092315-1234567\n",
    "+92345-1234567\n",
    "hell world... 1234-1234567\n",
    "my zong number is 03152968211\n",
    "\"\"\"\n",
    "\n",
    "re.findall('^[0-9].+[0-9]$',text, re.MULTILINE)\n",
    "re.findall('^\\d.+\\d$',text, re.MULTILINE)\n",
    "\n"
   ]
  },
  {
   "cell_type": "code",
   "execution_count": 77,
   "id": "381bb3dc",
   "metadata": {},
   "outputs": [
    {
     "data": {
      "text/plain": [
       "['pakistan', 'pakistan', 'abidan']"
      ]
     },
     "execution_count": 77,
     "metadata": {},
     "output_type": "execute_result"
    }
   ],
   "source": [
    "text = \"\"\"pakistan zinda bad. we are pakistan abidan\"\"\"\n",
    "\n",
    "re.findall(r\"\\b[pa][a-z]*n\\b\",text)"
   ]
  },
  {
   "cell_type": "code",
   "execution_count": 73,
   "id": "7be05cfc",
   "metadata": {},
   "outputs": [
    {
     "name": "stdout",
     "output_type": "stream",
     "text": [
      "['0315-2968211', '03102222222', '0311-1234567', '0092315-1234567', '92345-1234567', '1234-1234567', '03152968211']\n"
     ]
    }
   ],
   "source": [
    "text = \"\"\"\n",
    "0315-2968211\n",
    "03102222222\n",
    "0311-1234567\n",
    "0092315-1234567 hello world\n",
    "+92345-1234567\n",
    "hell world... 1234-1234567\n",
    "my zong number is 03152968211\n",
    "\"\"\"\n",
    "\n",
    "print(re.findall(r'\\b\\+?\\d{4,7}-?\\d{7}\\b', text))"
   ]
  },
  {
   "cell_type": "markdown",
   "id": "7909ddc7",
   "metadata": {},
   "source": [
    "# Apply re on real world data"
   ]
  },
  {
   "cell_type": "code",
   "execution_count": 86,
   "id": "72da7e55",
   "metadata": {},
   "outputs": [
    {
     "name": "stdout",
     "output_type": "stream",
     "text": [
      "0 ('12:05:41', 'Hasnain Munir', 'PIAIC-187272')\n",
      "1 ('12:05:44', 'Shaheer Baig', 'PIAIC-169519')\n",
      "2 ('12:05:45', 'Humera Naz', 'PIAIC-173431')\n",
      "3 ('12:05:47', 'Sadia Anwar', 'PIAIC-180028')\n",
      "4 ('12:05:47', 'Muhammad Mehroz', 'PIAIC-131496')\n",
      "5 ('12:05:47', 'Home', 'PIAIC-172998')\n",
      "6 ('12:05:47', 'Muhammad Sadullah = PIAIC-178950', 'PIAIC-178950')\n",
      "7 ('12:05:48', 'Muhammad Uzair-177637', 'PIAIC-177637')\n",
      "8 ('12:05:48', 'Taqwa Khaliq', 'PIAIC-173701')\n",
      "9 ('12:05:49', 'Faisal Bashir-177802', 'PIAIC-177802')\n",
      "10 ('12:05:50', 'Talha Munir Rana', 'PIAIC-173761')\n",
      "11 ('12:05:52', 'Abdul Qadar', 'PIAIC-172941')\n",
      "12 ('12:05:57', 'Dr. Bhagwan Das', 'PIAIC-96879')\n",
      "13 ('12:05:57', 'Uzair Ullah (PIAIC169405)', 'PIAIC-169405')\n",
      "14 ('12:06:00', 'Arshad', 'PIAIC168092')\n",
      "15 ('12:06:01', 'PIAIC188523 Subhan Ahmed', 'PIAIC188523')\n",
      "16 ('12:06:10', 'Ali Asar', 'PIAIC-188720')\n",
      "17 ('12:06:28', 'Gulshan Ali', 'PIAIC-176719')\n",
      "18 ('12:06:29', 'M Ali Asif Khan - PIAIC-57947', 'PIAIC-57947')\n",
      "19 ('12:06:33', 'Usman Noor PIAIC-188401', 'PIAIC-188401')\n",
      "20 ('12:06:49', 'Sohaib Baseer Ahmad', 'PIAIC67260')\n",
      "21 ('12:40:20', 'Ali Asar', 'PIAIC-187258')\n"
     ]
    }
   ],
   "source": [
    "x = \"\"\"\n",
    "05:40 From Ali Asar To Everyone : PIAIC-187258\n",
    "12:05:41 From Hasnain Munir To Everyone : PIAIC-187272\n",
    "12:05:44 From Shaheer Baig To Everyone : PIAIC-169519\n",
    "12:05:45 From Humera Naz To Everyone : PIAIC-173431\n",
    "12:05:47 From Sadia Anwar To Everyone : PIAIC-180028\n",
    "12:05:47 From Muhammad Mehroz To Everyone : PIAIC-131496\n",
    "12:05:47 From Home To Everyone : PIAIC-172998\n",
    "12:05:47 From Muhammad Sadullah = PIAIC-178950 To Everyone : PIAIC-178950\n",
    "12:05:48 From Muhammad Uzair-177637 To Everyone : PIAIC-177637\n",
    "12:05:48 From Taqwa Khaliq To Everyone : PIAIC-173701 TAQWA KHALIQ\n",
    "12:05:48 From asghar ibraheem CNC-012105 To Everyone : CNC-012105\n",
    "12:05:49 From Faisal Bashir-177802 To Everyone : PIAIC-177802\n",
    "12:05:50 From Talha Munir Rana To Everyone : PIAIC-173761\n",
    "12:05:52 From Abdul Qadar To Everyone : PIAIC-172941\n",
    "12:05:57 From Dr. Bhagwan Das To Everyone : PIAIC-96879\n",
    "12:05:57 From Uzair Ullah (PIAIC169405) To Everyone : PIAIC-169405\n",
    "12:06:00 From Arshad To Everyone : PIAIC168092\n",
    "12:06:01 From PIAIC188523 Subhan Ahmed To Everyone : PIAIC188523\n",
    "12:06:04 From Taqwa Khaliq To Everyone : PIAIC 173701\n",
    "12:06:10 From Ali Asar To Everyone : PIAIC-188720\n",
    "12:06:23 From Mohammad Javed To Everyone : WhatsApp number?\n",
    "12:06:28 From Gulshan Ali To Everyone : PIAIC-176719\n",
    "12:06:29 From M Ali Asif Khan - PIAIC-57947 To Everyone : PIAIC-57947\n",
    "12:06:33 From Usman Noor PIAIC-188401 To Everyone : PIAIC-188401\n",
    "12:06:46 From Zia (piaic121514) To Everyone : thanks\n",
    "12:06:49 From Sohaib Baseer Ahmad To Everyone : PIAIC67260\n",
    "12:40:20 From Ali Asar To Everyone : PIAIC-187258\n",
    "\n",
    "\"\"\"\n",
    "\n",
    "\n",
    "pattern = r\"(\\d{2}:\\d{2}:\\d{2}) From (.+) To Everyone : (PIAIC-?\\d{5,6})\"\n",
    "\n",
    "l = re.findall(pattern, x)\n",
    "for rid,r in enumerate(l):\n",
    "    print(rid, r)"
   ]
  },
  {
   "cell_type": "code",
   "execution_count": 87,
   "id": "8c415e81",
   "metadata": {},
   "outputs": [
    {
     "data": {
      "text/html": [
       "<div>\n",
       "<style scoped>\n",
       "    .dataframe tbody tr th:only-of-type {\n",
       "        vertical-align: middle;\n",
       "    }\n",
       "\n",
       "    .dataframe tbody tr th {\n",
       "        vertical-align: top;\n",
       "    }\n",
       "\n",
       "    .dataframe thead th {\n",
       "        text-align: right;\n",
       "    }\n",
       "</style>\n",
       "<table border=\"1\" class=\"dataframe\">\n",
       "  <thead>\n",
       "    <tr style=\"text-align: right;\">\n",
       "      <th></th>\n",
       "      <th>Timing</th>\n",
       "      <th>Name</th>\n",
       "      <th>Roll number</th>\n",
       "    </tr>\n",
       "  </thead>\n",
       "  <tbody>\n",
       "    <tr>\n",
       "      <th>0</th>\n",
       "      <td>12:05:41</td>\n",
       "      <td>Hasnain Munir</td>\n",
       "      <td>PIAIC-187272</td>\n",
       "    </tr>\n",
       "    <tr>\n",
       "      <th>1</th>\n",
       "      <td>12:05:44</td>\n",
       "      <td>Shaheer Baig</td>\n",
       "      <td>PIAIC-169519</td>\n",
       "    </tr>\n",
       "    <tr>\n",
       "      <th>2</th>\n",
       "      <td>12:05:45</td>\n",
       "      <td>Humera Naz</td>\n",
       "      <td>PIAIC-173431</td>\n",
       "    </tr>\n",
       "    <tr>\n",
       "      <th>3</th>\n",
       "      <td>12:05:47</td>\n",
       "      <td>Sadia Anwar</td>\n",
       "      <td>PIAIC-180028</td>\n",
       "    </tr>\n",
       "    <tr>\n",
       "      <th>4</th>\n",
       "      <td>12:05:47</td>\n",
       "      <td>Muhammad Mehroz</td>\n",
       "      <td>PIAIC-131496</td>\n",
       "    </tr>\n",
       "    <tr>\n",
       "      <th>5</th>\n",
       "      <td>12:05:47</td>\n",
       "      <td>Home</td>\n",
       "      <td>PIAIC-172998</td>\n",
       "    </tr>\n",
       "    <tr>\n",
       "      <th>6</th>\n",
       "      <td>12:05:47</td>\n",
       "      <td>Muhammad Sadullah = PIAIC-178950</td>\n",
       "      <td>PIAIC-178950</td>\n",
       "    </tr>\n",
       "    <tr>\n",
       "      <th>7</th>\n",
       "      <td>12:05:48</td>\n",
       "      <td>Muhammad Uzair-177637</td>\n",
       "      <td>PIAIC-177637</td>\n",
       "    </tr>\n",
       "    <tr>\n",
       "      <th>8</th>\n",
       "      <td>12:05:48</td>\n",
       "      <td>Taqwa Khaliq</td>\n",
       "      <td>PIAIC-173701</td>\n",
       "    </tr>\n",
       "    <tr>\n",
       "      <th>9</th>\n",
       "      <td>12:05:49</td>\n",
       "      <td>Faisal Bashir-177802</td>\n",
       "      <td>PIAIC-177802</td>\n",
       "    </tr>\n",
       "    <tr>\n",
       "      <th>10</th>\n",
       "      <td>12:05:50</td>\n",
       "      <td>Talha Munir Rana</td>\n",
       "      <td>PIAIC-173761</td>\n",
       "    </tr>\n",
       "    <tr>\n",
       "      <th>11</th>\n",
       "      <td>12:05:52</td>\n",
       "      <td>Abdul Qadar</td>\n",
       "      <td>PIAIC-172941</td>\n",
       "    </tr>\n",
       "    <tr>\n",
       "      <th>12</th>\n",
       "      <td>12:05:57</td>\n",
       "      <td>Dr. Bhagwan Das</td>\n",
       "      <td>PIAIC-96879</td>\n",
       "    </tr>\n",
       "    <tr>\n",
       "      <th>13</th>\n",
       "      <td>12:05:57</td>\n",
       "      <td>Uzair Ullah (PIAIC169405)</td>\n",
       "      <td>PIAIC-169405</td>\n",
       "    </tr>\n",
       "    <tr>\n",
       "      <th>14</th>\n",
       "      <td>12:06:00</td>\n",
       "      <td>Arshad</td>\n",
       "      <td>PIAIC168092</td>\n",
       "    </tr>\n",
       "    <tr>\n",
       "      <th>15</th>\n",
       "      <td>12:06:01</td>\n",
       "      <td>PIAIC188523 Subhan Ahmed</td>\n",
       "      <td>PIAIC188523</td>\n",
       "    </tr>\n",
       "    <tr>\n",
       "      <th>16</th>\n",
       "      <td>12:06:10</td>\n",
       "      <td>Ali Asar</td>\n",
       "      <td>PIAIC-188720</td>\n",
       "    </tr>\n",
       "    <tr>\n",
       "      <th>17</th>\n",
       "      <td>12:06:28</td>\n",
       "      <td>Gulshan Ali</td>\n",
       "      <td>PIAIC-176719</td>\n",
       "    </tr>\n",
       "    <tr>\n",
       "      <th>18</th>\n",
       "      <td>12:06:29</td>\n",
       "      <td>M Ali Asif Khan - PIAIC-57947</td>\n",
       "      <td>PIAIC-57947</td>\n",
       "    </tr>\n",
       "    <tr>\n",
       "      <th>19</th>\n",
       "      <td>12:06:33</td>\n",
       "      <td>Usman Noor PIAIC-188401</td>\n",
       "      <td>PIAIC-188401</td>\n",
       "    </tr>\n",
       "    <tr>\n",
       "      <th>20</th>\n",
       "      <td>12:06:49</td>\n",
       "      <td>Sohaib Baseer Ahmad</td>\n",
       "      <td>PIAIC67260</td>\n",
       "    </tr>\n",
       "    <tr>\n",
       "      <th>21</th>\n",
       "      <td>12:40:20</td>\n",
       "      <td>Ali Asar</td>\n",
       "      <td>PIAIC-187258</td>\n",
       "    </tr>\n",
       "  </tbody>\n",
       "</table>\n",
       "</div>"
      ],
      "text/plain": [
       "      Timing                              Name   Roll number\n",
       "0   12:05:41                     Hasnain Munir  PIAIC-187272\n",
       "1   12:05:44                      Shaheer Baig  PIAIC-169519\n",
       "2   12:05:45                        Humera Naz  PIAIC-173431\n",
       "3   12:05:47                       Sadia Anwar  PIAIC-180028\n",
       "4   12:05:47                   Muhammad Mehroz  PIAIC-131496\n",
       "5   12:05:47                              Home  PIAIC-172998\n",
       "6   12:05:47  Muhammad Sadullah = PIAIC-178950  PIAIC-178950\n",
       "7   12:05:48             Muhammad Uzair-177637  PIAIC-177637\n",
       "8   12:05:48                      Taqwa Khaliq  PIAIC-173701\n",
       "9   12:05:49              Faisal Bashir-177802  PIAIC-177802\n",
       "10  12:05:50                  Talha Munir Rana  PIAIC-173761\n",
       "11  12:05:52                       Abdul Qadar  PIAIC-172941\n",
       "12  12:05:57                   Dr. Bhagwan Das   PIAIC-96879\n",
       "13  12:05:57         Uzair Ullah (PIAIC169405)  PIAIC-169405\n",
       "14  12:06:00                            Arshad   PIAIC168092\n",
       "15  12:06:01          PIAIC188523 Subhan Ahmed   PIAIC188523\n",
       "16  12:06:10                          Ali Asar  PIAIC-188720\n",
       "17  12:06:28                       Gulshan Ali  PIAIC-176719\n",
       "18  12:06:29     M Ali Asif Khan - PIAIC-57947   PIAIC-57947\n",
       "19  12:06:33           Usman Noor PIAIC-188401  PIAIC-188401\n",
       "20  12:06:49               Sohaib Baseer Ahmad    PIAIC67260\n",
       "21  12:40:20                          Ali Asar  PIAIC-187258"
      ]
     },
     "execution_count": 87,
     "metadata": {},
     "output_type": "execute_result"
    }
   ],
   "source": [
    "import pandas as pd\n",
    "\n",
    "df = pd.DataFrame(l, columns=[\"Timing\",'Name',\"Roll number\"])\n",
    "df"
   ]
  },
  {
   "cell_type": "code",
   "execution_count": 88,
   "id": "27ef5ed8",
   "metadata": {},
   "outputs": [],
   "source": [
    "df.to_excel(\"attendance.xlsx\", index=False)"
   ]
  },
  {
   "cell_type": "code",
   "execution_count": null,
   "id": "9e1e7078",
   "metadata": {},
   "outputs": [],
   "source": []
  }
 ],
 "metadata": {
  "kernelspec": {
   "display_name": "Python 3 (ipykernel)",
   "language": "python",
   "name": "python3"
  },
  "language_info": {
   "codemirror_mode": {
    "name": "ipython",
    "version": 3
   },
   "file_extension": ".py",
   "mimetype": "text/x-python",
   "name": "python",
   "nbconvert_exporter": "python",
   "pygments_lexer": "ipython3",
   "version": "3.9.13"
  }
 },
 "nbformat": 4,
 "nbformat_minor": 5
}
